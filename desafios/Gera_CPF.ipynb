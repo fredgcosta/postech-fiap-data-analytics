{
 "cells": [
  {
   "cell_type": "code",
   "execution_count": 54,
   "id": "170fb5631078969c",
   "metadata": {
    "collapsed": true,
    "ExecuteTime": {
     "end_time": "2023-10-05T22:34:24.955086600Z",
     "start_time": "2023-10-05T22:34:24.938976700Z"
    }
   },
   "outputs": [
    {
     "name": "stdout",
     "output_type": "stream",
     "text": [
      "            CPFs\n",
      "0    12115737962\n",
      "1    61637242590\n",
      "2    66084769144\n",
      "3    87964323148\n",
      "4    30283551755\n",
      "..           ...\n",
      "936  29818809424\n",
      "937  15343209629\n",
      "938  95560604216\n",
      "939  77584983294\n",
      "940  50049776584\n",
      "\n",
      "[941 rows x 1 columns]\n"
     ]
    }
   ],
   "source": [
    "import random\n",
    "\n",
    "import pandas as pd\n",
    "\n",
    "def calcular_digito_verificador_cpf(cpf):\n",
    "    if len(cpf) != 9 or not cpf.isdigit():\n",
    "        raise ValueError(\"O CPF deve conter exatamente 9 dígitos.\")\n",
    "\n",
    "    soma = 0\n",
    "    for i in range(9):\n",
    "        soma += int(cpf[i]) * (10 - i)\n",
    "    primeiro_digito = 11 - (soma % 11)\n",
    "    if primeiro_digito > 9:\n",
    "        primeiro_digito = 0\n",
    "\n",
    "    cpf_com_primeiro_digito = cpf + str(primeiro_digito)\n",
    "\n",
    "    soma = 0\n",
    "    for i in range(10):\n",
    "        soma += int(cpf_com_primeiro_digito[i]) * (11 - i)\n",
    "    segundo_digito = 11 - (soma % 11)\n",
    "    if segundo_digito > 9:\n",
    "        segundo_digito = 0\n",
    "\n",
    "    return cpf_com_primeiro_digito + str(segundo_digito)\n",
    "\n",
    "# Função para calcular dígitos verificadores de CPFs em uma série usando pandas\n",
    "def calcular_digitos_verificadores_serie(cpf_serie):\n",
    "    try:\n",
    "        return cpf_serie.apply(calcular_digito_verificador_cpf)\n",
    "    except Exception as e:\n",
    "        print(f\"Erro ao calcular dígitos verificadores: {str(e)}\")\n",
    "        return None\n",
    "\n",
    "# Exemplo de uso com pandas\n",
    "#data = {'CPFs': ['123456789', '987654321', '111222333']}\n",
    "#df = pd.DataFrame(data)\n",
    "\n",
    "# Defina o número de CPFs aleatórios que deseja gerar\n",
    "numero_de_cpfs = 941  # Substitua pelo valor desejado\n",
    "\n",
    "# Gere uma lista de CPFs aleatórios de 9 dígitos\n",
    "cpfs_aleatorios = [str(random.randint(10**8, 10**9 - 1)) for _ in range(numero_de_cpfs)]\n",
    "\n",
    "# Crie um DataFrame pandas a partir da lista de CPFs\n",
    "df = pd.DataFrame({'CPF': cpfs_aleatorios})\n",
    "\n",
    "# Aplicar a função aos CPFs na coluna 'CPFs' do DataFrame\n",
    "df['CPFs'] = calcular_digitos_verificadores_serie(df['CPF'])\n",
    "df = df.drop('CPF', axis=1)\n",
    "# Exibir o DataFrame com os CPFs completos (com dígitos verificadores)\n",
    "print(df)\n",
    "\n",
    "df.to_csv('cpf.csv', index=False) \n"
   ]
  },
  {
   "cell_type": "code",
   "execution_count": 55,
   "outputs": [
    {
     "data": {
      "text/plain": "        id  org_id                                          curriculo  \\\n0       50     NaN  Agility, Longevity, Marksmanship, Natural Weap...   \n1      100     NaN  Animal Attributes, Animal Oriented Powers, Fli...   \n2      150     NaN  Super Speed, Super Strength, Toxin and Disease...   \n3      200     NaN  Astral Projection, Biokinesis, Duplication, El...   \n4      250     NaN  Accelerated Healing, Durability, Element Contr...   \n..     ...     ...                                                ...   \n936  46850     NaN  Accelerated Healing, Agility, Berserk Mode, Cr...   \n937  46900     NaN  Durability, Elasticity, Intelligence, Shapeshi...   \n938  46950     NaN      Agility, Enhanced Smell, Stealth, Sub-Mariner   \n939  47000     NaN  Accelerated Healing, Adaptation, Agility, Cold...   \n940  47050     NaN  Agility, Intelligence, Stamina, Stealth, Weapo...   \n\n                        cpf  email                         nome  \\\n0                       NaN    NaN                    Chewbacca   \n1    Angel Salvadore Bohusk    NaN              Angel Salvadore   \n2                       NaN    NaN                  Bill Harken   \n3              Adam Warlock    NaN  Warlock (Infinity Gauntlet)   \n4              Billy Batson    NaN              Shazam (New 52)   \n..                      ...    ...                          ...   \n936             Meta Knight    NaN                  Meta Knight   \n937           Reed Richards    NaN             Mister Fantastic   \n938           Jar Jar Binks    NaN                Jar Jar Binks   \n939            Bruce Banner    NaN          Indestructible Hulk   \n940            Dick Grayson    NaN          Robin (Teen Titans)   \n\n                                                  foto  \n0    https://www.supermentoradodb.com/pictures2/por...  \n1    https://www.supermentoradodb.com/pictures2/por...  \n2    https://www.supermentoradodb.com/pictures2/por...  \n3    https://www.supermentoradodb.com/pictures2/por...  \n4    https://www.supermentoradodb.com/pictures2/por...  \n..                                                 ...  \n936  https://www.supermentoradodb.com/pictures2/por...  \n937  https://www.supermentoradodb.com/pictures2/por...  \n938  https://www.supermentoradodb.com/pictures2/por...  \n939  https://www.supermentoradodb.com/pictures2/por...  \n940  https://www.supermentoradodb.com/pictures2/por...  \n\n[941 rows x 7 columns]",
      "text/html": "<div>\n<style scoped>\n    .dataframe tbody tr th:only-of-type {\n        vertical-align: middle;\n    }\n\n    .dataframe tbody tr th {\n        vertical-align: top;\n    }\n\n    .dataframe thead th {\n        text-align: right;\n    }\n</style>\n<table border=\"1\" class=\"dataframe\">\n  <thead>\n    <tr style=\"text-align: right;\">\n      <th></th>\n      <th>id</th>\n      <th>org_id</th>\n      <th>curriculo</th>\n      <th>cpf</th>\n      <th>email</th>\n      <th>nome</th>\n      <th>foto</th>\n    </tr>\n  </thead>\n  <tbody>\n    <tr>\n      <th>0</th>\n      <td>50</td>\n      <td>NaN</td>\n      <td>Agility, Longevity, Marksmanship, Natural Weap...</td>\n      <td>NaN</td>\n      <td>NaN</td>\n      <td>Chewbacca</td>\n      <td>https://www.supermentoradodb.com/pictures2/por...</td>\n    </tr>\n    <tr>\n      <th>1</th>\n      <td>100</td>\n      <td>NaN</td>\n      <td>Animal Attributes, Animal Oriented Powers, Fli...</td>\n      <td>Angel Salvadore Bohusk</td>\n      <td>NaN</td>\n      <td>Angel Salvadore</td>\n      <td>https://www.supermentoradodb.com/pictures2/por...</td>\n    </tr>\n    <tr>\n      <th>2</th>\n      <td>150</td>\n      <td>NaN</td>\n      <td>Super Speed, Super Strength, Toxin and Disease...</td>\n      <td>NaN</td>\n      <td>NaN</td>\n      <td>Bill Harken</td>\n      <td>https://www.supermentoradodb.com/pictures2/por...</td>\n    </tr>\n    <tr>\n      <th>3</th>\n      <td>200</td>\n      <td>NaN</td>\n      <td>Astral Projection, Biokinesis, Duplication, El...</td>\n      <td>Adam Warlock</td>\n      <td>NaN</td>\n      <td>Warlock (Infinity Gauntlet)</td>\n      <td>https://www.supermentoradodb.com/pictures2/por...</td>\n    </tr>\n    <tr>\n      <th>4</th>\n      <td>250</td>\n      <td>NaN</td>\n      <td>Accelerated Healing, Durability, Element Contr...</td>\n      <td>Billy Batson</td>\n      <td>NaN</td>\n      <td>Shazam (New 52)</td>\n      <td>https://www.supermentoradodb.com/pictures2/por...</td>\n    </tr>\n    <tr>\n      <th>...</th>\n      <td>...</td>\n      <td>...</td>\n      <td>...</td>\n      <td>...</td>\n      <td>...</td>\n      <td>...</td>\n      <td>...</td>\n    </tr>\n    <tr>\n      <th>936</th>\n      <td>46850</td>\n      <td>NaN</td>\n      <td>Accelerated Healing, Agility, Berserk Mode, Cr...</td>\n      <td>Meta Knight</td>\n      <td>NaN</td>\n      <td>Meta Knight</td>\n      <td>https://www.supermentoradodb.com/pictures2/por...</td>\n    </tr>\n    <tr>\n      <th>937</th>\n      <td>46900</td>\n      <td>NaN</td>\n      <td>Durability, Elasticity, Intelligence, Shapeshi...</td>\n      <td>Reed Richards</td>\n      <td>NaN</td>\n      <td>Mister Fantastic</td>\n      <td>https://www.supermentoradodb.com/pictures2/por...</td>\n    </tr>\n    <tr>\n      <th>938</th>\n      <td>46950</td>\n      <td>NaN</td>\n      <td>Agility, Enhanced Smell, Stealth, Sub-Mariner</td>\n      <td>Jar Jar Binks</td>\n      <td>NaN</td>\n      <td>Jar Jar Binks</td>\n      <td>https://www.supermentoradodb.com/pictures2/por...</td>\n    </tr>\n    <tr>\n      <th>939</th>\n      <td>47000</td>\n      <td>NaN</td>\n      <td>Accelerated Healing, Adaptation, Agility, Cold...</td>\n      <td>Bruce Banner</td>\n      <td>NaN</td>\n      <td>Indestructible Hulk</td>\n      <td>https://www.supermentoradodb.com/pictures2/por...</td>\n    </tr>\n    <tr>\n      <th>940</th>\n      <td>47050</td>\n      <td>NaN</td>\n      <td>Agility, Intelligence, Stamina, Stealth, Weapo...</td>\n      <td>Dick Grayson</td>\n      <td>NaN</td>\n      <td>Robin (Teen Titans)</td>\n      <td>https://www.supermentoradodb.com/pictures2/por...</td>\n    </tr>\n  </tbody>\n</table>\n<p>941 rows × 7 columns</p>\n</div>"
     },
     "execution_count": 55,
     "metadata": {},
     "output_type": "execute_result"
    }
   ],
   "source": [
    "df2 = pd.read_csv('mentorado.csv')\n",
    "df2"
   ],
   "metadata": {
    "collapsed": false,
    "ExecuteTime": {
     "end_time": "2023-10-05T22:34:25.005072Z",
     "start_time": "2023-10-05T22:34:24.958089100Z"
    }
   },
   "id": "a35439de603026d5"
  },
  {
   "cell_type": "code",
   "execution_count": 56,
   "outputs": [
    {
     "data": {
      "text/plain": "(941, 7)"
     },
     "execution_count": 56,
     "metadata": {},
     "output_type": "execute_result"
    }
   ],
   "source": [
    "df2.shape"
   ],
   "metadata": {
    "collapsed": false,
    "ExecuteTime": {
     "end_time": "2023-10-05T22:34:25.006038500Z",
     "start_time": "2023-10-05T22:34:24.982709800Z"
    }
   },
   "id": "f841b882a7f1e213"
  },
  {
   "cell_type": "code",
   "execution_count": 57,
   "outputs": [],
   "source": [
    "df2.cpf = df"
   ],
   "metadata": {
    "collapsed": false,
    "ExecuteTime": {
     "end_time": "2023-10-05T22:34:25.006038500Z",
     "start_time": "2023-10-05T22:34:24.988536200Z"
    }
   },
   "id": "c3a0f3206b46b5f3"
  },
  {
   "cell_type": "code",
   "execution_count": 58,
   "outputs": [],
   "source": [
    "df2.org_id = 1"
   ],
   "metadata": {
    "collapsed": false,
    "ExecuteTime": {
     "end_time": "2023-10-05T22:34:25.016909700Z",
     "start_time": "2023-10-05T22:34:25.003043600Z"
    }
   },
   "id": "c9a02ea14bc2a59a"
  },
  {
   "cell_type": "code",
   "execution_count": 59,
   "outputs": [
    {
     "data": {
      "text/plain": "        id  org_id                                          curriculo  \\\n0       50       1  Agility, Longevity, Marksmanship, Natural Weap...   \n1      100       1  Animal Attributes, Animal Oriented Powers, Fli...   \n2      150       1  Super Speed, Super Strength, Toxin and Disease...   \n3      200       1  Astral Projection, Biokinesis, Duplication, El...   \n4      250       1  Accelerated Healing, Durability, Element Contr...   \n..     ...     ...                                                ...   \n936  46850       1  Accelerated Healing, Agility, Berserk Mode, Cr...   \n937  46900       1  Durability, Elasticity, Intelligence, Shapeshi...   \n938  46950       1      Agility, Enhanced Smell, Stealth, Sub-Mariner   \n939  47000       1  Accelerated Healing, Adaptation, Agility, Cold...   \n940  47050       1  Agility, Intelligence, Stamina, Stealth, Weapo...   \n\n             cpf  email                         nome  \\\n0    12115737962    NaN                    Chewbacca   \n1    61637242590    NaN              Angel Salvadore   \n2    66084769144    NaN                  Bill Harken   \n3    87964323148    NaN  Warlock (Infinity Gauntlet)   \n4    30283551755    NaN              Shazam (New 52)   \n..           ...    ...                          ...   \n936  29818809424    NaN                  Meta Knight   \n937  15343209629    NaN             Mister Fantastic   \n938  95560604216    NaN                Jar Jar Binks   \n939  77584983294    NaN          Indestructible Hulk   \n940  50049776584    NaN          Robin (Teen Titans)   \n\n                                                  foto  \n0    https://www.supermentoradodb.com/pictures2/por...  \n1    https://www.supermentoradodb.com/pictures2/por...  \n2    https://www.supermentoradodb.com/pictures2/por...  \n3    https://www.supermentoradodb.com/pictures2/por...  \n4    https://www.supermentoradodb.com/pictures2/por...  \n..                                                 ...  \n936  https://www.supermentoradodb.com/pictures2/por...  \n937  https://www.supermentoradodb.com/pictures2/por...  \n938  https://www.supermentoradodb.com/pictures2/por...  \n939  https://www.supermentoradodb.com/pictures2/por...  \n940  https://www.supermentoradodb.com/pictures2/por...  \n\n[941 rows x 7 columns]",
      "text/html": "<div>\n<style scoped>\n    .dataframe tbody tr th:only-of-type {\n        vertical-align: middle;\n    }\n\n    .dataframe tbody tr th {\n        vertical-align: top;\n    }\n\n    .dataframe thead th {\n        text-align: right;\n    }\n</style>\n<table border=\"1\" class=\"dataframe\">\n  <thead>\n    <tr style=\"text-align: right;\">\n      <th></th>\n      <th>id</th>\n      <th>org_id</th>\n      <th>curriculo</th>\n      <th>cpf</th>\n      <th>email</th>\n      <th>nome</th>\n      <th>foto</th>\n    </tr>\n  </thead>\n  <tbody>\n    <tr>\n      <th>0</th>\n      <td>50</td>\n      <td>1</td>\n      <td>Agility, Longevity, Marksmanship, Natural Weap...</td>\n      <td>12115737962</td>\n      <td>NaN</td>\n      <td>Chewbacca</td>\n      <td>https://www.supermentoradodb.com/pictures2/por...</td>\n    </tr>\n    <tr>\n      <th>1</th>\n      <td>100</td>\n      <td>1</td>\n      <td>Animal Attributes, Animal Oriented Powers, Fli...</td>\n      <td>61637242590</td>\n      <td>NaN</td>\n      <td>Angel Salvadore</td>\n      <td>https://www.supermentoradodb.com/pictures2/por...</td>\n    </tr>\n    <tr>\n      <th>2</th>\n      <td>150</td>\n      <td>1</td>\n      <td>Super Speed, Super Strength, Toxin and Disease...</td>\n      <td>66084769144</td>\n      <td>NaN</td>\n      <td>Bill Harken</td>\n      <td>https://www.supermentoradodb.com/pictures2/por...</td>\n    </tr>\n    <tr>\n      <th>3</th>\n      <td>200</td>\n      <td>1</td>\n      <td>Astral Projection, Biokinesis, Duplication, El...</td>\n      <td>87964323148</td>\n      <td>NaN</td>\n      <td>Warlock (Infinity Gauntlet)</td>\n      <td>https://www.supermentoradodb.com/pictures2/por...</td>\n    </tr>\n    <tr>\n      <th>4</th>\n      <td>250</td>\n      <td>1</td>\n      <td>Accelerated Healing, Durability, Element Contr...</td>\n      <td>30283551755</td>\n      <td>NaN</td>\n      <td>Shazam (New 52)</td>\n      <td>https://www.supermentoradodb.com/pictures2/por...</td>\n    </tr>\n    <tr>\n      <th>...</th>\n      <td>...</td>\n      <td>...</td>\n      <td>...</td>\n      <td>...</td>\n      <td>...</td>\n      <td>...</td>\n      <td>...</td>\n    </tr>\n    <tr>\n      <th>936</th>\n      <td>46850</td>\n      <td>1</td>\n      <td>Accelerated Healing, Agility, Berserk Mode, Cr...</td>\n      <td>29818809424</td>\n      <td>NaN</td>\n      <td>Meta Knight</td>\n      <td>https://www.supermentoradodb.com/pictures2/por...</td>\n    </tr>\n    <tr>\n      <th>937</th>\n      <td>46900</td>\n      <td>1</td>\n      <td>Durability, Elasticity, Intelligence, Shapeshi...</td>\n      <td>15343209629</td>\n      <td>NaN</td>\n      <td>Mister Fantastic</td>\n      <td>https://www.supermentoradodb.com/pictures2/por...</td>\n    </tr>\n    <tr>\n      <th>938</th>\n      <td>46950</td>\n      <td>1</td>\n      <td>Agility, Enhanced Smell, Stealth, Sub-Mariner</td>\n      <td>95560604216</td>\n      <td>NaN</td>\n      <td>Jar Jar Binks</td>\n      <td>https://www.supermentoradodb.com/pictures2/por...</td>\n    </tr>\n    <tr>\n      <th>939</th>\n      <td>47000</td>\n      <td>1</td>\n      <td>Accelerated Healing, Adaptation, Agility, Cold...</td>\n      <td>77584983294</td>\n      <td>NaN</td>\n      <td>Indestructible Hulk</td>\n      <td>https://www.supermentoradodb.com/pictures2/por...</td>\n    </tr>\n    <tr>\n      <th>940</th>\n      <td>47050</td>\n      <td>1</td>\n      <td>Agility, Intelligence, Stamina, Stealth, Weapo...</td>\n      <td>50049776584</td>\n      <td>NaN</td>\n      <td>Robin (Teen Titans)</td>\n      <td>https://www.supermentoradodb.com/pictures2/por...</td>\n    </tr>\n  </tbody>\n</table>\n<p>941 rows × 7 columns</p>\n</div>"
     },
     "execution_count": 59,
     "metadata": {},
     "output_type": "execute_result"
    }
   ],
   "source": [
    "df2"
   ],
   "metadata": {
    "collapsed": false,
    "ExecuteTime": {
     "end_time": "2023-10-05T22:34:25.075148200Z",
     "start_time": "2023-10-05T22:34:25.015908700Z"
    }
   },
   "id": "2e3f3640cec12289"
  },
  {
   "cell_type": "code",
   "execution_count": 60,
   "outputs": [],
   "source": [
    "import string\n",
    "\n",
    "# Create a list of possible email domains\n",
    "email_domains = ['gmail.com', 'yahoo.com', 'outlook.com']\n",
    "\n",
    "# Define a function that generates a random email address\n",
    "def generate_random_email():\n",
    "    # Generate a random string of letters and digits\n",
    "    username = ''.join(random.choices(string.ascii_letters + string.digits, k=10))\n",
    "    # Choose a random email domain from the list\n",
    "    domain = random.choice(email_domains)\n",
    "    # Concatenate the username and domain with '@'\n",
    "    email = username + '@' + domain\n",
    "    # Return the email address\n",
    "    return email\n",
    "\n",
    "# Apply the function to a new column in the dataframe\n",
    "df2['email'] = df.apply(lambda x: generate_random_email(), axis=1)\n",
    "\n",
    "df2.to_csv('mentorado_final.csv', index=False) "
   ],
   "metadata": {
    "collapsed": false,
    "ExecuteTime": {
     "end_time": "2023-10-05T22:34:25.116121700Z",
     "start_time": "2023-10-05T22:34:25.038726300Z"
    }
   },
   "id": "ab611f151ecbfea8"
  }
 ],
 "metadata": {
  "kernelspec": {
   "display_name": "Python 3",
   "language": "python",
   "name": "python3"
  },
  "language_info": {
   "codemirror_mode": {
    "name": "ipython",
    "version": 2
   },
   "file_extension": ".py",
   "mimetype": "text/x-python",
   "name": "python",
   "nbconvert_exporter": "python",
   "pygments_lexer": "ipython2",
   "version": "2.7.6"
  }
 },
 "nbformat": 4,
 "nbformat_minor": 5
}
