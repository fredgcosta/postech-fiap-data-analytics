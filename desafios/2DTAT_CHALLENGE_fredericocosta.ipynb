{
 "nbformat": 4,
 "nbformat_minor": 0,
 "metadata": {
  "colab": {
   "provenance": []
  },
  "kernelspec": {
   "name": "python3",
   "language": "python",
   "display_name": "Python 3 (ipykernel)"
  },
  "language_info": {
   "name": "python"
  }
 },
 "cells": [
  {
   "cell_type": "markdown",
   "source": [
    "# DATA CHALLENGE\n",
    "\n",
    "---\n",
    "\n",
    "Bem vindos ao primeiro DATA CHALLENGE!\n",
    "\n",
    "Aqui traremos alguns problemas que envolvam python, dados, aprendizado de máquina e afins. O intuito é que vocês tentem ao máximo praticar com esses desafios que trarão por ventura, alguns tópicos interessantes."
   ],
   "metadata": {
    "id": "NtRYX4I1ucvR"
   }
  },
  {
   "cell_type": "markdown",
   "source": [
    "# CHALLENGE: Funções\n",
    "\n",
    "Um dia extra é adicionado ao calendário quase a cada quatro anos como 29 de fevereiro, e o dia é chamado de dia bissexto . Ele corrige o calendário pelo fato de que nosso planeta leva aproximadamente 365,25 dias para orbitar o sol. Um ano bissexto contém um dia bissexto.\n",
    "\n",
    "No calendário gregoriano, três condições são usadas para identificar anos bissextos:\n",
    "\n",
    "- O ano que pode ser dividido por 4, é um ano bissexto, a menos que:\n",
    "  - O ano pode ser dividido por 100, então NÃO é um ano bissexto, a menos que:\n",
    "    - O ano também é divisível por 400. Então é um ano bissexto.\n",
    "\n",
    "Fonte: https://www.timeanddate.com/date/leapyear.html\n",
    "\n",
    "Isso significa que no calendário gregoriano, os anos 2000 e 2400 são bissextos, enquanto 1800, 1900, 2100, 2200, 2300 e 2500 NÃO são anos bissextos.\n",
    "\n",
    "\n",
    "## Tarefa\n",
    "\n",
    "Dado um ano, determine se é um ano bissexto. Se for um ano bissexto, retorne o  `True`, caso contrário, retorne `False`.\n",
    "\n",
    "Observe que o stub de código fornecido lê a entrada e passa argumentos para a função `is_leap`. Só é necessário completar a função `is_leap`.\n",
    "\n",
    "\n"
   ],
   "metadata": {
    "id": "xizBCUKsu2Cf"
   }
  },
  {
   "cell_type": "code",
   "execution_count": 1,
   "metadata": {
    "id": "c32TI3ATuUpE",
    "colab": {
     "base_uri": "https://localhost:8080/"
    },
    "outputId": "ac4704b0-20a8-4c0f-d7bd-ebeea8e758fb",
    "ExecuteTime": {
     "end_time": "2023-09-09T20:45:02.729513500Z",
     "start_time": "2023-09-09T20:44:52.342930800Z"
    }
   },
   "outputs": [
    {
     "name": "stdout",
     "output_type": "stream",
     "text": [
      "False\n"
     ]
    }
   ],
   "source": [
    "def is_leap(year):\n",
    "    leap = False\n",
    "\n",
    "    if year % 4 == 0 and (year % 100 != 0 or year % 400 == 0):\n",
    "      leap = True\n",
    "\n",
    "    return leap\n",
    "\n",
    "year = int(input())\n",
    "print(is_leap(year))"
   ]
  },
  {
   "cell_type": "markdown",
   "source": [
    "# Observação:\n",
    "\n",
    "Seu objetico é só escrever sua lógica dentro da função e enviar o seu arquivo para `profmatheus.pavani@fiap.com.br` e `ana.cunha@fiap.com.br` onde apenas executaremos seu código para testar, portanto: **É PROIBIDO ALTERAR A FUNÇÃO**, o que significa que você deve manter a estrutura, apenas colocando seu lógica dentro para apenas executarmos a célula de código.\n",
    "\n",
    "Favor trocar o campo `seunomeaqui` no nome do arquivo para seu nome , exemplo:\n",
    "\n",
    "- DTAT_CHALLENGE_matheuspavani.ipynb"
   ],
   "metadata": {
    "id": "HFCWMDYsxAv1"
   }
  }
 ]
}
