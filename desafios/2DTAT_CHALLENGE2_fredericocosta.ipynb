{
 "nbformat": 4,
 "nbformat_minor": 0,
 "metadata": {
  "colab": {
   "provenance": []
  },
  "kernelspec": {
   "name": "python3",
   "language": "python",
   "display_name": "Python 3 (ipykernel)"
  },
  "language_info": {
   "name": "python"
  }
 },
 "cells": [
  {
   "cell_type": "markdown",
   "source": [
    "# DATA CHALLENGE 2\n",
    "\n",
    "---\n",
    "\n",
    "Bem vindos ao segundo DATA CHALLENGE!\n",
    "\n",
    "Aqui traremos alguns problemas que envolvam python, dados, aprendizado de máquina e afins. O intuito é que vocês tentem ao máximo praticar com esses desafios que trarão por ventura, alguns tópicos interessantes."
   ],
   "metadata": {
    "id": "tXhCkW3fVFWM"
   }
  },
  {
   "cell_type": "markdown",
   "source": [
    "# CHALLENGE: Funções e Listas\n",
    "\n",
    "Peter é um jovem rapaz de 10 anos que adora comer doces. Ele costuma guardar esses doces variados em uma mochila.\n",
    "\n",
    "Podemos representar a mochila de Peter como uma lista da seguinte forma:\n",
    "\n",
    "`doces = [1,1,2,3,4,5,5,5] `\n",
    "\n",
    "Nesse caso, a mochila de Peter contém 8 doces, sendo 2 do tipo `1`, 1 do tipo `2`, 1 do tipo `3`, 1 do tipo `4` e 3 do tipo `5`.\n",
    "\n",
    "Segundo médico de Peter, ele deve reduzir seu consumo de doces pela metade. E como Peter é esperto, ele quer consumir a maior variedade de doces possível seguindo a orientação do Médico.\n",
    "\n",
    "Ex:\n",
    "\n",
    "- Se a mochila dele tiver 8 doces da seguinte forma : `doces = [1,1,2,3,4,5,5,5] ` - Peter consumirá no máximo 4 variedades.\n",
    "\n",
    "- Se a mochila dele tiver 4 doces da seguinte forma : `doces = [1,1,2,3]` - Peter consumirá no máximo 2 variedades.\n",
    "\n",
    "- Se a mochila dele tiver 8 doces da seguinte forma : `doces = [1,1,2,3,2,1,3,2]` - Peter consumirá no máximo 3 variedades.\n",
    "\n",
    "...\n",
    "\n",
    "Obs: Vamos supor que sempre haja uma quantidade `par` de doces na mochila.\n",
    "\n",
    "\n",
    "\n",
    "\n",
    "## Tarefa\n",
    "\n",
    "Construa uma lógica para a função `DocesPeter()` onde ela receba como parâmetro uma `lista` contendo os doces e seus tipos, e devolva o valor da quantidade máxima de doces que Peter pode consumir (a função deve devolver um `int`).\n",
    "\n",
    "Não se assuste caso você não esteja acostumado a ver a função assim:\n",
    "\n",
    "```python\n",
    "\n",
    "def DocesPeter(lista_tipos_doces) -> int:\n",
    "\n",
    "```\n",
    "\n",
    "Isso só significa que a função vai receber como parâmetro essa `lista_tipos_doces` e devolverá um número do tipo `int`.\n",
    "\n",
    "Aqui a ideia é deixar a criatividade fluir.\n",
    "\n",
    "É um tipo de problema que não tem 1 tipo de solução, mas lembre que no primeiro CHALLENGE havia uma solução que torna mais legível e simples o código.\n",
    "\n",
    "Não ligue para o tempo que vai levar, apenas se concentre em achar uma solução e verificar suas heurísticas(lógica).\n",
    "\n",
    "Esse é um problema que não precisa de nenhuma biblioteca pronta! Basta colocar a criatividade pra jogo.\n",
    "\n"
   ],
   "metadata": {
    "id": "OJLhU-ksVVRU"
   }
  },
  {
   "cell_type": "code",
   "execution_count": 3,
   "metadata": {
    "id": "dZGNQ9VmU0H5",
    "ExecuteTime": {
     "end_time": "2023-09-09T20:44:43.342027900Z",
     "start_time": "2023-09-09T20:44:43.311824300Z"
    }
   },
   "outputs": [],
   "source": [
    "def DocesPeter(lista_tipos_doces) -> int:\n",
    "  metade_quantidade_doces = int(len(lista_tipos_doces) / 2)\n",
    "  quantidade_variedades = len(list(set(lista_tipos_doces)))\n",
    "  return quantidade_variedades if quantidade_variedades <= metade_quantidade_doces else metade_quantidade_doces\n"
   ]
  },
  {
   "cell_type": "markdown",
   "source": [
    "# Observação:\n",
    "\n",
    "Seu objetico é só escrever sua lógica dentro da função e enviar o seu arquivo para `profmatheus.pavani@fiap.com.br` e `ana.cunha@fiap.com.br` onde apenas executaremos seu código para testar, portanto: **É PROIBIDO ALTERAR A FUNÇÃO**, o que significa que você deve manter a estrutura, apenas colocando seu lógica dentro para apenas executarmos a célula de código.\n",
    "\n",
    "Favor trocar o campo `seunomeaqui` no nome do arquivo para seu nome , exemplo:\n",
    "\n",
    "- DTAT_CHALLENGE_matheuspavani.ipynb"
   ],
   "metadata": {
    "id": "OZED7IGFVsiO"
   }
  },
  {
   "cell_type": "markdown",
   "source": [
    "## Testes"
   ],
   "metadata": {
    "collapsed": false
   }
  },
  {
   "cell_type": "code",
   "execution_count": 4,
   "outputs": [
    {
     "name": "stdout",
     "output_type": "stream",
     "text": [
      "Entrada: [1, 2] Saida: 1\n",
      "Entrada: [1, 1, 2, 3] Saida: 2\n",
      "Entrada: [1, 2, 3, 3] Saida: 2\n",
      "Entrada: [1, 2, 3, 4] Saida: 2\n",
      "Entrada: [1, 2, 3, 3, 4, 4] Saida: 3\n",
      "Entrada: [1, 1, 2, 3, 2, 1, 3, 2] Saida: 3\n",
      "Entrada: [1, 1, 1, 1, 1, 1, 1, 1] Saida: 1\n",
      "Entrada: [1, 1, 1, 1, 2, 2, 2, 2] Saida: 2\n",
      "Entrada: [1, 1, 1, 2, 2, 2, 3, 3] Saida: 3\n",
      "Entrada: [1, 1, 2, 2, 3, 3, 4, 4] Saida: 4\n",
      "Entrada: [1, 1, 2, 2, 3, 3, 4, 5] Saida: 4\n",
      "Entrada: [1, 1, 2, 3, 4, 5, 5, 5] Saida: 4\n"
     ]
    }
   ],
   "source": [
    "doces = [1,2]\n",
    "print(f'Entrada: {doces} Saida: {DocesPeter(doces)}')\n",
    "doces = [1,1,2,3]\n",
    "print(f'Entrada: {doces} Saida: {DocesPeter(doces)}')\n",
    "doces = [1,2,3,3]\n",
    "print(f'Entrada: {doces} Saida: {DocesPeter(doces)}')\n",
    "doces = [1,2,3,4]\n",
    "print(f'Entrada: {doces} Saida: {DocesPeter(doces)}')\n",
    "doces = [1,2,3,3,4,4]\n",
    "print(f'Entrada: {doces} Saida: {DocesPeter(doces)}')\n",
    "doces = [1,1,2,3,2,1,3,2]\n",
    "print(f'Entrada: {doces} Saida: {DocesPeter(doces)}')\n",
    "doces = [1,1,1,1,1,1,1,1]\n",
    "print(f'Entrada: {doces} Saida: {DocesPeter(doces)}')\n",
    "doces = [1,1,1,1,2,2,2,2]\n",
    "print(f'Entrada: {doces} Saida: {DocesPeter(doces)}')\n",
    "doces = [1,1,1,2,2,2,3,3]\n",
    "print(f'Entrada: {doces} Saida: {DocesPeter(doces)}')\n",
    "doces = [1,1,2,2,3,3,4,4]\n",
    "print(f'Entrada: {doces} Saida: {DocesPeter(doces)}')\n",
    "doces = [1,1,2,2,3,3,4,5]\n",
    "print(f'Entrada: {doces} Saida: {DocesPeter(doces)}')\n",
    "doces = [1,1,2,3,4,5,5,5]\n",
    "print(f'Entrada: {doces} Saida: {DocesPeter(doces)}')"
   ],
   "metadata": {
    "collapsed": false,
    "ExecuteTime": {
     "end_time": "2023-09-09T20:44:43.345063600Z",
     "start_time": "2023-09-09T20:44:43.321323100Z"
    }
   }
  }
 ]
}
