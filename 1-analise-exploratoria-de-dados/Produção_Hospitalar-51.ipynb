{
 "nbformat": 4,
 "nbformat_minor": 0,
 "metadata": {
  "colab": {
   "name": "Produção Hospitalar",
   "provenance": [],
   "collapsed_sections": [
    "RfDEJ7DSSCaT"
   ]
  },
  "kernelspec": {
   "name": "python3",
   "language": "python",
   "display_name": "Python 3 (ipykernel)"
  },
  "language_info": {
   "name": "python"
  }
 },
 "cells": [
  {
   "cell_type": "markdown",
   "metadata": {
    "id": "VKiAgjv56Hs6"
   },
   "source": [
    "# Analisando dados de produção hospitalar"
   ]
  },
  {
   "cell_type": "markdown",
   "metadata": {
    "id": "hu0qj0NL_DH-"
   },
   "source": [
    "### 1.2"
   ]
  },
  {
   "cell_type": "code",
   "metadata": {
    "id": "5FO7-OB96DA5",
    "ExecuteTime": {
     "end_time": "2023-09-10T04:07:35.735320Z",
     "start_time": "2023-09-10T04:07:33.980765400Z"
    }
   },
   "source": [
    "import pandas as pd"
   ],
   "execution_count": 71,
   "outputs": []
  },
  {
   "cell_type": "code",
   "metadata": {
    "colab": {
     "base_uri": "https://localhost:8080/"
    },
    "id": "VGJ418ZK6-pJ",
    "outputId": "af5b5dfd-d928-41b3-d4a1-ceabaec8b03e",
    "ExecuteTime": {
     "end_time": "2023-09-10T04:07:36.486320Z",
     "start_time": "2023-09-10T04:07:33.981270400Z"
    }
   },
   "source": [
    "# dados é um DataFrame\n",
    "dados = pd.read_csv(\"../dados/sih_cnv_qiuf165241189_61_97_210.csv\", encoding=\"ISO-8859-1\",\n",
    "            skiprows=3, sep=\";\", skipfooter=12, thousands=\".\", decimal=\",\", engine='python')"
   ],
   "execution_count": 72,
   "outputs": []
  },
  {
   "cell_type": "code",
   "metadata": {
    "colab": {
     "base_uri": "https://localhost:8080/",
     "height": 340
    },
    "id": "BZMgecj97Q7Q",
    "outputId": "ae259b23-5922-4661-85b4-560274cd05db",
    "ExecuteTime": {
     "end_time": "2023-09-10T04:07:36.612159200Z",
     "start_time": "2023-09-10T04:07:34.058675Z"
    }
   },
   "source": [
    "dados.head()"
   ],
   "execution_count": 73,
   "outputs": [
    {
     "data": {
      "text/plain": "  Unidade da Federação    2008/Jan    2008/Fev    2008/Mar    2008/Abr  \\\n0          11 Rondônia  1388528.39  2931283.42  1541682.52  1525314.96   \n1              12 Acre   902416.00  1497206.26  1794028.48  1730469.42   \n2          13 Amazonas  4735529.42  7118990.57  8196635.49  8259378.42   \n3           14 Roraima   657889.53   777939.31   718688.03   839994.39   \n4              15 Pará 18864744.11 19553758.20 21937342.70 20842829.69   \n\n     2008/Mai    2008/Jun    2008/Jul    2008/Ago    2008/Set  ...  \\\n0  1645953.84  1406150.68  3065279.01  3231494.61  3117178.63  ...   \n1  1819443.92  1828496.00  2511754.59  2089107.14  2275708.53  ...   \n2  7831399.90  8477273.62  9368858.72  9352532.70  9363099.35  ...   \n3   862347.96   832440.66   996693.09   894271.18   910424.17  ...   \n4 23249952.88 23240687.56 24002223.56 23341218.03 25172261.32  ...   \n\n     2022/Nov    2022/Dez    2023/Jan    2023/Fev    2023/Mar    2023/Abr  \\\n0  9324183.87 11135187.34 10253476.82  8631726.79 11215317.62 10442661.01   \n1  4110985.51  3999023.90  3492410.89  4261938.15  4927482.49  4701182.54   \n2 20549906.88 22174482.71 20582882.10 16592818.25 21507231.69 19411526.64   \n3  4173265.49  4416030.67  4486756.39  3887376.46  4597297.19  4456289.66   \n4 43722432.96 44491250.98 46256080.99 46368305.40 47279175.45 47399397.50   \n\n     2023/Mai    2023/Jun     2023/Jul         Total  \n0 13704433.29 10881817.23  10112839.41 1323497991.38  \n1  4845006.75  5124899.00   5692793.93  565830504.27  \n2 21422825.49 21456864.84  23204118.38 2500742656.33  \n3  4435042.77  2990546.28   3402210.96  433704294.02  \n4 45061290.16 42617966.49  48699943.87 6006062508.41  \n\n[5 rows x 189 columns]",
      "text/html": "<div>\n<style scoped>\n    .dataframe tbody tr th:only-of-type {\n        vertical-align: middle;\n    }\n\n    .dataframe tbody tr th {\n        vertical-align: top;\n    }\n\n    .dataframe thead th {\n        text-align: right;\n    }\n</style>\n<table border=\"1\" class=\"dataframe\">\n  <thead>\n    <tr style=\"text-align: right;\">\n      <th></th>\n      <th>Unidade da Federação</th>\n      <th>2008/Jan</th>\n      <th>2008/Fev</th>\n      <th>2008/Mar</th>\n      <th>2008/Abr</th>\n      <th>2008/Mai</th>\n      <th>2008/Jun</th>\n      <th>2008/Jul</th>\n      <th>2008/Ago</th>\n      <th>2008/Set</th>\n      <th>...</th>\n      <th>2022/Nov</th>\n      <th>2022/Dez</th>\n      <th>2023/Jan</th>\n      <th>2023/Fev</th>\n      <th>2023/Mar</th>\n      <th>2023/Abr</th>\n      <th>2023/Mai</th>\n      <th>2023/Jun</th>\n      <th>2023/Jul</th>\n      <th>Total</th>\n    </tr>\n  </thead>\n  <tbody>\n    <tr>\n      <th>0</th>\n      <td>11 Rondônia</td>\n      <td>1388528.39</td>\n      <td>2931283.42</td>\n      <td>1541682.52</td>\n      <td>1525314.96</td>\n      <td>1645953.84</td>\n      <td>1406150.68</td>\n      <td>3065279.01</td>\n      <td>3231494.61</td>\n      <td>3117178.63</td>\n      <td>...</td>\n      <td>9324183.87</td>\n      <td>11135187.34</td>\n      <td>10253476.82</td>\n      <td>8631726.79</td>\n      <td>11215317.62</td>\n      <td>10442661.01</td>\n      <td>13704433.29</td>\n      <td>10881817.23</td>\n      <td>10112839.41</td>\n      <td>1323497991.38</td>\n    </tr>\n    <tr>\n      <th>1</th>\n      <td>12 Acre</td>\n      <td>902416.00</td>\n      <td>1497206.26</td>\n      <td>1794028.48</td>\n      <td>1730469.42</td>\n      <td>1819443.92</td>\n      <td>1828496.00</td>\n      <td>2511754.59</td>\n      <td>2089107.14</td>\n      <td>2275708.53</td>\n      <td>...</td>\n      <td>4110985.51</td>\n      <td>3999023.90</td>\n      <td>3492410.89</td>\n      <td>4261938.15</td>\n      <td>4927482.49</td>\n      <td>4701182.54</td>\n      <td>4845006.75</td>\n      <td>5124899.00</td>\n      <td>5692793.93</td>\n      <td>565830504.27</td>\n    </tr>\n    <tr>\n      <th>2</th>\n      <td>13 Amazonas</td>\n      <td>4735529.42</td>\n      <td>7118990.57</td>\n      <td>8196635.49</td>\n      <td>8259378.42</td>\n      <td>7831399.90</td>\n      <td>8477273.62</td>\n      <td>9368858.72</td>\n      <td>9352532.70</td>\n      <td>9363099.35</td>\n      <td>...</td>\n      <td>20549906.88</td>\n      <td>22174482.71</td>\n      <td>20582882.10</td>\n      <td>16592818.25</td>\n      <td>21507231.69</td>\n      <td>19411526.64</td>\n      <td>21422825.49</td>\n      <td>21456864.84</td>\n      <td>23204118.38</td>\n      <td>2500742656.33</td>\n    </tr>\n    <tr>\n      <th>3</th>\n      <td>14 Roraima</td>\n      <td>657889.53</td>\n      <td>777939.31</td>\n      <td>718688.03</td>\n      <td>839994.39</td>\n      <td>862347.96</td>\n      <td>832440.66</td>\n      <td>996693.09</td>\n      <td>894271.18</td>\n      <td>910424.17</td>\n      <td>...</td>\n      <td>4173265.49</td>\n      <td>4416030.67</td>\n      <td>4486756.39</td>\n      <td>3887376.46</td>\n      <td>4597297.19</td>\n      <td>4456289.66</td>\n      <td>4435042.77</td>\n      <td>2990546.28</td>\n      <td>3402210.96</td>\n      <td>433704294.02</td>\n    </tr>\n    <tr>\n      <th>4</th>\n      <td>15 Pará</td>\n      <td>18864744.11</td>\n      <td>19553758.20</td>\n      <td>21937342.70</td>\n      <td>20842829.69</td>\n      <td>23249952.88</td>\n      <td>23240687.56</td>\n      <td>24002223.56</td>\n      <td>23341218.03</td>\n      <td>25172261.32</td>\n      <td>...</td>\n      <td>43722432.96</td>\n      <td>44491250.98</td>\n      <td>46256080.99</td>\n      <td>46368305.40</td>\n      <td>47279175.45</td>\n      <td>47399397.50</td>\n      <td>45061290.16</td>\n      <td>42617966.49</td>\n      <td>48699943.87</td>\n      <td>6006062508.41</td>\n    </tr>\n  </tbody>\n</table>\n<p>5 rows × 189 columns</p>\n</div>"
     },
     "execution_count": 73,
     "metadata": {},
     "output_type": "execute_result"
    }
   ]
  },
  {
   "cell_type": "code",
   "metadata": {
    "colab": {
     "base_uri": "https://localhost:8080/",
     "height": 391
    },
    "id": "wCkiI-U58ovW",
    "outputId": "66fdfb12-c348-406c-bd12-f4d7cafed817",
    "ExecuteTime": {
     "end_time": "2023-09-10T04:07:36.612159200Z",
     "start_time": "2023-09-10T04:07:34.081457500Z"
    }
   },
   "source": [
    "dados.tail()"
   ],
   "execution_count": 74,
   "outputs": [
    {
     "data": {
      "text/plain": "     Unidade da Federação    2008/Jan    2008/Fev    2008/Mar    2008/Abr  \\\n22   43 Rio Grande do Sul 30931325.46 57363420.01 51547794.07 56673338.49   \n23  50 Mato Grosso do Sul  5377392.11  7002472.61  8423933.19  8797487.68   \n24         51 Mato Grosso  4795299.01  8684882.23  7886243.14  8794109.79   \n25               52 Goiás 15310637.29 22258668.68 21442515.75 20921212.45   \n26    53 Distrito Federal  4745919.19  7632480.67  9647203.26 11098732.99   \n\n      2008/Mai    2008/Jun    2008/Jul    2008/Ago    2008/Set  ...  \\\n22 48397733.07 52413429.62 56636376.98 56113054.70 55356224.30  ...   \n23  9770421.80 10905392.18 10249299.82  9671553.45 10218511.05  ...   \n24  9231645.40 10221763.77  9163314.28  9243148.81  9052354.89  ...   \n25 21615970.67 18270043.87 20540517.13 20650730.67 20868443.56  ...   \n26 12891719.72 12850125.67 12565646.74 13710857.89 13165106.20  ...   \n\n       2022/Nov     2022/Dez     2023/Jan    2023/Fev     2023/Mar  \\\n22 107815960.43 109417240.51 111659793.92 99589870.33 111407033.88   \n23  24198203.65  24267531.21  25183752.55 24508900.44  27007248.29   \n24  20468835.81  19827952.20  18157696.93 20210098.67  22345211.63   \n25  43049856.52  43593723.70  45801484.89 43474436.64  47567661.60   \n26  26501499.19  24624644.72  25416870.43 24346232.16  31525131.65   \n\n       2023/Abr     2023/Mai     2023/Jun      2023/Jul          Total  \n22 106927106.10 112341938.78 113729533.98  116842378.48 16040859992.27  \n23  26833537.85  26973943.11  25933245.81   26441323.83  3057984050.46  \n24  21270050.82  23248394.40  24047901.19   21576181.40  2852254341.75  \n25  45792220.26  49610594.14  43739353.00   50124046.97  6379857810.61  \n26  27771530.46  27495227.73  28258576.00   29034177.33  3359160990.96  \n\n[5 rows x 189 columns]",
      "text/html": "<div>\n<style scoped>\n    .dataframe tbody tr th:only-of-type {\n        vertical-align: middle;\n    }\n\n    .dataframe tbody tr th {\n        vertical-align: top;\n    }\n\n    .dataframe thead th {\n        text-align: right;\n    }\n</style>\n<table border=\"1\" class=\"dataframe\">\n  <thead>\n    <tr style=\"text-align: right;\">\n      <th></th>\n      <th>Unidade da Federação</th>\n      <th>2008/Jan</th>\n      <th>2008/Fev</th>\n      <th>2008/Mar</th>\n      <th>2008/Abr</th>\n      <th>2008/Mai</th>\n      <th>2008/Jun</th>\n      <th>2008/Jul</th>\n      <th>2008/Ago</th>\n      <th>2008/Set</th>\n      <th>...</th>\n      <th>2022/Nov</th>\n      <th>2022/Dez</th>\n      <th>2023/Jan</th>\n      <th>2023/Fev</th>\n      <th>2023/Mar</th>\n      <th>2023/Abr</th>\n      <th>2023/Mai</th>\n      <th>2023/Jun</th>\n      <th>2023/Jul</th>\n      <th>Total</th>\n    </tr>\n  </thead>\n  <tbody>\n    <tr>\n      <th>22</th>\n      <td>43 Rio Grande do Sul</td>\n      <td>30931325.46</td>\n      <td>57363420.01</td>\n      <td>51547794.07</td>\n      <td>56673338.49</td>\n      <td>48397733.07</td>\n      <td>52413429.62</td>\n      <td>56636376.98</td>\n      <td>56113054.70</td>\n      <td>55356224.30</td>\n      <td>...</td>\n      <td>107815960.43</td>\n      <td>109417240.51</td>\n      <td>111659793.92</td>\n      <td>99589870.33</td>\n      <td>111407033.88</td>\n      <td>106927106.10</td>\n      <td>112341938.78</td>\n      <td>113729533.98</td>\n      <td>116842378.48</td>\n      <td>16040859992.27</td>\n    </tr>\n    <tr>\n      <th>23</th>\n      <td>50 Mato Grosso do Sul</td>\n      <td>5377392.11</td>\n      <td>7002472.61</td>\n      <td>8423933.19</td>\n      <td>8797487.68</td>\n      <td>9770421.80</td>\n      <td>10905392.18</td>\n      <td>10249299.82</td>\n      <td>9671553.45</td>\n      <td>10218511.05</td>\n      <td>...</td>\n      <td>24198203.65</td>\n      <td>24267531.21</td>\n      <td>25183752.55</td>\n      <td>24508900.44</td>\n      <td>27007248.29</td>\n      <td>26833537.85</td>\n      <td>26973943.11</td>\n      <td>25933245.81</td>\n      <td>26441323.83</td>\n      <td>3057984050.46</td>\n    </tr>\n    <tr>\n      <th>24</th>\n      <td>51 Mato Grosso</td>\n      <td>4795299.01</td>\n      <td>8684882.23</td>\n      <td>7886243.14</td>\n      <td>8794109.79</td>\n      <td>9231645.40</td>\n      <td>10221763.77</td>\n      <td>9163314.28</td>\n      <td>9243148.81</td>\n      <td>9052354.89</td>\n      <td>...</td>\n      <td>20468835.81</td>\n      <td>19827952.20</td>\n      <td>18157696.93</td>\n      <td>20210098.67</td>\n      <td>22345211.63</td>\n      <td>21270050.82</td>\n      <td>23248394.40</td>\n      <td>24047901.19</td>\n      <td>21576181.40</td>\n      <td>2852254341.75</td>\n    </tr>\n    <tr>\n      <th>25</th>\n      <td>52 Goiás</td>\n      <td>15310637.29</td>\n      <td>22258668.68</td>\n      <td>21442515.75</td>\n      <td>20921212.45</td>\n      <td>21615970.67</td>\n      <td>18270043.87</td>\n      <td>20540517.13</td>\n      <td>20650730.67</td>\n      <td>20868443.56</td>\n      <td>...</td>\n      <td>43049856.52</td>\n      <td>43593723.70</td>\n      <td>45801484.89</td>\n      <td>43474436.64</td>\n      <td>47567661.60</td>\n      <td>45792220.26</td>\n      <td>49610594.14</td>\n      <td>43739353.00</td>\n      <td>50124046.97</td>\n      <td>6379857810.61</td>\n    </tr>\n    <tr>\n      <th>26</th>\n      <td>53 Distrito Federal</td>\n      <td>4745919.19</td>\n      <td>7632480.67</td>\n      <td>9647203.26</td>\n      <td>11098732.99</td>\n      <td>12891719.72</td>\n      <td>12850125.67</td>\n      <td>12565646.74</td>\n      <td>13710857.89</td>\n      <td>13165106.20</td>\n      <td>...</td>\n      <td>26501499.19</td>\n      <td>24624644.72</td>\n      <td>25416870.43</td>\n      <td>24346232.16</td>\n      <td>31525131.65</td>\n      <td>27771530.46</td>\n      <td>27495227.73</td>\n      <td>28258576.00</td>\n      <td>29034177.33</td>\n      <td>3359160990.96</td>\n    </tr>\n  </tbody>\n</table>\n<p>5 rows × 189 columns</p>\n</div>"
     },
     "execution_count": 74,
     "metadata": {},
     "output_type": "execute_result"
    }
   ]
  },
  {
   "cell_type": "code",
   "metadata": {
    "colab": {
     "base_uri": "https://localhost:8080/"
    },
    "id": "Kpyxih7k8ubQ",
    "outputId": "84538f3c-ca99-4a11-b82c-4c4f6800189b",
    "ExecuteTime": {
     "end_time": "2023-09-10T04:07:36.612159200Z",
     "start_time": "2023-09-10T04:07:34.097638800Z"
    }
   },
   "source": [
    "dados.mean(numeric_only=True)"
   ],
   "execution_count": 75,
   "outputs": [
    {
     "data": {
      "text/plain": "2008/Jan     15126846.64\n2008/Fev     22710158.12\n2008/Mar     24594187.35\n2008/Abr     25431957.83\n2008/Mai     26511245.91\n                ...     \n2023/Mar     62909586.50\n2023/Abr     59953238.34\n2023/Mai     63367376.68\n2023/Jun     63207796.14\nTotal      8178727550.92\nLength: 186, dtype: float64"
     },
     "execution_count": 75,
     "metadata": {},
     "output_type": "execute_result"
    }
   ]
  },
  {
   "cell_type": "code",
   "metadata": {
    "colab": {
     "base_uri": "https://localhost:8080/"
    },
    "id": "Mu8F_79l9USI",
    "outputId": "b7dbcd16-2b14-4439-a893-2dfc48fedaec",
    "ExecuteTime": {
     "end_time": "2023-09-10T04:07:37.161040600Z",
     "start_time": "2023-09-10T04:07:34.109899100Z"
    }
   },
   "source": [
    "dados.info()"
   ],
   "execution_count": 76,
   "outputs": [
    {
     "name": "stdout",
     "output_type": "stream",
     "text": [
      "<class 'pandas.core.frame.DataFrame'>\n",
      "RangeIndex: 27 entries, 0 to 26\n",
      "Columns: 189 entries, Unidade da Federação to Total\n",
      "dtypes: float64(186), object(3)\n",
      "memory usage: 40.0+ KB\n"
     ]
    }
   ]
  },
  {
   "cell_type": "code",
   "metadata": {
    "id": "luklaytO9l6g",
    "ExecuteTime": {
     "end_time": "2023-09-10T04:07:37.161040600Z",
     "start_time": "2023-09-10T04:07:34.134522300Z"
    }
   },
   "source": [
    "pd.options.display.float_format = \"{:.2f}\".format"
   ],
   "execution_count": 77,
   "outputs": []
  },
  {
   "cell_type": "code",
   "metadata": {
    "colab": {
     "base_uri": "https://localhost:8080/"
    },
    "id": "PVNmL7Tj95QH",
    "outputId": "bc2d1517-d46d-4b65-c782-3d846a3ad7ca",
    "ExecuteTime": {
     "end_time": "2023-09-10T04:07:37.161040600Z",
     "start_time": "2023-09-10T04:07:34.136039400Z"
    }
   },
   "source": [
    "dados.tail()\n",
    "dados.mean(numeric_only=True)"
   ],
   "execution_count": 78,
   "outputs": [
    {
     "data": {
      "text/plain": "2008/Jan     15126846.64\n2008/Fev     22710158.12\n2008/Mar     24594187.35\n2008/Abr     25431957.83\n2008/Mai     26511245.91\n                ...     \n2023/Mar     62909586.50\n2023/Abr     59953238.34\n2023/Mai     63367376.68\n2023/Jun     63207796.14\nTotal      8178727550.92\nLength: 186, dtype: float64"
     },
     "execution_count": 78,
     "metadata": {},
     "output_type": "execute_result"
    }
   ]
  },
  {
   "cell_type": "markdown",
   "metadata": {
    "id": "KNnfBpEN--Iw"
   },
   "source": [
    "### 1.3"
   ]
  },
  {
   "cell_type": "code",
   "metadata": {
    "colab": {
     "base_uri": "https://localhost:8080/"
    },
    "id": "CFRLuMEF97n3",
    "outputId": "05f1e6b9-7e5f-444b-bb14-4eee6fa7eae4",
    "ExecuteTime": {
     "end_time": "2023-09-10T04:07:37.161040600Z",
     "start_time": "2023-09-10T04:07:34.145390100Z"
    }
   },
   "source": [
    "dados[\"2008/Ago\"]"
   ],
   "execution_count": 79,
   "outputs": [
    {
     "data": {
      "text/plain": "0      3231494.61\n1      2089107.14\n2      9352532.70\n3       894271.18\n4     23341218.03\n5      1475551.38\n6      5413710.38\n7     15195312.89\n8     10549176.40\n9     27851438.72\n10    10640817.47\n11    12872578.37\n12    35457038.66\n13     9373432.00\n14     5238398.50\n15    46931248.28\n16    84722528.10\n17    12588595.77\n18    50912706.60\n19   184854516.35\n20    56982774.90\n21    31250854.33\n22    56113054.70\n23     9671553.45\n24     9243148.81\n25    20650730.67\n26    13710857.89\nName: 2008/Ago, dtype: float64"
     },
     "execution_count": 79,
     "metadata": {},
     "output_type": "execute_result"
    }
   ]
  },
  {
   "cell_type": "code",
   "metadata": {
    "colab": {
     "base_uri": "https://localhost:8080/"
    },
    "id": "jAAFFWt7NxjS",
    "outputId": "8d67131f-3d74-47a3-bcb4-c2006f121109",
    "ExecuteTime": {
     "end_time": "2023-09-10T04:07:37.161040600Z",
     "start_time": "2023-09-10T04:07:34.152343500Z"
    }
   },
   "source": [
    "dados[\"2008/Ago\"].mean()"
   ],
   "execution_count": 80,
   "outputs": [
    {
     "data": {
      "text/plain": "27800320.306666665"
     },
     "execution_count": 80,
     "metadata": {},
     "output_type": "execute_result"
    }
   ]
  },
  {
   "cell_type": "code",
   "metadata": {
    "colab": {
     "base_uri": "https://localhost:8080/",
     "height": 308
    },
    "id": "V-Z1nbDhONP6",
    "outputId": "47cf058e-3520-409c-b65b-519ffc6d81d6",
    "ExecuteTime": {
     "end_time": "2023-09-10T04:07:37.616147500Z",
     "start_time": "2023-09-10T04:07:34.159371300Z"
    }
   },
   "source": [
    "dados.plot(x=\"Unidade da Federação\", y=\"2008/Ago\")"
   ],
   "execution_count": 81,
   "outputs": [
    {
     "data": {
      "text/plain": "<Axes: xlabel='Unidade da Federação'>"
     },
     "execution_count": 81,
     "metadata": {},
     "output_type": "execute_result"
    },
    {
     "data": {
      "text/plain": "<Figure size 640x480 with 1 Axes>",
      "image/png": "[encoded data removed]"
     },
     "metadata": {},
     "output_type": "display_data"
    }
   ]
  },
  {
   "cell_type": "code",
   "metadata": {
    "colab": {
     "base_uri": "https://localhost:8080/",
     "height": 512
    },
    "id": "oDCrHhgfOklJ",
    "outputId": "8e867d9e-4fe9-4716-b3cc-1b209c039466",
    "ExecuteTime": {
     "end_time": "2023-09-10T04:07:37.616147500Z",
     "start_time": "2023-09-10T04:07:34.408632600Z"
    }
   },
   "source": [
    "import matplotlib.pyplot as plt\n",
    "import matplotlib.ticker as ticker\n",
    "\n",
    "axis = dados.plot(x=\"Unidade da Federação\", y=\"2008/Ago\", kind=\"bar\", figsize=(9,6))\n",
    "axis.yaxis.set_major_formatter(ticker.StrMethodFormatter(\"{x:,.2f}\"))\n",
    "\n",
    "plt.title(\"Valor por unidade da federação\")\n",
    "\n",
    "plt.show()"
   ],
   "execution_count": 82,
   "outputs": [
    {
     "data": {
      "text/plain": "<Figure size 900x600 with 1 Axes>",
      "image/png": "[encoded data removed]"
     },
     "metadata": {},
     "output_type": "display_data"
    }
   ]
  },
  {
   "cell_type": "markdown",
   "metadata": {
    "id": "4zj_a-mxQ-il"
   },
   "source": [
    "Desafio 1: executar o gráfico anterior com o mês mais recente"
   ]
  },
  {
   "cell_type": "markdown",
   "metadata": {
    "id": "3knCTBOERFJo"
   },
   "source": [
    "Desafio 2: deixar as legendas ânguladas (0, 45 etc) para facilitar a leitura"
   ]
  },
  {
   "cell_type": "markdown",
   "metadata": {
    "id": "RfDEJ7DSSCaT"
   },
   "source": [
    "### 2.1"
   ]
  },
  {
   "cell_type": "code",
   "metadata": {
    "colab": {
     "base_uri": "https://localhost:8080/",
     "height": 0
    },
    "id": "jTZdC6R8PVUB",
    "outputId": "58967130-4cf1-4cd4-daff-e841a5ae2f37",
    "ExecuteTime": {
     "end_time": "2023-09-10T04:07:37.631784600Z",
     "start_time": "2023-09-10T04:07:34.798006900Z"
    }
   },
   "source": [
    "dados[[\"2008/Ago\", \"2008/Set\"]].head()"
   ],
   "execution_count": 83,
   "outputs": [
    {
     "data": {
      "text/plain": "     2008/Ago    2008/Set\n0  3231494.61  3117178.63\n1  2089107.14  2275708.53\n2  9352532.70  9363099.35\n3   894271.18   910424.17\n4 23341218.03 25172261.32",
      "text/html": "<div>\n<style scoped>\n    .dataframe tbody tr th:only-of-type {\n        vertical-align: middle;\n    }\n\n    .dataframe tbody tr th {\n        vertical-align: top;\n    }\n\n    .dataframe thead th {\n        text-align: right;\n    }\n</style>\n<table border=\"1\" class=\"dataframe\">\n  <thead>\n    <tr style=\"text-align: right;\">\n      <th></th>\n      <th>2008/Ago</th>\n      <th>2008/Set</th>\n    </tr>\n  </thead>\n  <tbody>\n    <tr>\n      <th>0</th>\n      <td>3231494.61</td>\n      <td>3117178.63</td>\n    </tr>\n    <tr>\n      <th>1</th>\n      <td>2089107.14</td>\n      <td>2275708.53</td>\n    </tr>\n    <tr>\n      <th>2</th>\n      <td>9352532.70</td>\n      <td>9363099.35</td>\n    </tr>\n    <tr>\n      <th>3</th>\n      <td>894271.18</td>\n      <td>910424.17</td>\n    </tr>\n    <tr>\n      <th>4</th>\n      <td>23341218.03</td>\n      <td>25172261.32</td>\n    </tr>\n  </tbody>\n</table>\n</div>"
     },
     "execution_count": 83,
     "metadata": {},
     "output_type": "execute_result"
    }
   ]
  },
  {
   "cell_type": "code",
   "metadata": {
    "colab": {
     "base_uri": "https://localhost:8080/",
     "height": 0
    },
    "id": "SS9grDy4SF1B",
    "outputId": "625ee38a-9ebe-4fbd-954c-f40d399321b3",
    "ExecuteTime": {
     "end_time": "2023-09-10T04:07:37.631784600Z",
     "start_time": "2023-09-10T04:07:34.807799300Z"
    }
   },
   "source": [
    "dados.head()"
   ],
   "execution_count": 84,
   "outputs": [
    {
     "data": {
      "text/plain": "  Unidade da Federação    2008/Jan    2008/Fev    2008/Mar    2008/Abr  \\\n0          11 Rondônia  1388528.39  2931283.42  1541682.52  1525314.96   \n1              12 Acre   902416.00  1497206.26  1794028.48  1730469.42   \n2          13 Amazonas  4735529.42  7118990.57  8196635.49  8259378.42   \n3           14 Roraima   657889.53   777939.31   718688.03   839994.39   \n4              15 Pará 18864744.11 19553758.20 21937342.70 20842829.69   \n\n     2008/Mai    2008/Jun    2008/Jul    2008/Ago    2008/Set  ...  \\\n0  1645953.84  1406150.68  3065279.01  3231494.61  3117178.63  ...   \n1  1819443.92  1828496.00  2511754.59  2089107.14  2275708.53  ...   \n2  7831399.90  8477273.62  9368858.72  9352532.70  9363099.35  ...   \n3   862347.96   832440.66   996693.09   894271.18   910424.17  ...   \n4 23249952.88 23240687.56 24002223.56 23341218.03 25172261.32  ...   \n\n     2022/Nov    2022/Dez    2023/Jan    2023/Fev    2023/Mar    2023/Abr  \\\n0  9324183.87 11135187.34 10253476.82  8631726.79 11215317.62 10442661.01   \n1  4110985.51  3999023.90  3492410.89  4261938.15  4927482.49  4701182.54   \n2 20549906.88 22174482.71 20582882.10 16592818.25 21507231.69 19411526.64   \n3  4173265.49  4416030.67  4486756.39  3887376.46  4597297.19  4456289.66   \n4 43722432.96 44491250.98 46256080.99 46368305.40 47279175.45 47399397.50   \n\n     2023/Mai    2023/Jun     2023/Jul         Total  \n0 13704433.29 10881817.23  10112839.41 1323497991.38  \n1  4845006.75  5124899.00   5692793.93  565830504.27  \n2 21422825.49 21456864.84  23204118.38 2500742656.33  \n3  4435042.77  2990546.28   3402210.96  433704294.02  \n4 45061290.16 42617966.49  48699943.87 6006062508.41  \n\n[5 rows x 189 columns]",
      "text/html": "<div>\n<style scoped>\n    .dataframe tbody tr th:only-of-type {\n        vertical-align: middle;\n    }\n\n    .dataframe tbody tr th {\n        vertical-align: top;\n    }\n\n    .dataframe thead th {\n        text-align: right;\n    }\n</style>\n<table border=\"1\" class=\"dataframe\">\n  <thead>\n    <tr style=\"text-align: right;\">\n      <th></th>\n      <th>Unidade da Federação</th>\n      <th>2008/Jan</th>\n      <th>2008/Fev</th>\n      <th>2008/Mar</th>\n      <th>2008/Abr</th>\n      <th>2008/Mai</th>\n      <th>2008/Jun</th>\n      <th>2008/Jul</th>\n      <th>2008/Ago</th>\n      <th>2008/Set</th>\n      <th>...</th>\n      <th>2022/Nov</th>\n      <th>2022/Dez</th>\n      <th>2023/Jan</th>\n      <th>2023/Fev</th>\n      <th>2023/Mar</th>\n      <th>2023/Abr</th>\n      <th>2023/Mai</th>\n      <th>2023/Jun</th>\n      <th>2023/Jul</th>\n      <th>Total</th>\n    </tr>\n  </thead>\n  <tbody>\n    <tr>\n      <th>0</th>\n      <td>11 Rondônia</td>\n      <td>1388528.39</td>\n      <td>2931283.42</td>\n      <td>1541682.52</td>\n      <td>1525314.96</td>\n      <td>1645953.84</td>\n      <td>1406150.68</td>\n      <td>3065279.01</td>\n      <td>3231494.61</td>\n      <td>3117178.63</td>\n      <td>...</td>\n      <td>9324183.87</td>\n      <td>11135187.34</td>\n      <td>10253476.82</td>\n      <td>8631726.79</td>\n      <td>11215317.62</td>\n      <td>10442661.01</td>\n      <td>13704433.29</td>\n      <td>10881817.23</td>\n      <td>10112839.41</td>\n      <td>1323497991.38</td>\n    </tr>\n    <tr>\n      <th>1</th>\n      <td>12 Acre</td>\n      <td>902416.00</td>\n      <td>1497206.26</td>\n      <td>1794028.48</td>\n      <td>1730469.42</td>\n      <td>1819443.92</td>\n      <td>1828496.00</td>\n      <td>2511754.59</td>\n      <td>2089107.14</td>\n      <td>2275708.53</td>\n      <td>...</td>\n      <td>4110985.51</td>\n      <td>3999023.90</td>\n      <td>3492410.89</td>\n      <td>4261938.15</td>\n      <td>4927482.49</td>\n      <td>4701182.54</td>\n      <td>4845006.75</td>\n      <td>5124899.00</td>\n      <td>5692793.93</td>\n      <td>565830504.27</td>\n    </tr>\n    <tr>\n      <th>2</th>\n      <td>13 Amazonas</td>\n      <td>4735529.42</td>\n      <td>7118990.57</td>\n      <td>8196635.49</td>\n      <td>8259378.42</td>\n      <td>7831399.90</td>\n      <td>8477273.62</td>\n      <td>9368858.72</td>\n      <td>9352532.70</td>\n      <td>9363099.35</td>\n      <td>...</td>\n      <td>20549906.88</td>\n      <td>22174482.71</td>\n      <td>20582882.10</td>\n      <td>16592818.25</td>\n      <td>21507231.69</td>\n      <td>19411526.64</td>\n      <td>21422825.49</td>\n      <td>21456864.84</td>\n      <td>23204118.38</td>\n      <td>2500742656.33</td>\n    </tr>\n    <tr>\n      <th>3</th>\n      <td>14 Roraima</td>\n      <td>657889.53</td>\n      <td>777939.31</td>\n      <td>718688.03</td>\n      <td>839994.39</td>\n      <td>862347.96</td>\n      <td>832440.66</td>\n      <td>996693.09</td>\n      <td>894271.18</td>\n      <td>910424.17</td>\n      <td>...</td>\n      <td>4173265.49</td>\n      <td>4416030.67</td>\n      <td>4486756.39</td>\n      <td>3887376.46</td>\n      <td>4597297.19</td>\n      <td>4456289.66</td>\n      <td>4435042.77</td>\n      <td>2990546.28</td>\n      <td>3402210.96</td>\n      <td>433704294.02</td>\n    </tr>\n    <tr>\n      <th>4</th>\n      <td>15 Pará</td>\n      <td>18864744.11</td>\n      <td>19553758.20</td>\n      <td>21937342.70</td>\n      <td>20842829.69</td>\n      <td>23249952.88</td>\n      <td>23240687.56</td>\n      <td>24002223.56</td>\n      <td>23341218.03</td>\n      <td>25172261.32</td>\n      <td>...</td>\n      <td>43722432.96</td>\n      <td>44491250.98</td>\n      <td>46256080.99</td>\n      <td>46368305.40</td>\n      <td>47279175.45</td>\n      <td>47399397.50</td>\n      <td>45061290.16</td>\n      <td>42617966.49</td>\n      <td>48699943.87</td>\n      <td>6006062508.41</td>\n    </tr>\n  </tbody>\n</table>\n<p>5 rows × 189 columns</p>\n</div>"
     },
     "execution_count": 84,
     "metadata": {},
     "output_type": "execute_result"
    }
   ]
  },
  {
   "cell_type": "code",
   "metadata": {
    "colab": {
     "base_uri": "https://localhost:8080/"
    },
    "id": "KetjIaCqSjeh",
    "outputId": "0c701e67-e1b9-4224-d80b-0c63870f2671",
    "ExecuteTime": {
     "end_time": "2023-09-10T04:07:37.631784600Z",
     "start_time": "2023-09-10T04:07:34.823938500Z"
    }
   },
   "source": [
    "dados.columns"
   ],
   "execution_count": 85,
   "outputs": [
    {
     "data": {
      "text/plain": "Index(['Unidade da Federação', '2008/Jan', '2008/Fev', '2008/Mar', '2008/Abr',\n       '2008/Mai', '2008/Jun', '2008/Jul', '2008/Ago', '2008/Set',\n       ...\n       '2022/Nov', '2022/Dez', '2023/Jan', '2023/Fev', '2023/Mar', '2023/Abr',\n       '2023/Mai', '2023/Jun', '2023/Jul', 'Total'],\n      dtype='object', length=189)"
     },
     "execution_count": 85,
     "metadata": {},
     "output_type": "execute_result"
    }
   ]
  },
  {
   "cell_type": "code",
   "metadata": {
    "colab": {
     "base_uri": "https://localhost:8080/"
    },
    "id": "2k1m1j27SztB",
    "outputId": "3404e006-8a4f-4da8-80fb-0ab7f176d311",
    "ExecuteTime": {
     "end_time": "2023-09-10T04:07:37.631784600Z",
     "start_time": "2023-09-10T04:07:34.831538200Z"
    }
   },
   "source": [
    "dados.mean(numeric_only=True)"
   ],
   "execution_count": 86,
   "outputs": [
    {
     "data": {
      "text/plain": "2008/Jan     15126846.64\n2008/Fev     22710158.12\n2008/Mar     24594187.35\n2008/Abr     25431957.83\n2008/Mai     26511245.91\n                ...     \n2023/Mar     62909586.50\n2023/Abr     59953238.34\n2023/Mai     63367376.68\n2023/Jun     63207796.14\nTotal      8178727550.92\nLength: 186, dtype: float64"
     },
     "execution_count": 86,
     "metadata": {},
     "output_type": "execute_result"
    }
   ]
  },
  {
   "cell_type": "code",
   "metadata": {
    "colab": {
     "base_uri": "https://localhost:8080/"
    },
    "id": "_vAyqr5KS2qv",
    "outputId": "a9fcb61c-82ce-488e-b7f7-a3a4de84f05e",
    "ExecuteTime": {
     "end_time": "2023-09-10T04:07:37.631784600Z",
     "start_time": "2023-09-10T04:07:34.839835700Z"
    }
   },
   "source": [
    "colunas_usaveis = dados.mean().index.tolist()\n",
    "colunas_usaveis.insert(0, \"Unidade da Federação\")\n",
    "colunas_usaveis[:5]"
   ],
   "execution_count": 87,
   "outputs": [
    {
     "ename": "TypeError",
     "evalue": "Could not convert ['11 Rondônia12 Acre13 Amazonas14 Roraima15 Pará16 Amapá17 Tocantins21 Maranhão22 Piauí23 Ceará24 Rio Grande do Norte25 Paraíba26 Pernambuco27 Alagoas28 Sergipe29 Bahia31 Minas Gerais32 Espírito Santo33 Rio de Janeiro35 São Paulo41 Paraná42 Santa Catarina43 Rio Grande do Sul50 Mato Grosso do Sul51 Mato Grosso52 Goiás53 Distrito Federal'\n '3605007.43-9730634.161701611.2527967969.222034329.786542918.1419722895.5112247027.2934471579.0613213817.6016117680.2437971068.1711170853.096341601.0653839068.5996911075.3815382323.4652027721.77220292973.6665843824.7337380382.9366425009.3611997775.9210810420.6525227845.7414487053.32'\n '10112839.415692793.9323204118.383402210.9648699943.87-428427.7737403755.7322889299.3553287931.0528275014.6029722344.8581776147.3819833060.5515146271.31105155999.81211011740.2238355388.41118235799.53379480316.14149667490.8187247724.40116842378.4826441323.8321576181.4050124046.9729034177.33'] to numeric",
     "output_type": "error",
     "traceback": [
      "\u001B[1;31m---------------------------------------------------------------------------\u001B[0m",
      "\u001B[1;31mValueError\u001B[0m                                Traceback (most recent call last)",
      "File \u001B[1;32m~\\miniconda3\\Lib\\site-packages\\pandas\\core\\nanops.py:1680\u001B[0m, in \u001B[0;36m_ensure_numeric\u001B[1;34m(x)\u001B[0m\n\u001B[0;32m   1679\u001B[0m \u001B[38;5;28;01mtry\u001B[39;00m:\n\u001B[1;32m-> 1680\u001B[0m     x \u001B[38;5;241m=\u001B[39m x\u001B[38;5;241m.\u001B[39mastype(np\u001B[38;5;241m.\u001B[39mcomplex128)\n\u001B[0;32m   1681\u001B[0m \u001B[38;5;28;01mexcept\u001B[39;00m (\u001B[38;5;167;01mTypeError\u001B[39;00m, \u001B[38;5;167;01mValueError\u001B[39;00m):\n",
      "\u001B[1;31mValueError\u001B[0m: complex() arg is a malformed string",
      "\nDuring handling of the above exception, another exception occurred:\n",
      "\u001B[1;31mValueError\u001B[0m                                Traceback (most recent call last)",
      "File \u001B[1;32m~\\miniconda3\\Lib\\site-packages\\pandas\\core\\nanops.py:1683\u001B[0m, in \u001B[0;36m_ensure_numeric\u001B[1;34m(x)\u001B[0m\n\u001B[0;32m   1682\u001B[0m \u001B[38;5;28;01mtry\u001B[39;00m:\n\u001B[1;32m-> 1683\u001B[0m     x \u001B[38;5;241m=\u001B[39m x\u001B[38;5;241m.\u001B[39mastype(np\u001B[38;5;241m.\u001B[39mfloat64)\n\u001B[0;32m   1684\u001B[0m \u001B[38;5;28;01mexcept\u001B[39;00m \u001B[38;5;167;01mValueError\u001B[39;00m \u001B[38;5;28;01mas\u001B[39;00m err:\n\u001B[0;32m   1685\u001B[0m     \u001B[38;5;66;03m# GH#29941 we get here with object arrays containing strs\u001B[39;00m\n",
      "\u001B[1;31mValueError\u001B[0m: could not convert string to float: '11 Rondônia12 Acre13 Amazonas14 Roraima15 Pará16 Amapá17 Tocantins21 Maranhão22 Piauí23 Ceará24 Rio Grande do Norte25 Paraíba26 Pernambuco27 Alagoas28 Sergipe29 Bahia31 Minas Gerais32 Espírito Santo33 Rio de Janeiro35 São Paulo41 Paraná42 Santa Catarina43 Rio Grande do Sul50 Mato Grosso do Sul51 Mato Grosso52 Goiás53 Distrito Federal'",
      "\nThe above exception was the direct cause of the following exception:\n",
      "\u001B[1;31mTypeError\u001B[0m                                 Traceback (most recent call last)",
      "Cell \u001B[1;32mIn[87], line 1\u001B[0m\n\u001B[1;32m----> 1\u001B[0m colunas_usaveis \u001B[38;5;241m=\u001B[39m dados\u001B[38;5;241m.\u001B[39mmean()\u001B[38;5;241m.\u001B[39mindex\u001B[38;5;241m.\u001B[39mtolist()\n\u001B[0;32m      2\u001B[0m colunas_usaveis\u001B[38;5;241m.\u001B[39minsert(\u001B[38;5;241m0\u001B[39m, \u001B[38;5;124m\"\u001B[39m\u001B[38;5;124mUnidade da Federação\u001B[39m\u001B[38;5;124m\"\u001B[39m)\n\u001B[0;32m      3\u001B[0m colunas_usaveis[:\u001B[38;5;241m5\u001B[39m]\n",
      "File \u001B[1;32m~\\miniconda3\\Lib\\site-packages\\pandas\\core\\generic.py:11556\u001B[0m, in \u001B[0;36mNDFrame._add_numeric_operations.<locals>.mean\u001B[1;34m(self, axis, skipna, numeric_only, **kwargs)\u001B[0m\n\u001B[0;32m  11539\u001B[0m \u001B[38;5;129m@doc\u001B[39m(\n\u001B[0;32m  11540\u001B[0m     _num_doc,\n\u001B[0;32m  11541\u001B[0m     desc\u001B[38;5;241m=\u001B[39m\u001B[38;5;124m\"\u001B[39m\u001B[38;5;124mReturn the mean of the values over the requested axis.\u001B[39m\u001B[38;5;124m\"\u001B[39m,\n\u001B[1;32m   (...)\u001B[0m\n\u001B[0;32m  11554\u001B[0m     \u001B[38;5;241m*\u001B[39m\u001B[38;5;241m*\u001B[39mkwargs,\n\u001B[0;32m  11555\u001B[0m ):\n\u001B[1;32m> 11556\u001B[0m     \u001B[38;5;28;01mreturn\u001B[39;00m NDFrame\u001B[38;5;241m.\u001B[39mmean(\u001B[38;5;28mself\u001B[39m, axis, skipna, numeric_only, \u001B[38;5;241m*\u001B[39m\u001B[38;5;241m*\u001B[39mkwargs)\n",
      "File \u001B[1;32m~\\miniconda3\\Lib\\site-packages\\pandas\\core\\generic.py:11201\u001B[0m, in \u001B[0;36mNDFrame.mean\u001B[1;34m(self, axis, skipna, numeric_only, **kwargs)\u001B[0m\n\u001B[0;32m  11194\u001B[0m \u001B[38;5;28;01mdef\u001B[39;00m \u001B[38;5;21mmean\u001B[39m(\n\u001B[0;32m  11195\u001B[0m     \u001B[38;5;28mself\u001B[39m,\n\u001B[0;32m  11196\u001B[0m     axis: Axis \u001B[38;5;241m|\u001B[39m \u001B[38;5;28;01mNone\u001B[39;00m \u001B[38;5;241m=\u001B[39m \u001B[38;5;241m0\u001B[39m,\n\u001B[1;32m   (...)\u001B[0m\n\u001B[0;32m  11199\u001B[0m     \u001B[38;5;241m*\u001B[39m\u001B[38;5;241m*\u001B[39mkwargs,\n\u001B[0;32m  11200\u001B[0m ) \u001B[38;5;241m-\u001B[39m\u001B[38;5;241m>\u001B[39m Series \u001B[38;5;241m|\u001B[39m \u001B[38;5;28mfloat\u001B[39m:\n\u001B[1;32m> 11201\u001B[0m     \u001B[38;5;28;01mreturn\u001B[39;00m \u001B[38;5;28mself\u001B[39m\u001B[38;5;241m.\u001B[39m_stat_function(\n\u001B[0;32m  11202\u001B[0m         \u001B[38;5;124m\"\u001B[39m\u001B[38;5;124mmean\u001B[39m\u001B[38;5;124m\"\u001B[39m, nanops\u001B[38;5;241m.\u001B[39mnanmean, axis, skipna, numeric_only, \u001B[38;5;241m*\u001B[39m\u001B[38;5;241m*\u001B[39mkwargs\n\u001B[0;32m  11203\u001B[0m     )\n",
      "File \u001B[1;32m~\\miniconda3\\Lib\\site-packages\\pandas\\core\\generic.py:11158\u001B[0m, in \u001B[0;36mNDFrame._stat_function\u001B[1;34m(self, name, func, axis, skipna, numeric_only, **kwargs)\u001B[0m\n\u001B[0;32m  11154\u001B[0m     nv\u001B[38;5;241m.\u001B[39mvalidate_stat_func((), kwargs, fname\u001B[38;5;241m=\u001B[39mname)\n\u001B[0;32m  11156\u001B[0m validate_bool_kwarg(skipna, \u001B[38;5;124m\"\u001B[39m\u001B[38;5;124mskipna\u001B[39m\u001B[38;5;124m\"\u001B[39m, none_allowed\u001B[38;5;241m=\u001B[39m\u001B[38;5;28;01mFalse\u001B[39;00m)\n\u001B[1;32m> 11158\u001B[0m \u001B[38;5;28;01mreturn\u001B[39;00m \u001B[38;5;28mself\u001B[39m\u001B[38;5;241m.\u001B[39m_reduce(\n\u001B[0;32m  11159\u001B[0m     func, name\u001B[38;5;241m=\u001B[39mname, axis\u001B[38;5;241m=\u001B[39maxis, skipna\u001B[38;5;241m=\u001B[39mskipna, numeric_only\u001B[38;5;241m=\u001B[39mnumeric_only\n\u001B[0;32m  11160\u001B[0m )\n",
      "File \u001B[1;32m~\\miniconda3\\Lib\\site-packages\\pandas\\core\\frame.py:10519\u001B[0m, in \u001B[0;36mDataFrame._reduce\u001B[1;34m(self, op, name, axis, skipna, numeric_only, filter_type, **kwds)\u001B[0m\n\u001B[0;32m  10515\u001B[0m     df \u001B[38;5;241m=\u001B[39m df\u001B[38;5;241m.\u001B[39mT\n\u001B[0;32m  10517\u001B[0m \u001B[38;5;66;03m# After possibly _get_data and transposing, we are now in the\u001B[39;00m\n\u001B[0;32m  10518\u001B[0m \u001B[38;5;66;03m#  simple case where we can use BlockManager.reduce\u001B[39;00m\n\u001B[1;32m> 10519\u001B[0m res \u001B[38;5;241m=\u001B[39m df\u001B[38;5;241m.\u001B[39m_mgr\u001B[38;5;241m.\u001B[39mreduce(blk_func)\n\u001B[0;32m  10520\u001B[0m out \u001B[38;5;241m=\u001B[39m df\u001B[38;5;241m.\u001B[39m_constructor(res)\u001B[38;5;241m.\u001B[39miloc[\u001B[38;5;241m0\u001B[39m]\n\u001B[0;32m  10521\u001B[0m \u001B[38;5;28;01mif\u001B[39;00m out_dtype \u001B[38;5;129;01mis\u001B[39;00m \u001B[38;5;129;01mnot\u001B[39;00m \u001B[38;5;28;01mNone\u001B[39;00m:\n",
      "File \u001B[1;32m~\\miniconda3\\Lib\\site-packages\\pandas\\core\\internals\\managers.py:1534\u001B[0m, in \u001B[0;36mBlockManager.reduce\u001B[1;34m(self, func)\u001B[0m\n\u001B[0;32m   1532\u001B[0m res_blocks: \u001B[38;5;28mlist\u001B[39m[Block] \u001B[38;5;241m=\u001B[39m []\n\u001B[0;32m   1533\u001B[0m \u001B[38;5;28;01mfor\u001B[39;00m blk \u001B[38;5;129;01min\u001B[39;00m \u001B[38;5;28mself\u001B[39m\u001B[38;5;241m.\u001B[39mblocks:\n\u001B[1;32m-> 1534\u001B[0m     nbs \u001B[38;5;241m=\u001B[39m blk\u001B[38;5;241m.\u001B[39mreduce(func)\n\u001B[0;32m   1535\u001B[0m     res_blocks\u001B[38;5;241m.\u001B[39mextend(nbs)\n\u001B[0;32m   1537\u001B[0m index \u001B[38;5;241m=\u001B[39m Index([\u001B[38;5;28;01mNone\u001B[39;00m])  \u001B[38;5;66;03m# placeholder\u001B[39;00m\n",
      "File \u001B[1;32m~\\miniconda3\\Lib\\site-packages\\pandas\\core\\internals\\blocks.py:339\u001B[0m, in \u001B[0;36mBlock.reduce\u001B[1;34m(self, func)\u001B[0m\n\u001B[0;32m    333\u001B[0m \u001B[38;5;129m@final\u001B[39m\n\u001B[0;32m    334\u001B[0m \u001B[38;5;28;01mdef\u001B[39;00m \u001B[38;5;21mreduce\u001B[39m(\u001B[38;5;28mself\u001B[39m, func) \u001B[38;5;241m-\u001B[39m\u001B[38;5;241m>\u001B[39m \u001B[38;5;28mlist\u001B[39m[Block]:\n\u001B[0;32m    335\u001B[0m     \u001B[38;5;66;03m# We will apply the function and reshape the result into a single-row\u001B[39;00m\n\u001B[0;32m    336\u001B[0m     \u001B[38;5;66;03m#  Block with the same mgr_locs; squeezing will be done at a higher level\u001B[39;00m\n\u001B[0;32m    337\u001B[0m     \u001B[38;5;28;01massert\u001B[39;00m \u001B[38;5;28mself\u001B[39m\u001B[38;5;241m.\u001B[39mndim \u001B[38;5;241m==\u001B[39m \u001B[38;5;241m2\u001B[39m\n\u001B[1;32m--> 339\u001B[0m     result \u001B[38;5;241m=\u001B[39m func(\u001B[38;5;28mself\u001B[39m\u001B[38;5;241m.\u001B[39mvalues)\n\u001B[0;32m    341\u001B[0m     \u001B[38;5;28;01mif\u001B[39;00m \u001B[38;5;28mself\u001B[39m\u001B[38;5;241m.\u001B[39mvalues\u001B[38;5;241m.\u001B[39mndim \u001B[38;5;241m==\u001B[39m \u001B[38;5;241m1\u001B[39m:\n\u001B[0;32m    342\u001B[0m         \u001B[38;5;66;03m# TODO(EA2D): special case not needed with 2D EAs\u001B[39;00m\n\u001B[0;32m    343\u001B[0m         res_values \u001B[38;5;241m=\u001B[39m np\u001B[38;5;241m.\u001B[39marray([[result]])\n",
      "File \u001B[1;32m~\\miniconda3\\Lib\\site-packages\\pandas\\core\\frame.py:10482\u001B[0m, in \u001B[0;36mDataFrame._reduce.<locals>.blk_func\u001B[1;34m(values, axis)\u001B[0m\n\u001B[0;32m  10480\u001B[0m     \u001B[38;5;28;01mreturn\u001B[39;00m values\u001B[38;5;241m.\u001B[39m_reduce(name, skipna\u001B[38;5;241m=\u001B[39mskipna, \u001B[38;5;241m*\u001B[39m\u001B[38;5;241m*\u001B[39mkwds)\n\u001B[0;32m  10481\u001B[0m \u001B[38;5;28;01melse\u001B[39;00m:\n\u001B[1;32m> 10482\u001B[0m     \u001B[38;5;28;01mreturn\u001B[39;00m op(values, axis\u001B[38;5;241m=\u001B[39maxis, skipna\u001B[38;5;241m=\u001B[39mskipna, \u001B[38;5;241m*\u001B[39m\u001B[38;5;241m*\u001B[39mkwds)\n",
      "File \u001B[1;32m~\\miniconda3\\Lib\\site-packages\\pandas\\core\\nanops.py:96\u001B[0m, in \u001B[0;36mdisallow.__call__.<locals>._f\u001B[1;34m(*args, **kwargs)\u001B[0m\n\u001B[0;32m     94\u001B[0m \u001B[38;5;28;01mtry\u001B[39;00m:\n\u001B[0;32m     95\u001B[0m     \u001B[38;5;28;01mwith\u001B[39;00m np\u001B[38;5;241m.\u001B[39merrstate(invalid\u001B[38;5;241m=\u001B[39m\u001B[38;5;124m\"\u001B[39m\u001B[38;5;124mignore\u001B[39m\u001B[38;5;124m\"\u001B[39m):\n\u001B[1;32m---> 96\u001B[0m         \u001B[38;5;28;01mreturn\u001B[39;00m f(\u001B[38;5;241m*\u001B[39margs, \u001B[38;5;241m*\u001B[39m\u001B[38;5;241m*\u001B[39mkwargs)\n\u001B[0;32m     97\u001B[0m \u001B[38;5;28;01mexcept\u001B[39;00m \u001B[38;5;167;01mValueError\u001B[39;00m \u001B[38;5;28;01mas\u001B[39;00m e:\n\u001B[0;32m     98\u001B[0m     \u001B[38;5;66;03m# we want to transform an object array\u001B[39;00m\n\u001B[0;32m     99\u001B[0m     \u001B[38;5;66;03m# ValueError message to the more typical TypeError\u001B[39;00m\n\u001B[0;32m    100\u001B[0m     \u001B[38;5;66;03m# e.g. this is normally a disallowed function on\u001B[39;00m\n\u001B[0;32m    101\u001B[0m     \u001B[38;5;66;03m# object arrays that contain strings\u001B[39;00m\n\u001B[0;32m    102\u001B[0m     \u001B[38;5;28;01mif\u001B[39;00m is_object_dtype(args[\u001B[38;5;241m0\u001B[39m]):\n",
      "File \u001B[1;32m~\\miniconda3\\Lib\\site-packages\\pandas\\core\\nanops.py:158\u001B[0m, in \u001B[0;36mbottleneck_switch.__call__.<locals>.f\u001B[1;34m(values, axis, skipna, **kwds)\u001B[0m\n\u001B[0;32m    156\u001B[0m         result \u001B[38;5;241m=\u001B[39m alt(values, axis\u001B[38;5;241m=\u001B[39maxis, skipna\u001B[38;5;241m=\u001B[39mskipna, \u001B[38;5;241m*\u001B[39m\u001B[38;5;241m*\u001B[39mkwds)\n\u001B[0;32m    157\u001B[0m \u001B[38;5;28;01melse\u001B[39;00m:\n\u001B[1;32m--> 158\u001B[0m     result \u001B[38;5;241m=\u001B[39m alt(values, axis\u001B[38;5;241m=\u001B[39maxis, skipna\u001B[38;5;241m=\u001B[39mskipna, \u001B[38;5;241m*\u001B[39m\u001B[38;5;241m*\u001B[39mkwds)\n\u001B[0;32m    160\u001B[0m \u001B[38;5;28;01mreturn\u001B[39;00m result\n",
      "File \u001B[1;32m~\\miniconda3\\Lib\\site-packages\\pandas\\core\\nanops.py:421\u001B[0m, in \u001B[0;36m_datetimelike_compat.<locals>.new_func\u001B[1;34m(values, axis, skipna, mask, **kwargs)\u001B[0m\n\u001B[0;32m    418\u001B[0m \u001B[38;5;28;01mif\u001B[39;00m datetimelike \u001B[38;5;129;01mand\u001B[39;00m mask \u001B[38;5;129;01mis\u001B[39;00m \u001B[38;5;28;01mNone\u001B[39;00m:\n\u001B[0;32m    419\u001B[0m     mask \u001B[38;5;241m=\u001B[39m isna(values)\n\u001B[1;32m--> 421\u001B[0m result \u001B[38;5;241m=\u001B[39m func(values, axis\u001B[38;5;241m=\u001B[39maxis, skipna\u001B[38;5;241m=\u001B[39mskipna, mask\u001B[38;5;241m=\u001B[39mmask, \u001B[38;5;241m*\u001B[39m\u001B[38;5;241m*\u001B[39mkwargs)\n\u001B[0;32m    423\u001B[0m \u001B[38;5;28;01mif\u001B[39;00m datetimelike:\n\u001B[0;32m    424\u001B[0m     result \u001B[38;5;241m=\u001B[39m _wrap_results(result, orig_values\u001B[38;5;241m.\u001B[39mdtype, fill_value\u001B[38;5;241m=\u001B[39miNaT)\n",
      "File \u001B[1;32m~\\miniconda3\\Lib\\site-packages\\pandas\\core\\nanops.py:727\u001B[0m, in \u001B[0;36mnanmean\u001B[1;34m(values, axis, skipna, mask)\u001B[0m\n\u001B[0;32m    724\u001B[0m     dtype_count \u001B[38;5;241m=\u001B[39m dtype\n\u001B[0;32m    726\u001B[0m count \u001B[38;5;241m=\u001B[39m _get_counts(values\u001B[38;5;241m.\u001B[39mshape, mask, axis, dtype\u001B[38;5;241m=\u001B[39mdtype_count)\n\u001B[1;32m--> 727\u001B[0m the_sum \u001B[38;5;241m=\u001B[39m _ensure_numeric(values\u001B[38;5;241m.\u001B[39msum(axis, dtype\u001B[38;5;241m=\u001B[39mdtype_sum))\n\u001B[0;32m    729\u001B[0m \u001B[38;5;28;01mif\u001B[39;00m axis \u001B[38;5;129;01mis\u001B[39;00m \u001B[38;5;129;01mnot\u001B[39;00m \u001B[38;5;28;01mNone\u001B[39;00m \u001B[38;5;129;01mand\u001B[39;00m \u001B[38;5;28mgetattr\u001B[39m(the_sum, \u001B[38;5;124m\"\u001B[39m\u001B[38;5;124mndim\u001B[39m\u001B[38;5;124m\"\u001B[39m, \u001B[38;5;28;01mFalse\u001B[39;00m):\n\u001B[0;32m    730\u001B[0m     count \u001B[38;5;241m=\u001B[39m cast(np\u001B[38;5;241m.\u001B[39mndarray, count)\n",
      "File \u001B[1;32m~\\miniconda3\\Lib\\site-packages\\pandas\\core\\nanops.py:1686\u001B[0m, in \u001B[0;36m_ensure_numeric\u001B[1;34m(x)\u001B[0m\n\u001B[0;32m   1683\u001B[0m         x \u001B[38;5;241m=\u001B[39m x\u001B[38;5;241m.\u001B[39mastype(np\u001B[38;5;241m.\u001B[39mfloat64)\n\u001B[0;32m   1684\u001B[0m     \u001B[38;5;28;01mexcept\u001B[39;00m \u001B[38;5;167;01mValueError\u001B[39;00m \u001B[38;5;28;01mas\u001B[39;00m err:\n\u001B[0;32m   1685\u001B[0m         \u001B[38;5;66;03m# GH#29941 we get here with object arrays containing strs\u001B[39;00m\n\u001B[1;32m-> 1686\u001B[0m         \u001B[38;5;28;01mraise\u001B[39;00m \u001B[38;5;167;01mTypeError\u001B[39;00m(\u001B[38;5;124mf\u001B[39m\u001B[38;5;124m\"\u001B[39m\u001B[38;5;124mCould not convert \u001B[39m\u001B[38;5;132;01m{\u001B[39;00mx\u001B[38;5;132;01m}\u001B[39;00m\u001B[38;5;124m to numeric\u001B[39m\u001B[38;5;124m\"\u001B[39m) \u001B[38;5;28;01mfrom\u001B[39;00m \u001B[38;5;21;01merr\u001B[39;00m\n\u001B[0;32m   1687\u001B[0m \u001B[38;5;28;01melse\u001B[39;00m:\n\u001B[0;32m   1688\u001B[0m     \u001B[38;5;28;01mif\u001B[39;00m \u001B[38;5;129;01mnot\u001B[39;00m np\u001B[38;5;241m.\u001B[39many(np\u001B[38;5;241m.\u001B[39mimag(x)):\n",
      "\u001B[1;31mTypeError\u001B[0m: Could not convert ['11 Rondônia12 Acre13 Amazonas14 Roraima15 Pará16 Amapá17 Tocantins21 Maranhão22 Piauí23 Ceará24 Rio Grande do Norte25 Paraíba26 Pernambuco27 Alagoas28 Sergipe29 Bahia31 Minas Gerais32 Espírito Santo33 Rio de Janeiro35 São Paulo41 Paraná42 Santa Catarina43 Rio Grande do Sul50 Mato Grosso do Sul51 Mato Grosso52 Goiás53 Distrito Federal'\n '3605007.43-9730634.161701611.2527967969.222034329.786542918.1419722895.5112247027.2934471579.0613213817.6016117680.2437971068.1711170853.096341601.0653839068.5996911075.3815382323.4652027721.77220292973.6665843824.7337380382.9366425009.3611997775.9210810420.6525227845.7414487053.32'\n '10112839.415692793.9323204118.383402210.9648699943.87-428427.7737403755.7322889299.3553287931.0528275014.6029722344.8581776147.3819833060.5515146271.31105155999.81211011740.2238355388.41118235799.53379480316.14149667490.8187247724.40116842378.4826441323.8321576181.4050124046.9729034177.33'] to numeric"
     ]
    }
   ]
  },
  {
   "cell_type": "code",
   "metadata": {
    "colab": {
     "base_uri": "https://localhost:8080/",
     "height": 0
    },
    "id": "HW39lS2aTDl4",
    "outputId": "a4061fba-7bd7-4cc3-e363-ea430820eb94",
    "ExecuteTime": {
     "start_time": "2023-09-10T04:07:35.038111700Z"
    }
   },
   "source": [
    "dados_usaveis = dados[colunas_usaveis]\n",
    "dados_usaveis.head()"
   ],
   "execution_count": null,
   "outputs": []
  },
  {
   "cell_type": "code",
   "metadata": {
    "colab": {
     "base_uri": "https://localhost:8080/",
     "height": 0
    },
    "id": "tSHrFqWGTk0X",
    "outputId": "87eddcc8-dfcf-42d5-dd1b-75b3812e12fb",
    "ExecuteTime": {
     "start_time": "2023-09-10T04:07:35.044117200Z"
    }
   },
   "source": [
    "dados_usaveis = dados_usaveis.set_index(\"Unidade da Federação\")\n",
    "dados_usaveis.head()"
   ],
   "execution_count": null,
   "outputs": []
  },
  {
   "cell_type": "code",
   "metadata": {
    "colab": {
     "base_uri": "https://localhost:8080/"
    },
    "id": "WR75OdNZT8V4",
    "outputId": "c8b983ca-8536-409b-b507-d8a3f0d9a85d",
    "ExecuteTime": {
     "start_time": "2023-09-10T04:07:35.044117200Z"
    }
   },
   "source": [
    "dados_usaveis[\"2019/Ago\"].head()"
   ],
   "execution_count": null,
   "outputs": []
  },
  {
   "cell_type": "code",
   "metadata": {
    "colab": {
     "base_uri": "https://localhost:8080/"
    },
    "id": "CFbJaalLUD6X",
    "outputId": "2848ea7b-e35e-442e-b1df-ca77b94dfde9",
    "ExecuteTime": {
     "start_time": "2023-09-10T04:07:35.044117200Z"
    }
   },
   "source": [
    "dados_usaveis.loc[\"12 Acre\"]"
   ],
   "execution_count": null,
   "outputs": []
  },
  {
   "cell_type": "code",
   "metadata": {
    "colab": {
     "base_uri": "https://localhost:8080/"
    },
    "id": "AozhI6wUUK3H",
    "outputId": "b1e5b5a4-4428-4658-d713-6027fe768159",
    "ExecuteTime": {
     "start_time": "2023-09-10T04:07:35.044117200Z"
    }
   },
   "source": [
    "dados_usaveis.iloc[1]"
   ],
   "execution_count": null,
   "outputs": []
  },
  {
   "cell_type": "code",
   "metadata": {
    "colab": {
     "base_uri": "https://localhost:8080/",
     "height": 0
    },
    "id": "jGFIiDD1UUf4",
    "outputId": "d0e68490-661c-4672-f533-8aaab878120b",
    "ExecuteTime": {
     "start_time": "2023-09-10T04:07:35.044117200Z"
    }
   },
   "source": [
    "dados_usaveis.plot(figsize=(12,6))"
   ],
   "execution_count": null,
   "outputs": []
  },
  {
   "cell_type": "code",
   "metadata": {
    "colab": {
     "base_uri": "https://localhost:8080/",
     "height": 0
    },
    "id": "dR9f96GDUlLo",
    "outputId": "4fdcdc78-d683-4b32-aefd-542e80a75c7e",
    "ExecuteTime": {
     "start_time": "2023-09-10T04:07:35.044117200Z"
    }
   },
   "source": [
    "dados_usaveis.T.head()"
   ],
   "execution_count": null,
   "outputs": []
  },
  {
   "cell_type": "code",
   "metadata": {
    "colab": {
     "base_uri": "https://localhost:8080/",
     "height": 0
    },
    "id": "QuO1fkptVC6H",
    "outputId": "7719e735-5a1b-459b-a350-9dfcf6668249",
    "ExecuteTime": {
     "start_time": "2023-09-10T04:07:35.044117200Z"
    }
   },
   "source": [
    "dados_usaveis.T.plot(figsize=(12,6))"
   ],
   "execution_count": null,
   "outputs": []
  },
  {
   "cell_type": "code",
   "metadata": {
    "colab": {
     "base_uri": "https://localhost:8080/",
     "height": 0
    },
    "id": "F3CngjjSVIsI",
    "outputId": "aee8ee75-bb69-48c2-c782-877e82b76c7d",
    "ExecuteTime": {
     "start_time": "2023-09-10T04:07:35.044117200Z"
    }
   },
   "source": [
    "dados_usaveis.T.tail()"
   ],
   "execution_count": null,
   "outputs": []
  },
  {
   "cell_type": "code",
   "metadata": {
    "colab": {
     "base_uri": "https://localhost:8080/",
     "height": 0
    },
    "id": "WvoXPR9BVXY2",
    "outputId": "538ba8df-bc57-4739-ed3e-49a1dff9fc5d",
    "ExecuteTime": {
     "start_time": "2023-09-10T04:07:35.059750Z"
    }
   },
   "source": [
    "dados_usaveis = dados_usaveis.drop(\"Total\", axis=1)\n",
    "dados_usaveis.head()"
   ],
   "execution_count": null,
   "outputs": []
  },
  {
   "cell_type": "code",
   "metadata": {
    "colab": {
     "base_uri": "https://localhost:8080/",
     "height": 0
    },
    "id": "Hond4OKsVlLw",
    "outputId": "c55406af-6356-4e27-991c-ceec3438bf9e",
    "ExecuteTime": {
     "start_time": "2023-09-10T04:07:35.059750Z"
    }
   },
   "source": [
    "dados_usaveis.T.plot(figsize=(12,6))"
   ],
   "execution_count": null,
   "outputs": []
  },
  {
   "cell_type": "code",
   "metadata": {
    "colab": {
     "base_uri": "https://localhost:8080/",
     "height": 0
    },
    "id": "gC4vf0mXVn6H",
    "outputId": "9b8811e6-44c7-486d-f271-a8476b4b0919",
    "ExecuteTime": {
     "start_time": "2023-09-10T04:07:35.059750Z"
    }
   },
   "source": [
    "dados_usaveis.T"
   ],
   "execution_count": null,
   "outputs": []
  },
  {
   "cell_type": "markdown",
   "metadata": {
    "id": "OuEfXY7PWOk5"
   },
   "source": [
    "Desafio: reposicionar a legenda. Dentro? Fora? Onde?"
   ]
  },
  {
   "cell_type": "markdown",
   "metadata": {
    "id": "BbUP1B2DWTfC"
   },
   "source": [
    "Desafio: retocar a nossa visualização."
   ]
  },
  {
   "cell_type": "markdown",
   "metadata": {
    "id": "1OJh_h2FWc87"
   },
   "source": [
    "Desafio: colocar títulos nos dois eixos."
   ]
  },
  {
   "cell_type": "code",
   "metadata": {
    "colab": {
     "base_uri": "https://localhost:8080/",
     "height": 0
    },
    "id": "ljODigEdWBro",
    "outputId": "96d08628-482c-493a-9f4c-625928e8a9c1",
    "ExecuteTime": {
     "start_time": "2023-09-10T04:07:35.059750Z"
    }
   },
   "source": [
    "dados_usaveis.head()"
   ],
   "execution_count": null,
   "outputs": []
  },
  {
   "cell_type": "code",
   "metadata": {
    "colab": {
     "base_uri": "https://localhost:8080/"
    },
    "id": "VXjY1CzHXdXH",
    "outputId": "8c8eedb6-bfb1-47f0-d401-acb6dd024ecb",
    "ExecuteTime": {
     "start_time": "2023-09-10T04:07:35.059750Z"
    }
   },
   "source": [
    "dados_usaveis.T.columns[:5]"
   ],
   "execution_count": null,
   "outputs": []
  },
  {
   "cell_type": "code",
   "metadata": {
    "colab": {
     "base_uri": "https://localhost:8080/"
    },
    "id": "jtNqAM6yXiPn",
    "outputId": "b0f70f75-8114-4545-f2b4-b7e9191ba19e",
    "ExecuteTime": {
     "start_time": "2023-09-10T04:07:35.059750Z"
    }
   },
   "source": [
    "dados_usaveis.index[:5]"
   ],
   "execution_count": null,
   "outputs": []
  },
  {
   "cell_type": "code",
   "metadata": {
    "colab": {
     "base_uri": "https://localhost:8080/",
     "height": 0
    },
    "id": "T5DjVoBRXqvH",
    "outputId": "e8d3079f-0357-4ad5-8949-1b42fea0af2b",
    "ExecuteTime": {
     "start_time": "2023-09-10T04:07:35.059750Z"
    }
   },
   "source": [
    "dados_usaveis[:5]"
   ],
   "execution_count": null,
   "outputs": []
  },
  {
   "cell_type": "code",
   "metadata": {
    "colab": {
     "base_uri": "https://localhost:8080/",
     "height": 0
    },
    "id": "O-V9gByhXxsH",
    "outputId": "3b1a0c21-8636-4fce-b6ab-41eb0db16402",
    "ExecuteTime": {
     "start_time": "2023-09-10T04:07:35.059750Z"
    }
   },
   "source": [
    "dados_usaveis[:7].T.plot(figsize=(10,6))"
   ],
   "execution_count": null,
   "outputs": []
  },
  {
   "cell_type": "code",
   "metadata": {
    "colab": {
     "base_uri": "https://localhost:8080/",
     "height": 0
    },
    "id": "a3XNwqPsX6dG",
    "outputId": "c79e220f-77ea-4bc9-bc69-77af176713b0",
    "ExecuteTime": {
     "start_time": "2023-09-10T04:07:35.075375800Z"
    }
   },
   "source": [
    "dados_usaveis.sample(n=7)"
   ],
   "execution_count": null,
   "outputs": []
  },
  {
   "cell_type": "code",
   "metadata": {
    "colab": {
     "base_uri": "https://localhost:8080/",
     "height": 0
    },
    "id": "ZoNOemScYMs_",
    "outputId": "09a1a4f7-71a9-40d7-fb8e-0a5e52167b24",
    "ExecuteTime": {
     "start_time": "2023-09-10T04:07:35.075375800Z"
    }
   },
   "source": [
    "dados_usaveis.sample(7)"
   ],
   "execution_count": null,
   "outputs": []
  },
  {
   "cell_type": "code",
   "metadata": {
    "colab": {
     "base_uri": "https://localhost:8080/",
     "height": 0
    },
    "id": "dCk74VOrYdX3",
    "outputId": "fd8058f5-6842-45ba-deea-0c5f82e11149",
    "ExecuteTime": {
     "start_time": "2023-09-10T04:07:35.075375800Z"
    }
   },
   "source": [
    "dados_usaveis.sample(7).T.plot(figsize=(10,6))"
   ],
   "execution_count": null,
   "outputs": []
  },
  {
   "cell_type": "code",
   "metadata": {
    "id": "RYiJDZduYksu",
    "ExecuteTime": {
     "start_time": "2023-09-10T04:07:35.075375800Z"
    }
   },
   "source": [
    "# pseudo aleatorio... pseudo randomness\n",
    "# 53874 = seed\n",
    "# regra semente / 10, semente * 3 / 2\n",
    "# 80811 \n",
    "# regra 8081, 121216"
   ],
   "execution_count": null,
   "outputs": []
  },
  {
   "cell_type": "code",
   "metadata": {
    "colab": {
     "base_uri": "https://localhost:8080/",
     "height": 0
    },
    "id": "RI0bVuVgZVLO",
    "outputId": "1f54c246-d63b-49e9-978a-73287fa48f60",
    "ExecuteTime": {
     "start_time": "2023-09-10T04:07:35.075375800Z"
    }
   },
   "source": [
    "import numpy as np\n",
    "\n",
    "np.random.seed(524387)\n",
    "dados_usaveis.sample(n=7)"
   ],
   "execution_count": null,
   "outputs": []
  },
  {
   "cell_type": "code",
   "metadata": {
    "colab": {
     "base_uri": "https://localhost:8080/",
     "height": 0
    },
    "id": "w09OqsLKZz63",
    "outputId": "e004e6eb-9e5e-4569-8ed1-e8b8f10628e3",
    "ExecuteTime": {
     "start_time": "2023-09-10T04:07:35.075375800Z"
    }
   },
   "source": [
    "dados_dos_7_estados = dados_usaveis.sample(n=7)\n",
    "dados_dos_7_estados.T.plot(figsize=(10,6))"
   ],
   "execution_count": null,
   "outputs": []
  },
  {
   "cell_type": "code",
   "metadata": {
    "colab": {
     "base_uri": "https://localhost:8080/",
     "height": 0
    },
    "id": "1RwoEfGXaN7F",
    "outputId": "33c37898-2345-4338-e996-10f5063b07b1",
    "ExecuteTime": {
     "start_time": "2023-09-10T04:07:35.075375800Z"
    }
   },
   "source": [
    "dados_usaveis[\"Total\"] = dados_usaveis.sum(axis = 1)\n",
    "dados_usaveis.head()"
   ],
   "execution_count": null,
   "outputs": []
  },
  {
   "cell_type": "markdown",
   "metadata": {
    "id": "7VsO7vIpatJ8"
   },
   "source": [
    "Desafio: ordenar nosso DataFrame para que na primeira linha tenha a linha com maior gasto, e na última com menor gasto (ordenação)"
   ]
  },
  {
   "cell_type": "markdown",
   "metadata": {
    "id": "61NbqtSMazgM"
   },
   "source": [
    "Desafio: adicionar uma coluna com a região de cada estado."
   ]
  },
  {
   "cell_type": "markdown",
   "metadata": {
    "id": "Ty7eIkF3a8Ro"
   },
   "source": [
    "Desafio: adicione seu estado nessa lista de 7 estados (`dados_dos_7_estados`)."
   ]
  },
  {
   "cell_type": "markdown",
   "metadata": {
    "id": "RCYJHTce45aM"
   },
   "source": [
    "### 3.2"
   ]
  },
  {
   "cell_type": "code",
   "metadata": {
    "id": "3JisHp5zalhV",
    "colab": {
     "base_uri": "https://localhost:8080/",
     "height": 371
    },
    "outputId": "42d962b5-41f9-4746-ba7d-ddfb6328a4b0",
    "ExecuteTime": {
     "start_time": "2023-09-10T04:07:35.091001900Z"
    }
   },
   "source": [
    "dados_usaveis.head()"
   ],
   "execution_count": null,
   "outputs": []
  },
  {
   "cell_type": "code",
   "metadata": {
    "colab": {
     "base_uri": "https://localhost:8080/",
     "height": 405
    },
    "id": "69GN7b4d52iw",
    "outputId": "557559a8-f831-4d90-f167-eedd19386dab",
    "ExecuteTime": {
     "start_time": "2023-09-10T04:07:35.091599200Z"
    }
   },
   "source": [
    "ordenados_por_total = dados_usaveis.sort_values(by=\"Total\", ascending=False)\n",
    "ordenados_por_total = ordenados_por_total.drop(\"Total\", axis=1)\n",
    "# ordenados_por_total.drop(\"Total\", axis=1, inplace=True)\n",
    "ordenados_por_total.head(5)"
   ],
   "execution_count": null,
   "outputs": []
  },
  {
   "cell_type": "code",
   "metadata": {
    "colab": {
     "base_uri": "https://localhost:8080/",
     "height": 402
    },
    "id": "NPb9_v6D6p0h",
    "outputId": "3039a40f-4920-4a03-a2a5-b6cc74aa33ba",
    "ExecuteTime": {
     "start_time": "2023-09-10T04:07:35.095121400Z"
    }
   },
   "source": [
    "ordenados_por_total.head(5).T.plot(figsize=(10,6))"
   ],
   "execution_count": null,
   "outputs": []
  },
  {
   "cell_type": "markdown",
   "metadata": {
    "id": "QJXZVxhg7iK-"
   },
   "source": [
    "Desafio: adicionar seu estado aos 5 estados existentes, e plotar."
   ]
  },
  {
   "cell_type": "code",
   "metadata": {
    "id": "vGYnjS8X7f38",
    "ExecuteTime": {
     "start_time": "2023-09-10T04:07:35.095121400Z"
    }
   },
   "source": [
    "colunas_interessadas = ordenados_por_total.columns[6:]\n",
    "ordenados_por_total = ordenados_por_total[colunas_interessadas]"
   ],
   "execution_count": null,
   "outputs": []
  },
  {
   "cell_type": "code",
   "metadata": {
    "colab": {
     "base_uri": "https://localhost:8080/",
     "height": 402
    },
    "id": "wQRBDkMj8lDk",
    "outputId": "51e1f144-ca22-4465-b800-0cc4f366f004",
    "ExecuteTime": {
     "start_time": "2023-09-10T04:07:35.095121400Z"
    }
   },
   "source": [
    "ordenados_por_total.head(5).T.plot(figsize=(10,6))"
   ],
   "execution_count": null,
   "outputs": []
  },
  {
   "cell_type": "markdown",
   "metadata": {
    "id": "Tgre7RdX9CpD"
   },
   "source": [
    "Desafio: adicionar seu estado."
   ]
  },
  {
   "cell_type": "markdown",
   "metadata": {
    "id": "X4AHsiEx9rBz"
   },
   "source": [
    "Desafio: deixar o gráfico mais refinado."
   ]
  },
  {
   "cell_type": "markdown",
   "metadata": {
    "id": "PAPiVnG793O8"
   },
   "source": [
    "Desafio: pesquisar o `sort_index`."
   ]
  },
  {
   "cell_type": "markdown",
   "metadata": {
    "id": "M2Yo7vPt-M3v"
   },
   "source": [
    "Desafio: googlar os casos de dengue do Brasil e verificar se existe algum padrão com os gastos encontrados aqui."
   ]
  },
  {
   "cell_type": "markdown",
   "metadata": {
    "id": "wOZvSLwb-Y_w"
   },
   "source": [
    "Desafio: plotar somente os estados de uma região do Brasil."
   ]
  },
  {
   "cell_type": "markdown",
   "metadata": {
    "id": "C3aMBUxi_D--"
   },
   "source": [
    "### 4.1"
   ]
  },
  {
   "cell_type": "code",
   "metadata": {
    "id": "J5uq1QW4ASi0",
    "ExecuteTime": {
     "start_time": "2023-09-10T04:07:35.095121400Z"
    }
   },
   "source": [
    "ordenados_por_total = ordenados_por_total / 1_000_000\n"
   ],
   "execution_count": null,
   "outputs": []
  },
  {
   "cell_type": "code",
   "metadata": {
    "colab": {
     "base_uri": "https://localhost:8080/",
     "height": 405
    },
    "id": "BUSXuDmo82R7",
    "outputId": "c8e8ba99-2a66-4723-fc7b-1c45deb47563",
    "ExecuteTime": {
     "start_time": "2023-09-10T04:07:35.095121400Z"
    }
   },
   "source": [
    "axis = ordenados_por_total.head(5).T.plot(figsize=(10,6))\n",
    "axis.set_ylabel(\"gasto aprovado em milhões de reais\")\n",
    "axis.set_xlabel(\"mês\")"
   ],
   "execution_count": null,
   "outputs": []
  },
  {
   "cell_type": "code",
   "metadata": {
    "colab": {
     "base_uri": "https://localhost:8080/",
     "height": 405
    },
    "id": "ViGcW57A_iKu",
    "outputId": "07253404-0130-4223-f3b4-0cb9b4823922",
    "ExecuteTime": {
     "start_time": "2023-09-10T04:07:35.095121400Z"
    }
   },
   "source": [
    "meses_filtrados = ordenados_por_total.columns[47:]\n",
    "axis = ordenados_por_total[meses_filtrados].head(3).T.plot(figsize=(10,6))\n",
    "axis.set_ylabel(\"gasto aprovado em milhões de reais\")\n",
    "axis.set_xlabel(\"mês\")"
   ],
   "execution_count": null,
   "outputs": []
  },
  {
   "cell_type": "code",
   "metadata": {
    "id": "Hcsn5yWUAsrC",
    "ExecuteTime": {
     "start_time": "2023-09-10T04:07:35.107628500Z"
    }
   },
   "source": [
    "def plota_gastos_por_mes(dados, figsize=(10,6)):\n",
    "  axis = dados.T.plot(figsize=figsize)\n",
    "  axis.set_ylabel(\"gasto aprovado em milhões de reais\")\n",
    "  axis.set_xlabel(\"mês\")"
   ],
   "execution_count": null,
   "outputs": []
  },
  {
   "cell_type": "code",
   "metadata": {
    "colab": {
     "base_uri": "https://localhost:8080/",
     "height": 388
    },
    "id": "0mhb3fFNBJbJ",
    "outputId": "589ce94a-dff3-4dbf-e02d-5cf20ee5f8b3",
    "ExecuteTime": {
     "start_time": "2023-09-10T04:07:35.107628500Z"
    }
   },
   "source": [
    "plota_gastos_por_mes(ordenados_por_total[meses_filtrados].head(3))"
   ],
   "execution_count": null,
   "outputs": []
  },
  {
   "cell_type": "code",
   "metadata": {
    "colab": {
     "base_uri": "https://localhost:8080/",
     "height": 405
    },
    "id": "HqZH0-0nBNEZ",
    "outputId": "b5f982fb-daed-4b24-d13e-415a34de75fd",
    "ExecuteTime": {
     "start_time": "2023-09-10T04:07:35.107628500Z"
    }
   },
   "source": [
    "plota_gastos_por_mes(ordenados_por_total[meses_filtrados].head(3))\n",
    "plt.ylim(0, 640)"
   ],
   "execution_count": null,
   "outputs": []
  },
  {
   "cell_type": "code",
   "metadata": {
    "colab": {
     "base_uri": "https://localhost:8080/",
     "height": 405
    },
    "id": "G80KhaXbBfrh",
    "outputId": "9dbc1ef1-0959-412f-fbc3-7c90c2f71cc8",
    "ExecuteTime": {
     "start_time": "2023-09-10T04:07:35.107628500Z"
    }
   },
   "source": [
    "plota_gastos_por_mes(ordenados_por_total[ordenados_por_total.columns[45:70]].head(3))\n",
    "plt.ylim(0, 340)"
   ],
   "execution_count": null,
   "outputs": []
  },
  {
   "cell_type": "code",
   "metadata": {
    "colab": {
     "base_uri": "https://localhost:8080/",
     "height": 405
    },
    "id": "1Vx6rhfhBpz2",
    "outputId": "d27d470a-aca7-4b68-a79c-a07f1725264a",
    "ExecuteTime": {
     "start_time": "2023-09-10T04:07:35.107628500Z"
    }
   },
   "source": [
    "plota_gastos_por_mes(ordenados_por_total[ordenados_por_total.columns[-12:]].head(3))\n",
    "plt.ylim(0, 640)"
   ],
   "execution_count": null,
   "outputs": []
  },
  {
   "cell_type": "code",
   "metadata": {
    "colab": {
     "base_uri": "https://localhost:8080/",
     "height": 405
    },
    "id": "HTLnCYZAB9IF",
    "outputId": "3b9d242f-6d75-417b-ad31-63b4ec8520f9",
    "ExecuteTime": {
     "start_time": "2023-09-10T04:07:35.107628500Z"
    }
   },
   "source": [
    "plota_gastos_por_mes(ordenados_por_total[ordenados_por_total.columns[-12:]].head(3))\n",
    "plt.ylim(110, 640)"
   ],
   "execution_count": null,
   "outputs": []
  },
  {
   "cell_type": "code",
   "metadata": {
    "colab": {
     "base_uri": "https://localhost:8080/",
     "height": 405
    },
    "id": "92I7pFSVCD1l",
    "outputId": "4c43e5bb-8571-4ac7-8e16-a8a734852b5b",
    "ExecuteTime": {
     "start_time": "2023-09-10T04:07:35.107628500Z"
    }
   },
   "source": [
    "plota_gastos_por_mes(ordenados_por_total[ordenados_por_total.columns[-60:]].head(3))\n",
    "plt.ylim(0, 640)"
   ],
   "execution_count": null,
   "outputs": []
  },
  {
   "cell_type": "code",
   "metadata": {
    "colab": {
     "base_uri": "https://localhost:8080/",
     "height": 405
    },
    "id": "ModZVemxC3ob",
    "outputId": "4cca17ec-8df2-43e2-ec74-cc3aff061079",
    "ExecuteTime": {
     "start_time": "2023-09-10T04:07:35.107628500Z"
    }
   },
   "source": [
    "plota_gastos_por_mes(ordenados_por_total.head(3))\n",
    "plt.ylim(0, 640)"
   ],
   "execution_count": null,
   "outputs": []
  },
  {
   "cell_type": "code",
   "metadata": {
    "colab": {
     "base_uri": "https://localhost:8080/",
     "height": 405
    },
    "id": "tKLLCidODDQC",
    "outputId": "7ab1fc1e-fe83-4d35-b014-a564ce34c51f",
    "ExecuteTime": {
     "start_time": "2023-09-10T04:07:35.107628500Z"
    }
   },
   "source": [
    "plota_gastos_por_mes(ordenados_por_total.head(5))\n",
    "plt.ylim(0, 640)"
   ],
   "execution_count": null,
   "outputs": []
  },
  {
   "cell_type": "code",
   "metadata": {
    "colab": {
     "base_uri": "https://localhost:8080/",
     "height": 405
    },
    "id": "1evHV2JQDpnR",
    "outputId": "128d05ab-79ea-44a1-a196-822fe097ebf2",
    "ExecuteTime": {
     "start_time": "2023-09-10T04:07:35.107628500Z"
    }
   },
   "source": [
    "plota_gastos_por_mes(ordenados_por_total.head(5), figsize=(6,6))\n",
    "plt.ylim(0, 640)"
   ],
   "execution_count": null,
   "outputs": []
  },
  {
   "cell_type": "code",
   "metadata": {
    "colab": {
     "base_uri": "https://localhost:8080/",
     "height": 343
    },
    "id": "eUj4oGCnD-bQ",
    "outputId": "d1b31d27-ce5b-4015-881f-faf8fee4df80",
    "ExecuteTime": {
     "start_time": "2023-09-10T04:07:35.107628500Z"
    }
   },
   "source": [
    "plota_gastos_por_mes(ordenados_por_total.head(5), figsize=(20,6))\n",
    "plt.ylim(0, 640)"
   ],
   "execution_count": null,
   "outputs": []
  },
  {
   "cell_type": "markdown",
   "metadata": {
    "id": "_SB5jDaCFLuR"
   },
   "source": [
    "Desafio: padronizar os ticks verticais para espaçamento de 12 em 12 unidades (uma vez ao ano)."
   ]
  },
  {
   "cell_type": "markdown",
   "metadata": {
    "id": "rte1kr-qFTkS"
   },
   "source": [
    "Desafio: escolher e utilizar outras cores para saltar mais aos olhos."
   ]
  },
  {
   "cell_type": "markdown",
   "metadata": {
    "id": "HFbsTw6lFZOS"
   },
   "source": [
    "Desafio: colocar uma grade (grid) horizontal e vertical que não seja intrusivo."
   ]
  },
  {
   "cell_type": "markdown",
   "metadata": {
    "id": "pUXpvRmeGZZ2"
   },
   "source": [
    "### 5.1"
   ]
  },
  {
   "cell_type": "code",
   "metadata": {
    "colab": {
     "base_uri": "https://localhost:8080/",
     "height": 35
    },
    "id": "0z6ctOTzGvWB",
    "outputId": "9c081955-80b3-4603-c700-3c71fe4d2e8d",
    "ExecuteTime": {
     "start_time": "2023-09-10T04:07:35.123265200Z"
    }
   },
   "source": [
    "mes_mais_recente = ordenados_por_total.columns[-1]\n",
    "mes_mais_recente"
   ],
   "execution_count": null,
   "outputs": []
  },
  {
   "cell_type": "code",
   "metadata": {
    "colab": {
     "base_uri": "https://localhost:8080/"
    },
    "id": "dzz_H1n9H7ZP",
    "outputId": "18c17223-0f96-4ff1-ec79-3b909fc3ada2",
    "ExecuteTime": {
     "start_time": "2023-09-10T04:07:35.123265200Z"
    }
   },
   "source": [
    "gastos_do_mais_recente = ordenados_por_total[mes_mais_recente]\n",
    "gastos_do_mais_recente.head()"
   ],
   "execution_count": null,
   "outputs": []
  },
  {
   "cell_type": "code",
   "metadata": {
    "colab": {
     "base_uri": "https://localhost:8080/",
     "height": 296
    },
    "id": "5kcXWpnoIA1_",
    "outputId": "1ef5eac1-85ae-4d46-b0e1-ed7115f0f6c9",
    "ExecuteTime": {
     "start_time": "2023-09-10T04:07:35.123265200Z"
    }
   },
   "source": [
    "gastos_do_mais_recente.plot()"
   ],
   "execution_count": null,
   "outputs": []
  },
  {
   "cell_type": "code",
   "metadata": {
    "colab": {
     "base_uri": "https://localhost:8080/",
     "height": 265
    },
    "id": "T8h9OiXMIDCH",
    "outputId": "a1d0cdc8-b277-4e97-f621-7bbbb1355e3a",
    "ExecuteTime": {
     "start_time": "2023-09-10T04:07:35.123265200Z"
    }
   },
   "source": [
    "gastos_do_mais_recente.plot(kind='pie')"
   ],
   "execution_count": null,
   "outputs": []
  },
  {
   "cell_type": "markdown",
   "metadata": {
    "id": "bm55DT7UIP6b"
   },
   "source": [
    "- Difícil de identificar os elementos.\n",
    "- Número de elementos é enorme.\n",
    "- Qual o maior e menor? Qual é maior que qual?\n",
    "- Qual a diferença de proporcionalidade?"
   ]
  },
  {
   "cell_type": "markdown",
   "metadata": {
    "id": "cbliChvYIrpe"
   },
   "source": [
    "Desafio: está ordenado ou não? Qual o motivo disso ter acontecido?"
   ]
  },
  {
   "cell_type": "code",
   "metadata": {
    "colab": {
     "base_uri": "https://localhost:8080/",
     "height": 265
    },
    "id": "eD2_HlCyIMyH",
    "outputId": "9cba35da-33c2-4cb7-bd93-b33ed6ef9d10",
    "ExecuteTime": {
     "start_time": "2023-09-10T04:07:35.123265200Z"
    }
   },
   "source": [
    "gastos_do_mais_recente.sample(frac=1).plot(kind=\"pie\")"
   ],
   "execution_count": null,
   "outputs": []
  },
  {
   "cell_type": "markdown",
   "metadata": {
    "id": "YhvChn9SJxU3"
   },
   "source": [
    "- Não dá para saber a ordem de jeito nenhum.\n",
    "- Estamos sendo iludidos e iludidas em relação as proporções.\n",
    "- Cores repetindo pois são muitos elementos.\n",
    "- Tonalidades estão passando mensagens diferentes."
   ]
  },
  {
   "cell_type": "code",
   "metadata": {
    "colab": {
     "base_uri": "https://localhost:8080/"
    },
    "id": "xPpuMl0NJY3d",
    "outputId": "68e7d75d-d39c-4229-cc23-45b4ebf3bbc6",
    "ExecuteTime": {
     "start_time": "2023-09-10T04:07:35.123265200Z"
    }
   },
   "source": [
    "gastos_do_mais_recente"
   ],
   "execution_count": null,
   "outputs": []
  },
  {
   "cell_type": "code",
   "metadata": {
    "colab": {
     "base_uri": "https://localhost:8080/"
    },
    "id": "slzjgoEZKhBs",
    "outputId": "2bcf1cbc-3e77-428f-da61-c39be0906f7a",
    "ExecuteTime": {
     "start_time": "2023-09-10T04:07:35.123265200Z"
    }
   },
   "source": [
    "gastos_do_mais_recente / gastos_do_mais_recente.loc[\"41 Paraná\"]"
   ],
   "execution_count": null,
   "outputs": []
  },
  {
   "cell_type": "code",
   "metadata": {
    "colab": {
     "base_uri": "https://localhost:8080/"
    },
    "id": "HAY_lMv4Kxkb",
    "outputId": "32a3c941-3d7f-4dd2-f1de-90e215bb2e27",
    "ExecuteTime": {
     "start_time": "2023-09-10T04:07:35.123265200Z"
    }
   },
   "source": [
    "tabela_de_comparacao = gastos_do_mais_recente / gastos_do_mais_recente.loc[\"41 Paraná\"]\n",
    "tabela_de_comparacao.head(5)"
   ],
   "execution_count": null,
   "outputs": []
  },
  {
   "cell_type": "code",
   "metadata": {
    "colab": {
     "base_uri": "https://localhost:8080/",
     "height": 283
    },
    "id": "VOZvksTALUWT",
    "outputId": "7c9a24ae-0f50-4caf-cc92-86fcfc5fcf7d",
    "ExecuteTime": {
     "start_time": "2023-09-10T04:07:35.123265200Z"
    }
   },
   "source": [
    "tabela_de_comparacao.plot(kind=\"barh\")"
   ],
   "execution_count": null,
   "outputs": []
  },
  {
   "cell_type": "code",
   "metadata": {
    "colab": {
     "base_uri": "https://localhost:8080/",
     "height": 404
    },
    "id": "R-8GigCrLYZj",
    "outputId": "7f659297-9871-486e-9498-f98b99276f78",
    "ExecuteTime": {
     "start_time": "2023-09-10T04:07:35.123265200Z"
    }
   },
   "source": [
    "tabela_de_comparacao.plot(kind=\"bar\")"
   ],
   "execution_count": null,
   "outputs": []
  },
  {
   "cell_type": "code",
   "metadata": {
    "colab": {
     "base_uri": "https://localhost:8080/",
     "height": 404
    },
    "id": "bW_0K_IbLmEy",
    "outputId": "c899820d-57f5-4580-a9df-467daea759c0",
    "ExecuteTime": {
     "start_time": "2023-09-10T04:07:35.123265200Z"
    }
   },
   "source": [
    "tabela_de_comparacao = tabela_de_comparacao.sort_values(ascending=False)\n",
    "tabela_de_comparacao.plot(kind=\"bar\")"
   ],
   "execution_count": null,
   "outputs": []
  },
  {
   "cell_type": "markdown",
   "metadata": {
    "id": "GSL2i2BoMwi5"
   },
   "source": [
    "Desafio: passar uma linha horizontal no seu estado. Anotando o gráfico com uma linha."
   ]
  },
  {
   "cell_type": "markdown",
   "metadata": {
    "id": "T9R-e9ovMTuE"
   },
   "source": [
    "Desafio: Atualizar o último gráfico para refletir seu estado, incluindo grid, eixos etc."
   ]
  },
  {
   "cell_type": "markdown",
   "metadata": {
    "id": "7Fs25gOqMbZT"
   },
   "source": [
    "Desafio: Colorir o seu estado com um tom diferente. Colorir os outros estados de acordo com gasto maior ou menor."
   ]
  },
  {
   "cell_type": "markdown",
   "metadata": {
    "id": "U3CCgXMxMk7p"
   },
   "source": [
    "Desafio: gasto por população de dois estados. Escolher dois estados, plotar a comparação desses gastos de acordo com a população deles. (base IBGE por exemplo)"
   ]
  },
  {
   "cell_type": "markdown",
   "metadata": {
    "id": "Tzspna3pNQfF"
   },
   "source": [
    "Desafio: Explore gráficos e as tabelas, encontre o que você acha de interessante, levante perguntas e hipóteses."
   ]
  },
  {
   "cell_type": "markdown",
   "metadata": {
    "id": "e25gs__ZNYPZ"
   },
   "source": [
    "Desafio: Escolha outro valor além de \"Valor Aprovado\" no tabnet."
   ]
  },
  {
   "cell_type": "code",
   "metadata": {
    "id": "RXoLtjsFL2xP",
    "ExecuteTime": {
     "start_time": "2023-09-10T04:07:35.123265200Z"
    }
   },
   "source": [],
   "execution_count": null,
   "outputs": []
  }
 ]
}
