{
 "nbformat": 4,
 "nbformat_minor": 0,
 "metadata": {
  "colab": {
   "provenance": [],
   "toc_visible": true
  },
  "kernelspec": {
   "name": "python3",
   "language": "python",
   "display_name": "Python 3 (ipykernel)"
  },
  "language_info": {
   "name": "python"
  }
 },
 "cells": [
  {
   "cell_type": "markdown",
   "source": [
    "# Import necessary dependencies"
   ],
   "metadata": {
    "id": "VdJl3nH43ywB"
   }
  },
  {
   "cell_type": "code",
   "execution_count": 2,
   "metadata": {
    "id": "KhN5OsIt3sta",
    "ExecuteTime": {
     "end_time": "2023-09-11T02:30:57.009385900Z",
     "start_time": "2023-09-11T02:30:56.986981900Z"
    }
   },
   "outputs": [],
   "source": [
    "import pandas as pd\n",
    "import matplotlib.pyplot as plt\n",
    "import matplotlib as mpl\n",
    "import numpy as np\n",
    "import seaborn as sns\n",
    "\n",
    "%matplotlib inline"
   ]
  },
  {
   "cell_type": "markdown",
   "source": [
    "# Load and merge datasets"
   ],
   "metadata": {
    "id": "QsfvVkO138K-"
   }
  },
  {
   "cell_type": "code",
   "source": [
    "white_wine = pd.read_csv('../dados/winequality-white.csv', sep=';')\n",
    "red_wine = pd.read_csv('../dados/winequality-red.csv', sep=';')\n",
    "\n",
    "# store wine type as an attribute\n",
    "red_wine['wine_type'] = 'red'\n",
    "white_wine['wine_type'] = 'white'\n",
    "# bucket wine quality scores into qualitative quality labels\n",
    "red_wine['quality_label'] = red_wine['quality'].apply(lambda value: 'low'\n",
    "                                                          if value <= 5 else 'medium'\n",
    "                                                              if value <= 7 else 'high')\n",
    "red_wine['quality_label'] = pd.Categorical(red_wine['quality_label'],\n",
    "                                           categories=['low', 'medium', 'high'])\n",
    "white_wine['quality_label'] = white_wine['quality'].apply(lambda value: 'low'\n",
    "                                                              if value <= 5 else 'medium'\n",
    "                                                                  if value <= 7 else 'high')\n",
    "white_wine['quality_label'] = pd.Categorical(white_wine['quality_label'],\n",
    "                                             categories=['low', 'medium', 'high'])\n",
    "\n",
    "# merge red and white wine datasets\n",
    "wines = pd.concat([red_wine, white_wine])\n",
    "# re-shuffle records just to randomize data points\n",
    "wines = wines.sample(frac=1, random_state=42).reset_index(drop=True)"
   ],
   "metadata": {
    "id": "4X_RDW3w3-Ff",
    "ExecuteTime": {
     "end_time": "2023-09-11T02:31:00.532419Z",
     "start_time": "2023-09-11T02:31:00.484255400Z"
    }
   },
   "execution_count": 3,
   "outputs": []
  },
  {
   "cell_type": "markdown",
   "source": [
    "# Understand dataset features and values"
   ],
   "metadata": {
    "id": "VrPbnqr24N4s"
   }
  },
  {
   "cell_type": "code",
   "source": [
    "print(white_wine.shape, red_wine.shape)\n",
    "print(wines.info())"
   ],
   "metadata": {
    "colab": {
     "base_uri": "https://localhost:8080/"
    },
    "id": "L5dnpbWi4Ph6",
    "outputId": "d8a4b6c1-8cc2-40eb-b4cf-a0eff1e2a3cb",
    "ExecuteTime": {
     "end_time": "2023-09-11T02:31:04.829723500Z",
     "start_time": "2023-09-11T02:31:04.752481200Z"
    }
   },
   "execution_count": 4,
   "outputs": [
    {
     "name": "stdout",
     "output_type": "stream",
     "text": [
      "(4898, 14) (1599, 14)\n",
      "<class 'pandas.core.frame.DataFrame'>\n",
      "RangeIndex: 6497 entries, 0 to 6496\n",
      "Data columns (total 14 columns):\n",
      " #   Column                Non-Null Count  Dtype   \n",
      "---  ------                --------------  -----   \n",
      " 0   fixed acidity         6497 non-null   float64 \n",
      " 1   volatile acidity      6497 non-null   float64 \n",
      " 2   citric acid           6497 non-null   float64 \n",
      " 3   residual sugar        6497 non-null   float64 \n",
      " 4   chlorides             6497 non-null   float64 \n",
      " 5   free sulfur dioxide   6497 non-null   float64 \n",
      " 6   total sulfur dioxide  6497 non-null   float64 \n",
      " 7   density               6497 non-null   float64 \n",
      " 8   pH                    6497 non-null   float64 \n",
      " 9   sulphates             6497 non-null   float64 \n",
      " 10  alcohol               6497 non-null   float64 \n",
      " 11  quality               6497 non-null   int64   \n",
      " 12  wine_type             6497 non-null   object  \n",
      " 13  quality_label         6497 non-null   category\n",
      "dtypes: category(1), float64(11), int64(1), object(1)\n",
      "memory usage: 666.5+ KB\n",
      "None\n"
     ]
    }
   ]
  },
  {
   "cell_type": "code",
   "source": [
    "wines.head()"
   ],
   "metadata": {
    "colab": {
     "base_uri": "https://localhost:8080/",
     "height": 224
    },
    "id": "YSGFF8dX4ZQe",
    "outputId": "6186d839-076d-4e7a-8266-1b2918f12d9d",
    "ExecuteTime": {
     "end_time": "2023-09-11T02:31:08.579169100Z",
     "start_time": "2023-09-11T02:31:08.552194600Z"
    }
   },
   "execution_count": 5,
   "outputs": [
    {
     "data": {
      "text/plain": "   fixed acidity  volatile acidity  citric acid  residual sugar  chlorides  \\\n0            7.0              0.17         0.74            12.8      0.045   \n1            7.7              0.64         0.21             2.2      0.077   \n2            6.8              0.39         0.34             7.4      0.020   \n3            6.3              0.28         0.47            11.2      0.040   \n4            7.4              0.35         0.20            13.9      0.054   \n\n   free sulfur dioxide  total sulfur dioxide  density    pH  sulphates  \\\n0                 24.0                 126.0  0.99420  3.26       0.38   \n1                 32.0                 133.0  0.99560  3.27       0.45   \n2                 38.0                 133.0  0.99212  3.18       0.44   \n3                 61.0                 183.0  0.99592  3.12       0.51   \n4                 63.0                 229.0  0.99888  3.11       0.50   \n\n   alcohol  quality wine_type quality_label  \n0     12.2        8     white          high  \n1      9.9        5       red           low  \n2     12.0        7     white        medium  \n3      9.5        6     white        medium  \n4      8.9        6     white        medium  ",
      "text/html": "<div>\n<style scoped>\n    .dataframe tbody tr th:only-of-type {\n        vertical-align: middle;\n    }\n\n    .dataframe tbody tr th {\n        vertical-align: top;\n    }\n\n    .dataframe thead th {\n        text-align: right;\n    }\n</style>\n<table border=\"1\" class=\"dataframe\">\n  <thead>\n    <tr style=\"text-align: right;\">\n      <th></th>\n      <th>fixed acidity</th>\n      <th>volatile acidity</th>\n      <th>citric acid</th>\n      <th>residual sugar</th>\n      <th>chlorides</th>\n      <th>free sulfur dioxide</th>\n      <th>total sulfur dioxide</th>\n      <th>density</th>\n      <th>pH</th>\n      <th>sulphates</th>\n      <th>alcohol</th>\n      <th>quality</th>\n      <th>wine_type</th>\n      <th>quality_label</th>\n    </tr>\n  </thead>\n  <tbody>\n    <tr>\n      <th>0</th>\n      <td>7.0</td>\n      <td>0.17</td>\n      <td>0.74</td>\n      <td>12.8</td>\n      <td>0.045</td>\n      <td>24.0</td>\n      <td>126.0</td>\n      <td>0.99420</td>\n      <td>3.26</td>\n      <td>0.38</td>\n      <td>12.2</td>\n      <td>8</td>\n      <td>white</td>\n      <td>high</td>\n    </tr>\n    <tr>\n      <th>1</th>\n      <td>7.7</td>\n      <td>0.64</td>\n      <td>0.21</td>\n      <td>2.2</td>\n      <td>0.077</td>\n      <td>32.0</td>\n      <td>133.0</td>\n      <td>0.99560</td>\n      <td>3.27</td>\n      <td>0.45</td>\n      <td>9.9</td>\n      <td>5</td>\n      <td>red</td>\n      <td>low</td>\n    </tr>\n    <tr>\n      <th>2</th>\n      <td>6.8</td>\n      <td>0.39</td>\n      <td>0.34</td>\n      <td>7.4</td>\n      <td>0.020</td>\n      <td>38.0</td>\n      <td>133.0</td>\n      <td>0.99212</td>\n      <td>3.18</td>\n      <td>0.44</td>\n      <td>12.0</td>\n      <td>7</td>\n      <td>white</td>\n      <td>medium</td>\n    </tr>\n    <tr>\n      <th>3</th>\n      <td>6.3</td>\n      <td>0.28</td>\n      <td>0.47</td>\n      <td>11.2</td>\n      <td>0.040</td>\n      <td>61.0</td>\n      <td>183.0</td>\n      <td>0.99592</td>\n      <td>3.12</td>\n      <td>0.51</td>\n      <td>9.5</td>\n      <td>6</td>\n      <td>white</td>\n      <td>medium</td>\n    </tr>\n    <tr>\n      <th>4</th>\n      <td>7.4</td>\n      <td>0.35</td>\n      <td>0.20</td>\n      <td>13.9</td>\n      <td>0.054</td>\n      <td>63.0</td>\n      <td>229.0</td>\n      <td>0.99888</td>\n      <td>3.11</td>\n      <td>0.50</td>\n      <td>8.9</td>\n      <td>6</td>\n      <td>white</td>\n      <td>medium</td>\n    </tr>\n  </tbody>\n</table>\n</div>"
     },
     "execution_count": 5,
     "metadata": {},
     "output_type": "execute_result"
    }
   ]
  },
  {
   "cell_type": "markdown",
   "source": [
    "# Understanding Wine and Types\n",
    "Wine is an alcoholic beverage made from grapes which is fermented without the addition of sugars, acids, enzymes, water, or other nutrients\n",
    "\n",
    "Red wine is made from dark red and black grapes. The color usually ranges from various shades of red, brown and violet. This is produced with whole grapes including the skin which adds to the color and flavor of red wines, giving it a rich flavor.\n",
    "\n",
    "White wine is made from white grapes with no skins or seeds. The color is usually straw-yellow, yellow-green, or yellow-gold. Most white wines have a light and fruity flavor as compared to richer red wines.\n",
    "\n",
    "# Understanding Wine Attributes and Properties\n",
    "- **fixed acidity:** Acids are one of the fundamental properties of wine and contribute greatly to the taste of the wine. Reducing acids significantly might lead to wines tasting flat. Fixed acids include tartaric, malic, citric, and succinic acids which are found in grapes (except succinic). This variable is usually expressed in  in the dataset.\n",
    "\n",
    "- **volatile acidity:** These acids are to be distilled out from the wine before completing the production process. It is primarily constituted of acetic acid though other acids like lactic, formic and butyric acids might also be present. Excess of volatile acids are undesirable and lead to unpleasant flavor. In the US, the legal limits of volatile acidity are 1.2 g/L for red table wine and 1.1 g/L for white table wine. The volatile acidity is expressed in in the dataset.\n",
    "\n",
    "- **citric acid:** This is one of the fixed acids which gives a wine its freshness. Usually most of it is consumed during the fermentation process and sometimes it is added separately to give the wine more freshness. It's usually expressed in in the dataset.\n",
    "\n",
    "- **residual sugar:** This typically refers to the natural sugar from grapes which remains after the fermentation process stops, or is stopped. It's usually expressed in in the dataset.\n",
    "\n",
    "- **chlorides:** This is usually a major contributor to saltiness in wine. It's usually expressed in in the dataset.\n",
    "\n",
    "- **free sulfur dioxide:** This is the part of the sulphur dioxide that when added to a wine is said to be free after the remaining part binds. Winemakers will always try to get the highest proportion of free sulphur to bind. They are also known as sulfites and too much of it is undesirable and gives a pungent odour. This variable is expressed in in the dataset.\n",
    "\n",
    "- **total sulfur dioxide:** This is the sum total of the bound and the free sulfur dioxide (). Here, it's expressed in . This is mainly added to kill harmful bacteria and preserve quality and freshness. There are usually legal limits for sulfur levels in wines and excess of it can even kill good yeast and give out undesirable odour.\n",
    "\n",
    "- **density:** This can be represented as a comparison of the weight of a specific volume of wine to an equivalent volume of water. It is generally used as a measure of the conversion of sugar to alcohol. Here, it's expressed in .\n",
    "\n",
    "- **pH:** Also known as the potential of hydrogen, this is a numeric scale to specify the acidity or basicity the wine. Fixed acidity contributes the most towards the pH of wines. You might know, solutions with a pH less than 7 are acidic, while solutions with a pH greater than 7 are basic. With a pH of 7, pure water is neutral. Most wines have a pH between 2.9 and 3.9 and are therefore acidic.\n",
    "\n",
    "- **sulphates:** These are mineral salts containing sulfur. Sulphates are to wine as gluten is to food. They are a regular part of the winemaking around the world and are considered essential. They are connected to the fermentation process and affects the wine aroma and flavor. Here, it's expressed in in the dataset.\n",
    "\n",
    "- **alcohol:** Wine is an alcoholic beverage. Alcohol is formed as a result of yeast converting sugar during the fermentation process. The percentage of alcohol can vary from wine to wine. Hence it is not a surprise for this attribute to be a part of this dataset. It's usually measured in % vol or alcohol by volume (ABV).\n",
    "\n",
    "- **quality:** Wine experts graded the wine quality between 0 (very bad) and 10 (very excellent). The eventual quality score is the median of at least three evaluations made by the same wine experts.\n",
    "\n",
    "- **wine_type:** Since we originally had two datasets for red and white wine, we introduced this attribute in the final merged dataset which indicates the type of wine for each data point. A wine can either be a 'red' or a 'white' wine. One of the predictive models we will build in this chapter would be such that we can predict the type of wine by looking at other wine attributes.\n",
    "\n",
    "- **quality_label:** This is a derived attribute from the `quality` attribute. We bucket or group wine quality scores into three qualitative buckets namely low, medium and high. Wines with a quality score of 3, 4 & 5 are low quality, scores of 6 & 7 are medium quality and scores of 8 & 9 are high quality wines. We will also build another model in this chapter to predict this wine quality label based on other wine attributes."
   ],
   "metadata": {
    "id": "AEu467xp4yc8"
   }
  },
  {
   "cell_type": "markdown",
   "source": [
    "\n",
    "# Exploratory Data Analysis and Visualizations\n",
    "## Descriptive Statistics"
   ],
   "metadata": {
    "id": "-w8uwoLO6XeT"
   }
  },
  {
   "cell_type": "code",
   "source": [
    "subset_attributes = ['residual sugar', 'total sulfur dioxide', 'sulphates', 'alcohol', 'volatile acidity', 'quality']\n",
    "rs = round(red_wine[subset_attributes].describe(),2)\n",
    "ws = round(white_wine[subset_attributes].describe(),2)\n",
    "pd.concat([rs, ws], axis=1, keys=['Red Wine Statistics', 'White Wine Statistics'])"
   ],
   "metadata": {
    "colab": {
     "base_uri": "https://localhost:8080/",
     "height": 332
    },
    "id": "sz764_Bh6nvt",
    "outputId": "880208eb-8cc4-462d-e4df-a275517185e6",
    "ExecuteTime": {
     "end_time": "2023-09-09T20:43:05.046346600Z",
     "start_time": "2023-09-09T20:43:04.996645500Z"
    }
   },
   "execution_count": 5,
   "outputs": [
    {
     "data": {
      "text/plain": "      Red Wine Statistics                                          \\\n           residual sugar total sulfur dioxide sulphates  alcohol   \ncount             1599.00              1599.00   1599.00  1599.00   \nmean                 2.54                46.47      0.66    10.42   \nstd                  1.41                32.90      0.17     1.07   \nmin                  0.90                 6.00      0.33     8.40   \n25%                  1.90                22.00      0.55     9.50   \n50%                  2.20                38.00      0.62    10.20   \n75%                  2.60                62.00      0.73    11.10   \nmax                 15.50               289.00      2.00    14.90   \n\n                                White Wine Statistics                       \\\n      volatile acidity  quality        residual sugar total sulfur dioxide   \ncount          1599.00  1599.00               4898.00              4898.00   \nmean              0.53     5.64                  6.39               138.36   \nstd               0.18     0.81                  5.07                42.50   \nmin               0.12     3.00                  0.60                 9.00   \n25%               0.39     5.00                  1.70               108.00   \n50%               0.52     6.00                  5.20               134.00   \n75%               0.64     6.00                  9.90               167.00   \nmax               1.58     8.00                 65.80               440.00   \n\n                                                    \n      sulphates  alcohol volatile acidity  quality  \ncount   4898.00  4898.00          4898.00  4898.00  \nmean       0.49    10.51             0.28     5.88  \nstd        0.11     1.23             0.10     0.89  \nmin        0.22     8.00             0.08     3.00  \n25%        0.41     9.50             0.21     5.00  \n50%        0.47    10.40             0.26     6.00  \n75%        0.55    11.40             0.32     6.00  \nmax        1.08    14.20             1.10     9.00  ",
      "text/html": "<div>\n<style scoped>\n    .dataframe tbody tr th:only-of-type {\n        vertical-align: middle;\n    }\n\n    .dataframe tbody tr th {\n        vertical-align: top;\n    }\n\n    .dataframe thead tr th {\n        text-align: left;\n    }\n</style>\n<table border=\"1\" class=\"dataframe\">\n  <thead>\n    <tr>\n      <th></th>\n      <th colspan=\"6\" halign=\"left\">Red Wine Statistics</th>\n      <th colspan=\"6\" halign=\"left\">White Wine Statistics</th>\n    </tr>\n    <tr>\n      <th></th>\n      <th>residual sugar</th>\n      <th>total sulfur dioxide</th>\n      <th>sulphates</th>\n      <th>alcohol</th>\n      <th>volatile acidity</th>\n      <th>quality</th>\n      <th>residual sugar</th>\n      <th>total sulfur dioxide</th>\n      <th>sulphates</th>\n      <th>alcohol</th>\n      <th>volatile acidity</th>\n      <th>quality</th>\n    </tr>\n  </thead>\n  <tbody>\n    <tr>\n      <th>count</th>\n      <td>1599.00</td>\n      <td>1599.00</td>\n      <td>1599.00</td>\n      <td>1599.00</td>\n      <td>1599.00</td>\n      <td>1599.00</td>\n      <td>4898.00</td>\n      <td>4898.00</td>\n      <td>4898.00</td>\n      <td>4898.00</td>\n      <td>4898.00</td>\n      <td>4898.00</td>\n    </tr>\n    <tr>\n      <th>mean</th>\n      <td>2.54</td>\n      <td>46.47</td>\n      <td>0.66</td>\n      <td>10.42</td>\n      <td>0.53</td>\n      <td>5.64</td>\n      <td>6.39</td>\n      <td>138.36</td>\n      <td>0.49</td>\n      <td>10.51</td>\n      <td>0.28</td>\n      <td>5.88</td>\n    </tr>\n    <tr>\n      <th>std</th>\n      <td>1.41</td>\n      <td>32.90</td>\n      <td>0.17</td>\n      <td>1.07</td>\n      <td>0.18</td>\n      <td>0.81</td>\n      <td>5.07</td>\n      <td>42.50</td>\n      <td>0.11</td>\n      <td>1.23</td>\n      <td>0.10</td>\n      <td>0.89</td>\n    </tr>\n    <tr>\n      <th>min</th>\n      <td>0.90</td>\n      <td>6.00</td>\n      <td>0.33</td>\n      <td>8.40</td>\n      <td>0.12</td>\n      <td>3.00</td>\n      <td>0.60</td>\n      <td>9.00</td>\n      <td>0.22</td>\n      <td>8.00</td>\n      <td>0.08</td>\n      <td>3.00</td>\n    </tr>\n    <tr>\n      <th>25%</th>\n      <td>1.90</td>\n      <td>22.00</td>\n      <td>0.55</td>\n      <td>9.50</td>\n      <td>0.39</td>\n      <td>5.00</td>\n      <td>1.70</td>\n      <td>108.00</td>\n      <td>0.41</td>\n      <td>9.50</td>\n      <td>0.21</td>\n      <td>5.00</td>\n    </tr>\n    <tr>\n      <th>50%</th>\n      <td>2.20</td>\n      <td>38.00</td>\n      <td>0.62</td>\n      <td>10.20</td>\n      <td>0.52</td>\n      <td>6.00</td>\n      <td>5.20</td>\n      <td>134.00</td>\n      <td>0.47</td>\n      <td>10.40</td>\n      <td>0.26</td>\n      <td>6.00</td>\n    </tr>\n    <tr>\n      <th>75%</th>\n      <td>2.60</td>\n      <td>62.00</td>\n      <td>0.73</td>\n      <td>11.10</td>\n      <td>0.64</td>\n      <td>6.00</td>\n      <td>9.90</td>\n      <td>167.00</td>\n      <td>0.55</td>\n      <td>11.40</td>\n      <td>0.32</td>\n      <td>6.00</td>\n    </tr>\n    <tr>\n      <th>max</th>\n      <td>15.50</td>\n      <td>289.00</td>\n      <td>2.00</td>\n      <td>14.90</td>\n      <td>1.58</td>\n      <td>8.00</td>\n      <td>65.80</td>\n      <td>440.00</td>\n      <td>1.08</td>\n      <td>14.20</td>\n      <td>1.10</td>\n      <td>9.00</td>\n    </tr>\n  </tbody>\n</table>\n</div>"
     },
     "execution_count": 5,
     "metadata": {},
     "output_type": "execute_result"
    }
   ]
  },
  {
   "cell_type": "code",
   "source": [
    "subset_attributes = ['alcohol', 'volatile acidity', 'pH', 'quality']\n",
    "ls = round(wines[wines['quality_label'] == 'low'][subset_attributes].describe(),2)\n",
    "ms = round(wines[wines['quality_label'] == 'medium'][subset_attributes].describe(),2)\n",
    "hs = round(wines[wines['quality_label'] == 'high'][subset_attributes].describe(),2)\n",
    "pd.concat([ls, ms, hs], axis=1, keys=['Low Quality Wine', 'Medium Quality Wine', 'High Quality Wine'])"
   ],
   "metadata": {
    "colab": {
     "base_uri": "https://localhost:8080/",
     "height": 332
    },
    "id": "6-QqrHL17cZ3",
    "outputId": "e1825f0a-1453-4bf5-ca3c-4917c45235a2",
    "ExecuteTime": {
     "end_time": "2023-09-09T20:43:05.130358200Z",
     "start_time": "2023-09-09T20:43:05.040347800Z"
    }
   },
   "execution_count": 6,
   "outputs": [
    {
     "data": {
      "text/plain": "      Low Quality Wine                                    Medium Quality Wine  \\\n               alcohol volatile acidity       pH  quality             alcohol   \ncount          2384.00          2384.00  2384.00  2384.00             3915.00   \nmean              9.87             0.40     3.21     4.88               10.81   \nstd               0.84             0.19     0.16     0.36                1.20   \nmin               8.00             0.10     2.74     3.00                8.40   \n25%               9.30             0.26     3.11     5.00                9.80   \n50%               9.60             0.34     3.20     5.00               10.80   \n75%              10.40             0.50     3.31     5.00               11.70   \nmax              14.90             1.58     3.90     5.00               14.20   \n\n                                         High Quality Wine                   \\\n      volatile acidity       pH  quality           alcohol volatile acidity   \ncount          3915.00  3915.00  3915.00            198.00           198.00   \nmean              0.31     3.22     6.28             11.69             0.29   \nstd               0.14     0.16     0.45              1.27             0.12   \nmin               0.08     2.72     6.00              8.50             0.12   \n25%               0.21     3.11     6.00             11.00             0.21   \n50%               0.27     3.21     6.00             12.00             0.28   \n75%               0.36     3.33     7.00             12.60             0.35   \nmax               1.04     4.01     7.00             14.00             0.85   \n\n                       \n           pH quality  \ncount  198.00  198.00  \nmean     3.23    8.03  \nstd      0.16    0.16  \nmin      2.88    8.00  \n25%      3.13    8.00  \n50%      3.23    8.00  \n75%      3.33    8.00  \nmax      3.72    9.00  ",
      "text/html": "<div>\n<style scoped>\n    .dataframe tbody tr th:only-of-type {\n        vertical-align: middle;\n    }\n\n    .dataframe tbody tr th {\n        vertical-align: top;\n    }\n\n    .dataframe thead tr th {\n        text-align: left;\n    }\n</style>\n<table border=\"1\" class=\"dataframe\">\n  <thead>\n    <tr>\n      <th></th>\n      <th colspan=\"4\" halign=\"left\">Low Quality Wine</th>\n      <th colspan=\"4\" halign=\"left\">Medium Quality Wine</th>\n      <th colspan=\"4\" halign=\"left\">High Quality Wine</th>\n    </tr>\n    <tr>\n      <th></th>\n      <th>alcohol</th>\n      <th>volatile acidity</th>\n      <th>pH</th>\n      <th>quality</th>\n      <th>alcohol</th>\n      <th>volatile acidity</th>\n      <th>pH</th>\n      <th>quality</th>\n      <th>alcohol</th>\n      <th>volatile acidity</th>\n      <th>pH</th>\n      <th>quality</th>\n    </tr>\n  </thead>\n  <tbody>\n    <tr>\n      <th>count</th>\n      <td>2384.00</td>\n      <td>2384.00</td>\n      <td>2384.00</td>\n      <td>2384.00</td>\n      <td>3915.00</td>\n      <td>3915.00</td>\n      <td>3915.00</td>\n      <td>3915.00</td>\n      <td>198.00</td>\n      <td>198.00</td>\n      <td>198.00</td>\n      <td>198.00</td>\n    </tr>\n    <tr>\n      <th>mean</th>\n      <td>9.87</td>\n      <td>0.40</td>\n      <td>3.21</td>\n      <td>4.88</td>\n      <td>10.81</td>\n      <td>0.31</td>\n      <td>3.22</td>\n      <td>6.28</td>\n      <td>11.69</td>\n      <td>0.29</td>\n      <td>3.23</td>\n      <td>8.03</td>\n    </tr>\n    <tr>\n      <th>std</th>\n      <td>0.84</td>\n      <td>0.19</td>\n      <td>0.16</td>\n      <td>0.36</td>\n      <td>1.20</td>\n      <td>0.14</td>\n      <td>0.16</td>\n      <td>0.45</td>\n      <td>1.27</td>\n      <td>0.12</td>\n      <td>0.16</td>\n      <td>0.16</td>\n    </tr>\n    <tr>\n      <th>min</th>\n      <td>8.00</td>\n      <td>0.10</td>\n      <td>2.74</td>\n      <td>3.00</td>\n      <td>8.40</td>\n      <td>0.08</td>\n      <td>2.72</td>\n      <td>6.00</td>\n      <td>8.50</td>\n      <td>0.12</td>\n      <td>2.88</td>\n      <td>8.00</td>\n    </tr>\n    <tr>\n      <th>25%</th>\n      <td>9.30</td>\n      <td>0.26</td>\n      <td>3.11</td>\n      <td>5.00</td>\n      <td>9.80</td>\n      <td>0.21</td>\n      <td>3.11</td>\n      <td>6.00</td>\n      <td>11.00</td>\n      <td>0.21</td>\n      <td>3.13</td>\n      <td>8.00</td>\n    </tr>\n    <tr>\n      <th>50%</th>\n      <td>9.60</td>\n      <td>0.34</td>\n      <td>3.20</td>\n      <td>5.00</td>\n      <td>10.80</td>\n      <td>0.27</td>\n      <td>3.21</td>\n      <td>6.00</td>\n      <td>12.00</td>\n      <td>0.28</td>\n      <td>3.23</td>\n      <td>8.00</td>\n    </tr>\n    <tr>\n      <th>75%</th>\n      <td>10.40</td>\n      <td>0.50</td>\n      <td>3.31</td>\n      <td>5.00</td>\n      <td>11.70</td>\n      <td>0.36</td>\n      <td>3.33</td>\n      <td>7.00</td>\n      <td>12.60</td>\n      <td>0.35</td>\n      <td>3.33</td>\n      <td>8.00</td>\n    </tr>\n    <tr>\n      <th>max</th>\n      <td>14.90</td>\n      <td>1.58</td>\n      <td>3.90</td>\n      <td>5.00</td>\n      <td>14.20</td>\n      <td>1.04</td>\n      <td>4.01</td>\n      <td>7.00</td>\n      <td>14.00</td>\n      <td>0.85</td>\n      <td>3.72</td>\n      <td>9.00</td>\n    </tr>\n  </tbody>\n</table>\n</div>"
     },
     "execution_count": 6,
     "metadata": {},
     "output_type": "execute_result"
    }
   ]
  },
  {
   "cell_type": "markdown",
   "source": [
    "# Inferential Statistics"
   ],
   "metadata": {
    "id": "QjkaXLwq7uNk"
   }
  },
  {
   "cell_type": "code",
   "source": [
    "from scipy import stats\n",
    "\n",
    "F, p = stats.f_oneway(wines[wines['quality_label'] == 'low']['alcohol'],\n",
    "                      wines[wines['quality_label'] == 'medium']['alcohol'],\n",
    "                      wines[wines['quality_label'] == 'high']['alcohol'])\n",
    "print('ANOVA test for mean alcohol levels across wine samples with different quality ratings')\n",
    "print('F Statistic:', F, '\\tp-value:', p)\n",
    "\n",
    "F, p = stats.f_oneway(wines[wines['quality_label'] == 'low']['pH'],\n",
    "                      wines[wines['quality_label'] == 'medium']['pH'],\n",
    "                      wines[wines['quality_label'] == 'high']['pH'])\n",
    "print('\\nANOVA test for mean pH levels across wine samples with different quality ratings')\n",
    "print('F Statistic:', F, '\\tp-value:', p)"
   ],
   "metadata": {
    "colab": {
     "base_uri": "https://localhost:8080/"
    },
    "id": "1hLQoQky7spK",
    "outputId": "3b8be915-7251-4f4a-b506-1d3d851b1d5c",
    "ExecuteTime": {
     "end_time": "2023-09-09T20:43:06.426581800Z",
     "start_time": "2023-09-09T20:43:05.087353700Z"
    }
   },
   "execution_count": 7,
   "outputs": [
    {
     "ename": "ModuleNotFoundError",
     "evalue": "No module named 'scipy'",
     "output_type": "error",
     "traceback": [
      "\u001B[1;31m---------------------------------------------------------------------------\u001B[0m",
      "\u001B[1;31mModuleNotFoundError\u001B[0m                       Traceback (most recent call last)",
      "Cell \u001B[1;32mIn[7], line 1\u001B[0m\n\u001B[1;32m----> 1\u001B[0m \u001B[38;5;28;01mfrom\u001B[39;00m \u001B[38;5;21;01mscipy\u001B[39;00m \u001B[38;5;28;01mimport\u001B[39;00m stats\n\u001B[0;32m      3\u001B[0m F, p \u001B[38;5;241m=\u001B[39m stats\u001B[38;5;241m.\u001B[39mf_oneway(wines[wines[\u001B[38;5;124m'\u001B[39m\u001B[38;5;124mquality_label\u001B[39m\u001B[38;5;124m'\u001B[39m] \u001B[38;5;241m==\u001B[39m \u001B[38;5;124m'\u001B[39m\u001B[38;5;124mlow\u001B[39m\u001B[38;5;124m'\u001B[39m][\u001B[38;5;124m'\u001B[39m\u001B[38;5;124malcohol\u001B[39m\u001B[38;5;124m'\u001B[39m],\n\u001B[0;32m      4\u001B[0m                       wines[wines[\u001B[38;5;124m'\u001B[39m\u001B[38;5;124mquality_label\u001B[39m\u001B[38;5;124m'\u001B[39m] \u001B[38;5;241m==\u001B[39m \u001B[38;5;124m'\u001B[39m\u001B[38;5;124mmedium\u001B[39m\u001B[38;5;124m'\u001B[39m][\u001B[38;5;124m'\u001B[39m\u001B[38;5;124malcohol\u001B[39m\u001B[38;5;124m'\u001B[39m],\n\u001B[0;32m      5\u001B[0m                       wines[wines[\u001B[38;5;124m'\u001B[39m\u001B[38;5;124mquality_label\u001B[39m\u001B[38;5;124m'\u001B[39m] \u001B[38;5;241m==\u001B[39m \u001B[38;5;124m'\u001B[39m\u001B[38;5;124mhigh\u001B[39m\u001B[38;5;124m'\u001B[39m][\u001B[38;5;124m'\u001B[39m\u001B[38;5;124malcohol\u001B[39m\u001B[38;5;124m'\u001B[39m])\n\u001B[0;32m      6\u001B[0m \u001B[38;5;28mprint\u001B[39m(\u001B[38;5;124m'\u001B[39m\u001B[38;5;124mANOVA test for mean alcohol levels across wine samples with different quality ratings\u001B[39m\u001B[38;5;124m'\u001B[39m)\n",
      "\u001B[1;31mModuleNotFoundError\u001B[0m: No module named 'scipy'"
     ]
    }
   ]
  },
  {
   "cell_type": "code",
   "source": [
    "f, (ax1, ax2) = plt.subplots(1, 2, figsize=(10, 4))\n",
    "f.suptitle('Wine Quality - Alcohol Content/pH', fontsize=14)\n",
    "f.subplots_adjust(top=0.85, wspace=0.3)\n",
    "\n",
    "sns.boxplot(x=\"quality_label\", y=\"alcohol\",\n",
    "            data=wines, ax=ax1)\n",
    "ax1.set_xlabel(\"Wine Quality Class\",size = 12,alpha=0.8)\n",
    "ax1.set_ylabel(\"Wine Alcohol %\",size = 12,alpha=0.8)\n",
    "\n",
    "sns.boxplot(x=\"quality_label\", y=\"pH\", data=wines, ax=ax2)\n",
    "ax2.set_xlabel(\"Wine Quality Class\",size = 12,alpha=0.8)\n",
    "ax2.set_ylabel(\"Wine pH\",size = 12,alpha=0.8)"
   ],
   "metadata": {
    "colab": {
     "base_uri": "https://localhost:8080/",
     "height": 449
    },
    "id": "MuuP9tb6Ax4H",
    "outputId": "bb7efe36-85bc-4fff-8fbc-06f6f8f8a536",
    "ExecuteTime": {
     "start_time": "2023-09-09T20:43:06.430580800Z"
    }
   },
   "execution_count": null,
   "outputs": []
  },
  {
   "cell_type": "markdown",
   "source": [
    "# Univariate Analysis"
   ],
   "metadata": {
    "id": "jiXPeS8CA-5m"
   }
  },
  {
   "cell_type": "code",
   "source": [
    "red_wine.hist(bins=15, color='red', edgecolor='black', linewidth=1.0,\n",
    "              xlabelsize=8, ylabelsize=8, grid=False)\n",
    "plt.tight_layout(rect=(0, 0, 1.2, 1.2))\n",
    "rt = plt.suptitle('Red Wine Univariate Plots', x=0.65, y=1.25, fontsize=14)\n",
    "\n",
    "white_wine.hist(bins=15, color='white', edgecolor='black', linewidth=1.0,\n",
    "              xlabelsize=8, ylabelsize=8, grid=False)\n",
    "plt.tight_layout(rect=(0, 0, 1.2, 1.2))\n",
    "wt = plt.suptitle('White Wine Univariate Plots', x=0.65, y=1.25, fontsize=14)\n"
   ],
   "metadata": {
    "colab": {
     "base_uri": "https://localhost:8080/",
     "height": 1000
    },
    "id": "vWLFnRDZBBbh",
    "outputId": "8dcf27fd-5e58-455d-93c9-67002fc8f664",
    "ExecuteTime": {
     "start_time": "2023-09-09T20:43:06.432581900Z"
    }
   },
   "execution_count": null,
   "outputs": []
  },
  {
   "cell_type": "code",
   "source": [
    "fig = plt.figure(figsize = (10,4))\n",
    "title = fig.suptitle(\"Residual Sugar Content in Wine\", fontsize=14)\n",
    "fig.subplots_adjust(top=0.85, wspace=0.3)\n",
    "\n",
    "ax1 = fig.add_subplot(1,2, 1)\n",
    "ax1.set_title(\"Red Wine\")\n",
    "ax1.set_xlabel(\"Residual Sugar\")\n",
    "ax1.set_ylabel(\"Frequency\")\n",
    "ax1.set_ylim([0, 2500])\n",
    "ax1.text(8, 1000, r'$\\mu$='+str(round(red_wine['residual sugar'].mean(),2)),\n",
    "         fontsize=12)\n",
    "r_freq, r_bins, r_patches = ax1.hist(red_wine['residual sugar'], color='red', bins=15,\n",
    "                                    edgecolor='black', linewidth=1)\n",
    "\n",
    "ax2 = fig.add_subplot(1,2, 2)\n",
    "ax2.set_title(\"White Wine\")\n",
    "ax2.set_xlabel(\"Residual Sugar\")\n",
    "ax2.set_ylabel(\"Frequency\")\n",
    "ax2.set_ylim([0, 2500])\n",
    "ax2.text(30, 1000, r'$\\mu$='+str(round(white_wine['residual sugar'].mean(),2)),\n",
    "         fontsize=12)\n",
    "w_freq, w_bins, w_patches = ax2.hist(white_wine['residual sugar'], color='white', bins=15,\n",
    "                                    edgecolor='black', linewidth=1)"
   ],
   "metadata": {
    "colab": {
     "base_uri": "https://localhost:8080/",
     "height": 428
    },
    "id": "wmR0ZlsEBVdO",
    "outputId": "5da1582a-d489-43eb-8221-811c653714cd",
    "ExecuteTime": {
     "end_time": "2023-09-09T20:43:06.444581100Z",
     "start_time": "2023-09-09T20:43:06.435580400Z"
    }
   },
   "execution_count": null,
   "outputs": []
  },
  {
   "cell_type": "code",
   "source": [
    "fig = plt.figure(figsize = (10,4))\n",
    "title = fig.suptitle(\"Sulphates Content in Wine\", fontsize=14)\n",
    "fig.subplots_adjust(top=0.85, wspace=0.3)\n",
    "\n",
    "ax1 = fig.add_subplot(1,2, 1)\n",
    "ax1.set_title(\"Red Wine\")\n",
    "ax1.set_xlabel(\"Sulphates\")\n",
    "ax1.set_ylabel(\"Frequency\")\n",
    "ax1.set_ylim([0, 1200])\n",
    "ax1.text(1.2, 800, r'$\\mu$='+str(round(red_wine['sulphates'].mean(),2)),\n",
    "         fontsize=12)\n",
    "r_freq, r_bins, r_patches = ax1.hist(red_wine['sulphates'], color='red', bins=15,\n",
    "                                    edgecolor='black', linewidth=1)\n",
    "\n",
    "ax2 = fig.add_subplot(1,2, 2)\n",
    "ax2.set_title(\"White Wine\")\n",
    "ax2.set_xlabel(\"Sulphates\")\n",
    "ax2.set_ylabel(\"Frequency\")\n",
    "ax2.set_ylim([0, 1200])\n",
    "ax2.text(0.8, 800, r'$\\mu$='+str(round(white_wine['sulphates'].mean(),2)),\n",
    "         fontsize=12)\n",
    "w_freq, w_bins, w_patches = ax2.hist(white_wine['sulphates'], color='white', bins=15,\n",
    "                                    edgecolor='black', linewidth=1)"
   ],
   "metadata": {
    "colab": {
     "base_uri": "https://localhost:8080/",
     "height": 428
    },
    "id": "KF7awR_QBeEm",
    "outputId": "1bccf91a-84f6-4945-9d58-0efec182ea05",
    "ExecuteTime": {
     "start_time": "2023-09-09T20:43:06.439581900Z"
    }
   },
   "execution_count": null,
   "outputs": []
  },
  {
   "cell_type": "code",
   "source": [
    "fig = plt.figure(figsize = (10,4))\n",
    "title = fig.suptitle(\"Alcohol Content in Wine\", fontsize=14)\n",
    "fig.subplots_adjust(top=0.85, wspace=0.3)\n",
    "\n",
    "ax1 = fig.add_subplot(1,2, 1)\n",
    "ax1.set_title(\"Red Wine\")\n",
    "ax1.set_xlabel(\"Alcohol % by Volume\")\n",
    "ax1.set_ylabel(\"Frequency\")\n",
    "ax1.set_ylim([0, 800])\n",
    "ax1.text(12, 600, r'$\\mu$='+str(round(red_wine['alcohol'].mean(),2)),\n",
    "         fontsize=12)\n",
    "r_freq, r_bins, r_patches = ax1.hist(red_wine['alcohol'], color='red', bins=15,\n",
    "                                    edgecolor='black', linewidth=1)\n",
    "\n",
    "ax2 = fig.add_subplot(1,2, 2)\n",
    "ax2.set_title(\"White Wine\")\n",
    "ax2.set_xlabel(\"Alcohol % by Volume\")\n",
    "ax2.set_ylabel(\"Frequency\")\n",
    "ax2.set_ylim([0, 800])\n",
    "ax2.text(12, 600, r'$\\mu$='+str(round(white_wine['alcohol'].mean(),2)),\n",
    "         fontsize=12)\n",
    "w_freq, w_bins, w_patches = ax2.hist(white_wine['alcohol'], color='white', bins=15,\n",
    "                                    edgecolor='black', linewidth=1)"
   ],
   "metadata": {
    "colab": {
     "base_uri": "https://localhost:8080/",
     "height": 428
    },
    "id": "jKouhVZJBn4n",
    "outputId": "19d8eef0-7098-46e0-dedd-bb921e0d6f72",
    "ExecuteTime": {
     "start_time": "2023-09-09T20:43:06.441580900Z"
    }
   },
   "execution_count": null,
   "outputs": []
  },
  {
   "cell_type": "code",
   "source": [
    "fig = plt.figure(figsize = (18, 4))\n",
    "title = fig.suptitle(\"Wine Type - Quality\", fontsize=14)\n",
    "fig.subplots_adjust(top=0.85, wspace=0.3)\n",
    "\n",
    "ax1 = fig.add_subplot(1,4, 1)\n",
    "ax1.set_title(\"Red Wine\")\n",
    "ax1.set_xlabel(\"Quality\")\n",
    "ax1.set_ylabel(\"Frequency\")\n",
    "rw_q = red_wine['quality'].value_counts()\n",
    "rw_q = (list(rw_q.index), list(rw_q.values))\n",
    "ax1.set_ylim([0, 2500])\n",
    "ax1.tick_params(axis='both', which='major', labelsize=8.5)\n",
    "bar1 = ax1.bar(rw_q[0], rw_q[1], color='red',\n",
    "        edgecolor='black', linewidth=1)\n",
    "\n",
    "\n",
    "ax2 = fig.add_subplot(1,4, 2)\n",
    "ax2.set_title(\"White Wine\")\n",
    "ax2.set_xlabel(\"Quality\")\n",
    "ax2.set_ylabel(\"Frequency\")\n",
    "ww_q = white_wine['quality'].value_counts()\n",
    "ww_q = (list(ww_q.index), list(ww_q.values))\n",
    "ax2.set_ylim([0, 2500])\n",
    "ax2.tick_params(axis='both', which='major', labelsize=8.5)\n",
    "bar2 = ax2.bar(ww_q[0], ww_q[1], color='white',\n",
    "        edgecolor='black', linewidth=1)\n",
    "\n",
    "ax3 = fig.add_subplot(1,4, 3)\n",
    "ax3.set_title(\"Red Wine\")\n",
    "ax3.set_xlabel(\"Quality Class\")\n",
    "ax3.set_ylabel(\"Frequency\")\n",
    "rw_q = red_wine['quality_label'].value_counts()\n",
    "rw_q = (list(rw_q.index), list(rw_q.values))\n",
    "ax3.set_ylim([0, 3200])\n",
    "bar3 = ax3.bar(list(range(len(rw_q[0]))), rw_q[1], color='red',\n",
    "        edgecolor='black', linewidth=1, tick_label =rw_q[0])\n",
    "\n",
    "ax4 = fig.add_subplot(1,4, 4)\n",
    "ax4.set_title(\"White Wine\")\n",
    "ax4.set_xlabel(\"Quality Class\")\n",
    "ax4.set_ylabel(\"Frequency\")\n",
    "ww_q = white_wine['quality_label'].value_counts()\n",
    "ww_q = (list(ww_q.index), list(ww_q.values))\n",
    "ax4.set_ylim([0, 3200])\n",
    "bar4 = ax4.bar(list(range(len(ww_q[0]))), ww_q[1], color='white',\n",
    "        edgecolor='black', linewidth=1, tick_label =ww_q[0])"
   ],
   "metadata": {
    "colab": {
     "base_uri": "https://localhost:8080/",
     "height": 421
    },
    "id": "nverlitQBxpF",
    "outputId": "75fcf6f3-3903-4f3c-e0c0-8adebd63ab30",
    "ExecuteTime": {
     "start_time": "2023-09-09T20:43:06.446583400Z"
    }
   },
   "execution_count": null,
   "outputs": []
  },
  {
   "cell_type": "markdown",
   "source": [
    "# Multivariate Analysis"
   ],
   "metadata": {
    "id": "sj1ZTbF2B8uV"
   }
  },
  {
   "cell_type": "code",
   "source": [
    "f, ax = plt.subplots(figsize=(10, 6))\n",
    "corr = wines.corr()\n",
    "hm = sns.heatmap(round(corr,2), annot=True, ax=ax, cmap=\"coolwarm\",fmt='.2f',\n",
    "            linewidths=.05)\n",
    "f.subplots_adjust(top=0.93)\n",
    "t= f.suptitle('Wine Attributes Correlation Heatmap', fontsize=14)"
   ],
   "metadata": {
    "colab": {
     "base_uri": "https://localhost:8080/",
     "height": 754
    },
    "id": "nfNAqozeB65n",
    "outputId": "3d4ed211-4e9a-4db4-cad6-18bd362111a6",
    "ExecuteTime": {
     "start_time": "2023-09-09T20:43:06.448581700Z"
    }
   },
   "execution_count": null,
   "outputs": []
  },
  {
   "cell_type": "code",
   "source": [
    "cols = ['wine_type', 'quality', 'sulphates', 'volatile acidity']\n",
    "pp = sns.pairplot(wines[cols], hue='wine_type', size=1.8, aspect=1.8,\n",
    "                  palette={\"red\": \"#FF9999\", \"white\": \"#FFE888\"},\n",
    "                  plot_kws=dict(edgecolor=\"black\", linewidth=0.5))\n",
    "fig = pp.fig\n",
    "fig.subplots_adjust(top=0.93, wspace=0.3)\n",
    "t = fig.suptitle('Wine Attributes Pairwise Plots', fontsize=14)"
   ],
   "metadata": {
    "colab": {
     "base_uri": "https://localhost:8080/",
     "height": 588
    },
    "id": "FTZWHJWICP7t",
    "outputId": "a9f2c521-5489-4ad5-c134-90b7cdf921b7",
    "ExecuteTime": {
     "start_time": "2023-09-09T20:43:06.452582Z"
    }
   },
   "execution_count": null,
   "outputs": []
  },
  {
   "cell_type": "code",
   "source": [
    "rj = sns.jointplot(x='quality', y='sulphates', data=red_wine, kind='reg', ylim=(0, 2), color='red', space=0, ratio=4)\n",
    "rj.ax_joint.set_xticks(list(range(3,9)))\n",
    "fig = rj.fig\n",
    "fig.subplots_adjust(top=0.9)\n",
    "t = fig.suptitle('Red Wine Sulphates - Quality', fontsize=12)\n",
    "\n",
    "wj = sns.jointplot(x='quality', y='sulphates', data=white_wine, kind='reg', ylim=(0, 2), color='#FFE160', space=0, ratio=4)\n",
    "wj.ax_joint.set_xticks(list(range(3,10)))\n",
    "fig = wj.fig\n",
    "fig.subplots_adjust(top=0.9)\n",
    "t = fig.suptitle('White Wine Sulphates - Quality', fontsize=12)"
   ],
   "metadata": {
    "colab": {
     "base_uri": "https://localhost:8080/",
     "height": 1000
    },
    "id": "aTZ-l4yNCail",
    "outputId": "1c74c645-b154-4bba-8e44-378fb3e8eb5c",
    "ExecuteTime": {
     "start_time": "2023-09-09T20:43:06.455581Z"
    }
   },
   "execution_count": null,
   "outputs": []
  },
  {
   "cell_type": "code",
   "source": [
    "g = sns.FacetGrid(wines, col=\"wine_type\", hue='quality_label',\n",
    "                  col_order=['red', 'white'], hue_order=['low', 'medium', 'high'],\n",
    "                  aspect=1.2, palette=sns.light_palette('navy', 3))\n",
    "g.map(plt.scatter, \"volatile acidity\", \"alcohol\", alpha=0.9,\n",
    "      edgecolor='white', linewidth=0.5)\n",
    "fig = g.fig\n",
    "fig.subplots_adjust(top=0.8, wspace=0.3)\n",
    "fig.suptitle('Wine Type - Alcohol - Quality - Acidity', fontsize=14)\n",
    "l = g.add_legend(title='Wine Quality Class')"
   ],
   "metadata": {
    "colab": {
     "base_uri": "https://localhost:8080/",
     "height": 316
    },
    "id": "d3t_hmG2C9Ed",
    "outputId": "ba77ee29-f2aa-4694-9a0a-2e723bf3b4d8",
    "ExecuteTime": {
     "end_time": "2023-09-09T20:43:06.466586Z",
     "start_time": "2023-09-09T20:43:06.457589900Z"
    }
   },
   "execution_count": null,
   "outputs": []
  },
  {
   "cell_type": "code",
   "source": [
    "g = sns.FacetGrid(wines, col=\"wine_type\", hue='quality_label',\n",
    "                  col_order=['red', 'white'], hue_order=['low', 'medium', 'high'],\n",
    "                  aspect=1.2, palette=sns.light_palette('green', 3))\n",
    "g.map(plt.scatter, \"volatile acidity\", \"total sulfur dioxide\", alpha=0.9,\n",
    "      edgecolor='white', linewidth=0.5)\n",
    "fig = g.fig\n",
    "fig.subplots_adjust(top=0.8, wspace=0.3)\n",
    "fig.suptitle('Wine Type - Sulfur Dioxide - Acidity - Quality', fontsize=14)\n",
    "l = g.add_legend(title='Wine Quality Class')"
   ],
   "metadata": {
    "colab": {
     "base_uri": "https://localhost:8080/",
     "height": 316
    },
    "id": "NMZuGzNjDIj0",
    "outputId": "b462eb48-756e-44bb-f231-8d09511f89b6",
    "ExecuteTime": {
     "start_time": "2023-09-09T20:43:06.460581700Z"
    }
   },
   "execution_count": null,
   "outputs": []
  },
  {
   "cell_type": "code",
   "source": [
    "f, (ax1, ax2) = plt.subplots(1, 2, figsize=(14, 4))\n",
    "f.suptitle('Wine Type - Quality - Alcohol Content', fontsize=14)\n",
    "\n",
    "sns.boxplot(x=\"quality\", y=\"alcohol\", hue=\"wine_type\",\n",
    "               data=wines, palette={\"red\": \"#FF9999\", \"white\": \"white\"}, ax=ax1)\n",
    "ax1.set_xlabel(\"Wine Quality\",size = 12,alpha=0.8)\n",
    "ax1.set_ylabel(\"Wine Alcohol %\",size = 12,alpha=0.8)\n",
    "\n",
    "sns.boxplot(x=\"quality_label\", y=\"alcohol\", hue=\"wine_type\",\n",
    "               data=wines, palette={\"red\": \"#FF9999\", \"white\": \"white\"}, ax=ax2)\n",
    "ax2.set_xlabel(\"Wine Quality Class\",size = 12,alpha=0.8)\n",
    "ax2.set_ylabel(\"Wine Alcohol %\",size = 12,alpha=0.8)\n",
    "l = plt.legend(loc='best', title='Wine Type')"
   ],
   "metadata": {
    "colab": {
     "base_uri": "https://localhost:8080/",
     "height": 432
    },
    "id": "RNbSsLX6Dg11",
    "outputId": "9b2fdf6f-f871-45b8-8d3d-d579e5e524bb",
    "ExecuteTime": {
     "start_time": "2023-09-09T20:43:06.461580800Z"
    }
   },
   "execution_count": null,
   "outputs": []
  },
  {
   "cell_type": "code",
   "source": [
    "f, (ax1, ax2) = plt.subplots(1, 2, figsize=(14, 4))\n",
    "f.suptitle('Wine Type - Quality - Acidity', fontsize=14)\n",
    "\n",
    "sns.violinplot(x=\"quality\", y=\"volatile acidity\", hue=\"wine_type\",\n",
    "               data=wines, split=True, inner=\"quart\", linewidth=1.3,\n",
    "               palette={\"red\": \"#FF9999\", \"white\": \"white\"}, ax=ax1)\n",
    "ax1.set_xlabel(\"Wine Quality\",size = 12,alpha=0.8)\n",
    "ax1.set_ylabel(\"Wine Fixed Acidity\",size = 12,alpha=0.8)\n",
    "\n",
    "sns.violinplot(x=\"quality_label\", y=\"volatile acidity\", hue=\"wine_type\",\n",
    "               data=wines, split=True, inner=\"quart\", linewidth=1.3,\n",
    "               palette={\"red\": \"#FF9999\", \"white\": \"white\"}, ax=ax2)\n",
    "ax2.set_xlabel(\"Wine Quality Class\",size = 12,alpha=0.8)\n",
    "ax2.set_ylabel(\"Wine Fixed Acidity\",size = 12,alpha=0.8)\n",
    "l = plt.legend(loc='upper right', title='Wine Type')"
   ],
   "metadata": {
    "colab": {
     "base_uri": "https://localhost:8080/",
     "height": 432
    },
    "id": "vZOi-czOEAzk",
    "outputId": "4c6385bf-ad89-4fbf-f019-57ddea6a23fb",
    "ExecuteTime": {
     "start_time": "2023-09-09T20:43:06.463580800Z"
    }
   },
   "execution_count": null,
   "outputs": []
  }
 ]
}
