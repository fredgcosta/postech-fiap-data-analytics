{
 "cells": [
  {
   "cell_type": "code",
   "execution_count": 21,
   "id": "aa214d74f15aa949",
   "metadata": {
    "collapsed": true,
    "ExecuteTime": {
     "end_time": "2023-10-15T17:19:06.138114700Z",
     "start_time": "2023-10-15T17:19:06.088915400Z"
    }
   },
   "outputs": [],
   "source": [
    "import pandas as pd\n",
    "\n",
    "blocos = pd.read_csv('dados/PAIS_BLOCO.csv', sep=';', encoding=\"ISO-8859-1\")\n",
    "paises = pd.read_csv('dados/PAIS.csv', sep=';', encoding=\"ISO-8859-1\")\n"
   ]
  },
  {
   "cell_type": "code",
   "execution_count": 22,
   "outputs": [
    {
     "data": {
      "text/plain": "   CO_PAIS  CO_BLOCO NO_BLOCO                NO_BLOCO_ING  \\\n0      788        51   África  Africa (minus MIDDLE EAST)   \n1      525        51   África  Africa (minus MIDDLE EAST)   \n2      229        51   África  Africa (minus MIDDLE EAST)   \n3      281        51   África  Africa (minus MIDDLE EAST)   \n4      438        51   África  Africa (minus MIDDLE EAST)   \n\n                   NO_BLOCO_ESP  \n0  África (menos ORIENTE MEDIO)  \n1  África (menos ORIENTE MEDIO)  \n2  África (menos ORIENTE MEDIO)  \n3  África (menos ORIENTE MEDIO)  \n4  África (menos ORIENTE MEDIO)  ",
      "text/html": "<div>\n<style scoped>\n    .dataframe tbody tr th:only-of-type {\n        vertical-align: middle;\n    }\n\n    .dataframe tbody tr th {\n        vertical-align: top;\n    }\n\n    .dataframe thead th {\n        text-align: right;\n    }\n</style>\n<table border=\"1\" class=\"dataframe\">\n  <thead>\n    <tr style=\"text-align: right;\">\n      <th></th>\n      <th>CO_PAIS</th>\n      <th>CO_BLOCO</th>\n      <th>NO_BLOCO</th>\n      <th>NO_BLOCO_ING</th>\n      <th>NO_BLOCO_ESP</th>\n    </tr>\n  </thead>\n  <tbody>\n    <tr>\n      <th>0</th>\n      <td>788</td>\n      <td>51</td>\n      <td>África</td>\n      <td>Africa (minus MIDDLE EAST)</td>\n      <td>África (menos ORIENTE MEDIO)</td>\n    </tr>\n    <tr>\n      <th>1</th>\n      <td>525</td>\n      <td>51</td>\n      <td>África</td>\n      <td>Africa (minus MIDDLE EAST)</td>\n      <td>África (menos ORIENTE MEDIO)</td>\n    </tr>\n    <tr>\n      <th>2</th>\n      <td>229</td>\n      <td>51</td>\n      <td>África</td>\n      <td>Africa (minus MIDDLE EAST)</td>\n      <td>África (menos ORIENTE MEDIO)</td>\n    </tr>\n    <tr>\n      <th>3</th>\n      <td>281</td>\n      <td>51</td>\n      <td>África</td>\n      <td>Africa (minus MIDDLE EAST)</td>\n      <td>África (menos ORIENTE MEDIO)</td>\n    </tr>\n    <tr>\n      <th>4</th>\n      <td>438</td>\n      <td>51</td>\n      <td>África</td>\n      <td>Africa (minus MIDDLE EAST)</td>\n      <td>África (menos ORIENTE MEDIO)</td>\n    </tr>\n  </tbody>\n</table>\n</div>"
     },
     "execution_count": 22,
     "metadata": {},
     "output_type": "execute_result"
    }
   ],
   "source": [
    "blocos.head()"
   ],
   "metadata": {
    "collapsed": false,
    "ExecuteTime": {
     "end_time": "2023-10-15T17:19:06.140116300Z",
     "start_time": "2023-10-15T17:19:06.103724400Z"
    }
   },
   "id": "9bf59a29ffdea20e"
  },
  {
   "cell_type": "code",
   "execution_count": 23,
   "outputs": [
    {
     "data": {
      "text/plain": "     CO_PAIS  CO_PAIS_ISON3 CO_PAIS_ISOA3                      NO_PAIS  \\\n0          0            898           ZZZ                 Não Definido   \n1         13              4           AFG                  Afeganistão   \n2         15            248           ALA                 Aland, Ilhas   \n3         17              8           ALB                      Albânia   \n4         20            724           ESP       Alboran-Perejil, Ilhas   \n..       ...            ...           ...                          ...   \n276      994            898           ZZZ                   A Designar   \n277      995            898           ZZZ              Bancos Centrais   \n278      997            898           ZZZ  Organizações Internacionais   \n279      998            898           ZZZ               Sem informação   \n280      999            898           ZZZ               Não Declarados   \n\n                     NO_PAIS_ING                     NO_PAIS_ESP  \n0                    Not defined                     No definido  \n1                    Afghanistan                      Afganistan  \n2                  Aland Islands                    Alans, Islas  \n3                        Albania                         Albania  \n4       Alboran-Perejil, Islands          Alboran-Perejil, Islas  \n..                           ...                             ...  \n276                    To define                      A designar  \n277                Central Banks                Bancos Centrales  \n278  International Organizations  Organizaciones Internacionales  \n279               Sem informação                  Sem informação  \n280                 Not declared                   No declarados  \n\n[281 rows x 6 columns]",
      "text/html": "<div>\n<style scoped>\n    .dataframe tbody tr th:only-of-type {\n        vertical-align: middle;\n    }\n\n    .dataframe tbody tr th {\n        vertical-align: top;\n    }\n\n    .dataframe thead th {\n        text-align: right;\n    }\n</style>\n<table border=\"1\" class=\"dataframe\">\n  <thead>\n    <tr style=\"text-align: right;\">\n      <th></th>\n      <th>CO_PAIS</th>\n      <th>CO_PAIS_ISON3</th>\n      <th>CO_PAIS_ISOA3</th>\n      <th>NO_PAIS</th>\n      <th>NO_PAIS_ING</th>\n      <th>NO_PAIS_ESP</th>\n    </tr>\n  </thead>\n  <tbody>\n    <tr>\n      <th>0</th>\n      <td>0</td>\n      <td>898</td>\n      <td>ZZZ</td>\n      <td>Não Definido</td>\n      <td>Not defined</td>\n      <td>No definido</td>\n    </tr>\n    <tr>\n      <th>1</th>\n      <td>13</td>\n      <td>4</td>\n      <td>AFG</td>\n      <td>Afeganistão</td>\n      <td>Afghanistan</td>\n      <td>Afganistan</td>\n    </tr>\n    <tr>\n      <th>2</th>\n      <td>15</td>\n      <td>248</td>\n      <td>ALA</td>\n      <td>Aland, Ilhas</td>\n      <td>Aland Islands</td>\n      <td>Alans, Islas</td>\n    </tr>\n    <tr>\n      <th>3</th>\n      <td>17</td>\n      <td>8</td>\n      <td>ALB</td>\n      <td>Albânia</td>\n      <td>Albania</td>\n      <td>Albania</td>\n    </tr>\n    <tr>\n      <th>4</th>\n      <td>20</td>\n      <td>724</td>\n      <td>ESP</td>\n      <td>Alboran-Perejil, Ilhas</td>\n      <td>Alboran-Perejil, Islands</td>\n      <td>Alboran-Perejil, Islas</td>\n    </tr>\n    <tr>\n      <th>...</th>\n      <td>...</td>\n      <td>...</td>\n      <td>...</td>\n      <td>...</td>\n      <td>...</td>\n      <td>...</td>\n    </tr>\n    <tr>\n      <th>276</th>\n      <td>994</td>\n      <td>898</td>\n      <td>ZZZ</td>\n      <td>A Designar</td>\n      <td>To define</td>\n      <td>A designar</td>\n    </tr>\n    <tr>\n      <th>277</th>\n      <td>995</td>\n      <td>898</td>\n      <td>ZZZ</td>\n      <td>Bancos Centrais</td>\n      <td>Central Banks</td>\n      <td>Bancos Centrales</td>\n    </tr>\n    <tr>\n      <th>278</th>\n      <td>997</td>\n      <td>898</td>\n      <td>ZZZ</td>\n      <td>Organizações Internacionais</td>\n      <td>International Organizations</td>\n      <td>Organizaciones Internacionales</td>\n    </tr>\n    <tr>\n      <th>279</th>\n      <td>998</td>\n      <td>898</td>\n      <td>ZZZ</td>\n      <td>Sem informação</td>\n      <td>Sem informação</td>\n      <td>Sem informação</td>\n    </tr>\n    <tr>\n      <th>280</th>\n      <td>999</td>\n      <td>898</td>\n      <td>ZZZ</td>\n      <td>Não Declarados</td>\n      <td>Not declared</td>\n      <td>No declarados</td>\n    </tr>\n  </tbody>\n</table>\n<p>281 rows × 6 columns</p>\n</div>"
     },
     "execution_count": 23,
     "metadata": {},
     "output_type": "execute_result"
    }
   ],
   "source": [
    "#paises[paises.CO_PAIS_ISON3.isin([458, 598, 659, 724, 784, 826, 840, 898])]\n",
    "paises"
   ],
   "metadata": {
    "collapsed": false,
    "ExecuteTime": {
     "end_time": "2023-10-15T17:19:06.222121200Z",
     "start_time": "2023-10-15T17:19:06.108864800Z"
    }
   },
   "id": "cf84cf9870abd753"
  },
  {
   "cell_type": "code",
   "execution_count": 24,
   "outputs": [
    {
     "data": {
      "text/plain": "     CO_PAIS  CO_PAIS_ISON3 CO_PAIS_ISOA3                       NO_PAIS  \\\n0         13              4           AFG                   Afeganistão   \n1         15            248           ALA                  Aland, Ilhas   \n2         15            248           ALA                  Aland, Ilhas   \n3         17              8           ALB                       Albânia   \n4         20            724           ESP        Alboran-Perejil, Ilhas   \n..       ...            ...           ...                           ...   \n311      873            840           USA                    Wake, Ilha   \n312      875            876           WLF        Wallis e Futuna, Ilhas   \n313      888            180           COD  Congo, República Democrática   \n314      890            894           ZMB                        Zâmbia   \n315      895            592           PCZ       Zona do Canal do Panamá   \n\n                          NO_PAIS_ING                      NO_PAIS_ESP  \\\n0                         Afghanistan                       Afganistan   \n1                       Aland Islands                     Alans, Islas   \n2                       Aland Islands                     Alans, Islas   \n3                             Albania                          Albania   \n4            Alboran-Perejil, Islands           Alboran-Perejil, Islas   \n..                                ...                              ...   \n311                       Wake Island                        Isla Wake   \n312                 Wallis and Futuna                  Wallis y Futuna   \n313  Democratic Republic of the Congo  República Democrática del Congo   \n314                            Zambia                           Zambia   \n315                 Panama Canal Zone         Zona del Canal de Panamá   \n\n     CO_BLOCO                        NO_BLOCO                   NO_BLOCO_ING  \\\n0          39  Ásia (Exclusive Oriente Médio)       Asia (minus MIDDLE EAST)   \n1         112                          Europa                         Europe   \n2          22             União Europeia - UE            European Union (EU)   \n3         112                          Europa                         Europe   \n4         112                          Europa                         Europe   \n..        ...                             ...                            ...   \n311        61                         Oceania                        Oceania   \n312        61                         Oceania                        Oceania   \n313        51                          África     Africa (minus MIDDLE EAST)   \n314        51                          África     Africa (minus MIDDLE EAST)   \n315       105        América Central e Caribe  Central America and Caribbean   \n\n                     NO_BLOCO_ESP  \n0      Asia (menos Oriente Medio)  \n1                          Europa  \n2              Uniao Europea (UE)  \n3                          Europa  \n4                          Europa  \n..                            ...  \n311                       Oceania  \n312                       Oceania  \n313  África (menos ORIENTE MEDIO)  \n314  África (menos ORIENTE MEDIO)  \n315      América Central y Caribe  \n\n[316 rows x 10 columns]",
      "text/html": "<div>\n<style scoped>\n    .dataframe tbody tr th:only-of-type {\n        vertical-align: middle;\n    }\n\n    .dataframe tbody tr th {\n        vertical-align: top;\n    }\n\n    .dataframe thead th {\n        text-align: right;\n    }\n</style>\n<table border=\"1\" class=\"dataframe\">\n  <thead>\n    <tr style=\"text-align: right;\">\n      <th></th>\n      <th>CO_PAIS</th>\n      <th>CO_PAIS_ISON3</th>\n      <th>CO_PAIS_ISOA3</th>\n      <th>NO_PAIS</th>\n      <th>NO_PAIS_ING</th>\n      <th>NO_PAIS_ESP</th>\n      <th>CO_BLOCO</th>\n      <th>NO_BLOCO</th>\n      <th>NO_BLOCO_ING</th>\n      <th>NO_BLOCO_ESP</th>\n    </tr>\n  </thead>\n  <tbody>\n    <tr>\n      <th>0</th>\n      <td>13</td>\n      <td>4</td>\n      <td>AFG</td>\n      <td>Afeganistão</td>\n      <td>Afghanistan</td>\n      <td>Afganistan</td>\n      <td>39</td>\n      <td>Ásia (Exclusive Oriente Médio)</td>\n      <td>Asia (minus MIDDLE EAST)</td>\n      <td>Asia (menos Oriente Medio)</td>\n    </tr>\n    <tr>\n      <th>1</th>\n      <td>15</td>\n      <td>248</td>\n      <td>ALA</td>\n      <td>Aland, Ilhas</td>\n      <td>Aland Islands</td>\n      <td>Alans, Islas</td>\n      <td>112</td>\n      <td>Europa</td>\n      <td>Europe</td>\n      <td>Europa</td>\n    </tr>\n    <tr>\n      <th>2</th>\n      <td>15</td>\n      <td>248</td>\n      <td>ALA</td>\n      <td>Aland, Ilhas</td>\n      <td>Aland Islands</td>\n      <td>Alans, Islas</td>\n      <td>22</td>\n      <td>União Europeia - UE</td>\n      <td>European Union (EU)</td>\n      <td>Uniao Europea (UE)</td>\n    </tr>\n    <tr>\n      <th>3</th>\n      <td>17</td>\n      <td>8</td>\n      <td>ALB</td>\n      <td>Albânia</td>\n      <td>Albania</td>\n      <td>Albania</td>\n      <td>112</td>\n      <td>Europa</td>\n      <td>Europe</td>\n      <td>Europa</td>\n    </tr>\n    <tr>\n      <th>4</th>\n      <td>20</td>\n      <td>724</td>\n      <td>ESP</td>\n      <td>Alboran-Perejil, Ilhas</td>\n      <td>Alboran-Perejil, Islands</td>\n      <td>Alboran-Perejil, Islas</td>\n      <td>112</td>\n      <td>Europa</td>\n      <td>Europe</td>\n      <td>Europa</td>\n    </tr>\n    <tr>\n      <th>...</th>\n      <td>...</td>\n      <td>...</td>\n      <td>...</td>\n      <td>...</td>\n      <td>...</td>\n      <td>...</td>\n      <td>...</td>\n      <td>...</td>\n      <td>...</td>\n      <td>...</td>\n    </tr>\n    <tr>\n      <th>311</th>\n      <td>873</td>\n      <td>840</td>\n      <td>USA</td>\n      <td>Wake, Ilha</td>\n      <td>Wake Island</td>\n      <td>Isla Wake</td>\n      <td>61</td>\n      <td>Oceania</td>\n      <td>Oceania</td>\n      <td>Oceania</td>\n    </tr>\n    <tr>\n      <th>312</th>\n      <td>875</td>\n      <td>876</td>\n      <td>WLF</td>\n      <td>Wallis e Futuna, Ilhas</td>\n      <td>Wallis and Futuna</td>\n      <td>Wallis y Futuna</td>\n      <td>61</td>\n      <td>Oceania</td>\n      <td>Oceania</td>\n      <td>Oceania</td>\n    </tr>\n    <tr>\n      <th>313</th>\n      <td>888</td>\n      <td>180</td>\n      <td>COD</td>\n      <td>Congo, República Democrática</td>\n      <td>Democratic Republic of the Congo</td>\n      <td>República Democrática del Congo</td>\n      <td>51</td>\n      <td>África</td>\n      <td>Africa (minus MIDDLE EAST)</td>\n      <td>África (menos ORIENTE MEDIO)</td>\n    </tr>\n    <tr>\n      <th>314</th>\n      <td>890</td>\n      <td>894</td>\n      <td>ZMB</td>\n      <td>Zâmbia</td>\n      <td>Zambia</td>\n      <td>Zambia</td>\n      <td>51</td>\n      <td>África</td>\n      <td>Africa (minus MIDDLE EAST)</td>\n      <td>África (menos ORIENTE MEDIO)</td>\n    </tr>\n    <tr>\n      <th>315</th>\n      <td>895</td>\n      <td>592</td>\n      <td>PCZ</td>\n      <td>Zona do Canal do Panamá</td>\n      <td>Panama Canal Zone</td>\n      <td>Zona del Canal de Panamá</td>\n      <td>105</td>\n      <td>América Central e Caribe</td>\n      <td>Central America and Caribbean</td>\n      <td>América Central y Caribe</td>\n    </tr>\n  </tbody>\n</table>\n<p>316 rows × 10 columns</p>\n</div>"
     },
     "execution_count": 24,
     "metadata": {},
     "output_type": "execute_result"
    }
   ],
   "source": [
    "paises_blocos = paises.merge(blocos, on=['CO_PAIS'])\n",
    "paises_blocos"
   ],
   "metadata": {
    "collapsed": false,
    "ExecuteTime": {
     "end_time": "2023-10-15T17:19:06.223400100Z",
     "start_time": "2023-10-15T17:19:06.124300200Z"
    }
   },
   "id": "15c883ea400a68c5"
  },
  {
   "cell_type": "code",
   "execution_count": 25,
   "outputs": [
    {
     "data": {
      "text/plain": "(316, 10)"
     },
     "execution_count": 25,
     "metadata": {},
     "output_type": "execute_result"
    }
   ],
   "source": [
    "paises_blocos.shape"
   ],
   "metadata": {
    "collapsed": false,
    "ExecuteTime": {
     "end_time": "2023-10-15T17:19:06.224400700Z",
     "start_time": "2023-10-15T17:19:06.142225200Z"
    }
   },
   "id": "c7a41e2054b0f897"
  },
  {
   "cell_type": "code",
   "execution_count": 26,
   "outputs": [],
   "source": [
    "cod_continentes = [39, 41, 48, 51, 61, 105, 107, 112]\n",
    "nom_continentes = ['Ásia (Exclusive Oriente Médio)','Oriente Médio','América do Sul','África','Oceania','América Central e Caribe','América do Norte','Europa']\n",
    "cod_blocos_economicos = [22,53,111]\n",
    "nom_blocos_economicos = ['União Europeia - UE', 'Associação de Nações do Sudeste Asiático - ASEAN', 'Mercado Comum do Sul - Mercosul']\n",
    "paises_continentes = paises_blocos[paises_blocos.CO_BLOCO.isin(cod_continentes)]\n",
    "paises_blocos_economicos = paises_blocos[paises_blocos.CO_BLOCO.isin(cod_blocos_economicos)]"
   ],
   "metadata": {
    "collapsed": false,
    "ExecuteTime": {
     "end_time": "2023-10-15T17:19:06.256808600Z",
     "start_time": "2023-10-15T17:19:06.151475300Z"
    }
   },
   "id": "588107f92b51da6"
  },
  {
   "cell_type": "code",
   "execution_count": 27,
   "outputs": [
    {
     "data": {
      "text/plain": "(316, 10)"
     },
     "execution_count": 27,
     "metadata": {},
     "output_type": "execute_result"
    }
   ],
   "source": [
    "paises_blocos.shape"
   ],
   "metadata": {
    "collapsed": false,
    "ExecuteTime": {
     "end_time": "2023-10-15T17:19:06.257808200Z",
     "start_time": "2023-10-15T17:19:06.159745200Z"
    }
   },
   "id": "d77c6e437dca3848"
  },
  {
   "cell_type": "code",
   "execution_count": 28,
   "outputs": [
    {
     "data": {
      "text/plain": "(50, 10)"
     },
     "execution_count": 28,
     "metadata": {},
     "output_type": "execute_result"
    }
   ],
   "source": [
    "paises_blocos_economicos.shape"
   ],
   "metadata": {
    "collapsed": false,
    "ExecuteTime": {
     "end_time": "2023-10-15T17:19:06.257808200Z",
     "start_time": "2023-10-15T17:19:06.167550800Z"
    }
   },
   "id": "7609951e89399ca9"
  },
  {
   "cell_type": "code",
   "execution_count": 29,
   "outputs": [
    {
     "data": {
      "text/plain": "                                         CO_PAIS  CO_PAIS_ISON3  \\\nCO_BLOCO NO_BLOCO                                                 \n39       Ásia (Exclusive Oriente Médio)       36             36   \n41       Oriente Médio                        16             16   \n48       América do Sul                       14             14   \n51       África                               59             59   \n61       Oceania                              34             34   \n105      América Central e Caribe             40             40   \n107      América do Norte                      3              3   \n112      Europa                               64             64   \n\n                                         CO_PAIS_ISOA3  NO_PAIS  NO_PAIS_ING  \\\nCO_BLOCO NO_BLOCO                                                              \n39       Ásia (Exclusive Oriente Médio)             36       36           36   \n41       Oriente Médio                              16       16           16   \n48       América do Sul                             14       14           14   \n51       África                                     59       59           59   \n61       Oceania                                    34       34           34   \n105      América Central e Caribe                   40       40           40   \n107      América do Norte                            3        3            3   \n112      Europa                                     64       64           64   \n\n                                         NO_PAIS_ESP  NO_BLOCO_ING  \\\nCO_BLOCO NO_BLOCO                                                    \n39       Ásia (Exclusive Oriente Médio)           36            36   \n41       Oriente Médio                            16            16   \n48       América do Sul                           14            14   \n51       África                                   59            59   \n61       Oceania                                  34            34   \n105      América Central e Caribe                 40            40   \n107      América do Norte                          3             3   \n112      Europa                                   64            64   \n\n                                         NO_BLOCO_ESP  \nCO_BLOCO NO_BLOCO                                      \n39       Ásia (Exclusive Oriente Médio)            36  \n41       Oriente Médio                             16  \n48       América do Sul                            14  \n51       África                                    59  \n61       Oceania                                   34  \n105      América Central e Caribe                  40  \n107      América do Norte                           3  \n112      Europa                                    64  ",
      "text/html": "<div>\n<style scoped>\n    .dataframe tbody tr th:only-of-type {\n        vertical-align: middle;\n    }\n\n    .dataframe tbody tr th {\n        vertical-align: top;\n    }\n\n    .dataframe thead th {\n        text-align: right;\n    }\n</style>\n<table border=\"1\" class=\"dataframe\">\n  <thead>\n    <tr style=\"text-align: right;\">\n      <th></th>\n      <th></th>\n      <th>CO_PAIS</th>\n      <th>CO_PAIS_ISON3</th>\n      <th>CO_PAIS_ISOA3</th>\n      <th>NO_PAIS</th>\n      <th>NO_PAIS_ING</th>\n      <th>NO_PAIS_ESP</th>\n      <th>NO_BLOCO_ING</th>\n      <th>NO_BLOCO_ESP</th>\n    </tr>\n    <tr>\n      <th>CO_BLOCO</th>\n      <th>NO_BLOCO</th>\n      <th></th>\n      <th></th>\n      <th></th>\n      <th></th>\n      <th></th>\n      <th></th>\n      <th></th>\n      <th></th>\n    </tr>\n  </thead>\n  <tbody>\n    <tr>\n      <th>39</th>\n      <th>Ásia (Exclusive Oriente Médio)</th>\n      <td>36</td>\n      <td>36</td>\n      <td>36</td>\n      <td>36</td>\n      <td>36</td>\n      <td>36</td>\n      <td>36</td>\n      <td>36</td>\n    </tr>\n    <tr>\n      <th>41</th>\n      <th>Oriente Médio</th>\n      <td>16</td>\n      <td>16</td>\n      <td>16</td>\n      <td>16</td>\n      <td>16</td>\n      <td>16</td>\n      <td>16</td>\n      <td>16</td>\n    </tr>\n    <tr>\n      <th>48</th>\n      <th>América do Sul</th>\n      <td>14</td>\n      <td>14</td>\n      <td>14</td>\n      <td>14</td>\n      <td>14</td>\n      <td>14</td>\n      <td>14</td>\n      <td>14</td>\n    </tr>\n    <tr>\n      <th>51</th>\n      <th>África</th>\n      <td>59</td>\n      <td>59</td>\n      <td>59</td>\n      <td>59</td>\n      <td>59</td>\n      <td>59</td>\n      <td>59</td>\n      <td>59</td>\n    </tr>\n    <tr>\n      <th>61</th>\n      <th>Oceania</th>\n      <td>34</td>\n      <td>34</td>\n      <td>34</td>\n      <td>34</td>\n      <td>34</td>\n      <td>34</td>\n      <td>34</td>\n      <td>34</td>\n    </tr>\n    <tr>\n      <th>105</th>\n      <th>América Central e Caribe</th>\n      <td>40</td>\n      <td>40</td>\n      <td>40</td>\n      <td>40</td>\n      <td>40</td>\n      <td>40</td>\n      <td>40</td>\n      <td>40</td>\n    </tr>\n    <tr>\n      <th>107</th>\n      <th>América do Norte</th>\n      <td>3</td>\n      <td>3</td>\n      <td>3</td>\n      <td>3</td>\n      <td>3</td>\n      <td>3</td>\n      <td>3</td>\n      <td>3</td>\n    </tr>\n    <tr>\n      <th>112</th>\n      <th>Europa</th>\n      <td>64</td>\n      <td>64</td>\n      <td>64</td>\n      <td>64</td>\n      <td>64</td>\n      <td>64</td>\n      <td>64</td>\n      <td>64</td>\n    </tr>\n  </tbody>\n</table>\n</div>"
     },
     "execution_count": 29,
     "metadata": {},
     "output_type": "execute_result"
    }
   ],
   "source": [
    "paises_continentes.groupby(['CO_BLOCO', 'NO_BLOCO']).count()"
   ],
   "metadata": {
    "collapsed": false,
    "ExecuteTime": {
     "end_time": "2023-10-15T17:19:06.258809400Z",
     "start_time": "2023-10-15T17:19:06.173733600Z"
    }
   },
   "id": "5ee133071841e0fd"
  },
  {
   "cell_type": "code",
   "execution_count": 30,
   "outputs": [
    {
     "data": {
      "text/plain": "     CO_PAIS  CO_PAIS_ISON3 CO_PAIS_ISOA3  \\\n39       100            898           BRA   \n119      321            898           GGY   \n150      393            898           ZZZ   \n281      781            898           ATF   \n\n                                 NO_PAIS  \\\n39   Internação na Zona Franca de Manaus   \n119                             Guernsey   \n150                               Jersey   \n281            Terras Austrais Francesas   \n\n                                  NO_PAIS_ING  \\\n39   Internment in the Manaus Free Trade Zone   \n119                                  Guernsey   \n150                                    Jersey   \n281                     French Southern Lands   \n\n                                   NO_PAIS_ESP  CO_BLOCO  \\\n39   Internamiento de la Zona Franca de Manaus       111   \n119                                   Guernsey        22   \n150                                     Jersey        22   \n281                Tierras Australes Francesas        22   \n\n                            NO_BLOCO                       NO_BLOCO_ING  \\\n39   Mercado Comum do Sul - Mercosul  Southern Common Market (MERCOSUL)   \n119              União Europeia - UE                European Union (EU)   \n150              União Europeia - UE                European Union (EU)   \n281              União Europeia - UE                European Union (EU)   \n\n                         NO_BLOCO_ESP  \n39   Mercado Comum del Sur (MERCOSUR)  \n119                Uniao Europea (UE)  \n150                Uniao Europea (UE)  \n281                Uniao Europea (UE)  ",
      "text/html": "<div>\n<style scoped>\n    .dataframe tbody tr th:only-of-type {\n        vertical-align: middle;\n    }\n\n    .dataframe tbody tr th {\n        vertical-align: top;\n    }\n\n    .dataframe thead th {\n        text-align: right;\n    }\n</style>\n<table border=\"1\" class=\"dataframe\">\n  <thead>\n    <tr style=\"text-align: right;\">\n      <th></th>\n      <th>CO_PAIS</th>\n      <th>CO_PAIS_ISON3</th>\n      <th>CO_PAIS_ISOA3</th>\n      <th>NO_PAIS</th>\n      <th>NO_PAIS_ING</th>\n      <th>NO_PAIS_ESP</th>\n      <th>CO_BLOCO</th>\n      <th>NO_BLOCO</th>\n      <th>NO_BLOCO_ING</th>\n      <th>NO_BLOCO_ESP</th>\n    </tr>\n  </thead>\n  <tbody>\n    <tr>\n      <th>39</th>\n      <td>100</td>\n      <td>898</td>\n      <td>BRA</td>\n      <td>Internação na Zona Franca de Manaus</td>\n      <td>Internment in the Manaus Free Trade Zone</td>\n      <td>Internamiento de la Zona Franca de Manaus</td>\n      <td>111</td>\n      <td>Mercado Comum do Sul - Mercosul</td>\n      <td>Southern Common Market (MERCOSUL)</td>\n      <td>Mercado Comum del Sur (MERCOSUR)</td>\n    </tr>\n    <tr>\n      <th>119</th>\n      <td>321</td>\n      <td>898</td>\n      <td>GGY</td>\n      <td>Guernsey</td>\n      <td>Guernsey</td>\n      <td>Guernsey</td>\n      <td>22</td>\n      <td>União Europeia - UE</td>\n      <td>European Union (EU)</td>\n      <td>Uniao Europea (UE)</td>\n    </tr>\n    <tr>\n      <th>150</th>\n      <td>393</td>\n      <td>898</td>\n      <td>ZZZ</td>\n      <td>Jersey</td>\n      <td>Jersey</td>\n      <td>Jersey</td>\n      <td>22</td>\n      <td>União Europeia - UE</td>\n      <td>European Union (EU)</td>\n      <td>Uniao Europea (UE)</td>\n    </tr>\n    <tr>\n      <th>281</th>\n      <td>781</td>\n      <td>898</td>\n      <td>ATF</td>\n      <td>Terras Austrais Francesas</td>\n      <td>French Southern Lands</td>\n      <td>Tierras Australes Francesas</td>\n      <td>22</td>\n      <td>União Europeia - UE</td>\n      <td>European Union (EU)</td>\n      <td>Uniao Europea (UE)</td>\n    </tr>\n  </tbody>\n</table>\n</div>"
     },
     "execution_count": 30,
     "metadata": {},
     "output_type": "execute_result"
    }
   ],
   "source": [
    "paises_blocos_economicos.query(\"CO_PAIS_ISON3 == 898\")"
   ],
   "metadata": {
    "collapsed": false,
    "ExecuteTime": {
     "end_time": "2023-10-15T17:19:06.258809400Z",
     "start_time": "2023-10-15T17:19:06.187725700Z"
    }
   },
   "id": "a0ff90ac3d28fea4"
  },
  {
   "cell_type": "code",
   "execution_count": 31,
   "outputs": [
    {
     "data": {
      "text/plain": "     CO_PAIS  CO_PAIS_ISON3 CO_PAIS_ISOA3                       NO_PAIS  \\\n0         13              4           AFG                   Afeganistão   \n1         15            248           ALA                  Aland, Ilhas   \n3         17              8           ALB                       Albânia   \n4         20            724           ESP        Alboran-Perejil, Ilhas   \n5         23            276           DEU                      Alemanha   \n..       ...            ...           ...                           ...   \n311      873            840           USA                    Wake, Ilha   \n312      875            876           WLF        Wallis e Futuna, Ilhas   \n313      888            180           COD  Congo, República Democrática   \n314      890            894           ZMB                        Zâmbia   \n315      895            592           PCZ       Zona do Canal do Panamá   \n\n                          NO_PAIS_ING                      NO_PAIS_ESP  \\\n0                         Afghanistan                       Afganistan   \n1                       Aland Islands                     Alans, Islas   \n3                             Albania                          Albania   \n4            Alboran-Perejil, Islands           Alboran-Perejil, Islas   \n5                             Germany                         Alemania   \n..                                ...                              ...   \n311                       Wake Island                        Isla Wake   \n312                 Wallis and Futuna                  Wallis y Futuna   \n313  Democratic Republic of the Congo  República Democrática del Congo   \n314                            Zambia                           Zambia   \n315                 Panama Canal Zone         Zona del Canal de Panamá   \n\n     CO_BLOCO                        NO_BLOCO                   NO_BLOCO_ING  \\\n0          39  Ásia (Exclusive Oriente Médio)       Asia (minus MIDDLE EAST)   \n1         112                          Europa                         Europe   \n3         112                          Europa                         Europe   \n4         112                          Europa                         Europe   \n5         112                          Europa                         Europe   \n..        ...                             ...                            ...   \n311        61                         Oceania                        Oceania   \n312        61                         Oceania                        Oceania   \n313        51                          África     Africa (minus MIDDLE EAST)   \n314        51                          África     Africa (minus MIDDLE EAST)   \n315       105        América Central e Caribe  Central America and Caribbean   \n\n                     NO_BLOCO_ESP  \n0      Asia (menos Oriente Medio)  \n1                          Europa  \n3                          Europa  \n4                          Europa  \n5                          Europa  \n..                            ...  \n311                       Oceania  \n312                       Oceania  \n313  África (menos ORIENTE MEDIO)  \n314  África (menos ORIENTE MEDIO)  \n315      América Central y Caribe  \n\n[266 rows x 10 columns]",
      "text/html": "<div>\n<style scoped>\n    .dataframe tbody tr th:only-of-type {\n        vertical-align: middle;\n    }\n\n    .dataframe tbody tr th {\n        vertical-align: top;\n    }\n\n    .dataframe thead th {\n        text-align: right;\n    }\n</style>\n<table border=\"1\" class=\"dataframe\">\n  <thead>\n    <tr style=\"text-align: right;\">\n      <th></th>\n      <th>CO_PAIS</th>\n      <th>CO_PAIS_ISON3</th>\n      <th>CO_PAIS_ISOA3</th>\n      <th>NO_PAIS</th>\n      <th>NO_PAIS_ING</th>\n      <th>NO_PAIS_ESP</th>\n      <th>CO_BLOCO</th>\n      <th>NO_BLOCO</th>\n      <th>NO_BLOCO_ING</th>\n      <th>NO_BLOCO_ESP</th>\n    </tr>\n  </thead>\n  <tbody>\n    <tr>\n      <th>0</th>\n      <td>13</td>\n      <td>4</td>\n      <td>AFG</td>\n      <td>Afeganistão</td>\n      <td>Afghanistan</td>\n      <td>Afganistan</td>\n      <td>39</td>\n      <td>Ásia (Exclusive Oriente Médio)</td>\n      <td>Asia (minus MIDDLE EAST)</td>\n      <td>Asia (menos Oriente Medio)</td>\n    </tr>\n    <tr>\n      <th>1</th>\n      <td>15</td>\n      <td>248</td>\n      <td>ALA</td>\n      <td>Aland, Ilhas</td>\n      <td>Aland Islands</td>\n      <td>Alans, Islas</td>\n      <td>112</td>\n      <td>Europa</td>\n      <td>Europe</td>\n      <td>Europa</td>\n    </tr>\n    <tr>\n      <th>3</th>\n      <td>17</td>\n      <td>8</td>\n      <td>ALB</td>\n      <td>Albânia</td>\n      <td>Albania</td>\n      <td>Albania</td>\n      <td>112</td>\n      <td>Europa</td>\n      <td>Europe</td>\n      <td>Europa</td>\n    </tr>\n    <tr>\n      <th>4</th>\n      <td>20</td>\n      <td>724</td>\n      <td>ESP</td>\n      <td>Alboran-Perejil, Ilhas</td>\n      <td>Alboran-Perejil, Islands</td>\n      <td>Alboran-Perejil, Islas</td>\n      <td>112</td>\n      <td>Europa</td>\n      <td>Europe</td>\n      <td>Europa</td>\n    </tr>\n    <tr>\n      <th>5</th>\n      <td>23</td>\n      <td>276</td>\n      <td>DEU</td>\n      <td>Alemanha</td>\n      <td>Germany</td>\n      <td>Alemania</td>\n      <td>112</td>\n      <td>Europa</td>\n      <td>Europe</td>\n      <td>Europa</td>\n    </tr>\n    <tr>\n      <th>...</th>\n      <td>...</td>\n      <td>...</td>\n      <td>...</td>\n      <td>...</td>\n      <td>...</td>\n      <td>...</td>\n      <td>...</td>\n      <td>...</td>\n      <td>...</td>\n      <td>...</td>\n    </tr>\n    <tr>\n      <th>311</th>\n      <td>873</td>\n      <td>840</td>\n      <td>USA</td>\n      <td>Wake, Ilha</td>\n      <td>Wake Island</td>\n      <td>Isla Wake</td>\n      <td>61</td>\n      <td>Oceania</td>\n      <td>Oceania</td>\n      <td>Oceania</td>\n    </tr>\n    <tr>\n      <th>312</th>\n      <td>875</td>\n      <td>876</td>\n      <td>WLF</td>\n      <td>Wallis e Futuna, Ilhas</td>\n      <td>Wallis and Futuna</td>\n      <td>Wallis y Futuna</td>\n      <td>61</td>\n      <td>Oceania</td>\n      <td>Oceania</td>\n      <td>Oceania</td>\n    </tr>\n    <tr>\n      <th>313</th>\n      <td>888</td>\n      <td>180</td>\n      <td>COD</td>\n      <td>Congo, República Democrática</td>\n      <td>Democratic Republic of the Congo</td>\n      <td>República Democrática del Congo</td>\n      <td>51</td>\n      <td>África</td>\n      <td>Africa (minus MIDDLE EAST)</td>\n      <td>África (menos ORIENTE MEDIO)</td>\n    </tr>\n    <tr>\n      <th>314</th>\n      <td>890</td>\n      <td>894</td>\n      <td>ZMB</td>\n      <td>Zâmbia</td>\n      <td>Zambia</td>\n      <td>Zambia</td>\n      <td>51</td>\n      <td>África</td>\n      <td>Africa (minus MIDDLE EAST)</td>\n      <td>África (menos ORIENTE MEDIO)</td>\n    </tr>\n    <tr>\n      <th>315</th>\n      <td>895</td>\n      <td>592</td>\n      <td>PCZ</td>\n      <td>Zona do Canal do Panamá</td>\n      <td>Panama Canal Zone</td>\n      <td>Zona del Canal de Panamá</td>\n      <td>105</td>\n      <td>América Central e Caribe</td>\n      <td>Central America and Caribbean</td>\n      <td>América Central y Caribe</td>\n    </tr>\n  </tbody>\n</table>\n<p>266 rows × 10 columns</p>\n</div>"
     },
     "execution_count": 31,
     "metadata": {},
     "output_type": "execute_result"
    }
   ],
   "source": [
    "paises_continentes"
   ],
   "metadata": {
    "collapsed": false,
    "ExecuteTime": {
     "end_time": "2023-10-15T17:19:06.259809400Z",
     "start_time": "2023-10-15T17:19:06.201412800Z"
    }
   },
   "id": "6fc28814e668574d"
  },
  {
   "cell_type": "code",
   "execution_count": 32,
   "outputs": [
    {
     "data": {
      "text/plain": "     CO_PAIS  CO_PAIS_ISON3 CO_PAIS_ISOA3  \\\n2         15            248           ALA   \n6         23            276           DEU   \n17        63             32           ARG   \n22        72             40           AUT   \n30        87             56           BEL   \n34        93            104           MMR   \n39       100            898           BRA   \n42       108             96           BRN   \n44       111            100           BGR   \n50       141            116           KHM   \n54       150            831           GGY   \n56       151            724           ESP   \n64       163            196           CYP   \n74       195            191           HRV   \n81       232            208           DNK   \n89       245            724           ESP   \n91       246            705           SVN   \n93       247            703           SVK   \n96       251            233           EST   \n101      267            608           PHL   \n103      271            246           FIN   \n105      275            250           FRA   \n113      301            300           GRC   \n119      321            898           GGY   \n129      355            348           HUN   \n133      359            833           IMN   \n136      365            360           IDN   \n138      367            826           GBR   \n142      375            372           IRL   \n146      386            380           ITA   \n150      393            898           ZZZ   \n156      420            418           LAO   \n160      427            428           LVA   \n166      442            440           LTU   \n168      445            442           LUX   \n173      452            620           PRT   \n175      455            458           MYS   \n180      467            470           MLT   \n216      573            528           NLD   \n223      586            600           PRY   \n228      603            616           POL   \n230      607            620           PRT   \n240      670            642           ROU   \n264      741            702           SGP   \n273      764            752           SWE   \n278      776            764           THA   \n281      781            898           ATF   \n287      791            203           CZE   \n302      845            858           URY   \n307      858            704           VNM   \n\n                                 NO_PAIS  \\\n2                           Aland, Ilhas   \n6                               Alemanha   \n17                             Argentina   \n22                               Áustria   \n30                               Bélgica   \n34                               Mianmar   \n39   Internação na Zona Franca de Manaus   \n42                                Brunei   \n44                              Bulgária   \n50                               Camboja   \n54            Canal, Ilhas do (Guernsey)   \n56                       Canárias, Ilhas   \n64                                Chipre   \n74                               Croácia   \n81                             Dinamarca   \n89                               Espanha   \n91                             Eslovênia   \n93                            Eslováquia   \n96                               Estônia   \n101                            Filipinas   \n103                            Finlândia   \n105                               França   \n113                               Grécia   \n119                             Guernsey   \n129                              Hungria   \n133                          Ilha de Man   \n136                            Indonésia   \n138                           Inglaterra   \n142                              Irlanda   \n146                               Itália   \n150                               Jersey   \n156                                 Laos   \n160                              Letônia   \n166                             Lituânia   \n168                           Luxemburgo   \n173                     Madeira, Ilha da   \n175                              Malásia   \n180                                Malta   \n216              Países Baixos (Holanda)   \n223                             Paraguai   \n228                              Polônia   \n230                             Portugal   \n240                              Romênia   \n264                            Singapura   \n273                               Suécia   \n278                            Tailândia   \n281            Terras Austrais Francesas   \n287                    Tcheca, República   \n302                              Uruguai   \n307                               Vietnã   \n\n                                  NO_PAIS_ING  \\\n2                               Aland Islands   \n6                                     Germany   \n17                                  Argentina   \n22                                    Austria   \n30                                    Belgium   \n34                                    Myanmar   \n39   Internment in the Manaus Free Trade Zone   \n42                                     Brunei   \n44                                   Bulgaria   \n50                                   Cambodia   \n54                                   Guernsey   \n56                            Canary, Islands   \n64                                     Cyprus   \n74                                    Croatia   \n81                                    Denmark   \n89                                      Spain   \n91                                   Slovenia   \n93                                   Slovakia   \n96                                    Estonia   \n101                               Philippines   \n103                                   Finland   \n105                                    France   \n113                                    Greece   \n119                                  Guernsey   \n129                                   Hungary   \n133                               Isle of Man   \n136                                 Indonesia   \n138                                   England   \n142                                   Ireland   \n146                                     Italy   \n150                                    Jersey   \n156                                      Laos   \n160                                    Latvia   \n166                                 Lithuania   \n168                                Luxembourg   \n173                                   Madeira   \n175                                  Malaysia   \n180                                     Malta   \n216                               Netherlands   \n223                                  Paraguay   \n228                                    Poland   \n230                                  Portugal   \n240                                   Romania   \n264                                 Singapore   \n273                                    Sweden   \n278                                  Thailand   \n281                     French Southern Lands   \n287                            Czech Republic   \n302                                   Uruguay   \n307                                   Vietnam   \n\n                                   NO_PAIS_ESP  CO_BLOCO  \\\n2                                 Alans, Islas        22   \n6                                     Alemania        22   \n17                                   Argentina       111   \n22                                     Austria        22   \n30                                     Bélgica        22   \n34                                     Myanmar        53   \n39   Internamiento de la Zona Franca de Manaus       111   \n42                                      Brunei        53   \n44                                    Bulgaria        22   \n50                                     Camboya        53   \n54                                    Guernsey        22   \n56                             Canarias, Islas        22   \n64                                      Chipre        22   \n74                                     Croacia        22   \n81                                   Dinamarca        22   \n89                                      España        22   \n91                                   Eslovenia        22   \n93                                  Eslovaquia        22   \n96                                     Estonia        22   \n101                                  Filipinas        53   \n103                                  Finlandia        22   \n105                                    Francia        22   \n113                                     Grecia        22   \n119                                   Guernsey        22   \n129                                    Hungría        22   \n133                                Isla de Man        22   \n136                                  Indonesia        53   \n138                                 Inglaterra        22   \n142                                    Irlanda        22   \n146                                     Italia        22   \n150                                     Jersey        22   \n156                                       Laos        53   \n160                                    Letonia        22   \n166                                   Lituania        22   \n168                                 Luxemburgo        22   \n173                                    Madeira        22   \n175                                    Malasia        53   \n180                                      Malta        22   \n216                               Países Bajos        22   \n223                                   Paraguay       111   \n228                                    Polonia        22   \n230                                   Portugal        22   \n240                                    Rumania        22   \n264                                   Singapur        53   \n273                                     Suecia        22   \n278                                  Tailandia        53   \n281                Tierras Australes Francesas        22   \n287                            República Checa        22   \n302                                    Uruguay       111   \n307                                   Viet Nam        53   \n\n                                             NO_BLOCO  \\\n2                                 União Europeia - UE   \n6                                 União Europeia - UE   \n17                    Mercado Comum do Sul - Mercosul   \n22                                União Europeia - UE   \n30                                União Europeia - UE   \n34   Associação de Nações do Sudeste Asiático - ASEAN   \n39                    Mercado Comum do Sul - Mercosul   \n42   Associação de Nações do Sudeste Asiático - ASEAN   \n44                                União Europeia - UE   \n50   Associação de Nações do Sudeste Asiático - ASEAN   \n54                                União Europeia - UE   \n56                                União Europeia - UE   \n64                                União Europeia - UE   \n74                                União Europeia - UE   \n81                                União Europeia - UE   \n89                                União Europeia - UE   \n91                                União Europeia - UE   \n93                                União Europeia - UE   \n96                                União Europeia - UE   \n101  Associação de Nações do Sudeste Asiático - ASEAN   \n103                               União Europeia - UE   \n105                               União Europeia - UE   \n113                               União Europeia - UE   \n119                               União Europeia - UE   \n129                               União Europeia - UE   \n133                               União Europeia - UE   \n136  Associação de Nações do Sudeste Asiático - ASEAN   \n138                               União Europeia - UE   \n142                               União Europeia - UE   \n146                               União Europeia - UE   \n150                               União Europeia - UE   \n156  Associação de Nações do Sudeste Asiático - ASEAN   \n160                               União Europeia - UE   \n166                               União Europeia - UE   \n168                               União Europeia - UE   \n173                               União Europeia - UE   \n175  Associação de Nações do Sudeste Asiático - ASEAN   \n180                               União Europeia - UE   \n216                               União Europeia - UE   \n223                   Mercado Comum do Sul - Mercosul   \n228                               União Europeia - UE   \n230                               União Europeia - UE   \n240                               União Europeia - UE   \n264  Associação de Nações do Sudeste Asiático - ASEAN   \n273                               União Europeia - UE   \n278  Associação de Nações do Sudeste Asiático - ASEAN   \n281                               União Europeia - UE   \n287                               União Europeia - UE   \n302                   Mercado Comum do Sul - Mercosul   \n307  Associação de Nações do Sudeste Asiático - ASEAN   \n\n                                       NO_BLOCO_ING  \\\n2                               European Union (EU)   \n6                               European Union (EU)   \n17                Southern Common Market (MERCOSUL)   \n22                              European Union (EU)   \n30                              European Union (EU)   \n34   Association Of Southeast Asian Nations (ASEAN)   \n39                Southern Common Market (MERCOSUL)   \n42   Association Of Southeast Asian Nations (ASEAN)   \n44                              European Union (EU)   \n50   Association Of Southeast Asian Nations (ASEAN)   \n54                              European Union (EU)   \n56                              European Union (EU)   \n64                              European Union (EU)   \n74                              European Union (EU)   \n81                              European Union (EU)   \n89                              European Union (EU)   \n91                              European Union (EU)   \n93                              European Union (EU)   \n96                              European Union (EU)   \n101  Association Of Southeast Asian Nations (ASEAN)   \n103                             European Union (EU)   \n105                             European Union (EU)   \n113                             European Union (EU)   \n119                             European Union (EU)   \n129                             European Union (EU)   \n133                             European Union (EU)   \n136  Association Of Southeast Asian Nations (ASEAN)   \n138                             European Union (EU)   \n142                             European Union (EU)   \n146                             European Union (EU)   \n150                             European Union (EU)   \n156  Association Of Southeast Asian Nations (ASEAN)   \n160                             European Union (EU)   \n166                             European Union (EU)   \n168                             European Union (EU)   \n173                             European Union (EU)   \n175  Association Of Southeast Asian Nations (ASEAN)   \n180                             European Union (EU)   \n216                             European Union (EU)   \n223               Southern Common Market (MERCOSUL)   \n228                             European Union (EU)   \n230                             European Union (EU)   \n240                             European Union (EU)   \n264  Association Of Southeast Asian Nations (ASEAN)   \n273                             European Union (EU)   \n278  Association Of Southeast Asian Nations (ASEAN)   \n281                             European Union (EU)   \n287                             European Union (EU)   \n302               Southern Common Market (MERCOSUL)   \n307  Association Of Southeast Asian Nations (ASEAN)   \n\n                                          NO_BLOCO_ESP  \n2                                   Uniao Europea (UE)  \n6                                   Uniao Europea (UE)  \n17                    Mercado Comum del Sur (MERCOSUR)  \n22                                  Uniao Europea (UE)  \n30                                  Uniao Europea (UE)  \n34   Asociación de Países del Sudeste Asiático (ASEAN)  \n39                    Mercado Comum del Sur (MERCOSUR)  \n42   Asociación de Países del Sudeste Asiático (ASEAN)  \n44                                  Uniao Europea (UE)  \n50   Asociación de Países del Sudeste Asiático (ASEAN)  \n54                                  Uniao Europea (UE)  \n56                                  Uniao Europea (UE)  \n64                                  Uniao Europea (UE)  \n74                                  Uniao Europea (UE)  \n81                                  Uniao Europea (UE)  \n89                                  Uniao Europea (UE)  \n91                                  Uniao Europea (UE)  \n93                                  Uniao Europea (UE)  \n96                                  Uniao Europea (UE)  \n101  Asociación de Países del Sudeste Asiático (ASEAN)  \n103                                 Uniao Europea (UE)  \n105                                 Uniao Europea (UE)  \n113                                 Uniao Europea (UE)  \n119                                 Uniao Europea (UE)  \n129                                 Uniao Europea (UE)  \n133                                 Uniao Europea (UE)  \n136  Asociación de Países del Sudeste Asiático (ASEAN)  \n138                                 Uniao Europea (UE)  \n142                                 Uniao Europea (UE)  \n146                                 Uniao Europea (UE)  \n150                                 Uniao Europea (UE)  \n156  Asociación de Países del Sudeste Asiático (ASEAN)  \n160                                 Uniao Europea (UE)  \n166                                 Uniao Europea (UE)  \n168                                 Uniao Europea (UE)  \n173                                 Uniao Europea (UE)  \n175  Asociación de Países del Sudeste Asiático (ASEAN)  \n180                                 Uniao Europea (UE)  \n216                                 Uniao Europea (UE)  \n223                   Mercado Comum del Sur (MERCOSUR)  \n228                                 Uniao Europea (UE)  \n230                                 Uniao Europea (UE)  \n240                                 Uniao Europea (UE)  \n264  Asociación de Países del Sudeste Asiático (ASEAN)  \n273                                 Uniao Europea (UE)  \n278  Asociación de Países del Sudeste Asiático (ASEAN)  \n281                                 Uniao Europea (UE)  \n287                                 Uniao Europea (UE)  \n302                   Mercado Comum del Sur (MERCOSUR)  \n307  Asociación de Países del Sudeste Asiático (ASEAN)  ",
      "text/html": "<div>\n<style scoped>\n    .dataframe tbody tr th:only-of-type {\n        vertical-align: middle;\n    }\n\n    .dataframe tbody tr th {\n        vertical-align: top;\n    }\n\n    .dataframe thead th {\n        text-align: right;\n    }\n</style>\n<table border=\"1\" class=\"dataframe\">\n  <thead>\n    <tr style=\"text-align: right;\">\n      <th></th>\n      <th>CO_PAIS</th>\n      <th>CO_PAIS_ISON3</th>\n      <th>CO_PAIS_ISOA3</th>\n      <th>NO_PAIS</th>\n      <th>NO_PAIS_ING</th>\n      <th>NO_PAIS_ESP</th>\n      <th>CO_BLOCO</th>\n      <th>NO_BLOCO</th>\n      <th>NO_BLOCO_ING</th>\n      <th>NO_BLOCO_ESP</th>\n    </tr>\n  </thead>\n  <tbody>\n    <tr>\n      <th>2</th>\n      <td>15</td>\n      <td>248</td>\n      <td>ALA</td>\n      <td>Aland, Ilhas</td>\n      <td>Aland Islands</td>\n      <td>Alans, Islas</td>\n      <td>22</td>\n      <td>União Europeia - UE</td>\n      <td>European Union (EU)</td>\n      <td>Uniao Europea (UE)</td>\n    </tr>\n    <tr>\n      <th>6</th>\n      <td>23</td>\n      <td>276</td>\n      <td>DEU</td>\n      <td>Alemanha</td>\n      <td>Germany</td>\n      <td>Alemania</td>\n      <td>22</td>\n      <td>União Europeia - UE</td>\n      <td>European Union (EU)</td>\n      <td>Uniao Europea (UE)</td>\n    </tr>\n    <tr>\n      <th>17</th>\n      <td>63</td>\n      <td>32</td>\n      <td>ARG</td>\n      <td>Argentina</td>\n      <td>Argentina</td>\n      <td>Argentina</td>\n      <td>111</td>\n      <td>Mercado Comum do Sul - Mercosul</td>\n      <td>Southern Common Market (MERCOSUL)</td>\n      <td>Mercado Comum del Sur (MERCOSUR)</td>\n    </tr>\n    <tr>\n      <th>22</th>\n      <td>72</td>\n      <td>40</td>\n      <td>AUT</td>\n      <td>Áustria</td>\n      <td>Austria</td>\n      <td>Austria</td>\n      <td>22</td>\n      <td>União Europeia - UE</td>\n      <td>European Union (EU)</td>\n      <td>Uniao Europea (UE)</td>\n    </tr>\n    <tr>\n      <th>30</th>\n      <td>87</td>\n      <td>56</td>\n      <td>BEL</td>\n      <td>Bélgica</td>\n      <td>Belgium</td>\n      <td>Bélgica</td>\n      <td>22</td>\n      <td>União Europeia - UE</td>\n      <td>European Union (EU)</td>\n      <td>Uniao Europea (UE)</td>\n    </tr>\n    <tr>\n      <th>34</th>\n      <td>93</td>\n      <td>104</td>\n      <td>MMR</td>\n      <td>Mianmar</td>\n      <td>Myanmar</td>\n      <td>Myanmar</td>\n      <td>53</td>\n      <td>Associação de Nações do Sudeste Asiático - ASEAN</td>\n      <td>Association Of Southeast Asian Nations (ASEAN)</td>\n      <td>Asociación de Países del Sudeste Asiático (ASEAN)</td>\n    </tr>\n    <tr>\n      <th>39</th>\n      <td>100</td>\n      <td>898</td>\n      <td>BRA</td>\n      <td>Internação na Zona Franca de Manaus</td>\n      <td>Internment in the Manaus Free Trade Zone</td>\n      <td>Internamiento de la Zona Franca de Manaus</td>\n      <td>111</td>\n      <td>Mercado Comum do Sul - Mercosul</td>\n      <td>Southern Common Market (MERCOSUL)</td>\n      <td>Mercado Comum del Sur (MERCOSUR)</td>\n    </tr>\n    <tr>\n      <th>42</th>\n      <td>108</td>\n      <td>96</td>\n      <td>BRN</td>\n      <td>Brunei</td>\n      <td>Brunei</td>\n      <td>Brunei</td>\n      <td>53</td>\n      <td>Associação de Nações do Sudeste Asiático - ASEAN</td>\n      <td>Association Of Southeast Asian Nations (ASEAN)</td>\n      <td>Asociación de Países del Sudeste Asiático (ASEAN)</td>\n    </tr>\n    <tr>\n      <th>44</th>\n      <td>111</td>\n      <td>100</td>\n      <td>BGR</td>\n      <td>Bulgária</td>\n      <td>Bulgaria</td>\n      <td>Bulgaria</td>\n      <td>22</td>\n      <td>União Europeia - UE</td>\n      <td>European Union (EU)</td>\n      <td>Uniao Europea (UE)</td>\n    </tr>\n    <tr>\n      <th>50</th>\n      <td>141</td>\n      <td>116</td>\n      <td>KHM</td>\n      <td>Camboja</td>\n      <td>Cambodia</td>\n      <td>Camboya</td>\n      <td>53</td>\n      <td>Associação de Nações do Sudeste Asiático - ASEAN</td>\n      <td>Association Of Southeast Asian Nations (ASEAN)</td>\n      <td>Asociación de Países del Sudeste Asiático (ASEAN)</td>\n    </tr>\n    <tr>\n      <th>54</th>\n      <td>150</td>\n      <td>831</td>\n      <td>GGY</td>\n      <td>Canal, Ilhas do (Guernsey)</td>\n      <td>Guernsey</td>\n      <td>Guernsey</td>\n      <td>22</td>\n      <td>União Europeia - UE</td>\n      <td>European Union (EU)</td>\n      <td>Uniao Europea (UE)</td>\n    </tr>\n    <tr>\n      <th>56</th>\n      <td>151</td>\n      <td>724</td>\n      <td>ESP</td>\n      <td>Canárias, Ilhas</td>\n      <td>Canary, Islands</td>\n      <td>Canarias, Islas</td>\n      <td>22</td>\n      <td>União Europeia - UE</td>\n      <td>European Union (EU)</td>\n      <td>Uniao Europea (UE)</td>\n    </tr>\n    <tr>\n      <th>64</th>\n      <td>163</td>\n      <td>196</td>\n      <td>CYP</td>\n      <td>Chipre</td>\n      <td>Cyprus</td>\n      <td>Chipre</td>\n      <td>22</td>\n      <td>União Europeia - UE</td>\n      <td>European Union (EU)</td>\n      <td>Uniao Europea (UE)</td>\n    </tr>\n    <tr>\n      <th>74</th>\n      <td>195</td>\n      <td>191</td>\n      <td>HRV</td>\n      <td>Croácia</td>\n      <td>Croatia</td>\n      <td>Croacia</td>\n      <td>22</td>\n      <td>União Europeia - UE</td>\n      <td>European Union (EU)</td>\n      <td>Uniao Europea (UE)</td>\n    </tr>\n    <tr>\n      <th>81</th>\n      <td>232</td>\n      <td>208</td>\n      <td>DNK</td>\n      <td>Dinamarca</td>\n      <td>Denmark</td>\n      <td>Dinamarca</td>\n      <td>22</td>\n      <td>União Europeia - UE</td>\n      <td>European Union (EU)</td>\n      <td>Uniao Europea (UE)</td>\n    </tr>\n    <tr>\n      <th>89</th>\n      <td>245</td>\n      <td>724</td>\n      <td>ESP</td>\n      <td>Espanha</td>\n      <td>Spain</td>\n      <td>España</td>\n      <td>22</td>\n      <td>União Europeia - UE</td>\n      <td>European Union (EU)</td>\n      <td>Uniao Europea (UE)</td>\n    </tr>\n    <tr>\n      <th>91</th>\n      <td>246</td>\n      <td>705</td>\n      <td>SVN</td>\n      <td>Eslovênia</td>\n      <td>Slovenia</td>\n      <td>Eslovenia</td>\n      <td>22</td>\n      <td>União Europeia - UE</td>\n      <td>European Union (EU)</td>\n      <td>Uniao Europea (UE)</td>\n    </tr>\n    <tr>\n      <th>93</th>\n      <td>247</td>\n      <td>703</td>\n      <td>SVK</td>\n      <td>Eslováquia</td>\n      <td>Slovakia</td>\n      <td>Eslovaquia</td>\n      <td>22</td>\n      <td>União Europeia - UE</td>\n      <td>European Union (EU)</td>\n      <td>Uniao Europea (UE)</td>\n    </tr>\n    <tr>\n      <th>96</th>\n      <td>251</td>\n      <td>233</td>\n      <td>EST</td>\n      <td>Estônia</td>\n      <td>Estonia</td>\n      <td>Estonia</td>\n      <td>22</td>\n      <td>União Europeia - UE</td>\n      <td>European Union (EU)</td>\n      <td>Uniao Europea (UE)</td>\n    </tr>\n    <tr>\n      <th>101</th>\n      <td>267</td>\n      <td>608</td>\n      <td>PHL</td>\n      <td>Filipinas</td>\n      <td>Philippines</td>\n      <td>Filipinas</td>\n      <td>53</td>\n      <td>Associação de Nações do Sudeste Asiático - ASEAN</td>\n      <td>Association Of Southeast Asian Nations (ASEAN)</td>\n      <td>Asociación de Países del Sudeste Asiático (ASEAN)</td>\n    </tr>\n    <tr>\n      <th>103</th>\n      <td>271</td>\n      <td>246</td>\n      <td>FIN</td>\n      <td>Finlândia</td>\n      <td>Finland</td>\n      <td>Finlandia</td>\n      <td>22</td>\n      <td>União Europeia - UE</td>\n      <td>European Union (EU)</td>\n      <td>Uniao Europea (UE)</td>\n    </tr>\n    <tr>\n      <th>105</th>\n      <td>275</td>\n      <td>250</td>\n      <td>FRA</td>\n      <td>França</td>\n      <td>France</td>\n      <td>Francia</td>\n      <td>22</td>\n      <td>União Europeia - UE</td>\n      <td>European Union (EU)</td>\n      <td>Uniao Europea (UE)</td>\n    </tr>\n    <tr>\n      <th>113</th>\n      <td>301</td>\n      <td>300</td>\n      <td>GRC</td>\n      <td>Grécia</td>\n      <td>Greece</td>\n      <td>Grecia</td>\n      <td>22</td>\n      <td>União Europeia - UE</td>\n      <td>European Union (EU)</td>\n      <td>Uniao Europea (UE)</td>\n    </tr>\n    <tr>\n      <th>119</th>\n      <td>321</td>\n      <td>898</td>\n      <td>GGY</td>\n      <td>Guernsey</td>\n      <td>Guernsey</td>\n      <td>Guernsey</td>\n      <td>22</td>\n      <td>União Europeia - UE</td>\n      <td>European Union (EU)</td>\n      <td>Uniao Europea (UE)</td>\n    </tr>\n    <tr>\n      <th>129</th>\n      <td>355</td>\n      <td>348</td>\n      <td>HUN</td>\n      <td>Hungria</td>\n      <td>Hungary</td>\n      <td>Hungría</td>\n      <td>22</td>\n      <td>União Europeia - UE</td>\n      <td>European Union (EU)</td>\n      <td>Uniao Europea (UE)</td>\n    </tr>\n    <tr>\n      <th>133</th>\n      <td>359</td>\n      <td>833</td>\n      <td>IMN</td>\n      <td>Ilha de Man</td>\n      <td>Isle of Man</td>\n      <td>Isla de Man</td>\n      <td>22</td>\n      <td>União Europeia - UE</td>\n      <td>European Union (EU)</td>\n      <td>Uniao Europea (UE)</td>\n    </tr>\n    <tr>\n      <th>136</th>\n      <td>365</td>\n      <td>360</td>\n      <td>IDN</td>\n      <td>Indonésia</td>\n      <td>Indonesia</td>\n      <td>Indonesia</td>\n      <td>53</td>\n      <td>Associação de Nações do Sudeste Asiático - ASEAN</td>\n      <td>Association Of Southeast Asian Nations (ASEAN)</td>\n      <td>Asociación de Países del Sudeste Asiático (ASEAN)</td>\n    </tr>\n    <tr>\n      <th>138</th>\n      <td>367</td>\n      <td>826</td>\n      <td>GBR</td>\n      <td>Inglaterra</td>\n      <td>England</td>\n      <td>Inglaterra</td>\n      <td>22</td>\n      <td>União Europeia - UE</td>\n      <td>European Union (EU)</td>\n      <td>Uniao Europea (UE)</td>\n    </tr>\n    <tr>\n      <th>142</th>\n      <td>375</td>\n      <td>372</td>\n      <td>IRL</td>\n      <td>Irlanda</td>\n      <td>Ireland</td>\n      <td>Irlanda</td>\n      <td>22</td>\n      <td>União Europeia - UE</td>\n      <td>European Union (EU)</td>\n      <td>Uniao Europea (UE)</td>\n    </tr>\n    <tr>\n      <th>146</th>\n      <td>386</td>\n      <td>380</td>\n      <td>ITA</td>\n      <td>Itália</td>\n      <td>Italy</td>\n      <td>Italia</td>\n      <td>22</td>\n      <td>União Europeia - UE</td>\n      <td>European Union (EU)</td>\n      <td>Uniao Europea (UE)</td>\n    </tr>\n    <tr>\n      <th>150</th>\n      <td>393</td>\n      <td>898</td>\n      <td>ZZZ</td>\n      <td>Jersey</td>\n      <td>Jersey</td>\n      <td>Jersey</td>\n      <td>22</td>\n      <td>União Europeia - UE</td>\n      <td>European Union (EU)</td>\n      <td>Uniao Europea (UE)</td>\n    </tr>\n    <tr>\n      <th>156</th>\n      <td>420</td>\n      <td>418</td>\n      <td>LAO</td>\n      <td>Laos</td>\n      <td>Laos</td>\n      <td>Laos</td>\n      <td>53</td>\n      <td>Associação de Nações do Sudeste Asiático - ASEAN</td>\n      <td>Association Of Southeast Asian Nations (ASEAN)</td>\n      <td>Asociación de Países del Sudeste Asiático (ASEAN)</td>\n    </tr>\n    <tr>\n      <th>160</th>\n      <td>427</td>\n      <td>428</td>\n      <td>LVA</td>\n      <td>Letônia</td>\n      <td>Latvia</td>\n      <td>Letonia</td>\n      <td>22</td>\n      <td>União Europeia - UE</td>\n      <td>European Union (EU)</td>\n      <td>Uniao Europea (UE)</td>\n    </tr>\n    <tr>\n      <th>166</th>\n      <td>442</td>\n      <td>440</td>\n      <td>LTU</td>\n      <td>Lituânia</td>\n      <td>Lithuania</td>\n      <td>Lituania</td>\n      <td>22</td>\n      <td>União Europeia - UE</td>\n      <td>European Union (EU)</td>\n      <td>Uniao Europea (UE)</td>\n    </tr>\n    <tr>\n      <th>168</th>\n      <td>445</td>\n      <td>442</td>\n      <td>LUX</td>\n      <td>Luxemburgo</td>\n      <td>Luxembourg</td>\n      <td>Luxemburgo</td>\n      <td>22</td>\n      <td>União Europeia - UE</td>\n      <td>European Union (EU)</td>\n      <td>Uniao Europea (UE)</td>\n    </tr>\n    <tr>\n      <th>173</th>\n      <td>452</td>\n      <td>620</td>\n      <td>PRT</td>\n      <td>Madeira, Ilha da</td>\n      <td>Madeira</td>\n      <td>Madeira</td>\n      <td>22</td>\n      <td>União Europeia - UE</td>\n      <td>European Union (EU)</td>\n      <td>Uniao Europea (UE)</td>\n    </tr>\n    <tr>\n      <th>175</th>\n      <td>455</td>\n      <td>458</td>\n      <td>MYS</td>\n      <td>Malásia</td>\n      <td>Malaysia</td>\n      <td>Malasia</td>\n      <td>53</td>\n      <td>Associação de Nações do Sudeste Asiático - ASEAN</td>\n      <td>Association Of Southeast Asian Nations (ASEAN)</td>\n      <td>Asociación de Países del Sudeste Asiático (ASEAN)</td>\n    </tr>\n    <tr>\n      <th>180</th>\n      <td>467</td>\n      <td>470</td>\n      <td>MLT</td>\n      <td>Malta</td>\n      <td>Malta</td>\n      <td>Malta</td>\n      <td>22</td>\n      <td>União Europeia - UE</td>\n      <td>European Union (EU)</td>\n      <td>Uniao Europea (UE)</td>\n    </tr>\n    <tr>\n      <th>216</th>\n      <td>573</td>\n      <td>528</td>\n      <td>NLD</td>\n      <td>Países Baixos (Holanda)</td>\n      <td>Netherlands</td>\n      <td>Países Bajos</td>\n      <td>22</td>\n      <td>União Europeia - UE</td>\n      <td>European Union (EU)</td>\n      <td>Uniao Europea (UE)</td>\n    </tr>\n    <tr>\n      <th>223</th>\n      <td>586</td>\n      <td>600</td>\n      <td>PRY</td>\n      <td>Paraguai</td>\n      <td>Paraguay</td>\n      <td>Paraguay</td>\n      <td>111</td>\n      <td>Mercado Comum do Sul - Mercosul</td>\n      <td>Southern Common Market (MERCOSUL)</td>\n      <td>Mercado Comum del Sur (MERCOSUR)</td>\n    </tr>\n    <tr>\n      <th>228</th>\n      <td>603</td>\n      <td>616</td>\n      <td>POL</td>\n      <td>Polônia</td>\n      <td>Poland</td>\n      <td>Polonia</td>\n      <td>22</td>\n      <td>União Europeia - UE</td>\n      <td>European Union (EU)</td>\n      <td>Uniao Europea (UE)</td>\n    </tr>\n    <tr>\n      <th>230</th>\n      <td>607</td>\n      <td>620</td>\n      <td>PRT</td>\n      <td>Portugal</td>\n      <td>Portugal</td>\n      <td>Portugal</td>\n      <td>22</td>\n      <td>União Europeia - UE</td>\n      <td>European Union (EU)</td>\n      <td>Uniao Europea (UE)</td>\n    </tr>\n    <tr>\n      <th>240</th>\n      <td>670</td>\n      <td>642</td>\n      <td>ROU</td>\n      <td>Romênia</td>\n      <td>Romania</td>\n      <td>Rumania</td>\n      <td>22</td>\n      <td>União Europeia - UE</td>\n      <td>European Union (EU)</td>\n      <td>Uniao Europea (UE)</td>\n    </tr>\n    <tr>\n      <th>264</th>\n      <td>741</td>\n      <td>702</td>\n      <td>SGP</td>\n      <td>Singapura</td>\n      <td>Singapore</td>\n      <td>Singapur</td>\n      <td>53</td>\n      <td>Associação de Nações do Sudeste Asiático - ASEAN</td>\n      <td>Association Of Southeast Asian Nations (ASEAN)</td>\n      <td>Asociación de Países del Sudeste Asiático (ASEAN)</td>\n    </tr>\n    <tr>\n      <th>273</th>\n      <td>764</td>\n      <td>752</td>\n      <td>SWE</td>\n      <td>Suécia</td>\n      <td>Sweden</td>\n      <td>Suecia</td>\n      <td>22</td>\n      <td>União Europeia - UE</td>\n      <td>European Union (EU)</td>\n      <td>Uniao Europea (UE)</td>\n    </tr>\n    <tr>\n      <th>278</th>\n      <td>776</td>\n      <td>764</td>\n      <td>THA</td>\n      <td>Tailândia</td>\n      <td>Thailand</td>\n      <td>Tailandia</td>\n      <td>53</td>\n      <td>Associação de Nações do Sudeste Asiático - ASEAN</td>\n      <td>Association Of Southeast Asian Nations (ASEAN)</td>\n      <td>Asociación de Países del Sudeste Asiático (ASEAN)</td>\n    </tr>\n    <tr>\n      <th>281</th>\n      <td>781</td>\n      <td>898</td>\n      <td>ATF</td>\n      <td>Terras Austrais Francesas</td>\n      <td>French Southern Lands</td>\n      <td>Tierras Australes Francesas</td>\n      <td>22</td>\n      <td>União Europeia - UE</td>\n      <td>European Union (EU)</td>\n      <td>Uniao Europea (UE)</td>\n    </tr>\n    <tr>\n      <th>287</th>\n      <td>791</td>\n      <td>203</td>\n      <td>CZE</td>\n      <td>Tcheca, República</td>\n      <td>Czech Republic</td>\n      <td>República Checa</td>\n      <td>22</td>\n      <td>União Europeia - UE</td>\n      <td>European Union (EU)</td>\n      <td>Uniao Europea (UE)</td>\n    </tr>\n    <tr>\n      <th>302</th>\n      <td>845</td>\n      <td>858</td>\n      <td>URY</td>\n      <td>Uruguai</td>\n      <td>Uruguay</td>\n      <td>Uruguay</td>\n      <td>111</td>\n      <td>Mercado Comum do Sul - Mercosul</td>\n      <td>Southern Common Market (MERCOSUL)</td>\n      <td>Mercado Comum del Sur (MERCOSUR)</td>\n    </tr>\n    <tr>\n      <th>307</th>\n      <td>858</td>\n      <td>704</td>\n      <td>VNM</td>\n      <td>Vietnã</td>\n      <td>Vietnam</td>\n      <td>Viet Nam</td>\n      <td>53</td>\n      <td>Associação de Nações do Sudeste Asiático - ASEAN</td>\n      <td>Association Of Southeast Asian Nations (ASEAN)</td>\n      <td>Asociación de Países del Sudeste Asiático (ASEAN)</td>\n    </tr>\n  </tbody>\n</table>\n</div>"
     },
     "execution_count": 32,
     "metadata": {},
     "output_type": "execute_result"
    }
   ],
   "source": [
    "paises_blocos_economicos"
   ],
   "metadata": {
    "collapsed": false,
    "ExecuteTime": {
     "end_time": "2023-10-15T17:19:06.310917100Z",
     "start_time": "2023-10-15T17:19:06.216091200Z"
    }
   },
   "id": "f90550a59fc16081"
  },
  {
   "cell_type": "code",
   "execution_count": 33,
   "outputs": [],
   "source": [
    "paises_continentes.to_csv('dados/_PAISES_CONTINENTES.csv', index=False, sep=';', encoding=\"ISO-8859-1\") "
   ],
   "metadata": {
    "collapsed": false,
    "ExecuteTime": {
     "end_time": "2023-10-15T17:19:06.310917100Z",
     "start_time": "2023-10-15T17:19:06.236532Z"
    }
   },
   "id": "d2abc697afc5b478"
  },
  {
   "cell_type": "code",
   "execution_count": 40,
   "outputs": [
    {
     "data": {
      "text/plain": "                                NO_BLOCO\nCO_BLOCO                                \n39        Ásia (Exclusive Oriente Médio)\n41                         Oriente Médio\n48                        América do Sul\n51                                África\n61                               Oceania\n105             América Central e Caribe\n107                     América do Norte\n112                               Europa",
      "text/html": "<div>\n<style scoped>\n    .dataframe tbody tr th:only-of-type {\n        vertical-align: middle;\n    }\n\n    .dataframe tbody tr th {\n        vertical-align: top;\n    }\n\n    .dataframe thead th {\n        text-align: right;\n    }\n</style>\n<table border=\"1\" class=\"dataframe\">\n  <thead>\n    <tr style=\"text-align: right;\">\n      <th></th>\n      <th>NO_BLOCO</th>\n    </tr>\n    <tr>\n      <th>CO_BLOCO</th>\n      <th></th>\n    </tr>\n  </thead>\n  <tbody>\n    <tr>\n      <th>39</th>\n      <td>Ásia (Exclusive Oriente Médio)</td>\n    </tr>\n    <tr>\n      <th>41</th>\n      <td>Oriente Médio</td>\n    </tr>\n    <tr>\n      <th>48</th>\n      <td>América do Sul</td>\n    </tr>\n    <tr>\n      <th>51</th>\n      <td>África</td>\n    </tr>\n    <tr>\n      <th>61</th>\n      <td>Oceania</td>\n    </tr>\n    <tr>\n      <th>105</th>\n      <td>América Central e Caribe</td>\n    </tr>\n    <tr>\n      <th>107</th>\n      <td>América do Norte</td>\n    </tr>\n    <tr>\n      <th>112</th>\n      <td>Europa</td>\n    </tr>\n  </tbody>\n</table>\n</div>"
     },
     "execution_count": 40,
     "metadata": {},
     "output_type": "execute_result"
    }
   ],
   "source": [
    "d = {'CO_BLOCO':cod_continentes, 'NO_BLOCO': nom_continentes }\n",
    "continentes = pd.DataFrame(data=d).set_index('CO_BLOCO')\n",
    "continentes"
   ],
   "metadata": {
    "collapsed": false,
    "ExecuteTime": {
     "end_time": "2023-10-15T17:24:52.656380500Z",
     "start_time": "2023-10-15T17:24:52.632042Z"
    }
   },
   "id": "f9b03ad73f14b886"
  },
  {
   "cell_type": "code",
   "execution_count": 42,
   "outputs": [],
   "source": [
    "continentes.to_csv('dados/_CONTINENTES.csv', index=True, sep=';', encoding=\"ISO-8859-1\") "
   ],
   "metadata": {
    "collapsed": false,
    "ExecuteTime": {
     "end_time": "2023-10-15T17:37:07.915401Z",
     "start_time": "2023-10-15T17:37:07.896886100Z"
    }
   },
   "id": "1e023e541d068897"
  },
  {
   "cell_type": "code",
   "execution_count": null,
   "outputs": [],
   "source": [],
   "metadata": {
    "collapsed": false
   },
   "id": "7b92c3b302bc3be2"
  }
 ],
 "metadata": {
  "kernelspec": {
   "display_name": "Python 3",
   "language": "python",
   "name": "python3"
  },
  "language_info": {
   "codemirror_mode": {
    "name": "ipython",
    "version": 2
   },
   "file_extension": ".py",
   "mimetype": "text/x-python",
   "name": "python",
   "nbconvert_exporter": "python",
   "pygments_lexer": "ipython2",
   "version": "2.7.6"
  }
 },
 "nbformat": 4,
 "nbformat_minor": 5
}
