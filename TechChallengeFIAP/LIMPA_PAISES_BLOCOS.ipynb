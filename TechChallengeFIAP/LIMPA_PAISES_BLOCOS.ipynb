{
 "cells": [
  {
   "cell_type": "code",
   "execution_count": 108,
   "id": "aa214d74f15aa949",
   "metadata": {
    "collapsed": true,
    "ExecuteTime": {
     "end_time": "2023-10-18T03:31:58.451929200Z",
     "start_time": "2023-10-18T03:31:58.387198600Z"
    }
   },
   "outputs": [],
   "source": [
    "import pandas as pd\n",
    "\n",
    "blocos = pd.read_csv('dados/PAIS_BLOCO.csv', sep=';', encoding=\"ISO-8859-1\")\n",
    "paises = pd.read_csv('dados/PAIS.csv', sep=';', encoding=\"ISO-8859-1\")\n"
   ]
  },
  {
   "cell_type": "code",
   "execution_count": 109,
   "outputs": [
    {
     "data": {
      "text/plain": "   CO_PAIS  CO_BLOCO NO_BLOCO                NO_BLOCO_ING  \\\n0      788        51   África  Africa (minus MIDDLE EAST)   \n1      525        51   África  Africa (minus MIDDLE EAST)   \n2      229        51   África  Africa (minus MIDDLE EAST)   \n3      281        51   África  Africa (minus MIDDLE EAST)   \n4      438        51   África  Africa (minus MIDDLE EAST)   \n\n                   NO_BLOCO_ESP  \n0  África (menos ORIENTE MEDIO)  \n1  África (menos ORIENTE MEDIO)  \n2  África (menos ORIENTE MEDIO)  \n3  África (menos ORIENTE MEDIO)  \n4  África (menos ORIENTE MEDIO)  ",
      "text/html": "<div>\n<style scoped>\n    .dataframe tbody tr th:only-of-type {\n        vertical-align: middle;\n    }\n\n    .dataframe tbody tr th {\n        vertical-align: top;\n    }\n\n    .dataframe thead th {\n        text-align: right;\n    }\n</style>\n<table border=\"1\" class=\"dataframe\">\n  <thead>\n    <tr style=\"text-align: right;\">\n      <th></th>\n      <th>CO_PAIS</th>\n      <th>CO_BLOCO</th>\n      <th>NO_BLOCO</th>\n      <th>NO_BLOCO_ING</th>\n      <th>NO_BLOCO_ESP</th>\n    </tr>\n  </thead>\n  <tbody>\n    <tr>\n      <th>0</th>\n      <td>788</td>\n      <td>51</td>\n      <td>África</td>\n      <td>Africa (minus MIDDLE EAST)</td>\n      <td>África (menos ORIENTE MEDIO)</td>\n    </tr>\n    <tr>\n      <th>1</th>\n      <td>525</td>\n      <td>51</td>\n      <td>África</td>\n      <td>Africa (minus MIDDLE EAST)</td>\n      <td>África (menos ORIENTE MEDIO)</td>\n    </tr>\n    <tr>\n      <th>2</th>\n      <td>229</td>\n      <td>51</td>\n      <td>África</td>\n      <td>Africa (minus MIDDLE EAST)</td>\n      <td>África (menos ORIENTE MEDIO)</td>\n    </tr>\n    <tr>\n      <th>3</th>\n      <td>281</td>\n      <td>51</td>\n      <td>África</td>\n      <td>Africa (minus MIDDLE EAST)</td>\n      <td>África (menos ORIENTE MEDIO)</td>\n    </tr>\n    <tr>\n      <th>4</th>\n      <td>438</td>\n      <td>51</td>\n      <td>África</td>\n      <td>Africa (minus MIDDLE EAST)</td>\n      <td>África (menos ORIENTE MEDIO)</td>\n    </tr>\n  </tbody>\n</table>\n</div>"
     },
     "execution_count": 109,
     "metadata": {},
     "output_type": "execute_result"
    }
   ],
   "source": [
    "blocos.head()"
   ],
   "metadata": {
    "collapsed": false,
    "ExecuteTime": {
     "end_time": "2023-10-18T03:31:59.284207100Z",
     "start_time": "2023-10-18T03:31:59.232692600Z"
    }
   },
   "id": "9bf59a29ffdea20e"
  },
  {
   "cell_type": "code",
   "execution_count": 110,
   "outputs": [
    {
     "data": {
      "text/plain": "   CO_PAIS  CO_PAIS_ISON3 CO_PAIS_ISOA3                 NO_PAIS  \\\n0        0            898           ZZZ            Não Definido   \n1       13              4           AFG             Afeganistão   \n2       15            248           ALA            Aland, Ilhas   \n3       17              8           ALB                 Albânia   \n4       20            724           ESP  Alboran-Perejil, Ilhas   \n\n                NO_PAIS_ING             NO_PAIS_ESP  \n0               Not defined             No definido  \n1               Afghanistan              Afganistan  \n2             Aland Islands            Alans, Islas  \n3                   Albania                 Albania  \n4  Alboran-Perejil, Islands  Alboran-Perejil, Islas  ",
      "text/html": "<div>\n<style scoped>\n    .dataframe tbody tr th:only-of-type {\n        vertical-align: middle;\n    }\n\n    .dataframe tbody tr th {\n        vertical-align: top;\n    }\n\n    .dataframe thead th {\n        text-align: right;\n    }\n</style>\n<table border=\"1\" class=\"dataframe\">\n  <thead>\n    <tr style=\"text-align: right;\">\n      <th></th>\n      <th>CO_PAIS</th>\n      <th>CO_PAIS_ISON3</th>\n      <th>CO_PAIS_ISOA3</th>\n      <th>NO_PAIS</th>\n      <th>NO_PAIS_ING</th>\n      <th>NO_PAIS_ESP</th>\n    </tr>\n  </thead>\n  <tbody>\n    <tr>\n      <th>0</th>\n      <td>0</td>\n      <td>898</td>\n      <td>ZZZ</td>\n      <td>Não Definido</td>\n      <td>Not defined</td>\n      <td>No definido</td>\n    </tr>\n    <tr>\n      <th>1</th>\n      <td>13</td>\n      <td>4</td>\n      <td>AFG</td>\n      <td>Afeganistão</td>\n      <td>Afghanistan</td>\n      <td>Afganistan</td>\n    </tr>\n    <tr>\n      <th>2</th>\n      <td>15</td>\n      <td>248</td>\n      <td>ALA</td>\n      <td>Aland, Ilhas</td>\n      <td>Aland Islands</td>\n      <td>Alans, Islas</td>\n    </tr>\n    <tr>\n      <th>3</th>\n      <td>17</td>\n      <td>8</td>\n      <td>ALB</td>\n      <td>Albânia</td>\n      <td>Albania</td>\n      <td>Albania</td>\n    </tr>\n    <tr>\n      <th>4</th>\n      <td>20</td>\n      <td>724</td>\n      <td>ESP</td>\n      <td>Alboran-Perejil, Ilhas</td>\n      <td>Alboran-Perejil, Islands</td>\n      <td>Alboran-Perejil, Islas</td>\n    </tr>\n  </tbody>\n</table>\n</div>"
     },
     "execution_count": 110,
     "metadata": {},
     "output_type": "execute_result"
    }
   ],
   "source": [
    "paises.head()"
   ],
   "metadata": {
    "collapsed": false,
    "ExecuteTime": {
     "end_time": "2023-10-18T03:32:00.981827600Z",
     "start_time": "2023-10-18T03:32:00.874747Z"
    }
   },
   "id": "cf84cf9870abd753"
  },
  {
   "cell_type": "code",
   "execution_count": 111,
   "outputs": [],
   "source": [
    "paises = paises[paises.CO_PAIS.isin([42,102,292,343,755,785,786,990,994,995,997,998,999,106,286,579,855])==False]"
   ],
   "metadata": {
    "collapsed": false,
    "ExecuteTime": {
     "end_time": "2023-10-18T03:32:04.424476600Z",
     "start_time": "2023-10-18T03:32:04.382030Z"
    }
   },
   "id": "adfdc1c7f27cd8db"
  },
  {
   "cell_type": "code",
   "execution_count": 112,
   "outputs": [],
   "source": [
    "blocos = blocos[blocos.CO_PAIS.isin([42,102,292,343,755,785,786,990,994,995,997,998,999,106,286, 579,855])==False]"
   ],
   "metadata": {
    "collapsed": false,
    "ExecuteTime": {
     "end_time": "2023-10-18T03:32:05.351810400Z",
     "start_time": "2023-10-18T03:32:05.342287900Z"
    }
   },
   "id": "d35dc5bff9c13c65"
  },
  {
   "cell_type": "code",
   "execution_count": 113,
   "outputs": [
    {
     "data": {
      "text/plain": "array([  0,  13,  15,  17,  20,  23,  25,  31,  37,  40,  41,  43,  47,\n        53,  59,  63,  64,  65,  69,  72,  73,  77,  80,  81,  83,  85,\n        87,  88,  90,  93,  97,  98,  99, 100, 101, 105, 108, 111, 115,\n       119, 127, 137, 141, 145, 149, 150, 151, 152, 153, 154, 158, 160,\n       161, 163, 165, 169, 173, 177, 183, 187, 190, 193, 195, 196, 198,\n       199, 200, 229, 232, 235, 237, 239, 240, 243, 244, 245, 246, 247,\n       249, 251, 253, 255, 259, 267, 271, 275, 281, 285, 289, 291, 293,\n       297, 301, 305, 309, 313, 317, 321, 325, 329, 331, 334, 337, 341,\n       345, 351, 355, 357, 358, 359, 361, 365, 367, 369, 372, 375, 379,\n       383, 386, 388, 391, 393, 396, 399, 403, 411, 420, 423, 426, 427,\n       431, 434, 438, 440, 442, 445, 447, 449, 450, 452, 455, 458, 461,\n       464, 467, 472, 474, 476, 477, 485, 488, 489, 490, 493, 494, 495,\n       497, 498, 499, 501, 505, 507, 508, 511, 517, 521, 525, 528, 531,\n       535, 538, 542, 545, 548, 551, 556, 563, 566, 569, 573, 575, 576,\n       578, 580, 583, 586, 589, 593, 599, 603, 607, 611, 623, 625, 628,\n       640, 647, 660, 665, 670, 675, 676, 677, 678, 685, 687, 690, 691,\n       693, 695, 697, 698, 699, 700, 705, 710, 715, 720, 728, 731, 735,\n       737, 741, 744, 748, 750, 754, 756, 759, 760, 764, 767, 770, 772,\n       776, 780, 781, 782, 783, 788, 790, 791, 795, 800, 805, 810, 815,\n       820, 823, 824, 827, 828, 831, 833, 840, 845, 847, 848, 850, 858,\n       863, 866, 870, 873, 875, 888, 890, 895], dtype=int64)"
     },
     "execution_count": 113,
     "metadata": {},
     "output_type": "execute_result"
    }
   ],
   "source": [
    "paises.CO_PAIS.unique()"
   ],
   "metadata": {
    "collapsed": false,
    "ExecuteTime": {
     "end_time": "2023-10-18T03:32:06.644281700Z",
     "start_time": "2023-10-18T03:32:06.598550900Z"
    }
   },
   "id": "d50469b04dbc4c6b"
  },
  {
   "cell_type": "code",
   "execution_count": 114,
   "outputs": [
    {
     "data": {
      "text/plain": "array([788, 525, 229, 281, 438, 458, 127, 285, 731, 748, 754, 759, 820,\n        31,  40, 115, 173, 240, 253, 434, 488, 710, 735, 485, 685, 760,\n       800, 890,  59, 101, 243, 331, 334, 426, 464, 720, 728, 782, 833,\n       888, 289, 507, 623, 660, 665, 489, 450, 474, 528, 640, 675, 756,\n       780, 783, 177, 193, 329, 505, 145, 866, 200, 863,  77, 137, 317,\n       477, 770, 895, 693,  41, 341, 501, 715, 297, 580,  65,  88, 235,\n       345, 309, 199,  90, 823, 196, 521, 687, 695,  99, 698, 391, 611,\n       699,  43,  47,  83, 647, 678, 700, 705, 815, 493, 149, 249, 337,\n        63, 850, 100, 255, 845, 589, 586, 325, 239, 105, 158, 169,  97,\n       824,  64, 447, 461, 776,  13, 161, 187, 361, 420, 455, 625, 847,\n       291, 576,  73, 365, 750, 772, 267, 141,  81, 795, 741, 517, 423,\n       153, 497, 399, 160, 119, 858, 351, 190, 108,  93, 790, 538, 495,\n       494,  72, 848, 697, 603, 498, 293, 275,  98,  87, 781, 670, 607,\n       573, 388, 163, 840, 827, 467, 452, 386, 379, 367, 259, 111,  85,\n       767, 628, 449, 251, 195,  25, 791, 764, 440, 427, 375, 359, 271,\n       232, 152, 151, 150,  37,  20,  17, 737, 676, 445, 442, 355, 246,\n       393, 831, 305, 301, 247, 245,  23, 321,  15,  69, 531, 805, 411,\n       542, 599, 691, 810, 313, 566, 690, 165, 569, 583, 828, 875, 183,\n       476, 499, 511, 551, 593, 396, 508, 535, 545, 548, 563, 873, 575,\n       490, 472, 870, 677, 383, 369, 556, 372,  80,  53, 578, 358, 244,\n       198, 154, 357, 431,   8, 744, 403, 237], dtype=int64)"
     },
     "execution_count": 114,
     "metadata": {},
     "output_type": "execute_result"
    }
   ],
   "source": [
    "blocos.CO_PAIS.unique()"
   ],
   "metadata": {
    "collapsed": false,
    "ExecuteTime": {
     "end_time": "2023-10-18T03:32:07.605584400Z",
     "start_time": "2023-10-18T03:32:07.571172400Z"
    }
   },
   "id": "c338fc08d4009d4f"
  },
  {
   "cell_type": "code",
   "execution_count": 115,
   "outputs": [
    {
     "data": {
      "text/plain": "     CO_PAIS  CO_PAIS_ISON3 CO_PAIS_ISOA3                       NO_PAIS  \\\n0         13              4           AFG                   Afeganistão   \n1         15            248           ALA                  Aland, Ilhas   \n2         15            248           ALA                  Aland, Ilhas   \n3         17              8           ALB                       Albânia   \n4         20            724           ESP        Alboran-Perejil, Ilhas   \n..       ...            ...           ...                           ...   \n313      873            840           USA                    Wake, Ilha   \n314      875            876           WLF        Wallis e Futuna, Ilhas   \n315      888            180           COD  Congo, República Democrática   \n316      890            894           ZMB                        Zâmbia   \n317      895            592           PCZ       Zona do Canal do Panamá   \n\n                          NO_PAIS_ING                      NO_PAIS_ESP  \\\n0                         Afghanistan                       Afganistan   \n1                       Aland Islands                     Alans, Islas   \n2                       Aland Islands                     Alans, Islas   \n3                             Albania                          Albania   \n4            Alboran-Perejil, Islands           Alboran-Perejil, Islas   \n..                                ...                              ...   \n313                       Wake Island                        Isla Wake   \n314                 Wallis and Futuna                  Wallis y Futuna   \n315  Democratic Republic of the Congo  República Democrática del Congo   \n316                            Zambia                           Zambia   \n317                 Panama Canal Zone         Zona del Canal de Panamá   \n\n     CO_BLOCO                        NO_BLOCO                   NO_BLOCO_ING  \\\n0          39  Ásia (Exclusive Oriente Médio)       Asia (minus MIDDLE EAST)   \n1         112                          Europa                         Europe   \n2          22             União Europeia - UE            European Union (EU)   \n3         112                          Europa                         Europe   \n4         112                          Europa                         Europe   \n..        ...                             ...                            ...   \n313        61                         Oceania                        Oceania   \n314        61                         Oceania                        Oceania   \n315        51                          África     Africa (minus MIDDLE EAST)   \n316        51                          África     Africa (minus MIDDLE EAST)   \n317       105        América Central e Caribe  Central America and Caribbean   \n\n                     NO_BLOCO_ESP  \n0      Asia (menos Oriente Medio)  \n1                          Europa  \n2              Uniao Europea (UE)  \n3                          Europa  \n4                          Europa  \n..                            ...  \n313                       Oceania  \n314                       Oceania  \n315  África (menos ORIENTE MEDIO)  \n316  África (menos ORIENTE MEDIO)  \n317      América Central y Caribe  \n\n[318 rows x 10 columns]",
      "text/html": "<div>\n<style scoped>\n    .dataframe tbody tr th:only-of-type {\n        vertical-align: middle;\n    }\n\n    .dataframe tbody tr th {\n        vertical-align: top;\n    }\n\n    .dataframe thead th {\n        text-align: right;\n    }\n</style>\n<table border=\"1\" class=\"dataframe\">\n  <thead>\n    <tr style=\"text-align: right;\">\n      <th></th>\n      <th>CO_PAIS</th>\n      <th>CO_PAIS_ISON3</th>\n      <th>CO_PAIS_ISOA3</th>\n      <th>NO_PAIS</th>\n      <th>NO_PAIS_ING</th>\n      <th>NO_PAIS_ESP</th>\n      <th>CO_BLOCO</th>\n      <th>NO_BLOCO</th>\n      <th>NO_BLOCO_ING</th>\n      <th>NO_BLOCO_ESP</th>\n    </tr>\n  </thead>\n  <tbody>\n    <tr>\n      <th>0</th>\n      <td>13</td>\n      <td>4</td>\n      <td>AFG</td>\n      <td>Afeganistão</td>\n      <td>Afghanistan</td>\n      <td>Afganistan</td>\n      <td>39</td>\n      <td>Ásia (Exclusive Oriente Médio)</td>\n      <td>Asia (minus MIDDLE EAST)</td>\n      <td>Asia (menos Oriente Medio)</td>\n    </tr>\n    <tr>\n      <th>1</th>\n      <td>15</td>\n      <td>248</td>\n      <td>ALA</td>\n      <td>Aland, Ilhas</td>\n      <td>Aland Islands</td>\n      <td>Alans, Islas</td>\n      <td>112</td>\n      <td>Europa</td>\n      <td>Europe</td>\n      <td>Europa</td>\n    </tr>\n    <tr>\n      <th>2</th>\n      <td>15</td>\n      <td>248</td>\n      <td>ALA</td>\n      <td>Aland, Ilhas</td>\n      <td>Aland Islands</td>\n      <td>Alans, Islas</td>\n      <td>22</td>\n      <td>União Europeia - UE</td>\n      <td>European Union (EU)</td>\n      <td>Uniao Europea (UE)</td>\n    </tr>\n    <tr>\n      <th>3</th>\n      <td>17</td>\n      <td>8</td>\n      <td>ALB</td>\n      <td>Albânia</td>\n      <td>Albania</td>\n      <td>Albania</td>\n      <td>112</td>\n      <td>Europa</td>\n      <td>Europe</td>\n      <td>Europa</td>\n    </tr>\n    <tr>\n      <th>4</th>\n      <td>20</td>\n      <td>724</td>\n      <td>ESP</td>\n      <td>Alboran-Perejil, Ilhas</td>\n      <td>Alboran-Perejil, Islands</td>\n      <td>Alboran-Perejil, Islas</td>\n      <td>112</td>\n      <td>Europa</td>\n      <td>Europe</td>\n      <td>Europa</td>\n    </tr>\n    <tr>\n      <th>...</th>\n      <td>...</td>\n      <td>...</td>\n      <td>...</td>\n      <td>...</td>\n      <td>...</td>\n      <td>...</td>\n      <td>...</td>\n      <td>...</td>\n      <td>...</td>\n      <td>...</td>\n    </tr>\n    <tr>\n      <th>313</th>\n      <td>873</td>\n      <td>840</td>\n      <td>USA</td>\n      <td>Wake, Ilha</td>\n      <td>Wake Island</td>\n      <td>Isla Wake</td>\n      <td>61</td>\n      <td>Oceania</td>\n      <td>Oceania</td>\n      <td>Oceania</td>\n    </tr>\n    <tr>\n      <th>314</th>\n      <td>875</td>\n      <td>876</td>\n      <td>WLF</td>\n      <td>Wallis e Futuna, Ilhas</td>\n      <td>Wallis and Futuna</td>\n      <td>Wallis y Futuna</td>\n      <td>61</td>\n      <td>Oceania</td>\n      <td>Oceania</td>\n      <td>Oceania</td>\n    </tr>\n    <tr>\n      <th>315</th>\n      <td>888</td>\n      <td>180</td>\n      <td>COD</td>\n      <td>Congo, República Democrática</td>\n      <td>Democratic Republic of the Congo</td>\n      <td>República Democrática del Congo</td>\n      <td>51</td>\n      <td>África</td>\n      <td>Africa (minus MIDDLE EAST)</td>\n      <td>África (menos ORIENTE MEDIO)</td>\n    </tr>\n    <tr>\n      <th>316</th>\n      <td>890</td>\n      <td>894</td>\n      <td>ZMB</td>\n      <td>Zâmbia</td>\n      <td>Zambia</td>\n      <td>Zambia</td>\n      <td>51</td>\n      <td>África</td>\n      <td>Africa (minus MIDDLE EAST)</td>\n      <td>África (menos ORIENTE MEDIO)</td>\n    </tr>\n    <tr>\n      <th>317</th>\n      <td>895</td>\n      <td>592</td>\n      <td>PCZ</td>\n      <td>Zona do Canal do Panamá</td>\n      <td>Panama Canal Zone</td>\n      <td>Zona del Canal de Panamá</td>\n      <td>105</td>\n      <td>América Central e Caribe</td>\n      <td>Central America and Caribbean</td>\n      <td>América Central y Caribe</td>\n    </tr>\n  </tbody>\n</table>\n<p>318 rows × 10 columns</p>\n</div>"
     },
     "execution_count": 115,
     "metadata": {},
     "output_type": "execute_result"
    }
   ],
   "source": [
    "paises_blocos = paises.merge(blocos, on=['CO_PAIS'])\n",
    "paises_blocos"
   ],
   "metadata": {
    "collapsed": false,
    "ExecuteTime": {
     "end_time": "2023-10-18T03:32:10.934704Z",
     "start_time": "2023-10-18T03:32:10.886456600Z"
    }
   },
   "id": "15c883ea400a68c5"
  },
  {
   "cell_type": "code",
   "execution_count": 116,
   "outputs": [
    {
     "data": {
      "text/plain": "(318, 10)"
     },
     "execution_count": 116,
     "metadata": {},
     "output_type": "execute_result"
    }
   ],
   "source": [
    "paises_blocos.shape"
   ],
   "metadata": {
    "collapsed": false,
    "ExecuteTime": {
     "end_time": "2023-10-18T03:32:16.248046300Z",
     "start_time": "2023-10-18T03:32:16.212328700Z"
    }
   },
   "id": "c7a41e2054b0f897"
  },
  {
   "cell_type": "code",
   "execution_count": 117,
   "outputs": [],
   "source": [
    "cod_continentes = [39, 41, 48, 51, 61, 105, 107, 112]\n",
    "nom_continentes = ['Ásia (Exclusive Oriente Médio)','Oriente Médio','América do Sul','África','Oceania','América Central e Caribe','América do Norte','Europa']\n",
    "cod_blocos_economicos = [22,53,111]\n",
    "nom_blocos_economicos = ['União Europeia - UE', 'Associação de Nações do Sudeste Asiático - ASEAN', 'Mercado Comum do Sul - Mercosul']\n",
    "paises_continentes = paises_blocos[paises_blocos.CO_BLOCO.isin(cod_continentes)]\n",
    "paises_blocos_economicos = paises_blocos[paises_blocos.CO_BLOCO.isin(cod_blocos_economicos)]"
   ],
   "metadata": {
    "collapsed": false,
    "ExecuteTime": {
     "end_time": "2023-10-18T03:32:18.180485200Z",
     "start_time": "2023-10-18T03:32:18.154556700Z"
    }
   },
   "id": "588107f92b51da6"
  },
  {
   "cell_type": "code",
   "execution_count": 118,
   "outputs": [
    {
     "data": {
      "text/plain": "(318, 10)"
     },
     "execution_count": 118,
     "metadata": {},
     "output_type": "execute_result"
    }
   ],
   "source": [
    "paises_blocos.shape"
   ],
   "metadata": {
    "collapsed": false,
    "ExecuteTime": {
     "end_time": "2023-10-18T03:32:19.138800300Z",
     "start_time": "2023-10-18T03:32:19.107229300Z"
    }
   },
   "id": "d77c6e437dca3848"
  },
  {
   "cell_type": "code",
   "execution_count": 119,
   "outputs": [
    {
     "data": {
      "text/plain": "(51, 10)"
     },
     "execution_count": 119,
     "metadata": {},
     "output_type": "execute_result"
    }
   ],
   "source": [
    "paises_blocos_economicos.shape"
   ],
   "metadata": {
    "collapsed": false,
    "ExecuteTime": {
     "end_time": "2023-10-18T03:32:19.908052700Z",
     "start_time": "2023-10-18T03:32:19.868669400Z"
    }
   },
   "id": "7609951e89399ca9"
  },
  {
   "cell_type": "code",
   "execution_count": 121,
   "outputs": [
    {
     "data": {
      "text/plain": "(267, 10)"
     },
     "execution_count": 121,
     "metadata": {},
     "output_type": "execute_result"
    }
   ],
   "source": [
    "paises_continentes.shape"
   ],
   "metadata": {
    "collapsed": false,
    "ExecuteTime": {
     "end_time": "2023-10-18T03:32:34.462184300Z",
     "start_time": "2023-10-18T03:32:34.411540800Z"
    }
   },
   "id": "b7f8835e712cf45f"
  },
  {
   "cell_type": "code",
   "execution_count": 122,
   "outputs": [
    {
     "data": {
      "text/plain": "                                         CO_PAIS  CO_PAIS_ISON3  \\\nCO_BLOCO NO_BLOCO                                                 \n39       Ásia (Exclusive Oriente Médio)       36             36   \n41       Oriente Médio                        16             16   \n48       América do Sul                       14             14   \n51       África                               59             59   \n61       Oceania                              34             34   \n105      América Central e Caribe             41             41   \n107      América do Norte                      3              3   \n112      Europa                               64             64   \n\n                                         CO_PAIS_ISOA3  NO_PAIS  NO_PAIS_ING  \\\nCO_BLOCO NO_BLOCO                                                              \n39       Ásia (Exclusive Oriente Médio)             36       36           36   \n41       Oriente Médio                              16       16           16   \n48       América do Sul                             14       14           14   \n51       África                                     59       59           59   \n61       Oceania                                    34       34           34   \n105      América Central e Caribe                   41       41           41   \n107      América do Norte                            3        3            3   \n112      Europa                                     64       64           64   \n\n                                         NO_PAIS_ESP  NO_BLOCO_ING  \\\nCO_BLOCO NO_BLOCO                                                    \n39       Ásia (Exclusive Oriente Médio)           36            36   \n41       Oriente Médio                            16            16   \n48       América do Sul                           14            14   \n51       África                                   59            59   \n61       Oceania                                  34            34   \n105      América Central e Caribe                 41            41   \n107      América do Norte                          3             3   \n112      Europa                                   64            64   \n\n                                         NO_BLOCO_ESP  \nCO_BLOCO NO_BLOCO                                      \n39       Ásia (Exclusive Oriente Médio)            36  \n41       Oriente Médio                             16  \n48       América do Sul                            14  \n51       África                                    59  \n61       Oceania                                   34  \n105      América Central e Caribe                  41  \n107      América do Norte                           3  \n112      Europa                                    64  ",
      "text/html": "<div>\n<style scoped>\n    .dataframe tbody tr th:only-of-type {\n        vertical-align: middle;\n    }\n\n    .dataframe tbody tr th {\n        vertical-align: top;\n    }\n\n    .dataframe thead th {\n        text-align: right;\n    }\n</style>\n<table border=\"1\" class=\"dataframe\">\n  <thead>\n    <tr style=\"text-align: right;\">\n      <th></th>\n      <th></th>\n      <th>CO_PAIS</th>\n      <th>CO_PAIS_ISON3</th>\n      <th>CO_PAIS_ISOA3</th>\n      <th>NO_PAIS</th>\n      <th>NO_PAIS_ING</th>\n      <th>NO_PAIS_ESP</th>\n      <th>NO_BLOCO_ING</th>\n      <th>NO_BLOCO_ESP</th>\n    </tr>\n    <tr>\n      <th>CO_BLOCO</th>\n      <th>NO_BLOCO</th>\n      <th></th>\n      <th></th>\n      <th></th>\n      <th></th>\n      <th></th>\n      <th></th>\n      <th></th>\n      <th></th>\n    </tr>\n  </thead>\n  <tbody>\n    <tr>\n      <th>39</th>\n      <th>Ásia (Exclusive Oriente Médio)</th>\n      <td>36</td>\n      <td>36</td>\n      <td>36</td>\n      <td>36</td>\n      <td>36</td>\n      <td>36</td>\n      <td>36</td>\n      <td>36</td>\n    </tr>\n    <tr>\n      <th>41</th>\n      <th>Oriente Médio</th>\n      <td>16</td>\n      <td>16</td>\n      <td>16</td>\n      <td>16</td>\n      <td>16</td>\n      <td>16</td>\n      <td>16</td>\n      <td>16</td>\n    </tr>\n    <tr>\n      <th>48</th>\n      <th>América do Sul</th>\n      <td>14</td>\n      <td>14</td>\n      <td>14</td>\n      <td>14</td>\n      <td>14</td>\n      <td>14</td>\n      <td>14</td>\n      <td>14</td>\n    </tr>\n    <tr>\n      <th>51</th>\n      <th>África</th>\n      <td>59</td>\n      <td>59</td>\n      <td>59</td>\n      <td>59</td>\n      <td>59</td>\n      <td>59</td>\n      <td>59</td>\n      <td>59</td>\n    </tr>\n    <tr>\n      <th>61</th>\n      <th>Oceania</th>\n      <td>34</td>\n      <td>34</td>\n      <td>34</td>\n      <td>34</td>\n      <td>34</td>\n      <td>34</td>\n      <td>34</td>\n      <td>34</td>\n    </tr>\n    <tr>\n      <th>105</th>\n      <th>América Central e Caribe</th>\n      <td>41</td>\n      <td>41</td>\n      <td>41</td>\n      <td>41</td>\n      <td>41</td>\n      <td>41</td>\n      <td>41</td>\n      <td>41</td>\n    </tr>\n    <tr>\n      <th>107</th>\n      <th>América do Norte</th>\n      <td>3</td>\n      <td>3</td>\n      <td>3</td>\n      <td>3</td>\n      <td>3</td>\n      <td>3</td>\n      <td>3</td>\n      <td>3</td>\n    </tr>\n    <tr>\n      <th>112</th>\n      <th>Europa</th>\n      <td>64</td>\n      <td>64</td>\n      <td>64</td>\n      <td>64</td>\n      <td>64</td>\n      <td>64</td>\n      <td>64</td>\n      <td>64</td>\n    </tr>\n  </tbody>\n</table>\n</div>"
     },
     "execution_count": 122,
     "metadata": {},
     "output_type": "execute_result"
    }
   ],
   "source": [
    "paises_continentes.groupby(['CO_BLOCO', 'NO_BLOCO']).count()"
   ],
   "metadata": {
    "collapsed": false,
    "ExecuteTime": {
     "end_time": "2023-10-18T03:32:39.830736700Z",
     "start_time": "2023-10-18T03:32:39.787165Z"
    }
   },
   "id": "5ee133071841e0fd"
  },
  {
   "cell_type": "code",
   "execution_count": 123,
   "outputs": [
    {
     "data": {
      "text/plain": "     CO_PAIS  CO_PAIS_ISON3 CO_PAIS_ISOA3  \\\n39       100            898           BRA   \n121      321            898           GGY   \n152      393            898           ZZZ   \n283      781            898           ATF   \n\n                                 NO_PAIS  \\\n39   Internação na Zona Franca de Manaus   \n121                             Guernsey   \n152                               Jersey   \n283            Terras Austrais Francesas   \n\n                                  NO_PAIS_ING  \\\n39   Internment in the Manaus Free Trade Zone   \n121                                  Guernsey   \n152                                    Jersey   \n283                     French Southern Lands   \n\n                                   NO_PAIS_ESP  CO_BLOCO  \\\n39   Internamiento de la Zona Franca de Manaus       111   \n121                                   Guernsey        22   \n152                                     Jersey        22   \n283                Tierras Australes Francesas        22   \n\n                            NO_BLOCO                       NO_BLOCO_ING  \\\n39   Mercado Comum do Sul - Mercosul  Southern Common Market (MERCOSUL)   \n121              União Europeia - UE                European Union (EU)   \n152              União Europeia - UE                European Union (EU)   \n283              União Europeia - UE                European Union (EU)   \n\n                         NO_BLOCO_ESP  \n39   Mercado Comum del Sur (MERCOSUR)  \n121                Uniao Europea (UE)  \n152                Uniao Europea (UE)  \n283                Uniao Europea (UE)  ",
      "text/html": "<div>\n<style scoped>\n    .dataframe tbody tr th:only-of-type {\n        vertical-align: middle;\n    }\n\n    .dataframe tbody tr th {\n        vertical-align: top;\n    }\n\n    .dataframe thead th {\n        text-align: right;\n    }\n</style>\n<table border=\"1\" class=\"dataframe\">\n  <thead>\n    <tr style=\"text-align: right;\">\n      <th></th>\n      <th>CO_PAIS</th>\n      <th>CO_PAIS_ISON3</th>\n      <th>CO_PAIS_ISOA3</th>\n      <th>NO_PAIS</th>\n      <th>NO_PAIS_ING</th>\n      <th>NO_PAIS_ESP</th>\n      <th>CO_BLOCO</th>\n      <th>NO_BLOCO</th>\n      <th>NO_BLOCO_ING</th>\n      <th>NO_BLOCO_ESP</th>\n    </tr>\n  </thead>\n  <tbody>\n    <tr>\n      <th>39</th>\n      <td>100</td>\n      <td>898</td>\n      <td>BRA</td>\n      <td>Internação na Zona Franca de Manaus</td>\n      <td>Internment in the Manaus Free Trade Zone</td>\n      <td>Internamiento de la Zona Franca de Manaus</td>\n      <td>111</td>\n      <td>Mercado Comum do Sul - Mercosul</td>\n      <td>Southern Common Market (MERCOSUL)</td>\n      <td>Mercado Comum del Sur (MERCOSUR)</td>\n    </tr>\n    <tr>\n      <th>121</th>\n      <td>321</td>\n      <td>898</td>\n      <td>GGY</td>\n      <td>Guernsey</td>\n      <td>Guernsey</td>\n      <td>Guernsey</td>\n      <td>22</td>\n      <td>União Europeia - UE</td>\n      <td>European Union (EU)</td>\n      <td>Uniao Europea (UE)</td>\n    </tr>\n    <tr>\n      <th>152</th>\n      <td>393</td>\n      <td>898</td>\n      <td>ZZZ</td>\n      <td>Jersey</td>\n      <td>Jersey</td>\n      <td>Jersey</td>\n      <td>22</td>\n      <td>União Europeia - UE</td>\n      <td>European Union (EU)</td>\n      <td>Uniao Europea (UE)</td>\n    </tr>\n    <tr>\n      <th>283</th>\n      <td>781</td>\n      <td>898</td>\n      <td>ATF</td>\n      <td>Terras Austrais Francesas</td>\n      <td>French Southern Lands</td>\n      <td>Tierras Australes Francesas</td>\n      <td>22</td>\n      <td>União Europeia - UE</td>\n      <td>European Union (EU)</td>\n      <td>Uniao Europea (UE)</td>\n    </tr>\n  </tbody>\n</table>\n</div>"
     },
     "execution_count": 123,
     "metadata": {},
     "output_type": "execute_result"
    }
   ],
   "source": [
    "paises_blocos_economicos.query(\"CO_PAIS_ISON3 == 898\")"
   ],
   "metadata": {
    "collapsed": false,
    "ExecuteTime": {
     "end_time": "2023-10-18T03:32:44.768774700Z",
     "start_time": "2023-10-18T03:32:44.654903800Z"
    }
   },
   "id": "a0ff90ac3d28fea4"
  },
  {
   "cell_type": "code",
   "execution_count": 124,
   "outputs": [
    {
     "data": {
      "text/plain": "     CO_PAIS  CO_PAIS_ISON3 CO_PAIS_ISOA3                       NO_PAIS  \\\n0         13              4           AFG                   Afeganistão   \n1         15            248           ALA                  Aland, Ilhas   \n3         17              8           ALB                       Albânia   \n4         20            724           ESP        Alboran-Perejil, Ilhas   \n5         23            276           DEU                      Alemanha   \n..       ...            ...           ...                           ...   \n313      873            840           USA                    Wake, Ilha   \n314      875            876           WLF        Wallis e Futuna, Ilhas   \n315      888            180           COD  Congo, República Democrática   \n316      890            894           ZMB                        Zâmbia   \n317      895            592           PCZ       Zona do Canal do Panamá   \n\n                          NO_PAIS_ING                      NO_PAIS_ESP  \\\n0                         Afghanistan                       Afganistan   \n1                       Aland Islands                     Alans, Islas   \n3                             Albania                          Albania   \n4            Alboran-Perejil, Islands           Alboran-Perejil, Islas   \n5                             Germany                         Alemania   \n..                                ...                              ...   \n313                       Wake Island                        Isla Wake   \n314                 Wallis and Futuna                  Wallis y Futuna   \n315  Democratic Republic of the Congo  República Democrática del Congo   \n316                            Zambia                           Zambia   \n317                 Panama Canal Zone         Zona del Canal de Panamá   \n\n     CO_BLOCO                        NO_BLOCO                   NO_BLOCO_ING  \\\n0          39  Ásia (Exclusive Oriente Médio)       Asia (minus MIDDLE EAST)   \n1         112                          Europa                         Europe   \n3         112                          Europa                         Europe   \n4         112                          Europa                         Europe   \n5         112                          Europa                         Europe   \n..        ...                             ...                            ...   \n313        61                         Oceania                        Oceania   \n314        61                         Oceania                        Oceania   \n315        51                          África     Africa (minus MIDDLE EAST)   \n316        51                          África     Africa (minus MIDDLE EAST)   \n317       105        América Central e Caribe  Central America and Caribbean   \n\n                     NO_BLOCO_ESP  \n0      Asia (menos Oriente Medio)  \n1                          Europa  \n3                          Europa  \n4                          Europa  \n5                          Europa  \n..                            ...  \n313                       Oceania  \n314                       Oceania  \n315  África (menos ORIENTE MEDIO)  \n316  África (menos ORIENTE MEDIO)  \n317      América Central y Caribe  \n\n[267 rows x 10 columns]",
      "text/html": "<div>\n<style scoped>\n    .dataframe tbody tr th:only-of-type {\n        vertical-align: middle;\n    }\n\n    .dataframe tbody tr th {\n        vertical-align: top;\n    }\n\n    .dataframe thead th {\n        text-align: right;\n    }\n</style>\n<table border=\"1\" class=\"dataframe\">\n  <thead>\n    <tr style=\"text-align: right;\">\n      <th></th>\n      <th>CO_PAIS</th>\n      <th>CO_PAIS_ISON3</th>\n      <th>CO_PAIS_ISOA3</th>\n      <th>NO_PAIS</th>\n      <th>NO_PAIS_ING</th>\n      <th>NO_PAIS_ESP</th>\n      <th>CO_BLOCO</th>\n      <th>NO_BLOCO</th>\n      <th>NO_BLOCO_ING</th>\n      <th>NO_BLOCO_ESP</th>\n    </tr>\n  </thead>\n  <tbody>\n    <tr>\n      <th>0</th>\n      <td>13</td>\n      <td>4</td>\n      <td>AFG</td>\n      <td>Afeganistão</td>\n      <td>Afghanistan</td>\n      <td>Afganistan</td>\n      <td>39</td>\n      <td>Ásia (Exclusive Oriente Médio)</td>\n      <td>Asia (minus MIDDLE EAST)</td>\n      <td>Asia (menos Oriente Medio)</td>\n    </tr>\n    <tr>\n      <th>1</th>\n      <td>15</td>\n      <td>248</td>\n      <td>ALA</td>\n      <td>Aland, Ilhas</td>\n      <td>Aland Islands</td>\n      <td>Alans, Islas</td>\n      <td>112</td>\n      <td>Europa</td>\n      <td>Europe</td>\n      <td>Europa</td>\n    </tr>\n    <tr>\n      <th>3</th>\n      <td>17</td>\n      <td>8</td>\n      <td>ALB</td>\n      <td>Albânia</td>\n      <td>Albania</td>\n      <td>Albania</td>\n      <td>112</td>\n      <td>Europa</td>\n      <td>Europe</td>\n      <td>Europa</td>\n    </tr>\n    <tr>\n      <th>4</th>\n      <td>20</td>\n      <td>724</td>\n      <td>ESP</td>\n      <td>Alboran-Perejil, Ilhas</td>\n      <td>Alboran-Perejil, Islands</td>\n      <td>Alboran-Perejil, Islas</td>\n      <td>112</td>\n      <td>Europa</td>\n      <td>Europe</td>\n      <td>Europa</td>\n    </tr>\n    <tr>\n      <th>5</th>\n      <td>23</td>\n      <td>276</td>\n      <td>DEU</td>\n      <td>Alemanha</td>\n      <td>Germany</td>\n      <td>Alemania</td>\n      <td>112</td>\n      <td>Europa</td>\n      <td>Europe</td>\n      <td>Europa</td>\n    </tr>\n    <tr>\n      <th>...</th>\n      <td>...</td>\n      <td>...</td>\n      <td>...</td>\n      <td>...</td>\n      <td>...</td>\n      <td>...</td>\n      <td>...</td>\n      <td>...</td>\n      <td>...</td>\n      <td>...</td>\n    </tr>\n    <tr>\n      <th>313</th>\n      <td>873</td>\n      <td>840</td>\n      <td>USA</td>\n      <td>Wake, Ilha</td>\n      <td>Wake Island</td>\n      <td>Isla Wake</td>\n      <td>61</td>\n      <td>Oceania</td>\n      <td>Oceania</td>\n      <td>Oceania</td>\n    </tr>\n    <tr>\n      <th>314</th>\n      <td>875</td>\n      <td>876</td>\n      <td>WLF</td>\n      <td>Wallis e Futuna, Ilhas</td>\n      <td>Wallis and Futuna</td>\n      <td>Wallis y Futuna</td>\n      <td>61</td>\n      <td>Oceania</td>\n      <td>Oceania</td>\n      <td>Oceania</td>\n    </tr>\n    <tr>\n      <th>315</th>\n      <td>888</td>\n      <td>180</td>\n      <td>COD</td>\n      <td>Congo, República Democrática</td>\n      <td>Democratic Republic of the Congo</td>\n      <td>República Democrática del Congo</td>\n      <td>51</td>\n      <td>África</td>\n      <td>Africa (minus MIDDLE EAST)</td>\n      <td>África (menos ORIENTE MEDIO)</td>\n    </tr>\n    <tr>\n      <th>316</th>\n      <td>890</td>\n      <td>894</td>\n      <td>ZMB</td>\n      <td>Zâmbia</td>\n      <td>Zambia</td>\n      <td>Zambia</td>\n      <td>51</td>\n      <td>África</td>\n      <td>Africa (minus MIDDLE EAST)</td>\n      <td>África (menos ORIENTE MEDIO)</td>\n    </tr>\n    <tr>\n      <th>317</th>\n      <td>895</td>\n      <td>592</td>\n      <td>PCZ</td>\n      <td>Zona do Canal do Panamá</td>\n      <td>Panama Canal Zone</td>\n      <td>Zona del Canal de Panamá</td>\n      <td>105</td>\n      <td>América Central e Caribe</td>\n      <td>Central America and Caribbean</td>\n      <td>América Central y Caribe</td>\n    </tr>\n  </tbody>\n</table>\n<p>267 rows × 10 columns</p>\n</div>"
     },
     "execution_count": 124,
     "metadata": {},
     "output_type": "execute_result"
    }
   ],
   "source": [
    "paises_continentes"
   ],
   "metadata": {
    "collapsed": false,
    "ExecuteTime": {
     "end_time": "2023-10-18T03:33:26.024539200Z",
     "start_time": "2023-10-18T03:33:25.901717Z"
    }
   },
   "id": "6fc28814e668574d"
  },
  {
   "cell_type": "code",
   "execution_count": 125,
   "outputs": [
    {
     "data": {
      "text/plain": "     CO_PAIS  CO_PAIS_ISON3 CO_PAIS_ISOA3  \\\n2         15            248           ALA   \n6         23            276           DEU   \n17        63             32           ARG   \n22        72             40           AUT   \n30        87             56           BEL   \n34        93            104           MMR   \n39       100            898           BRA   \n42       105             76           BRA   \n44       108             96           BRN   \n46       111            100           BGR   \n52       141            116           KHM   \n56       150            831           GGY   \n58       151            724           ESP   \n66       163            196           CYP   \n76       195            191           HRV   \n83       232            208           DNK   \n91       245            724           ESP   \n93       246            705           SVN   \n95       247            703           SVK   \n98       251            233           EST   \n103      267            608           PHL   \n105      271            246           FIN   \n107      275            250           FRA   \n115      301            300           GRC   \n121      321            898           GGY   \n131      355            348           HUN   \n135      359            833           IMN   \n138      365            360           IDN   \n140      367            826           GBR   \n144      375            372           IRL   \n148      386            380           ITA   \n152      393            898           ZZZ   \n158      420            418           LAO   \n162      427            428           LVA   \n168      442            440           LTU   \n170      445            442           LUX   \n175      452            620           PRT   \n177      455            458           MYS   \n182      467            470           MLT   \n218      573            528           NLD   \n225      586            600           PRY   \n230      603            616           POL   \n232      607            620           PRT   \n242      670            642           ROU   \n266      741            702           SGP   \n275      764            752           SWE   \n280      776            764           THA   \n283      781            898           ATF   \n289      791            203           CZE   \n304      845            858           URY   \n309      858            704           VNM   \n\n                                 NO_PAIS  \\\n2                           Aland, Ilhas   \n6                               Alemanha   \n17                             Argentina   \n22                               Áustria   \n30                               Bélgica   \n34                               Mianmar   \n39   Internação na Zona Franca de Manaus   \n42                                Brasil   \n44                                Brunei   \n46                              Bulgária   \n52                               Camboja   \n56            Canal, Ilhas do (Guernsey)   \n58                       Canárias, Ilhas   \n66                                Chipre   \n76                               Croácia   \n83                             Dinamarca   \n91                               Espanha   \n93                             Eslovênia   \n95                            Eslováquia   \n98                               Estônia   \n103                            Filipinas   \n105                            Finlândia   \n107                               França   \n115                               Grécia   \n121                             Guernsey   \n131                              Hungria   \n135                          Ilha de Man   \n138                            Indonésia   \n140                           Inglaterra   \n144                              Irlanda   \n148                               Itália   \n152                               Jersey   \n158                                 Laos   \n162                              Letônia   \n168                             Lituânia   \n170                           Luxemburgo   \n175                     Madeira, Ilha da   \n177                              Malásia   \n182                                Malta   \n218              Países Baixos (Holanda)   \n225                             Paraguai   \n230                              Polônia   \n232                             Portugal   \n242                              Romênia   \n266                            Singapura   \n275                               Suécia   \n280                            Tailândia   \n283            Terras Austrais Francesas   \n289                    Tcheca, República   \n304                              Uruguai   \n309                               Vietnã   \n\n                                  NO_PAIS_ING  \\\n2                               Aland Islands   \n6                                     Germany   \n17                                  Argentina   \n22                                    Austria   \n30                                    Belgium   \n34                                    Myanmar   \n39   Internment in the Manaus Free Trade Zone   \n42                                     Brazil   \n44                                     Brunei   \n46                                   Bulgaria   \n52                                   Cambodia   \n56                                   Guernsey   \n58                            Canary, Islands   \n66                                     Cyprus   \n76                                    Croatia   \n83                                    Denmark   \n91                                      Spain   \n93                                   Slovenia   \n95                                   Slovakia   \n98                                    Estonia   \n103                               Philippines   \n105                                   Finland   \n107                                    France   \n115                                    Greece   \n121                                  Guernsey   \n131                                   Hungary   \n135                               Isle of Man   \n138                                 Indonesia   \n140                                   England   \n144                                   Ireland   \n148                                     Italy   \n152                                    Jersey   \n158                                      Laos   \n162                                    Latvia   \n168                                 Lithuania   \n170                                Luxembourg   \n175                                   Madeira   \n177                                  Malaysia   \n182                                     Malta   \n218                               Netherlands   \n225                                  Paraguay   \n230                                    Poland   \n232                                  Portugal   \n242                                   Romania   \n266                                 Singapore   \n275                                    Sweden   \n280                                  Thailand   \n283                     French Southern Lands   \n289                            Czech Republic   \n304                                   Uruguay   \n309                                   Vietnam   \n\n                                   NO_PAIS_ESP  CO_BLOCO  \\\n2                                 Alans, Islas        22   \n6                                     Alemania        22   \n17                                   Argentina       111   \n22                                     Austria        22   \n30                                     Bélgica        22   \n34                                     Myanmar        53   \n39   Internamiento de la Zona Franca de Manaus       111   \n42                                      Brasil       111   \n44                                      Brunei        53   \n46                                    Bulgaria        22   \n52                                     Camboya        53   \n56                                    Guernsey        22   \n58                             Canarias, Islas        22   \n66                                      Chipre        22   \n76                                     Croacia        22   \n83                                   Dinamarca        22   \n91                                      España        22   \n93                                   Eslovenia        22   \n95                                  Eslovaquia        22   \n98                                     Estonia        22   \n103                                  Filipinas        53   \n105                                  Finlandia        22   \n107                                    Francia        22   \n115                                     Grecia        22   \n121                                   Guernsey        22   \n131                                    Hungría        22   \n135                                Isla de Man        22   \n138                                  Indonesia        53   \n140                                 Inglaterra        22   \n144                                    Irlanda        22   \n148                                     Italia        22   \n152                                     Jersey        22   \n158                                       Laos        53   \n162                                    Letonia        22   \n168                                   Lituania        22   \n170                                 Luxemburgo        22   \n175                                    Madeira        22   \n177                                    Malasia        53   \n182                                      Malta        22   \n218                               Países Bajos        22   \n225                                   Paraguay       111   \n230                                    Polonia        22   \n232                                   Portugal        22   \n242                                    Rumania        22   \n266                                   Singapur        53   \n275                                     Suecia        22   \n280                                  Tailandia        53   \n283                Tierras Australes Francesas        22   \n289                            República Checa        22   \n304                                    Uruguay       111   \n309                                   Viet Nam        53   \n\n                                             NO_BLOCO  \\\n2                                 União Europeia - UE   \n6                                 União Europeia - UE   \n17                    Mercado Comum do Sul - Mercosul   \n22                                União Europeia - UE   \n30                                União Europeia - UE   \n34   Associação de Nações do Sudeste Asiático - ASEAN   \n39                    Mercado Comum do Sul - Mercosul   \n42                    Mercado Comum do Sul - Mercosul   \n44   Associação de Nações do Sudeste Asiático - ASEAN   \n46                                União Europeia - UE   \n52   Associação de Nações do Sudeste Asiático - ASEAN   \n56                                União Europeia - UE   \n58                                União Europeia - UE   \n66                                União Europeia - UE   \n76                                União Europeia - UE   \n83                                União Europeia - UE   \n91                                União Europeia - UE   \n93                                União Europeia - UE   \n95                                União Europeia - UE   \n98                                União Europeia - UE   \n103  Associação de Nações do Sudeste Asiático - ASEAN   \n105                               União Europeia - UE   \n107                               União Europeia - UE   \n115                               União Europeia - UE   \n121                               União Europeia - UE   \n131                               União Europeia - UE   \n135                               União Europeia - UE   \n138  Associação de Nações do Sudeste Asiático - ASEAN   \n140                               União Europeia - UE   \n144                               União Europeia - UE   \n148                               União Europeia - UE   \n152                               União Europeia - UE   \n158  Associação de Nações do Sudeste Asiático - ASEAN   \n162                               União Europeia - UE   \n168                               União Europeia - UE   \n170                               União Europeia - UE   \n175                               União Europeia - UE   \n177  Associação de Nações do Sudeste Asiático - ASEAN   \n182                               União Europeia - UE   \n218                               União Europeia - UE   \n225                   Mercado Comum do Sul - Mercosul   \n230                               União Europeia - UE   \n232                               União Europeia - UE   \n242                               União Europeia - UE   \n266  Associação de Nações do Sudeste Asiático - ASEAN   \n275                               União Europeia - UE   \n280  Associação de Nações do Sudeste Asiático - ASEAN   \n283                               União Europeia - UE   \n289                               União Europeia - UE   \n304                   Mercado Comum do Sul - Mercosul   \n309  Associação de Nações do Sudeste Asiático - ASEAN   \n\n                                       NO_BLOCO_ING  \\\n2                               European Union (EU)   \n6                               European Union (EU)   \n17                Southern Common Market (MERCOSUL)   \n22                              European Union (EU)   \n30                              European Union (EU)   \n34   Association Of Southeast Asian Nations (ASEAN)   \n39                Southern Common Market (MERCOSUL)   \n42                Southern Common Market (MERCOSUL)   \n44   Association Of Southeast Asian Nations (ASEAN)   \n46                              European Union (EU)   \n52   Association Of Southeast Asian Nations (ASEAN)   \n56                              European Union (EU)   \n58                              European Union (EU)   \n66                              European Union (EU)   \n76                              European Union (EU)   \n83                              European Union (EU)   \n91                              European Union (EU)   \n93                              European Union (EU)   \n95                              European Union (EU)   \n98                              European Union (EU)   \n103  Association Of Southeast Asian Nations (ASEAN)   \n105                             European Union (EU)   \n107                             European Union (EU)   \n115                             European Union (EU)   \n121                             European Union (EU)   \n131                             European Union (EU)   \n135                             European Union (EU)   \n138  Association Of Southeast Asian Nations (ASEAN)   \n140                             European Union (EU)   \n144                             European Union (EU)   \n148                             European Union (EU)   \n152                             European Union (EU)   \n158  Association Of Southeast Asian Nations (ASEAN)   \n162                             European Union (EU)   \n168                             European Union (EU)   \n170                             European Union (EU)   \n175                             European Union (EU)   \n177  Association Of Southeast Asian Nations (ASEAN)   \n182                             European Union (EU)   \n218                             European Union (EU)   \n225               Southern Common Market (MERCOSUL)   \n230                             European Union (EU)   \n232                             European Union (EU)   \n242                             European Union (EU)   \n266  Association Of Southeast Asian Nations (ASEAN)   \n275                             European Union (EU)   \n280  Association Of Southeast Asian Nations (ASEAN)   \n283                             European Union (EU)   \n289                             European Union (EU)   \n304               Southern Common Market (MERCOSUL)   \n309  Association Of Southeast Asian Nations (ASEAN)   \n\n                                          NO_BLOCO_ESP  \n2                                   Uniao Europea (UE)  \n6                                   Uniao Europea (UE)  \n17                    Mercado Comum del Sur (MERCOSUR)  \n22                                  Uniao Europea (UE)  \n30                                  Uniao Europea (UE)  \n34   Asociación de Países del Sudeste Asiático (ASEAN)  \n39                    Mercado Comum del Sur (MERCOSUR)  \n42                    Mercado Comum del Sur (MERCOSUR)  \n44   Asociación de Países del Sudeste Asiático (ASEAN)  \n46                                  Uniao Europea (UE)  \n52   Asociación de Países del Sudeste Asiático (ASEAN)  \n56                                  Uniao Europea (UE)  \n58                                  Uniao Europea (UE)  \n66                                  Uniao Europea (UE)  \n76                                  Uniao Europea (UE)  \n83                                  Uniao Europea (UE)  \n91                                  Uniao Europea (UE)  \n93                                  Uniao Europea (UE)  \n95                                  Uniao Europea (UE)  \n98                                  Uniao Europea (UE)  \n103  Asociación de Países del Sudeste Asiático (ASEAN)  \n105                                 Uniao Europea (UE)  \n107                                 Uniao Europea (UE)  \n115                                 Uniao Europea (UE)  \n121                                 Uniao Europea (UE)  \n131                                 Uniao Europea (UE)  \n135                                 Uniao Europea (UE)  \n138  Asociación de Países del Sudeste Asiático (ASEAN)  \n140                                 Uniao Europea (UE)  \n144                                 Uniao Europea (UE)  \n148                                 Uniao Europea (UE)  \n152                                 Uniao Europea (UE)  \n158  Asociación de Países del Sudeste Asiático (ASEAN)  \n162                                 Uniao Europea (UE)  \n168                                 Uniao Europea (UE)  \n170                                 Uniao Europea (UE)  \n175                                 Uniao Europea (UE)  \n177  Asociación de Países del Sudeste Asiático (ASEAN)  \n182                                 Uniao Europea (UE)  \n218                                 Uniao Europea (UE)  \n225                   Mercado Comum del Sur (MERCOSUR)  \n230                                 Uniao Europea (UE)  \n232                                 Uniao Europea (UE)  \n242                                 Uniao Europea (UE)  \n266  Asociación de Países del Sudeste Asiático (ASEAN)  \n275                                 Uniao Europea (UE)  \n280  Asociación de Países del Sudeste Asiático (ASEAN)  \n283                                 Uniao Europea (UE)  \n289                                 Uniao Europea (UE)  \n304                   Mercado Comum del Sur (MERCOSUR)  \n309  Asociación de Países del Sudeste Asiático (ASEAN)  ",
      "text/html": "<div>\n<style scoped>\n    .dataframe tbody tr th:only-of-type {\n        vertical-align: middle;\n    }\n\n    .dataframe tbody tr th {\n        vertical-align: top;\n    }\n\n    .dataframe thead th {\n        text-align: right;\n    }\n</style>\n<table border=\"1\" class=\"dataframe\">\n  <thead>\n    <tr style=\"text-align: right;\">\n      <th></th>\n      <th>CO_PAIS</th>\n      <th>CO_PAIS_ISON3</th>\n      <th>CO_PAIS_ISOA3</th>\n      <th>NO_PAIS</th>\n      <th>NO_PAIS_ING</th>\n      <th>NO_PAIS_ESP</th>\n      <th>CO_BLOCO</th>\n      <th>NO_BLOCO</th>\n      <th>NO_BLOCO_ING</th>\n      <th>NO_BLOCO_ESP</th>\n    </tr>\n  </thead>\n  <tbody>\n    <tr>\n      <th>2</th>\n      <td>15</td>\n      <td>248</td>\n      <td>ALA</td>\n      <td>Aland, Ilhas</td>\n      <td>Aland Islands</td>\n      <td>Alans, Islas</td>\n      <td>22</td>\n      <td>União Europeia - UE</td>\n      <td>European Union (EU)</td>\n      <td>Uniao Europea (UE)</td>\n    </tr>\n    <tr>\n      <th>6</th>\n      <td>23</td>\n      <td>276</td>\n      <td>DEU</td>\n      <td>Alemanha</td>\n      <td>Germany</td>\n      <td>Alemania</td>\n      <td>22</td>\n      <td>União Europeia - UE</td>\n      <td>European Union (EU)</td>\n      <td>Uniao Europea (UE)</td>\n    </tr>\n    <tr>\n      <th>17</th>\n      <td>63</td>\n      <td>32</td>\n      <td>ARG</td>\n      <td>Argentina</td>\n      <td>Argentina</td>\n      <td>Argentina</td>\n      <td>111</td>\n      <td>Mercado Comum do Sul - Mercosul</td>\n      <td>Southern Common Market (MERCOSUL)</td>\n      <td>Mercado Comum del Sur (MERCOSUR)</td>\n    </tr>\n    <tr>\n      <th>22</th>\n      <td>72</td>\n      <td>40</td>\n      <td>AUT</td>\n      <td>Áustria</td>\n      <td>Austria</td>\n      <td>Austria</td>\n      <td>22</td>\n      <td>União Europeia - UE</td>\n      <td>European Union (EU)</td>\n      <td>Uniao Europea (UE)</td>\n    </tr>\n    <tr>\n      <th>30</th>\n      <td>87</td>\n      <td>56</td>\n      <td>BEL</td>\n      <td>Bélgica</td>\n      <td>Belgium</td>\n      <td>Bélgica</td>\n      <td>22</td>\n      <td>União Europeia - UE</td>\n      <td>European Union (EU)</td>\n      <td>Uniao Europea (UE)</td>\n    </tr>\n    <tr>\n      <th>34</th>\n      <td>93</td>\n      <td>104</td>\n      <td>MMR</td>\n      <td>Mianmar</td>\n      <td>Myanmar</td>\n      <td>Myanmar</td>\n      <td>53</td>\n      <td>Associação de Nações do Sudeste Asiático - ASEAN</td>\n      <td>Association Of Southeast Asian Nations (ASEAN)</td>\n      <td>Asociación de Países del Sudeste Asiático (ASEAN)</td>\n    </tr>\n    <tr>\n      <th>39</th>\n      <td>100</td>\n      <td>898</td>\n      <td>BRA</td>\n      <td>Internação na Zona Franca de Manaus</td>\n      <td>Internment in the Manaus Free Trade Zone</td>\n      <td>Internamiento de la Zona Franca de Manaus</td>\n      <td>111</td>\n      <td>Mercado Comum do Sul - Mercosul</td>\n      <td>Southern Common Market (MERCOSUL)</td>\n      <td>Mercado Comum del Sur (MERCOSUR)</td>\n    </tr>\n    <tr>\n      <th>42</th>\n      <td>105</td>\n      <td>76</td>\n      <td>BRA</td>\n      <td>Brasil</td>\n      <td>Brazil</td>\n      <td>Brasil</td>\n      <td>111</td>\n      <td>Mercado Comum do Sul - Mercosul</td>\n      <td>Southern Common Market (MERCOSUL)</td>\n      <td>Mercado Comum del Sur (MERCOSUR)</td>\n    </tr>\n    <tr>\n      <th>44</th>\n      <td>108</td>\n      <td>96</td>\n      <td>BRN</td>\n      <td>Brunei</td>\n      <td>Brunei</td>\n      <td>Brunei</td>\n      <td>53</td>\n      <td>Associação de Nações do Sudeste Asiático - ASEAN</td>\n      <td>Association Of Southeast Asian Nations (ASEAN)</td>\n      <td>Asociación de Países del Sudeste Asiático (ASEAN)</td>\n    </tr>\n    <tr>\n      <th>46</th>\n      <td>111</td>\n      <td>100</td>\n      <td>BGR</td>\n      <td>Bulgária</td>\n      <td>Bulgaria</td>\n      <td>Bulgaria</td>\n      <td>22</td>\n      <td>União Europeia - UE</td>\n      <td>European Union (EU)</td>\n      <td>Uniao Europea (UE)</td>\n    </tr>\n    <tr>\n      <th>52</th>\n      <td>141</td>\n      <td>116</td>\n      <td>KHM</td>\n      <td>Camboja</td>\n      <td>Cambodia</td>\n      <td>Camboya</td>\n      <td>53</td>\n      <td>Associação de Nações do Sudeste Asiático - ASEAN</td>\n      <td>Association Of Southeast Asian Nations (ASEAN)</td>\n      <td>Asociación de Países del Sudeste Asiático (ASEAN)</td>\n    </tr>\n    <tr>\n      <th>56</th>\n      <td>150</td>\n      <td>831</td>\n      <td>GGY</td>\n      <td>Canal, Ilhas do (Guernsey)</td>\n      <td>Guernsey</td>\n      <td>Guernsey</td>\n      <td>22</td>\n      <td>União Europeia - UE</td>\n      <td>European Union (EU)</td>\n      <td>Uniao Europea (UE)</td>\n    </tr>\n    <tr>\n      <th>58</th>\n      <td>151</td>\n      <td>724</td>\n      <td>ESP</td>\n      <td>Canárias, Ilhas</td>\n      <td>Canary, Islands</td>\n      <td>Canarias, Islas</td>\n      <td>22</td>\n      <td>União Europeia - UE</td>\n      <td>European Union (EU)</td>\n      <td>Uniao Europea (UE)</td>\n    </tr>\n    <tr>\n      <th>66</th>\n      <td>163</td>\n      <td>196</td>\n      <td>CYP</td>\n      <td>Chipre</td>\n      <td>Cyprus</td>\n      <td>Chipre</td>\n      <td>22</td>\n      <td>União Europeia - UE</td>\n      <td>European Union (EU)</td>\n      <td>Uniao Europea (UE)</td>\n    </tr>\n    <tr>\n      <th>76</th>\n      <td>195</td>\n      <td>191</td>\n      <td>HRV</td>\n      <td>Croácia</td>\n      <td>Croatia</td>\n      <td>Croacia</td>\n      <td>22</td>\n      <td>União Europeia - UE</td>\n      <td>European Union (EU)</td>\n      <td>Uniao Europea (UE)</td>\n    </tr>\n    <tr>\n      <th>83</th>\n      <td>232</td>\n      <td>208</td>\n      <td>DNK</td>\n      <td>Dinamarca</td>\n      <td>Denmark</td>\n      <td>Dinamarca</td>\n      <td>22</td>\n      <td>União Europeia - UE</td>\n      <td>European Union (EU)</td>\n      <td>Uniao Europea (UE)</td>\n    </tr>\n    <tr>\n      <th>91</th>\n      <td>245</td>\n      <td>724</td>\n      <td>ESP</td>\n      <td>Espanha</td>\n      <td>Spain</td>\n      <td>España</td>\n      <td>22</td>\n      <td>União Europeia - UE</td>\n      <td>European Union (EU)</td>\n      <td>Uniao Europea (UE)</td>\n    </tr>\n    <tr>\n      <th>93</th>\n      <td>246</td>\n      <td>705</td>\n      <td>SVN</td>\n      <td>Eslovênia</td>\n      <td>Slovenia</td>\n      <td>Eslovenia</td>\n      <td>22</td>\n      <td>União Europeia - UE</td>\n      <td>European Union (EU)</td>\n      <td>Uniao Europea (UE)</td>\n    </tr>\n    <tr>\n      <th>95</th>\n      <td>247</td>\n      <td>703</td>\n      <td>SVK</td>\n      <td>Eslováquia</td>\n      <td>Slovakia</td>\n      <td>Eslovaquia</td>\n      <td>22</td>\n      <td>União Europeia - UE</td>\n      <td>European Union (EU)</td>\n      <td>Uniao Europea (UE)</td>\n    </tr>\n    <tr>\n      <th>98</th>\n      <td>251</td>\n      <td>233</td>\n      <td>EST</td>\n      <td>Estônia</td>\n      <td>Estonia</td>\n      <td>Estonia</td>\n      <td>22</td>\n      <td>União Europeia - UE</td>\n      <td>European Union (EU)</td>\n      <td>Uniao Europea (UE)</td>\n    </tr>\n    <tr>\n      <th>103</th>\n      <td>267</td>\n      <td>608</td>\n      <td>PHL</td>\n      <td>Filipinas</td>\n      <td>Philippines</td>\n      <td>Filipinas</td>\n      <td>53</td>\n      <td>Associação de Nações do Sudeste Asiático - ASEAN</td>\n      <td>Association Of Southeast Asian Nations (ASEAN)</td>\n      <td>Asociación de Países del Sudeste Asiático (ASEAN)</td>\n    </tr>\n    <tr>\n      <th>105</th>\n      <td>271</td>\n      <td>246</td>\n      <td>FIN</td>\n      <td>Finlândia</td>\n      <td>Finland</td>\n      <td>Finlandia</td>\n      <td>22</td>\n      <td>União Europeia - UE</td>\n      <td>European Union (EU)</td>\n      <td>Uniao Europea (UE)</td>\n    </tr>\n    <tr>\n      <th>107</th>\n      <td>275</td>\n      <td>250</td>\n      <td>FRA</td>\n      <td>França</td>\n      <td>France</td>\n      <td>Francia</td>\n      <td>22</td>\n      <td>União Europeia - UE</td>\n      <td>European Union (EU)</td>\n      <td>Uniao Europea (UE)</td>\n    </tr>\n    <tr>\n      <th>115</th>\n      <td>301</td>\n      <td>300</td>\n      <td>GRC</td>\n      <td>Grécia</td>\n      <td>Greece</td>\n      <td>Grecia</td>\n      <td>22</td>\n      <td>União Europeia - UE</td>\n      <td>European Union (EU)</td>\n      <td>Uniao Europea (UE)</td>\n    </tr>\n    <tr>\n      <th>121</th>\n      <td>321</td>\n      <td>898</td>\n      <td>GGY</td>\n      <td>Guernsey</td>\n      <td>Guernsey</td>\n      <td>Guernsey</td>\n      <td>22</td>\n      <td>União Europeia - UE</td>\n      <td>European Union (EU)</td>\n      <td>Uniao Europea (UE)</td>\n    </tr>\n    <tr>\n      <th>131</th>\n      <td>355</td>\n      <td>348</td>\n      <td>HUN</td>\n      <td>Hungria</td>\n      <td>Hungary</td>\n      <td>Hungría</td>\n      <td>22</td>\n      <td>União Europeia - UE</td>\n      <td>European Union (EU)</td>\n      <td>Uniao Europea (UE)</td>\n    </tr>\n    <tr>\n      <th>135</th>\n      <td>359</td>\n      <td>833</td>\n      <td>IMN</td>\n      <td>Ilha de Man</td>\n      <td>Isle of Man</td>\n      <td>Isla de Man</td>\n      <td>22</td>\n      <td>União Europeia - UE</td>\n      <td>European Union (EU)</td>\n      <td>Uniao Europea (UE)</td>\n    </tr>\n    <tr>\n      <th>138</th>\n      <td>365</td>\n      <td>360</td>\n      <td>IDN</td>\n      <td>Indonésia</td>\n      <td>Indonesia</td>\n      <td>Indonesia</td>\n      <td>53</td>\n      <td>Associação de Nações do Sudeste Asiático - ASEAN</td>\n      <td>Association Of Southeast Asian Nations (ASEAN)</td>\n      <td>Asociación de Países del Sudeste Asiático (ASEAN)</td>\n    </tr>\n    <tr>\n      <th>140</th>\n      <td>367</td>\n      <td>826</td>\n      <td>GBR</td>\n      <td>Inglaterra</td>\n      <td>England</td>\n      <td>Inglaterra</td>\n      <td>22</td>\n      <td>União Europeia - UE</td>\n      <td>European Union (EU)</td>\n      <td>Uniao Europea (UE)</td>\n    </tr>\n    <tr>\n      <th>144</th>\n      <td>375</td>\n      <td>372</td>\n      <td>IRL</td>\n      <td>Irlanda</td>\n      <td>Ireland</td>\n      <td>Irlanda</td>\n      <td>22</td>\n      <td>União Europeia - UE</td>\n      <td>European Union (EU)</td>\n      <td>Uniao Europea (UE)</td>\n    </tr>\n    <tr>\n      <th>148</th>\n      <td>386</td>\n      <td>380</td>\n      <td>ITA</td>\n      <td>Itália</td>\n      <td>Italy</td>\n      <td>Italia</td>\n      <td>22</td>\n      <td>União Europeia - UE</td>\n      <td>European Union (EU)</td>\n      <td>Uniao Europea (UE)</td>\n    </tr>\n    <tr>\n      <th>152</th>\n      <td>393</td>\n      <td>898</td>\n      <td>ZZZ</td>\n      <td>Jersey</td>\n      <td>Jersey</td>\n      <td>Jersey</td>\n      <td>22</td>\n      <td>União Europeia - UE</td>\n      <td>European Union (EU)</td>\n      <td>Uniao Europea (UE)</td>\n    </tr>\n    <tr>\n      <th>158</th>\n      <td>420</td>\n      <td>418</td>\n      <td>LAO</td>\n      <td>Laos</td>\n      <td>Laos</td>\n      <td>Laos</td>\n      <td>53</td>\n      <td>Associação de Nações do Sudeste Asiático - ASEAN</td>\n      <td>Association Of Southeast Asian Nations (ASEAN)</td>\n      <td>Asociación de Países del Sudeste Asiático (ASEAN)</td>\n    </tr>\n    <tr>\n      <th>162</th>\n      <td>427</td>\n      <td>428</td>\n      <td>LVA</td>\n      <td>Letônia</td>\n      <td>Latvia</td>\n      <td>Letonia</td>\n      <td>22</td>\n      <td>União Europeia - UE</td>\n      <td>European Union (EU)</td>\n      <td>Uniao Europea (UE)</td>\n    </tr>\n    <tr>\n      <th>168</th>\n      <td>442</td>\n      <td>440</td>\n      <td>LTU</td>\n      <td>Lituânia</td>\n      <td>Lithuania</td>\n      <td>Lituania</td>\n      <td>22</td>\n      <td>União Europeia - UE</td>\n      <td>European Union (EU)</td>\n      <td>Uniao Europea (UE)</td>\n    </tr>\n    <tr>\n      <th>170</th>\n      <td>445</td>\n      <td>442</td>\n      <td>LUX</td>\n      <td>Luxemburgo</td>\n      <td>Luxembourg</td>\n      <td>Luxemburgo</td>\n      <td>22</td>\n      <td>União Europeia - UE</td>\n      <td>European Union (EU)</td>\n      <td>Uniao Europea (UE)</td>\n    </tr>\n    <tr>\n      <th>175</th>\n      <td>452</td>\n      <td>620</td>\n      <td>PRT</td>\n      <td>Madeira, Ilha da</td>\n      <td>Madeira</td>\n      <td>Madeira</td>\n      <td>22</td>\n      <td>União Europeia - UE</td>\n      <td>European Union (EU)</td>\n      <td>Uniao Europea (UE)</td>\n    </tr>\n    <tr>\n      <th>177</th>\n      <td>455</td>\n      <td>458</td>\n      <td>MYS</td>\n      <td>Malásia</td>\n      <td>Malaysia</td>\n      <td>Malasia</td>\n      <td>53</td>\n      <td>Associação de Nações do Sudeste Asiático - ASEAN</td>\n      <td>Association Of Southeast Asian Nations (ASEAN)</td>\n      <td>Asociación de Países del Sudeste Asiático (ASEAN)</td>\n    </tr>\n    <tr>\n      <th>182</th>\n      <td>467</td>\n      <td>470</td>\n      <td>MLT</td>\n      <td>Malta</td>\n      <td>Malta</td>\n      <td>Malta</td>\n      <td>22</td>\n      <td>União Europeia - UE</td>\n      <td>European Union (EU)</td>\n      <td>Uniao Europea (UE)</td>\n    </tr>\n    <tr>\n      <th>218</th>\n      <td>573</td>\n      <td>528</td>\n      <td>NLD</td>\n      <td>Países Baixos (Holanda)</td>\n      <td>Netherlands</td>\n      <td>Países Bajos</td>\n      <td>22</td>\n      <td>União Europeia - UE</td>\n      <td>European Union (EU)</td>\n      <td>Uniao Europea (UE)</td>\n    </tr>\n    <tr>\n      <th>225</th>\n      <td>586</td>\n      <td>600</td>\n      <td>PRY</td>\n      <td>Paraguai</td>\n      <td>Paraguay</td>\n      <td>Paraguay</td>\n      <td>111</td>\n      <td>Mercado Comum do Sul - Mercosul</td>\n      <td>Southern Common Market (MERCOSUL)</td>\n      <td>Mercado Comum del Sur (MERCOSUR)</td>\n    </tr>\n    <tr>\n      <th>230</th>\n      <td>603</td>\n      <td>616</td>\n      <td>POL</td>\n      <td>Polônia</td>\n      <td>Poland</td>\n      <td>Polonia</td>\n      <td>22</td>\n      <td>União Europeia - UE</td>\n      <td>European Union (EU)</td>\n      <td>Uniao Europea (UE)</td>\n    </tr>\n    <tr>\n      <th>232</th>\n      <td>607</td>\n      <td>620</td>\n      <td>PRT</td>\n      <td>Portugal</td>\n      <td>Portugal</td>\n      <td>Portugal</td>\n      <td>22</td>\n      <td>União Europeia - UE</td>\n      <td>European Union (EU)</td>\n      <td>Uniao Europea (UE)</td>\n    </tr>\n    <tr>\n      <th>242</th>\n      <td>670</td>\n      <td>642</td>\n      <td>ROU</td>\n      <td>Romênia</td>\n      <td>Romania</td>\n      <td>Rumania</td>\n      <td>22</td>\n      <td>União Europeia - UE</td>\n      <td>European Union (EU)</td>\n      <td>Uniao Europea (UE)</td>\n    </tr>\n    <tr>\n      <th>266</th>\n      <td>741</td>\n      <td>702</td>\n      <td>SGP</td>\n      <td>Singapura</td>\n      <td>Singapore</td>\n      <td>Singapur</td>\n      <td>53</td>\n      <td>Associação de Nações do Sudeste Asiático - ASEAN</td>\n      <td>Association Of Southeast Asian Nations (ASEAN)</td>\n      <td>Asociación de Países del Sudeste Asiático (ASEAN)</td>\n    </tr>\n    <tr>\n      <th>275</th>\n      <td>764</td>\n      <td>752</td>\n      <td>SWE</td>\n      <td>Suécia</td>\n      <td>Sweden</td>\n      <td>Suecia</td>\n      <td>22</td>\n      <td>União Europeia - UE</td>\n      <td>European Union (EU)</td>\n      <td>Uniao Europea (UE)</td>\n    </tr>\n    <tr>\n      <th>280</th>\n      <td>776</td>\n      <td>764</td>\n      <td>THA</td>\n      <td>Tailândia</td>\n      <td>Thailand</td>\n      <td>Tailandia</td>\n      <td>53</td>\n      <td>Associação de Nações do Sudeste Asiático - ASEAN</td>\n      <td>Association Of Southeast Asian Nations (ASEAN)</td>\n      <td>Asociación de Países del Sudeste Asiático (ASEAN)</td>\n    </tr>\n    <tr>\n      <th>283</th>\n      <td>781</td>\n      <td>898</td>\n      <td>ATF</td>\n      <td>Terras Austrais Francesas</td>\n      <td>French Southern Lands</td>\n      <td>Tierras Australes Francesas</td>\n      <td>22</td>\n      <td>União Europeia - UE</td>\n      <td>European Union (EU)</td>\n      <td>Uniao Europea (UE)</td>\n    </tr>\n    <tr>\n      <th>289</th>\n      <td>791</td>\n      <td>203</td>\n      <td>CZE</td>\n      <td>Tcheca, República</td>\n      <td>Czech Republic</td>\n      <td>República Checa</td>\n      <td>22</td>\n      <td>União Europeia - UE</td>\n      <td>European Union (EU)</td>\n      <td>Uniao Europea (UE)</td>\n    </tr>\n    <tr>\n      <th>304</th>\n      <td>845</td>\n      <td>858</td>\n      <td>URY</td>\n      <td>Uruguai</td>\n      <td>Uruguay</td>\n      <td>Uruguay</td>\n      <td>111</td>\n      <td>Mercado Comum do Sul - Mercosul</td>\n      <td>Southern Common Market (MERCOSUL)</td>\n      <td>Mercado Comum del Sur (MERCOSUR)</td>\n    </tr>\n    <tr>\n      <th>309</th>\n      <td>858</td>\n      <td>704</td>\n      <td>VNM</td>\n      <td>Vietnã</td>\n      <td>Vietnam</td>\n      <td>Viet Nam</td>\n      <td>53</td>\n      <td>Associação de Nações do Sudeste Asiático - ASEAN</td>\n      <td>Association Of Southeast Asian Nations (ASEAN)</td>\n      <td>Asociación de Países del Sudeste Asiático (ASEAN)</td>\n    </tr>\n  </tbody>\n</table>\n</div>"
     },
     "execution_count": 125,
     "metadata": {},
     "output_type": "execute_result"
    }
   ],
   "source": [
    "paises_blocos_economicos"
   ],
   "metadata": {
    "collapsed": false,
    "ExecuteTime": {
     "end_time": "2023-10-18T03:33:35.846553700Z",
     "start_time": "2023-10-18T03:33:35.785424Z"
    }
   },
   "id": "f90550a59fc16081"
  },
  {
   "cell_type": "code",
   "execution_count": 126,
   "outputs": [],
   "source": [
    "paises_continentes.to_csv('dados/_PAISES_CONTINENTES.csv', index=False, sep=';', encoding=\"ISO-8859-1\") "
   ],
   "metadata": {
    "collapsed": false,
    "ExecuteTime": {
     "end_time": "2023-10-18T03:33:43.906058400Z",
     "start_time": "2023-10-18T03:33:43.851612500Z"
    }
   },
   "id": "d2abc697afc5b478"
  },
  {
   "cell_type": "code",
   "execution_count": 127,
   "outputs": [
    {
     "data": {
      "text/plain": "                                NO_BLOCO\nCO_BLOCO                                \n39        Ásia (Exclusive Oriente Médio)\n41                         Oriente Médio\n48                        América do Sul\n51                                África\n61                               Oceania\n105             América Central e Caribe\n107                     América do Norte\n112                               Europa",
      "text/html": "<div>\n<style scoped>\n    .dataframe tbody tr th:only-of-type {\n        vertical-align: middle;\n    }\n\n    .dataframe tbody tr th {\n        vertical-align: top;\n    }\n\n    .dataframe thead th {\n        text-align: right;\n    }\n</style>\n<table border=\"1\" class=\"dataframe\">\n  <thead>\n    <tr style=\"text-align: right;\">\n      <th></th>\n      <th>NO_BLOCO</th>\n    </tr>\n    <tr>\n      <th>CO_BLOCO</th>\n      <th></th>\n    </tr>\n  </thead>\n  <tbody>\n    <tr>\n      <th>39</th>\n      <td>Ásia (Exclusive Oriente Médio)</td>\n    </tr>\n    <tr>\n      <th>41</th>\n      <td>Oriente Médio</td>\n    </tr>\n    <tr>\n      <th>48</th>\n      <td>América do Sul</td>\n    </tr>\n    <tr>\n      <th>51</th>\n      <td>África</td>\n    </tr>\n    <tr>\n      <th>61</th>\n      <td>Oceania</td>\n    </tr>\n    <tr>\n      <th>105</th>\n      <td>América Central e Caribe</td>\n    </tr>\n    <tr>\n      <th>107</th>\n      <td>América do Norte</td>\n    </tr>\n    <tr>\n      <th>112</th>\n      <td>Europa</td>\n    </tr>\n  </tbody>\n</table>\n</div>"
     },
     "execution_count": 127,
     "metadata": {},
     "output_type": "execute_result"
    }
   ],
   "source": [
    "d = {'CO_BLOCO':cod_continentes, 'NO_BLOCO': nom_continentes }\n",
    "continentes = pd.DataFrame(data=d).set_index('CO_BLOCO')\n",
    "continentes"
   ],
   "metadata": {
    "collapsed": false,
    "ExecuteTime": {
     "end_time": "2023-10-18T03:33:56.730203900Z",
     "start_time": "2023-10-18T03:33:56.644404900Z"
    }
   },
   "id": "f9b03ad73f14b886"
  },
  {
   "cell_type": "code",
   "execution_count": 128,
   "outputs": [],
   "source": [
    "continentes.to_csv('dados/_CONTINENTES.csv', index=True, sep=';', encoding=\"ISO-8859-1\") "
   ],
   "metadata": {
    "collapsed": false,
    "ExecuteTime": {
     "end_time": "2023-10-18T03:34:00.633920Z",
     "start_time": "2023-10-18T03:34:00.626350300Z"
    }
   },
   "id": "1e023e541d068897"
  },
  {
   "cell_type": "code",
   "execution_count": 129,
   "outputs": [],
   "source": [
    "paises_blocos_economicos.to_csv('dados/_BLOCOS_ECONOMICOS.csv', index=False, sep=';', encoding=\"ISO-8859-1\") "
   ],
   "metadata": {
    "collapsed": false,
    "ExecuteTime": {
     "end_time": "2023-10-18T03:34:26.673385900Z",
     "start_time": "2023-10-18T03:34:26.618460200Z"
    }
   },
   "id": "7b92c3b302bc3be2"
  },
  {
   "cell_type": "code",
   "execution_count": 130,
   "outputs": [
    {
     "data": {
      "text/plain": "                                                  NO_BLOCO\nCO_BLOCO                                                  \n22                                     União Europeia - UE\n53        Associação de Nações do Sudeste Asiático - ASEAN\n111                        Mercado Comum do Sul - Mercosul",
      "text/html": "<div>\n<style scoped>\n    .dataframe tbody tr th:only-of-type {\n        vertical-align: middle;\n    }\n\n    .dataframe tbody tr th {\n        vertical-align: top;\n    }\n\n    .dataframe thead th {\n        text-align: right;\n    }\n</style>\n<table border=\"1\" class=\"dataframe\">\n  <thead>\n    <tr style=\"text-align: right;\">\n      <th></th>\n      <th>NO_BLOCO</th>\n    </tr>\n    <tr>\n      <th>CO_BLOCO</th>\n      <th></th>\n    </tr>\n  </thead>\n  <tbody>\n    <tr>\n      <th>22</th>\n      <td>União Europeia - UE</td>\n    </tr>\n    <tr>\n      <th>53</th>\n      <td>Associação de Nações do Sudeste Asiático - ASEAN</td>\n    </tr>\n    <tr>\n      <th>111</th>\n      <td>Mercado Comum do Sul - Mercosul</td>\n    </tr>\n  </tbody>\n</table>\n</div>"
     },
     "execution_count": 130,
     "metadata": {},
     "output_type": "execute_result"
    }
   ],
   "source": [
    "d = {'CO_BLOCO':cod_blocos_economicos, 'NO_BLOCO': nom_blocos_economicos }\n",
    "blocos = pd.DataFrame(data=d).set_index('CO_BLOCO')\n",
    "blocos"
   ],
   "metadata": {
    "collapsed": false,
    "ExecuteTime": {
     "end_time": "2023-10-18T03:35:39.019152200Z",
     "start_time": "2023-10-18T03:35:38.945845900Z"
    }
   },
   "id": "2e6f17ac183f41e2"
  },
  {
   "cell_type": "code",
   "execution_count": 131,
   "outputs": [],
   "source": [
    "blocos.to_csv('dados/_BLOCOS.csv', index=True, sep=';', encoding=\"ISO-8859-1\") "
   ],
   "metadata": {
    "collapsed": false,
    "ExecuteTime": {
     "end_time": "2023-10-18T03:36:00.427546500Z",
     "start_time": "2023-10-18T03:36:00.320149700Z"
    }
   },
   "id": "783ed0b66bbcc08f"
  },
  {
   "cell_type": "code",
   "execution_count": null,
   "outputs": [],
   "source": [],
   "metadata": {
    "collapsed": false
   },
   "id": "fd05af27549a2e33"
  }
 ],
 "metadata": {
  "kernelspec": {
   "display_name": "Python 3",
   "language": "python",
   "name": "python3"
  },
  "language_info": {
   "codemirror_mode": {
    "name": "ipython",
    "version": 2
   },
   "file_extension": ".py",
   "mimetype": "text/x-python",
   "name": "python",
   "nbconvert_exporter": "python",
   "pygments_lexer": "ipython2",
   "version": "2.7.6"
  }
 },
 "nbformat": 4,
 "nbformat_minor": 5
}
