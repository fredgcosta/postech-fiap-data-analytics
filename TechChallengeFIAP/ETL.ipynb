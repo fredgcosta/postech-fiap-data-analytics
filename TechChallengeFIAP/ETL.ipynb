{
 "cells": [
  {
   "cell_type": "code",
   "execution_count": 185,
   "id": "initial_id",
   "metadata": {
    "collapsed": true,
    "ExecuteTime": {
     "end_time": "2023-10-17T01:06:49.360512600Z",
     "start_time": "2023-10-17T01:06:49.321520200Z"
    }
   },
   "outputs": [],
   "source": [
    "import pandas as pd"
   ]
  },
  {
   "cell_type": "code",
   "execution_count": 186,
   "outputs": [],
   "source": [
    "arquivo = \"EXP_2000.csv\"\n",
    "df = pd.read_csv(f'dados/{arquivo}', sep=';')\n",
    "df['CO_SH']=df.CO_NCM//10000"
   ],
   "metadata": {
    "collapsed": false,
    "ExecuteTime": {
     "end_time": "2023-10-17T01:06:49.596944800Z",
     "start_time": "2023-10-17T01:06:49.327525400Z"
    }
   },
   "id": "a2a5adfdcea9347a"
  },
  {
   "cell_type": "code",
   "execution_count": 187,
   "outputs": [
    {
     "data": {
      "text/plain": "   CO_ANO  CO_MES   SH4  CO_PAIS SG_UF_MUN   CO_MUN  KG_LIQUIDO  VL_FOB\n0    2000      10  3926      158        SP  3430607          93    1518\n1    2000      10  9403      845        RS  4317103       18043   22855\n2    2000      10  3820       65        PR  4125506          63     202\n3    2000      10  8511      493        SP  3448708        7046  138253\n4    2000      10  7013      586        SP  3450308       89981   75711",
      "text/html": "<div>\n<style scoped>\n    .dataframe tbody tr th:only-of-type {\n        vertical-align: middle;\n    }\n\n    .dataframe tbody tr th {\n        vertical-align: top;\n    }\n\n    .dataframe thead th {\n        text-align: right;\n    }\n</style>\n<table border=\"1\" class=\"dataframe\">\n  <thead>\n    <tr style=\"text-align: right;\">\n      <th></th>\n      <th>CO_ANO</th>\n      <th>CO_MES</th>\n      <th>SH4</th>\n      <th>CO_PAIS</th>\n      <th>SG_UF_MUN</th>\n      <th>CO_MUN</th>\n      <th>KG_LIQUIDO</th>\n      <th>VL_FOB</th>\n    </tr>\n  </thead>\n  <tbody>\n    <tr>\n      <th>0</th>\n      <td>2000</td>\n      <td>10</td>\n      <td>3926</td>\n      <td>158</td>\n      <td>SP</td>\n      <td>3430607</td>\n      <td>93</td>\n      <td>1518</td>\n    </tr>\n    <tr>\n      <th>1</th>\n      <td>2000</td>\n      <td>10</td>\n      <td>9403</td>\n      <td>845</td>\n      <td>RS</td>\n      <td>4317103</td>\n      <td>18043</td>\n      <td>22855</td>\n    </tr>\n    <tr>\n      <th>2</th>\n      <td>2000</td>\n      <td>10</td>\n      <td>3820</td>\n      <td>65</td>\n      <td>PR</td>\n      <td>4125506</td>\n      <td>63</td>\n      <td>202</td>\n    </tr>\n    <tr>\n      <th>3</th>\n      <td>2000</td>\n      <td>10</td>\n      <td>8511</td>\n      <td>493</td>\n      <td>SP</td>\n      <td>3448708</td>\n      <td>7046</td>\n      <td>138253</td>\n    </tr>\n    <tr>\n      <th>4</th>\n      <td>2000</td>\n      <td>10</td>\n      <td>7013</td>\n      <td>586</td>\n      <td>SP</td>\n      <td>3450308</td>\n      <td>89981</td>\n      <td>75711</td>\n    </tr>\n  </tbody>\n</table>\n</div>"
     },
     "execution_count": 187,
     "metadata": {},
     "output_type": "execute_result"
    }
   ],
   "source": [
    "df.head()"
   ],
   "metadata": {
    "collapsed": false,
    "ExecuteTime": {
     "end_time": "2023-10-17T01:06:49.618034700Z",
     "start_time": "2023-10-17T01:06:49.597981200Z"
    }
   },
   "id": "bb652366217bf11"
  },
  {
   "cell_type": "code",
   "execution_count": 188,
   "outputs": [
    {
     "data": {
      "text/plain": "(429925, 8)"
     },
     "execution_count": 188,
     "metadata": {},
     "output_type": "execute_result"
    }
   ],
   "source": [
    "df.shape"
   ],
   "metadata": {
    "collapsed": false,
    "ExecuteTime": {
     "end_time": "2023-10-17T01:06:49.632226Z",
     "start_time": "2023-10-17T01:06:49.613649100Z"
    }
   },
   "id": "44906168fe051050"
  },
  {
   "cell_type": "code",
   "execution_count": 189,
   "outputs": [],
   "source": [
    "df = df.drop(df[df.CO_SH != 2204].index)"
   ],
   "metadata": {
    "collapsed": false,
    "ExecuteTime": {
     "end_time": "2023-10-17T01:06:49.770176300Z",
     "start_time": "2023-10-17T01:06:49.629868200Z"
    }
   },
   "id": "13f4127637cddf79"
  },
  {
   "cell_type": "code",
   "execution_count": 190,
   "outputs": [
    {
     "data": {
      "text/plain": "       CO_ANO  CO_MES   SH4  CO_PAIS SG_UF_MUN   CO_MUN  KG_LIQUIDO  VL_FOB\n11407    2000       9  2204      586        MS  5206606       10654    5628\n13830    2000      12  2204      158        RS  4314548         600    2700\n17346    2000       3  2204      249        SP  3450308         410     720\n18271    2000      10  2204       97        MS  5206606        1520     938\n21098    2000       6  2204      586        PR  4123808        2994    2793",
      "text/html": "<div>\n<style scoped>\n    .dataframe tbody tr th:only-of-type {\n        vertical-align: middle;\n    }\n\n    .dataframe tbody tr th {\n        vertical-align: top;\n    }\n\n    .dataframe thead th {\n        text-align: right;\n    }\n</style>\n<table border=\"1\" class=\"dataframe\">\n  <thead>\n    <tr style=\"text-align: right;\">\n      <th></th>\n      <th>CO_ANO</th>\n      <th>CO_MES</th>\n      <th>SH4</th>\n      <th>CO_PAIS</th>\n      <th>SG_UF_MUN</th>\n      <th>CO_MUN</th>\n      <th>KG_LIQUIDO</th>\n      <th>VL_FOB</th>\n    </tr>\n  </thead>\n  <tbody>\n    <tr>\n      <th>11407</th>\n      <td>2000</td>\n      <td>9</td>\n      <td>2204</td>\n      <td>586</td>\n      <td>MS</td>\n      <td>5206606</td>\n      <td>10654</td>\n      <td>5628</td>\n    </tr>\n    <tr>\n      <th>13830</th>\n      <td>2000</td>\n      <td>12</td>\n      <td>2204</td>\n      <td>158</td>\n      <td>RS</td>\n      <td>4314548</td>\n      <td>600</td>\n      <td>2700</td>\n    </tr>\n    <tr>\n      <th>17346</th>\n      <td>2000</td>\n      <td>3</td>\n      <td>2204</td>\n      <td>249</td>\n      <td>SP</td>\n      <td>3450308</td>\n      <td>410</td>\n      <td>720</td>\n    </tr>\n    <tr>\n      <th>18271</th>\n      <td>2000</td>\n      <td>10</td>\n      <td>2204</td>\n      <td>97</td>\n      <td>MS</td>\n      <td>5206606</td>\n      <td>1520</td>\n      <td>938</td>\n    </tr>\n    <tr>\n      <th>21098</th>\n      <td>2000</td>\n      <td>6</td>\n      <td>2204</td>\n      <td>586</td>\n      <td>PR</td>\n      <td>4123808</td>\n      <td>2994</td>\n      <td>2793</td>\n    </tr>\n  </tbody>\n</table>\n</div>"
     },
     "execution_count": 190,
     "metadata": {},
     "output_type": "execute_result"
    }
   ],
   "source": [
    "df.head()"
   ],
   "metadata": {
    "collapsed": false,
    "ExecuteTime": {
     "end_time": "2023-10-17T01:06:49.780169700Z",
     "start_time": "2023-10-17T01:06:49.686735400Z"
    }
   },
   "id": "c0ed58e3a6e8d02c"
  },
  {
   "cell_type": "code",
   "execution_count": 191,
   "outputs": [
    {
     "data": {
      "text/plain": "(141, 8)"
     },
     "execution_count": 191,
     "metadata": {},
     "output_type": "execute_result"
    }
   ],
   "source": [
    "df.shape"
   ],
   "metadata": {
    "collapsed": false,
    "ExecuteTime": {
     "end_time": "2023-10-17T01:06:49.821333200Z",
     "start_time": "2023-10-17T01:06:49.701942700Z"
    }
   },
   "id": "779c4c94811cb5f0"
  },
  {
   "cell_type": "code",
   "execution_count": 192,
   "outputs": [],
   "source": [
    "df.to_csv(f'dados/_{arquivo}', index=False) "
   ],
   "metadata": {
    "collapsed": false,
    "ExecuteTime": {
     "end_time": "2023-10-17T01:06:49.821333200Z",
     "start_time": "2023-10-17T01:06:49.714285Z"
    }
   },
   "id": "cd37627cd8d17d08"
  },
  {
   "cell_type": "code",
   "execution_count": 192,
   "outputs": [],
   "source": [],
   "metadata": {
    "collapsed": false,
    "ExecuteTime": {
     "end_time": "2023-10-17T01:06:49.823242800Z",
     "start_time": "2023-10-17T01:06:49.719880300Z"
    }
   },
   "id": "b3955e90fba89b6a"
  }
 ],
 "metadata": {
  "kernelspec": {
   "display_name": "Python 3",
   "language": "python",
   "name": "python3"
  },
  "language_info": {
   "codemirror_mode": {
    "name": "ipython",
    "version": 2
   },
   "file_extension": ".py",
   "mimetype": "text/x-python",
   "name": "python",
   "nbconvert_exporter": "python",
   "pygments_lexer": "ipython2",
   "version": "2.7.6"
  }
 },
 "nbformat": 4,
 "nbformat_minor": 5
}
