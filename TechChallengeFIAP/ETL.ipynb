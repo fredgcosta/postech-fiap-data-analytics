{
 "cells": [
  {
   "cell_type": "code",
   "execution_count": 323,
   "id": "initial_id",
   "metadata": {
    "collapsed": true,
    "ExecuteTime": {
     "end_time": "2023-09-12T06:46:10.144177300Z",
     "start_time": "2023-09-12T06:46:09.911491300Z"
    }
   },
   "outputs": [],
   "source": [
    "import pandas as pd"
   ]
  },
  {
   "cell_type": "code",
   "execution_count": 324,
   "outputs": [],
   "source": [
    "arquivo = \"EXP_2023.csv\"\n",
    "df = pd.read_csv(f'dados/{arquivo}', sep=';')\n",
    "df['CO_SH']=df.CO_NCM//10000"
   ],
   "metadata": {
    "collapsed": false,
    "ExecuteTime": {
     "end_time": "2023-09-12T06:46:11.027009700Z",
     "start_time": "2023-09-12T06:46:09.916497600Z"
    }
   },
   "id": "a2a5adfdcea9347a"
  },
  {
   "cell_type": "code",
   "execution_count": 325,
   "outputs": [
    {
     "data": {
      "text/plain": "   CO_ANO  CO_MES    CO_NCM  CO_UNID  CO_PAIS SG_UF_NCM  CO_VIA  CO_URF  \\\n0    2023       3   4029900       10       63        RJ       1  717600   \n1    2023       8  39199020       10      160        SP       4  817600   \n2    2023       4  90183929       11       40        PR       4  817600   \n3    2023       7  87089100       11      239        PR       4  817600   \n4    2023       3  84671900       11       87        SP       4  817600   \n\n   QT_ESTAT  KG_LIQUIDO  VL_FOB  CO_SH  \n0        11          11      59    402  \n1         1           1      51   3919  \n2        25           4     578   9018  \n3         1         114     800   8708  \n4         4           4     593   8467  ",
      "text/html": "<div>\n<style scoped>\n    .dataframe tbody tr th:only-of-type {\n        vertical-align: middle;\n    }\n\n    .dataframe tbody tr th {\n        vertical-align: top;\n    }\n\n    .dataframe thead th {\n        text-align: right;\n    }\n</style>\n<table border=\"1\" class=\"dataframe\">\n  <thead>\n    <tr style=\"text-align: right;\">\n      <th></th>\n      <th>CO_ANO</th>\n      <th>CO_MES</th>\n      <th>CO_NCM</th>\n      <th>CO_UNID</th>\n      <th>CO_PAIS</th>\n      <th>SG_UF_NCM</th>\n      <th>CO_VIA</th>\n      <th>CO_URF</th>\n      <th>QT_ESTAT</th>\n      <th>KG_LIQUIDO</th>\n      <th>VL_FOB</th>\n      <th>CO_SH</th>\n    </tr>\n  </thead>\n  <tbody>\n    <tr>\n      <th>0</th>\n      <td>2023</td>\n      <td>3</td>\n      <td>4029900</td>\n      <td>10</td>\n      <td>63</td>\n      <td>RJ</td>\n      <td>1</td>\n      <td>717600</td>\n      <td>11</td>\n      <td>11</td>\n      <td>59</td>\n      <td>402</td>\n    </tr>\n    <tr>\n      <th>1</th>\n      <td>2023</td>\n      <td>8</td>\n      <td>39199020</td>\n      <td>10</td>\n      <td>160</td>\n      <td>SP</td>\n      <td>4</td>\n      <td>817600</td>\n      <td>1</td>\n      <td>1</td>\n      <td>51</td>\n      <td>3919</td>\n    </tr>\n    <tr>\n      <th>2</th>\n      <td>2023</td>\n      <td>4</td>\n      <td>90183929</td>\n      <td>11</td>\n      <td>40</td>\n      <td>PR</td>\n      <td>4</td>\n      <td>817600</td>\n      <td>25</td>\n      <td>4</td>\n      <td>578</td>\n      <td>9018</td>\n    </tr>\n    <tr>\n      <th>3</th>\n      <td>2023</td>\n      <td>7</td>\n      <td>87089100</td>\n      <td>11</td>\n      <td>239</td>\n      <td>PR</td>\n      <td>4</td>\n      <td>817600</td>\n      <td>1</td>\n      <td>114</td>\n      <td>800</td>\n      <td>8708</td>\n    </tr>\n    <tr>\n      <th>4</th>\n      <td>2023</td>\n      <td>3</td>\n      <td>84671900</td>\n      <td>11</td>\n      <td>87</td>\n      <td>SP</td>\n      <td>4</td>\n      <td>817600</td>\n      <td>4</td>\n      <td>4</td>\n      <td>593</td>\n      <td>8467</td>\n    </tr>\n  </tbody>\n</table>\n</div>"
     },
     "execution_count": 325,
     "metadata": {},
     "output_type": "execute_result"
    }
   ],
   "source": [
    "df.head()"
   ],
   "metadata": {
    "collapsed": false,
    "ExecuteTime": {
     "end_time": "2023-09-12T06:46:11.063841500Z",
     "start_time": "2023-09-12T06:46:11.031009500Z"
    }
   },
   "id": "bb652366217bf11"
  },
  {
   "cell_type": "code",
   "execution_count": 326,
   "outputs": [
    {
     "data": {
      "text/plain": "(1042360, 12)"
     },
     "execution_count": 326,
     "metadata": {},
     "output_type": "execute_result"
    }
   ],
   "source": [
    "df.shape"
   ],
   "metadata": {
    "collapsed": false,
    "ExecuteTime": {
     "end_time": "2023-09-12T06:46:11.089101400Z",
     "start_time": "2023-09-12T06:46:11.057844300Z"
    }
   },
   "id": "44906168fe051050"
  },
  {
   "cell_type": "code",
   "execution_count": 327,
   "outputs": [],
   "source": [
    "df = df.drop(df[df.CO_SH != 2204].index)"
   ],
   "metadata": {
    "collapsed": false,
    "ExecuteTime": {
     "end_time": "2023-09-12T06:46:11.293328100Z",
     "start_time": "2023-09-12T06:46:11.079114500Z"
    }
   },
   "id": "13f4127637cddf79"
  },
  {
   "cell_type": "code",
   "execution_count": 328,
   "outputs": [
    {
     "data": {
      "text/plain": "      CO_ANO  CO_MES    CO_NCM  CO_UNID  CO_PAIS SG_UF_NCM  CO_VIA   CO_URF  \\\n515     2023       5  22042100       17      160        RS       1  1017700   \n2516    2023       6  22042100       17      493        PA       1   217800   \n2629    2023       4  22043000       17      163        SP       1   817800   \n2797    2023       6  22042211       17      607        RS       1  1017700   \n3525    2023       1  22042100       17      301        RJ       1   727600   \n\n      QT_ESTAT  KG_LIQUIDO  VL_FOB  CO_SH  \n515         23          23     106   2204  \n2516         3           3      19   2204  \n2629         2           2       8   2204  \n2797         9           9      17   2204  \n3525        32          30     206   2204  ",
      "text/html": "<div>\n<style scoped>\n    .dataframe tbody tr th:only-of-type {\n        vertical-align: middle;\n    }\n\n    .dataframe tbody tr th {\n        vertical-align: top;\n    }\n\n    .dataframe thead th {\n        text-align: right;\n    }\n</style>\n<table border=\"1\" class=\"dataframe\">\n  <thead>\n    <tr style=\"text-align: right;\">\n      <th></th>\n      <th>CO_ANO</th>\n      <th>CO_MES</th>\n      <th>CO_NCM</th>\n      <th>CO_UNID</th>\n      <th>CO_PAIS</th>\n      <th>SG_UF_NCM</th>\n      <th>CO_VIA</th>\n      <th>CO_URF</th>\n      <th>QT_ESTAT</th>\n      <th>KG_LIQUIDO</th>\n      <th>VL_FOB</th>\n      <th>CO_SH</th>\n    </tr>\n  </thead>\n  <tbody>\n    <tr>\n      <th>515</th>\n      <td>2023</td>\n      <td>5</td>\n      <td>22042100</td>\n      <td>17</td>\n      <td>160</td>\n      <td>RS</td>\n      <td>1</td>\n      <td>1017700</td>\n      <td>23</td>\n      <td>23</td>\n      <td>106</td>\n      <td>2204</td>\n    </tr>\n    <tr>\n      <th>2516</th>\n      <td>2023</td>\n      <td>6</td>\n      <td>22042100</td>\n      <td>17</td>\n      <td>493</td>\n      <td>PA</td>\n      <td>1</td>\n      <td>217800</td>\n      <td>3</td>\n      <td>3</td>\n      <td>19</td>\n      <td>2204</td>\n    </tr>\n    <tr>\n      <th>2629</th>\n      <td>2023</td>\n      <td>4</td>\n      <td>22043000</td>\n      <td>17</td>\n      <td>163</td>\n      <td>SP</td>\n      <td>1</td>\n      <td>817800</td>\n      <td>2</td>\n      <td>2</td>\n      <td>8</td>\n      <td>2204</td>\n    </tr>\n    <tr>\n      <th>2797</th>\n      <td>2023</td>\n      <td>6</td>\n      <td>22042211</td>\n      <td>17</td>\n      <td>607</td>\n      <td>RS</td>\n      <td>1</td>\n      <td>1017700</td>\n      <td>9</td>\n      <td>9</td>\n      <td>17</td>\n      <td>2204</td>\n    </tr>\n    <tr>\n      <th>3525</th>\n      <td>2023</td>\n      <td>1</td>\n      <td>22042100</td>\n      <td>17</td>\n      <td>301</td>\n      <td>RJ</td>\n      <td>1</td>\n      <td>727600</td>\n      <td>32</td>\n      <td>30</td>\n      <td>206</td>\n      <td>2204</td>\n    </tr>\n  </tbody>\n</table>\n</div>"
     },
     "execution_count": 328,
     "metadata": {},
     "output_type": "execute_result"
    }
   ],
   "source": [
    "df.head()"
   ],
   "metadata": {
    "collapsed": false,
    "ExecuteTime": {
     "end_time": "2023-09-12T06:46:11.294339300Z",
     "start_time": "2023-09-12T06:46:11.266122400Z"
    }
   },
   "id": "c0ed58e3a6e8d02c"
  },
  {
   "cell_type": "code",
   "execution_count": 329,
   "outputs": [
    {
     "data": {
      "text/plain": "(1396, 12)"
     },
     "execution_count": 329,
     "metadata": {},
     "output_type": "execute_result"
    }
   ],
   "source": [
    "df.shape"
   ],
   "metadata": {
    "collapsed": false,
    "ExecuteTime": {
     "end_time": "2023-09-12T06:46:11.299343700Z",
     "start_time": "2023-09-12T06:46:11.277277400Z"
    }
   },
   "id": "779c4c94811cb5f0"
  },
  {
   "cell_type": "code",
   "execution_count": 330,
   "outputs": [],
   "source": [
    "df.to_csv(f'dados/_{arquivo}', index=False) "
   ],
   "metadata": {
    "collapsed": false,
    "ExecuteTime": {
     "end_time": "2023-09-12T06:46:11.383488900Z",
     "start_time": "2023-09-12T06:46:11.298343800Z"
    }
   },
   "id": "cd37627cd8d17d08"
  }
 ],
 "metadata": {
  "kernelspec": {
   "display_name": "Python 3",
   "language": "python",
   "name": "python3"
  },
  "language_info": {
   "codemirror_mode": {
    "name": "ipython",
    "version": 2
   },
   "file_extension": ".py",
   "mimetype": "text/x-python",
   "name": "python",
   "nbconvert_exporter": "python",
   "pygments_lexer": "ipython2",
   "version": "2.7.6"
  }
 },
 "nbformat": 4,
 "nbformat_minor": 5
}
