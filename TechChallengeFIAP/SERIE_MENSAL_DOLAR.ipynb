{
 "cells": [
  {
   "cell_type": "code",
   "execution_count": 28,
   "id": "aa214d74f15aa949",
   "metadata": {
    "collapsed": true,
    "ExecuteTime": {
     "end_time": "2023-10-17T01:31:41.323988Z",
     "start_time": "2023-10-17T01:31:41.300978900Z"
    }
   },
   "outputs": [],
   "source": [
    "import pandas as pd\n",
    "\n",
    "serie_dolar = pd.read_csv('dados/DOLAR_MENSAL.csv', sep=';', encoding=\"ISO-8859-1\", decimal=',')\n",
    "\n"
   ]
  },
  {
   "cell_type": "code",
   "execution_count": 29,
   "outputs": [
    {
     "data": {
      "text/plain": "    YEAR       1       2       3       4       5       6       7       8  \\\n0   2000  1.7997  1.7764  1.7431  1.7833  1.8382  1.8079  1.8106  1.8056   \n1   2001  1.9475  1.9812  2.0864  2.1573  2.3384  2.4079  2.5538  2.5005   \n2   2002  2.3705  2.4380  2.3542  2.3180  2.5117  2.7181  2.8455  3.1912   \n3   2003  3.2983  3.6580  3.3958  3.1154  2.9306  2.8570  2.8554  2.9930   \n4   2004  2.8126  2.9085  2.9013  2.9064  3.0982  3.1380  3.0215  3.0235   \n5   2005  2.7074  2.5762  2.7621  2.5971  2.4715  2.4455  2.3427  2.3422   \n6   2006  2.2747  2.1375  2.1215  2.1426  2.1774  2.2845  2.2130  2.1480   \n7   2007  2.1407  2.0896  2.0909  2.0231  1.9922  1.9097  1.8684  2.0043   \n8   2008  1.7450  1.7541  1.6947  1.6822  1.6601  1.6368  1.5910  1.6389   \n9   2009  2.3803  2.2680  2.3012  2.1992  2.0762  1.9458  1.9420  1.8385   \n10  2010  1.7711  1.8670  1.7644  1.7483  1.7967  1.7971  1.7690  1.7716   \n11  2011  1.6843  1.6682  1.6692  1.5776  1.6328  1.5960  1.5743  1.5956   \n12  2012  1.7853  1.7158  1.8006  1.8364  1.9941  2.0443  2.0332  2.0338   \n13  2013  2.0374  1.9600  1.9749  1.9790  2.0233  2.1367  2.2548  2.3434   \n14  2014  2.3470  2.3924  2.3638  2.2257  2.2166  2.2347  2.2195  2.2690   \n15  2015  2.6122  2.8392  3.2264  3.0681  2.9884  3.1036  3.1532  3.4761   \n16  2016  3.8711  3.9885  3.7116  3.5276  3.5041  3.4768  3.2656  3.1672   \n17  2017  3.2034  3.0779  3.1629  3.1269  3.1011  3.2836  3.1899  3.1976   \n18  2018  3.1963  3.2208  3.2859  3.4105  3.6753  3.7738  3.8745  3.9134   \n19  2019  3.6513  3.7379  3.8961  3.9447  3.9401  3.8316  3.7643  4.1379   \n20  2020  4.2689  4.4981  5.1981  5.4264  5.4257  5.4754  5.2027  5.4707   \n21  2021  5.4753  5.5296  5.6967  5.4030  5.2316  5.0016  5.1210  5.1427   \n22  2022  5.3568  5.1388  4.7273  4.9185  4.7283  5.2374  5.1878  5.1784   \n23  2023  5.0987  5.2072  5.0798  5.0001  5.0953  4.8186  4.7409  4.9213   \n\n         9      10      11      12  \n0   1.8438  1.8764  1.9441  1.9678  \n1   2.6986  2.7790  2.5299  2.3840  \n2   3.1506  3.8567  3.6797  3.7342  \n3   2.8898  2.8268  2.9418  2.9293  \n4   2.9042  2.8623  2.7991  2.7508  \n5   2.3012  2.2511  2.1990  2.2957  \n6   2.1540  2.1419  2.1537  2.1470  \n7   1.9031  1.8078  1.7378  1.7959  \n8   1.8125  2.1551  2.2800  2.3690  \n9   1.8087  1.7037  1.7290  1.7557  \n10  1.7169  1.6604  1.7198  1.6988  \n11  1.7106  1.7376  1.7649  1.8609  \n12  2.0234  2.0139  2.0382  2.0840  \n13  2.2785  2.1818  2.3289  2.3354  \n14  2.3401  2.4316  2.6136  2.6717  \n15  3.8599  3.8344  3.8023  3.8703  \n16  3.3326  3.1864  3.4446  3.3830  \n17  3.1255  3.1572  3.2802  3.3176  \n18  4.1879  3.7332  3.7924  3.9090  \n19  4.1638  4.0035  4.2234  4.0301  \n20  5.6401  5.7712  5.3311  5.1961  \n21  5.4388  5.6424  5.6193  5.5799  \n22  5.4060  5.2564  5.2935  5.2171  \n23  5.0070  0.0000  0.0000  0.0000  ",
      "text/html": "<div>\n<style scoped>\n    .dataframe tbody tr th:only-of-type {\n        vertical-align: middle;\n    }\n\n    .dataframe tbody tr th {\n        vertical-align: top;\n    }\n\n    .dataframe thead th {\n        text-align: right;\n    }\n</style>\n<table border=\"1\" class=\"dataframe\">\n  <thead>\n    <tr style=\"text-align: right;\">\n      <th></th>\n      <th>YEAR</th>\n      <th>1</th>\n      <th>2</th>\n      <th>3</th>\n      <th>4</th>\n      <th>5</th>\n      <th>6</th>\n      <th>7</th>\n      <th>8</th>\n      <th>9</th>\n      <th>10</th>\n      <th>11</th>\n      <th>12</th>\n    </tr>\n  </thead>\n  <tbody>\n    <tr>\n      <th>0</th>\n      <td>2000</td>\n      <td>1.7997</td>\n      <td>1.7764</td>\n      <td>1.7431</td>\n      <td>1.7833</td>\n      <td>1.8382</td>\n      <td>1.8079</td>\n      <td>1.8106</td>\n      <td>1.8056</td>\n      <td>1.8438</td>\n      <td>1.8764</td>\n      <td>1.9441</td>\n      <td>1.9678</td>\n    </tr>\n    <tr>\n      <th>1</th>\n      <td>2001</td>\n      <td>1.9475</td>\n      <td>1.9812</td>\n      <td>2.0864</td>\n      <td>2.1573</td>\n      <td>2.3384</td>\n      <td>2.4079</td>\n      <td>2.5538</td>\n      <td>2.5005</td>\n      <td>2.6986</td>\n      <td>2.7790</td>\n      <td>2.5299</td>\n      <td>2.3840</td>\n    </tr>\n    <tr>\n      <th>2</th>\n      <td>2002</td>\n      <td>2.3705</td>\n      <td>2.4380</td>\n      <td>2.3542</td>\n      <td>2.3180</td>\n      <td>2.5117</td>\n      <td>2.7181</td>\n      <td>2.8455</td>\n      <td>3.1912</td>\n      <td>3.1506</td>\n      <td>3.8567</td>\n      <td>3.6797</td>\n      <td>3.7342</td>\n    </tr>\n    <tr>\n      <th>3</th>\n      <td>2003</td>\n      <td>3.2983</td>\n      <td>3.6580</td>\n      <td>3.3958</td>\n      <td>3.1154</td>\n      <td>2.9306</td>\n      <td>2.8570</td>\n      <td>2.8554</td>\n      <td>2.9930</td>\n      <td>2.8898</td>\n      <td>2.8268</td>\n      <td>2.9418</td>\n      <td>2.9293</td>\n    </tr>\n    <tr>\n      <th>4</th>\n      <td>2004</td>\n      <td>2.8126</td>\n      <td>2.9085</td>\n      <td>2.9013</td>\n      <td>2.9064</td>\n      <td>3.0982</td>\n      <td>3.1380</td>\n      <td>3.0215</td>\n      <td>3.0235</td>\n      <td>2.9042</td>\n      <td>2.8623</td>\n      <td>2.7991</td>\n      <td>2.7508</td>\n    </tr>\n    <tr>\n      <th>5</th>\n      <td>2005</td>\n      <td>2.7074</td>\n      <td>2.5762</td>\n      <td>2.7621</td>\n      <td>2.5971</td>\n      <td>2.4715</td>\n      <td>2.4455</td>\n      <td>2.3427</td>\n      <td>2.3422</td>\n      <td>2.3012</td>\n      <td>2.2511</td>\n      <td>2.1990</td>\n      <td>2.2957</td>\n    </tr>\n    <tr>\n      <th>6</th>\n      <td>2006</td>\n      <td>2.2747</td>\n      <td>2.1375</td>\n      <td>2.1215</td>\n      <td>2.1426</td>\n      <td>2.1774</td>\n      <td>2.2845</td>\n      <td>2.2130</td>\n      <td>2.1480</td>\n      <td>2.1540</td>\n      <td>2.1419</td>\n      <td>2.1537</td>\n      <td>2.1470</td>\n    </tr>\n    <tr>\n      <th>7</th>\n      <td>2007</td>\n      <td>2.1407</td>\n      <td>2.0896</td>\n      <td>2.0909</td>\n      <td>2.0231</td>\n      <td>1.9922</td>\n      <td>1.9097</td>\n      <td>1.8684</td>\n      <td>2.0043</td>\n      <td>1.9031</td>\n      <td>1.8078</td>\n      <td>1.7378</td>\n      <td>1.7959</td>\n    </tr>\n    <tr>\n      <th>8</th>\n      <td>2008</td>\n      <td>1.7450</td>\n      <td>1.7541</td>\n      <td>1.6947</td>\n      <td>1.6822</td>\n      <td>1.6601</td>\n      <td>1.6368</td>\n      <td>1.5910</td>\n      <td>1.6389</td>\n      <td>1.8125</td>\n      <td>2.1551</td>\n      <td>2.2800</td>\n      <td>2.3690</td>\n    </tr>\n    <tr>\n      <th>9</th>\n      <td>2009</td>\n      <td>2.3803</td>\n      <td>2.2680</td>\n      <td>2.3012</td>\n      <td>2.1992</td>\n      <td>2.0762</td>\n      <td>1.9458</td>\n      <td>1.9420</td>\n      <td>1.8385</td>\n      <td>1.8087</td>\n      <td>1.7037</td>\n      <td>1.7290</td>\n      <td>1.7557</td>\n    </tr>\n    <tr>\n      <th>10</th>\n      <td>2010</td>\n      <td>1.7711</td>\n      <td>1.8670</td>\n      <td>1.7644</td>\n      <td>1.7483</td>\n      <td>1.7967</td>\n      <td>1.7971</td>\n      <td>1.7690</td>\n      <td>1.7716</td>\n      <td>1.7169</td>\n      <td>1.6604</td>\n      <td>1.7198</td>\n      <td>1.6988</td>\n    </tr>\n    <tr>\n      <th>11</th>\n      <td>2011</td>\n      <td>1.6843</td>\n      <td>1.6682</td>\n      <td>1.6692</td>\n      <td>1.5776</td>\n      <td>1.6328</td>\n      <td>1.5960</td>\n      <td>1.5743</td>\n      <td>1.5956</td>\n      <td>1.7106</td>\n      <td>1.7376</td>\n      <td>1.7649</td>\n      <td>1.8609</td>\n    </tr>\n    <tr>\n      <th>12</th>\n      <td>2012</td>\n      <td>1.7853</td>\n      <td>1.7158</td>\n      <td>1.8006</td>\n      <td>1.8364</td>\n      <td>1.9941</td>\n      <td>2.0443</td>\n      <td>2.0332</td>\n      <td>2.0338</td>\n      <td>2.0234</td>\n      <td>2.0139</td>\n      <td>2.0382</td>\n      <td>2.0840</td>\n    </tr>\n    <tr>\n      <th>13</th>\n      <td>2013</td>\n      <td>2.0374</td>\n      <td>1.9600</td>\n      <td>1.9749</td>\n      <td>1.9790</td>\n      <td>2.0233</td>\n      <td>2.1367</td>\n      <td>2.2548</td>\n      <td>2.3434</td>\n      <td>2.2785</td>\n      <td>2.1818</td>\n      <td>2.3289</td>\n      <td>2.3354</td>\n    </tr>\n    <tr>\n      <th>14</th>\n      <td>2014</td>\n      <td>2.3470</td>\n      <td>2.3924</td>\n      <td>2.3638</td>\n      <td>2.2257</td>\n      <td>2.2166</td>\n      <td>2.2347</td>\n      <td>2.2195</td>\n      <td>2.2690</td>\n      <td>2.3401</td>\n      <td>2.4316</td>\n      <td>2.6136</td>\n      <td>2.6717</td>\n    </tr>\n    <tr>\n      <th>15</th>\n      <td>2015</td>\n      <td>2.6122</td>\n      <td>2.8392</td>\n      <td>3.2264</td>\n      <td>3.0681</td>\n      <td>2.9884</td>\n      <td>3.1036</td>\n      <td>3.1532</td>\n      <td>3.4761</td>\n      <td>3.8599</td>\n      <td>3.8344</td>\n      <td>3.8023</td>\n      <td>3.8703</td>\n    </tr>\n    <tr>\n      <th>16</th>\n      <td>2016</td>\n      <td>3.8711</td>\n      <td>3.9885</td>\n      <td>3.7116</td>\n      <td>3.5276</td>\n      <td>3.5041</td>\n      <td>3.4768</td>\n      <td>3.2656</td>\n      <td>3.1672</td>\n      <td>3.3326</td>\n      <td>3.1864</td>\n      <td>3.4446</td>\n      <td>3.3830</td>\n    </tr>\n    <tr>\n      <th>17</th>\n      <td>2017</td>\n      <td>3.2034</td>\n      <td>3.0779</td>\n      <td>3.1629</td>\n      <td>3.1269</td>\n      <td>3.1011</td>\n      <td>3.2836</td>\n      <td>3.1899</td>\n      <td>3.1976</td>\n      <td>3.1255</td>\n      <td>3.1572</td>\n      <td>3.2802</td>\n      <td>3.3176</td>\n    </tr>\n    <tr>\n      <th>18</th>\n      <td>2018</td>\n      <td>3.1963</td>\n      <td>3.2208</td>\n      <td>3.2859</td>\n      <td>3.4105</td>\n      <td>3.6753</td>\n      <td>3.7738</td>\n      <td>3.8745</td>\n      <td>3.9134</td>\n      <td>4.1879</td>\n      <td>3.7332</td>\n      <td>3.7924</td>\n      <td>3.9090</td>\n    </tr>\n    <tr>\n      <th>19</th>\n      <td>2019</td>\n      <td>3.6513</td>\n      <td>3.7379</td>\n      <td>3.8961</td>\n      <td>3.9447</td>\n      <td>3.9401</td>\n      <td>3.8316</td>\n      <td>3.7643</td>\n      <td>4.1379</td>\n      <td>4.1638</td>\n      <td>4.0035</td>\n      <td>4.2234</td>\n      <td>4.0301</td>\n    </tr>\n    <tr>\n      <th>20</th>\n      <td>2020</td>\n      <td>4.2689</td>\n      <td>4.4981</td>\n      <td>5.1981</td>\n      <td>5.4264</td>\n      <td>5.4257</td>\n      <td>5.4754</td>\n      <td>5.2027</td>\n      <td>5.4707</td>\n      <td>5.6401</td>\n      <td>5.7712</td>\n      <td>5.3311</td>\n      <td>5.1961</td>\n    </tr>\n    <tr>\n      <th>21</th>\n      <td>2021</td>\n      <td>5.4753</td>\n      <td>5.5296</td>\n      <td>5.6967</td>\n      <td>5.4030</td>\n      <td>5.2316</td>\n      <td>5.0016</td>\n      <td>5.1210</td>\n      <td>5.1427</td>\n      <td>5.4388</td>\n      <td>5.6424</td>\n      <td>5.6193</td>\n      <td>5.5799</td>\n    </tr>\n    <tr>\n      <th>22</th>\n      <td>2022</td>\n      <td>5.3568</td>\n      <td>5.1388</td>\n      <td>4.7273</td>\n      <td>4.9185</td>\n      <td>4.7283</td>\n      <td>5.2374</td>\n      <td>5.1878</td>\n      <td>5.1784</td>\n      <td>5.4060</td>\n      <td>5.2564</td>\n      <td>5.2935</td>\n      <td>5.2171</td>\n    </tr>\n    <tr>\n      <th>23</th>\n      <td>2023</td>\n      <td>5.0987</td>\n      <td>5.2072</td>\n      <td>5.0798</td>\n      <td>5.0001</td>\n      <td>5.0953</td>\n      <td>4.8186</td>\n      <td>4.7409</td>\n      <td>4.9213</td>\n      <td>5.0070</td>\n      <td>0.0000</td>\n      <td>0.0000</td>\n      <td>0.0000</td>\n    </tr>\n  </tbody>\n</table>\n</div>"
     },
     "execution_count": 29,
     "metadata": {},
     "output_type": "execute_result"
    }
   ],
   "source": [
    "serie_dolar"
   ],
   "metadata": {
    "collapsed": false,
    "ExecuteTime": {
     "end_time": "2023-10-17T01:31:41.371049800Z",
     "start_time": "2023-10-17T01:31:41.307423900Z"
    }
   },
   "id": "9bf59a29ffdea20e"
  },
  {
   "cell_type": "code",
   "execution_count": 30,
   "outputs": [],
   "source": [
    "dolar_mensal = serie_dolar.melt(id_vars=['YEAR'],var_name='MONTH', value_name='USDBRL')"
   ],
   "metadata": {
    "collapsed": false,
    "ExecuteTime": {
     "end_time": "2023-10-17T01:31:41.372213100Z",
     "start_time": "2023-10-17T01:31:41.348464400Z"
    }
   },
   "id": "cf84cf9870abd753"
  },
  {
   "cell_type": "code",
   "execution_count": 31,
   "outputs": [],
   "source": [
    "dolar_mensal['MONTH'] = dolar_mensal['MONTH'].apply(pd.to_numeric, errors = 'coerce') "
   ],
   "metadata": {
    "collapsed": false,
    "ExecuteTime": {
     "end_time": "2023-10-17T01:31:41.372213100Z",
     "start_time": "2023-10-17T01:31:41.356175700Z"
    }
   },
   "id": "15c883ea400a68c5"
  },
  {
   "cell_type": "code",
   "execution_count": 32,
   "outputs": [],
   "source": [
    "dolar_mensal_ordenado = dolar_mensal.sort_values(by=['YEAR','MONTH'])"
   ],
   "metadata": {
    "collapsed": false,
    "ExecuteTime": {
     "end_time": "2023-10-17T01:31:41.384018500Z",
     "start_time": "2023-10-17T01:31:41.371049800Z"
    }
   },
   "id": "c7a41e2054b0f897"
  },
  {
   "cell_type": "code",
   "execution_count": 33,
   "outputs": [],
   "source": [
    "dolar_mensal_ordenado['DATA'] = pd.to_datetime(dolar_mensal_ordenado[['YEAR', 'MONTH']].assign(DAY=1))"
   ],
   "metadata": {
    "collapsed": false,
    "ExecuteTime": {
     "end_time": "2023-10-17T01:31:41.385011500Z",
     "start_time": "2023-10-17T01:31:41.378409300Z"
    }
   },
   "id": "6fc28814e668574d"
  },
  {
   "cell_type": "code",
   "execution_count": 34,
   "outputs": [],
   "source": [
    "dolar_mensal_ordenado.set_index('DATA',inplace=True)"
   ],
   "metadata": {
    "collapsed": false,
    "ExecuteTime": {
     "end_time": "2023-10-17T01:31:41.393950200Z",
     "start_time": "2023-10-17T01:31:41.388009600Z"
    }
   },
   "id": "f90550a59fc16081"
  },
  {
   "cell_type": "code",
   "execution_count": 35,
   "outputs": [
    {
     "data": {
      "text/plain": "            YEAR  MONTH  USDBRL\nDATA                           \n2000-01-01  2000      1  1.7997\n2000-02-01  2000      2  1.7764\n2000-03-01  2000      3  1.7431\n2000-04-01  2000      4  1.7833\n2000-05-01  2000      5  1.8382\n...          ...    ...     ...\n2023-08-01  2023      8  4.9213\n2023-09-01  2023      9  5.0070\n2023-10-01  2023     10  0.0000\n2023-11-01  2023     11  0.0000\n2023-12-01  2023     12  0.0000\n\n[288 rows x 3 columns]",
      "text/html": "<div>\n<style scoped>\n    .dataframe tbody tr th:only-of-type {\n        vertical-align: middle;\n    }\n\n    .dataframe tbody tr th {\n        vertical-align: top;\n    }\n\n    .dataframe thead th {\n        text-align: right;\n    }\n</style>\n<table border=\"1\" class=\"dataframe\">\n  <thead>\n    <tr style=\"text-align: right;\">\n      <th></th>\n      <th>YEAR</th>\n      <th>MONTH</th>\n      <th>USDBRL</th>\n    </tr>\n    <tr>\n      <th>DATA</th>\n      <th></th>\n      <th></th>\n      <th></th>\n    </tr>\n  </thead>\n  <tbody>\n    <tr>\n      <th>2000-01-01</th>\n      <td>2000</td>\n      <td>1</td>\n      <td>1.7997</td>\n    </tr>\n    <tr>\n      <th>2000-02-01</th>\n      <td>2000</td>\n      <td>2</td>\n      <td>1.7764</td>\n    </tr>\n    <tr>\n      <th>2000-03-01</th>\n      <td>2000</td>\n      <td>3</td>\n      <td>1.7431</td>\n    </tr>\n    <tr>\n      <th>2000-04-01</th>\n      <td>2000</td>\n      <td>4</td>\n      <td>1.7833</td>\n    </tr>\n    <tr>\n      <th>2000-05-01</th>\n      <td>2000</td>\n      <td>5</td>\n      <td>1.8382</td>\n    </tr>\n    <tr>\n      <th>...</th>\n      <td>...</td>\n      <td>...</td>\n      <td>...</td>\n    </tr>\n    <tr>\n      <th>2023-08-01</th>\n      <td>2023</td>\n      <td>8</td>\n      <td>4.9213</td>\n    </tr>\n    <tr>\n      <th>2023-09-01</th>\n      <td>2023</td>\n      <td>9</td>\n      <td>5.0070</td>\n    </tr>\n    <tr>\n      <th>2023-10-01</th>\n      <td>2023</td>\n      <td>10</td>\n      <td>0.0000</td>\n    </tr>\n    <tr>\n      <th>2023-11-01</th>\n      <td>2023</td>\n      <td>11</td>\n      <td>0.0000</td>\n    </tr>\n    <tr>\n      <th>2023-12-01</th>\n      <td>2023</td>\n      <td>12</td>\n      <td>0.0000</td>\n    </tr>\n  </tbody>\n</table>\n<p>288 rows × 3 columns</p>\n</div>"
     },
     "execution_count": 35,
     "metadata": {},
     "output_type": "execute_result"
    }
   ],
   "source": [
    "dolar_mensal_ordenado"
   ],
   "metadata": {
    "collapsed": false,
    "ExecuteTime": {
     "end_time": "2023-10-17T01:31:41.426571900Z",
     "start_time": "2023-10-17T01:31:41.396951200Z"
    }
   },
   "id": "d2abc697afc5b478"
  },
  {
   "cell_type": "code",
   "execution_count": 35,
   "outputs": [],
   "source": [],
   "metadata": {
    "collapsed": false,
    "ExecuteTime": {
     "end_time": "2023-10-17T01:31:41.462968700Z",
     "start_time": "2023-10-17T01:31:41.411432800Z"
    }
   },
   "id": "f9b03ad73f14b886"
  },
  {
   "cell_type": "code",
   "execution_count": 36,
   "outputs": [],
   "source": [
    "dolar_mensal_ordenado.to_csv('dados/_DOLAR_MENSAL.csv', index=True, sep=';', encoding=\"ISO-8859-1\") "
   ],
   "metadata": {
    "collapsed": false,
    "ExecuteTime": {
     "end_time": "2023-10-17T01:31:41.481026900Z",
     "start_time": "2023-10-17T01:31:41.414275400Z"
    }
   },
   "id": "1e023e541d068897"
  },
  {
   "cell_type": "code",
   "execution_count": 36,
   "outputs": [],
   "source": [],
   "metadata": {
    "collapsed": false,
    "ExecuteTime": {
     "end_time": "2023-10-17T01:31:41.481026900Z",
     "start_time": "2023-10-17T01:31:41.420967300Z"
    }
   },
   "id": "7b92c3b302bc3be2"
  }
 ],
 "metadata": {
  "kernelspec": {
   "display_name": "Python 3",
   "language": "python",
   "name": "python3"
  },
  "language_info": {
   "codemirror_mode": {
    "name": "ipython",
    "version": 2
   },
   "file_extension": ".py",
   "mimetype": "text/x-python",
   "name": "python",
   "nbconvert_exporter": "python",
   "pygments_lexer": "ipython2",
   "version": "2.7.6"
  }
 },
 "nbformat": 4,
 "nbformat_minor": 5
}
