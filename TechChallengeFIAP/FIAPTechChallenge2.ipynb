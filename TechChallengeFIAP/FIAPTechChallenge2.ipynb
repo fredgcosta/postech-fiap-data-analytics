{
 "cells": [
  {
   "cell_type": "markdown",
   "source": [
    "# 1. Importando as bibliotecas necessárias"
   ],
   "metadata": {
    "collapsed": false
   },
   "id": "cc0ac2eb71dedb0c"
  },
  {
   "cell_type": "code",
   "execution_count": 1,
   "outputs": [],
   "source": [
    "import pandas as pd\n",
    "import matplotlib.pyplot as plt\n",
    "import matplotlib as mpl\n",
    "import numpy as np\n",
    "import seaborn as sns\n",
    "\n",
    "%matplotlib inline"
   ],
   "metadata": {
    "collapsed": false,
    "ExecuteTime": {
     "end_time": "2023-09-11T02:32:42.932413400Z",
     "start_time": "2023-09-11T02:32:42.920931700Z"
    }
   },
   "id": "e6827e6c63d17367"
  },
  {
   "cell_type": "markdown",
   "source": [
    "# 2. Importando o DataSet"
   ],
   "metadata": {
    "collapsed": false
   },
   "id": "2d72abb2c261ed24"
  },
  {
   "cell_type": "code",
   "execution_count": 2,
   "outputs": [],
   "source": [
    "wine_exp_by_month = pd.read_csv('EXP_2007_2023_20230904_MENSAL.csv', sep=';')\n",
    "wine_exp_by_year = pd.read_csv('EXP_2007_2023_20230904_ANUAL.csv', sep=';')"
   ],
   "metadata": {
    "collapsed": false,
    "ExecuteTime": {
     "end_time": "2023-09-11T02:32:42.946668300Z",
     "start_time": "2023-09-11T02:32:42.934383400Z"
    }
   },
   "id": "eef64fafe160196d"
  },
  {
   "cell_type": "markdown",
   "source": [
    "# 3. Verificando a estrutura do DataSet"
   ],
   "metadata": {
    "collapsed": false,
    "ExecuteTime": {
     "end_time": "2023-09-07T04:44:42.099944500Z",
     "start_time": "2023-09-07T04:44:38.170223Z"
    }
   },
   "id": "f79eb7dd34d0b515"
  },
  {
   "cell_type": "code",
   "execution_count": 3,
   "outputs": [
    {
     "name": "stdout",
     "output_type": "stream",
     "text": [
      "<class 'pandas.core.frame.DataFrame'>\n",
      "RangeIndex: 3317 entries, 0 to 3316\n",
      "Data columns (total 5 columns):\n",
      " #   Column      Non-Null Count  Dtype \n",
      "---  ------      --------------  ----- \n",
      " 0   Year        3317 non-null   int64 \n",
      " 1   Month       3317 non-null   int64 \n",
      " 2   Country     3317 non-null   object\n",
      " 3   US$ FOB     3317 non-null   int64 \n",
      " 4   Net Weight  3317 non-null   int64 \n",
      "dtypes: int64(4), object(1)\n",
      "memory usage: 129.7+ KB\n",
      "<class 'pandas.core.frame.DataFrame'>\n",
      "RangeIndex: 807 entries, 0 to 806\n",
      "Data columns (total 4 columns):\n",
      " #   Column      Non-Null Count  Dtype \n",
      "---  ------      --------------  ----- \n",
      " 0   Year        807 non-null    int64 \n",
      " 1   Country     807 non-null    object\n",
      " 2   US$ FOB     807 non-null    int64 \n",
      " 3   Net Weight  807 non-null    int64 \n",
      "dtypes: int64(3), object(1)\n",
      "memory usage: 25.3+ KB\n"
     ]
    }
   ],
   "source": [
    "wine_exp_by_month.info()\n",
    "wine_exp_by_year.info()"
   ],
   "metadata": {
    "collapsed": false,
    "ExecuteTime": {
     "end_time": "2023-09-11T02:32:42.962881500Z",
     "start_time": "2023-09-11T02:32:42.957663500Z"
    }
   },
   "id": "8fc4299ab87a961c"
  },
  {
   "cell_type": "code",
   "execution_count": 4,
   "outputs": [
    {
     "data": {
      "text/plain": "   Year  Month   Country  US$ FOB  Net Weight\n0  2023      6  Paraguay   917728      614615\n1  2023      5  Paraguay   729345      495937\n2  2023      4  Paraguay   685335      428058\n3  2023      7  Paraguay   640784      430523\n4  2023      3  Paraguay   366292      233708",
      "text/html": "<div>\n<style scoped>\n    .dataframe tbody tr th:only-of-type {\n        vertical-align: middle;\n    }\n\n    .dataframe tbody tr th {\n        vertical-align: top;\n    }\n\n    .dataframe thead th {\n        text-align: right;\n    }\n</style>\n<table border=\"1\" class=\"dataframe\">\n  <thead>\n    <tr style=\"text-align: right;\">\n      <th></th>\n      <th>Year</th>\n      <th>Month</th>\n      <th>Country</th>\n      <th>US$ FOB</th>\n      <th>Net Weight</th>\n    </tr>\n  </thead>\n  <tbody>\n    <tr>\n      <th>0</th>\n      <td>2023</td>\n      <td>6</td>\n      <td>Paraguay</td>\n      <td>917728</td>\n      <td>614615</td>\n    </tr>\n    <tr>\n      <th>1</th>\n      <td>2023</td>\n      <td>5</td>\n      <td>Paraguay</td>\n      <td>729345</td>\n      <td>495937</td>\n    </tr>\n    <tr>\n      <th>2</th>\n      <td>2023</td>\n      <td>4</td>\n      <td>Paraguay</td>\n      <td>685335</td>\n      <td>428058</td>\n    </tr>\n    <tr>\n      <th>3</th>\n      <td>2023</td>\n      <td>7</td>\n      <td>Paraguay</td>\n      <td>640784</td>\n      <td>430523</td>\n    </tr>\n    <tr>\n      <th>4</th>\n      <td>2023</td>\n      <td>3</td>\n      <td>Paraguay</td>\n      <td>366292</td>\n      <td>233708</td>\n    </tr>\n  </tbody>\n</table>\n</div>"
     },
     "execution_count": 4,
     "metadata": {},
     "output_type": "execute_result"
    }
   ],
   "source": [
    "wine_exp_by_month.head()"
   ],
   "metadata": {
    "collapsed": false,
    "ExecuteTime": {
     "end_time": "2023-09-11T02:32:43.022251600Z",
     "start_time": "2023-09-11T02:32:42.963841600Z"
    }
   },
   "id": "6aa17ace982fea90"
  },
  {
   "cell_type": "code",
   "execution_count": 5,
   "outputs": [
    {
     "data": {
      "text/plain": "   Year        Country  US$ FOB  Net Weight\n0  2023       Paraguay  3752857     2494499\n1  2023          Haiti   400780      263386\n2  2023        Uruguay   394371      308490\n3  2023      Venezuela   163280      105750\n4  2023  United States   157439       85667",
      "text/html": "<div>\n<style scoped>\n    .dataframe tbody tr th:only-of-type {\n        vertical-align: middle;\n    }\n\n    .dataframe tbody tr th {\n        vertical-align: top;\n    }\n\n    .dataframe thead th {\n        text-align: right;\n    }\n</style>\n<table border=\"1\" class=\"dataframe\">\n  <thead>\n    <tr style=\"text-align: right;\">\n      <th></th>\n      <th>Year</th>\n      <th>Country</th>\n      <th>US$ FOB</th>\n      <th>Net Weight</th>\n    </tr>\n  </thead>\n  <tbody>\n    <tr>\n      <th>0</th>\n      <td>2023</td>\n      <td>Paraguay</td>\n      <td>3752857</td>\n      <td>2494499</td>\n    </tr>\n    <tr>\n      <th>1</th>\n      <td>2023</td>\n      <td>Haiti</td>\n      <td>400780</td>\n      <td>263386</td>\n    </tr>\n    <tr>\n      <th>2</th>\n      <td>2023</td>\n      <td>Uruguay</td>\n      <td>394371</td>\n      <td>308490</td>\n    </tr>\n    <tr>\n      <th>3</th>\n      <td>2023</td>\n      <td>Venezuela</td>\n      <td>163280</td>\n      <td>105750</td>\n    </tr>\n    <tr>\n      <th>4</th>\n      <td>2023</td>\n      <td>United States</td>\n      <td>157439</td>\n      <td>85667</td>\n    </tr>\n  </tbody>\n</table>\n</div>"
     },
     "execution_count": 5,
     "metadata": {},
     "output_type": "execute_result"
    }
   ],
   "source": [
    "wine_exp_by_year.head()"
   ],
   "metadata": {
    "collapsed": false,
    "ExecuteTime": {
     "end_time": "2023-09-11T02:32:43.024251400Z",
     "start_time": "2023-09-11T02:32:42.977392200Z"
    }
   },
   "id": "dce1907381ad2e80"
  },
  {
   "cell_type": "code",
   "execution_count": 6,
   "outputs": [],
   "source": [
    "wine_exp_by_month = wine_exp_by_month.set_index(['Country','Year','Month'])"
   ],
   "metadata": {
    "collapsed": false,
    "ExecuteTime": {
     "end_time": "2023-09-11T02:32:43.025256300Z",
     "start_time": "2023-09-11T02:32:42.985226400Z"
    }
   },
   "id": "562051d2bb32cf84"
  },
  {
   "cell_type": "code",
   "execution_count": 7,
   "outputs": [],
   "source": [
    "wine_exp_by_year = wine_exp_by_year.set_index(['Country','Year'])"
   ],
   "metadata": {
    "collapsed": false,
    "ExecuteTime": {
     "end_time": "2023-09-11T02:32:43.025256300Z",
     "start_time": "2023-09-11T02:32:42.994362400Z"
    }
   },
   "id": "c042b55f9006d263"
  },
  {
   "cell_type": "code",
   "execution_count": 8,
   "outputs": [
    {
     "data": {
      "text/plain": "                     US$ FOB  Net Weight\nCountry  Year Month                     \nParaguay 2023 6       917728      614615\n              5       729345      495937\n              4       685335      428058\n              7       640784      430523\n              3       366292      233708",
      "text/html": "<div>\n<style scoped>\n    .dataframe tbody tr th:only-of-type {\n        vertical-align: middle;\n    }\n\n    .dataframe tbody tr th {\n        vertical-align: top;\n    }\n\n    .dataframe thead th {\n        text-align: right;\n    }\n</style>\n<table border=\"1\" class=\"dataframe\">\n  <thead>\n    <tr style=\"text-align: right;\">\n      <th></th>\n      <th></th>\n      <th></th>\n      <th>US$ FOB</th>\n      <th>Net Weight</th>\n    </tr>\n    <tr>\n      <th>Country</th>\n      <th>Year</th>\n      <th>Month</th>\n      <th></th>\n      <th></th>\n    </tr>\n  </thead>\n  <tbody>\n    <tr>\n      <th rowspan=\"5\" valign=\"top\">Paraguay</th>\n      <th rowspan=\"5\" valign=\"top\">2023</th>\n      <th>6</th>\n      <td>917728</td>\n      <td>614615</td>\n    </tr>\n    <tr>\n      <th>5</th>\n      <td>729345</td>\n      <td>495937</td>\n    </tr>\n    <tr>\n      <th>4</th>\n      <td>685335</td>\n      <td>428058</td>\n    </tr>\n    <tr>\n      <th>7</th>\n      <td>640784</td>\n      <td>430523</td>\n    </tr>\n    <tr>\n      <th>3</th>\n      <td>366292</td>\n      <td>233708</td>\n    </tr>\n  </tbody>\n</table>\n</div>"
     },
     "execution_count": 8,
     "metadata": {},
     "output_type": "execute_result"
    }
   ],
   "source": [
    "wine_exp_by_month.head()"
   ],
   "metadata": {
    "collapsed": false,
    "ExecuteTime": {
     "end_time": "2023-09-11T02:32:43.026287Z",
     "start_time": "2023-09-11T02:32:43.001283700Z"
    }
   },
   "id": "a03d2bb06389409e"
  },
  {
   "cell_type": "code",
   "execution_count": 9,
   "outputs": [
    {
     "data": {
      "text/plain": "                    US$ FOB  Net Weight\nCountry       Year                     \nParaguay      2023  3752857     2494499\nHaiti         2023   400780      263386\nUruguay       2023   394371      308490\nVenezuela     2023   163280      105750\nUnited States 2023   157439       85667",
      "text/html": "<div>\n<style scoped>\n    .dataframe tbody tr th:only-of-type {\n        vertical-align: middle;\n    }\n\n    .dataframe tbody tr th {\n        vertical-align: top;\n    }\n\n    .dataframe thead th {\n        text-align: right;\n    }\n</style>\n<table border=\"1\" class=\"dataframe\">\n  <thead>\n    <tr style=\"text-align: right;\">\n      <th></th>\n      <th></th>\n      <th>US$ FOB</th>\n      <th>Net Weight</th>\n    </tr>\n    <tr>\n      <th>Country</th>\n      <th>Year</th>\n      <th></th>\n      <th></th>\n    </tr>\n  </thead>\n  <tbody>\n    <tr>\n      <th>Paraguay</th>\n      <th>2023</th>\n      <td>3752857</td>\n      <td>2494499</td>\n    </tr>\n    <tr>\n      <th>Haiti</th>\n      <th>2023</th>\n      <td>400780</td>\n      <td>263386</td>\n    </tr>\n    <tr>\n      <th>Uruguay</th>\n      <th>2023</th>\n      <td>394371</td>\n      <td>308490</td>\n    </tr>\n    <tr>\n      <th>Venezuela</th>\n      <th>2023</th>\n      <td>163280</td>\n      <td>105750</td>\n    </tr>\n    <tr>\n      <th>United States</th>\n      <th>2023</th>\n      <td>157439</td>\n      <td>85667</td>\n    </tr>\n  </tbody>\n</table>\n</div>"
     },
     "execution_count": 9,
     "metadata": {},
     "output_type": "execute_result"
    }
   ],
   "source": [
    "wine_exp_by_year.head()"
   ],
   "metadata": {
    "collapsed": false,
    "ExecuteTime": {
     "end_time": "2023-09-11T02:32:43.031668100Z",
     "start_time": "2023-09-11T02:32:43.012423100Z"
    }
   },
   "id": "ee1225fd6c97ebf6"
  },
  {
   "cell_type": "code",
   "execution_count": 10,
   "outputs": [
    {
     "name": "stdout",
     "output_type": "stream",
     "text": [
      "<class 'pandas.core.frame.DataFrame'>\n",
      "MultiIndex: 807 entries, ('Paraguay', 2023) to ('Togo', 2007)\n",
      "Data columns (total 2 columns):\n",
      " #   Column      Non-Null Count  Dtype\n",
      "---  ------      --------------  -----\n",
      " 0   US$ FOB     807 non-null    int64\n",
      " 1   Net Weight  807 non-null    int64\n",
      "dtypes: int64(2)\n",
      "memory usage: 20.0+ KB\n"
     ]
    }
   ],
   "source": [
    "wine_exp_by_year.info()"
   ],
   "metadata": {
    "collapsed": false,
    "ExecuteTime": {
     "end_time": "2023-09-11T02:32:43.039853Z",
     "start_time": "2023-09-11T02:32:43.023250300Z"
    }
   },
   "id": "2f924c67d4a209d4"
  },
  {
   "cell_type": "code",
   "execution_count": 11,
   "outputs": [],
   "source": [
    "wine_exp_by_year2 = wine_exp_by_month.groupby(['Country','Year']).agg(sum)"
   ],
   "metadata": {
    "collapsed": false,
    "ExecuteTime": {
     "end_time": "2023-09-11T02:32:43.045890800Z",
     "start_time": "2023-09-11T02:32:43.036670900Z"
    }
   },
   "id": "5202ac0f6ddeba3b"
  },
  {
   "cell_type": "code",
   "execution_count": 12,
   "outputs": [
    {
     "name": "stdout",
     "output_type": "stream",
     "text": [
      "<class 'pandas.core.frame.DataFrame'>\n",
      "MultiIndex: 807 entries, ('Afghanistan', 2021) to ('Vietnam', 2022)\n",
      "Data columns (total 2 columns):\n",
      " #   Column      Non-Null Count  Dtype\n",
      "---  ------      --------------  -----\n",
      " 0   US$ FOB     807 non-null    int64\n",
      " 1   Net Weight  807 non-null    int64\n",
      "dtypes: int64(2)\n",
      "memory usage: 15.4+ KB\n"
     ]
    }
   ],
   "source": [
    "wine_exp_by_year2.info()"
   ],
   "metadata": {
    "collapsed": false,
    "ExecuteTime": {
     "end_time": "2023-09-11T02:32:43.114688300Z",
     "start_time": "2023-09-11T02:32:43.042853700Z"
    }
   },
   "id": "c015ba2c0d0ead79"
  },
  {
   "cell_type": "code",
   "execution_count": 13,
   "outputs": [
    {
     "data": {
      "text/plain": "                    US$ FOB  Net Weight\nCountry       Year                     \nParaguay      2023  3752857     2494499\nHaiti         2023   400780      263386\nUruguay       2023   394371      308490\nVenezuela     2023   163280      105750\nUnited States 2023   157439       85667",
      "text/html": "<div>\n<style scoped>\n    .dataframe tbody tr th:only-of-type {\n        vertical-align: middle;\n    }\n\n    .dataframe tbody tr th {\n        vertical-align: top;\n    }\n\n    .dataframe thead th {\n        text-align: right;\n    }\n</style>\n<table border=\"1\" class=\"dataframe\">\n  <thead>\n    <tr style=\"text-align: right;\">\n      <th></th>\n      <th></th>\n      <th>US$ FOB</th>\n      <th>Net Weight</th>\n    </tr>\n    <tr>\n      <th>Country</th>\n      <th>Year</th>\n      <th></th>\n      <th></th>\n    </tr>\n  </thead>\n  <tbody>\n    <tr>\n      <th>Paraguay</th>\n      <th>2023</th>\n      <td>3752857</td>\n      <td>2494499</td>\n    </tr>\n    <tr>\n      <th>Haiti</th>\n      <th>2023</th>\n      <td>400780</td>\n      <td>263386</td>\n    </tr>\n    <tr>\n      <th>Uruguay</th>\n      <th>2023</th>\n      <td>394371</td>\n      <td>308490</td>\n    </tr>\n    <tr>\n      <th>Venezuela</th>\n      <th>2023</th>\n      <td>163280</td>\n      <td>105750</td>\n    </tr>\n    <tr>\n      <th>United States</th>\n      <th>2023</th>\n      <td>157439</td>\n      <td>85667</td>\n    </tr>\n  </tbody>\n</table>\n</div>"
     },
     "execution_count": 13,
     "metadata": {},
     "output_type": "execute_result"
    }
   ],
   "source": [
    "wine_exp_by_year.head()"
   ],
   "metadata": {
    "collapsed": false,
    "ExecuteTime": {
     "end_time": "2023-09-11T02:32:43.200983400Z",
     "start_time": "2023-09-11T02:32:43.060206800Z"
    }
   },
   "id": "a5139561df094c6c"
  },
  {
   "cell_type": "code",
   "execution_count": 14,
   "outputs": [
    {
     "data": {
      "text/plain": "                  US$ FOB  Net Weight\nCountry     Year                     \nAfghanistan 2021       46          11\nAngola      2007    49753       25931\n            2008    71083       25721\n            2009    84235       54786\n            2010   196947       34094",
      "text/html": "<div>\n<style scoped>\n    .dataframe tbody tr th:only-of-type {\n        vertical-align: middle;\n    }\n\n    .dataframe tbody tr th {\n        vertical-align: top;\n    }\n\n    .dataframe thead th {\n        text-align: right;\n    }\n</style>\n<table border=\"1\" class=\"dataframe\">\n  <thead>\n    <tr style=\"text-align: right;\">\n      <th></th>\n      <th></th>\n      <th>US$ FOB</th>\n      <th>Net Weight</th>\n    </tr>\n    <tr>\n      <th>Country</th>\n      <th>Year</th>\n      <th></th>\n      <th></th>\n    </tr>\n  </thead>\n  <tbody>\n    <tr>\n      <th>Afghanistan</th>\n      <th>2021</th>\n      <td>46</td>\n      <td>11</td>\n    </tr>\n    <tr>\n      <th rowspan=\"4\" valign=\"top\">Angola</th>\n      <th>2007</th>\n      <td>49753</td>\n      <td>25931</td>\n    </tr>\n    <tr>\n      <th>2008</th>\n      <td>71083</td>\n      <td>25721</td>\n    </tr>\n    <tr>\n      <th>2009</th>\n      <td>84235</td>\n      <td>54786</td>\n    </tr>\n    <tr>\n      <th>2010</th>\n      <td>196947</td>\n      <td>34094</td>\n    </tr>\n  </tbody>\n</table>\n</div>"
     },
     "execution_count": 14,
     "metadata": {},
     "output_type": "execute_result"
    }
   ],
   "source": [
    "wine_exp_by_year2.head()"
   ],
   "metadata": {
    "collapsed": false,
    "ExecuteTime": {
     "end_time": "2023-09-11T02:32:43.200983400Z",
     "start_time": "2023-09-11T02:32:43.064727600Z"
    }
   },
   "id": "ed774f5b78a91f00"
  },
  {
   "cell_type": "code",
   "execution_count": 15,
   "outputs": [
    {
     "data": {
      "text/plain": "False"
     },
     "execution_count": 15,
     "metadata": {},
     "output_type": "execute_result"
    }
   ],
   "source": [
    "wine_exp_by_year.equals(wine_exp_by_year2)"
   ],
   "metadata": {
    "collapsed": false,
    "ExecuteTime": {
     "end_time": "2023-09-11T02:32:43.263988200Z",
     "start_time": "2023-09-11T02:32:43.075199800Z"
    }
   },
   "id": "81a180fe34cf803f"
  },
  {
   "cell_type": "code",
   "execution_count": 16,
   "outputs": [],
   "source": [
    "wine_exp_by_year = wine_exp_by_year.sort_values(by = ['Year', 'US$ FOB'], ascending = [False, False])"
   ],
   "metadata": {
    "collapsed": false,
    "ExecuteTime": {
     "end_time": "2023-09-11T02:32:43.290955900Z",
     "start_time": "2023-09-11T02:32:43.085827Z"
    }
   },
   "id": "ff41132c88796791"
  },
  {
   "cell_type": "code",
   "execution_count": 17,
   "outputs": [],
   "source": [
    "wine_exp_by_year2 = wine_exp_by_year2.sort_values(by = ['Year', 'US$ FOB'], ascending = [False, False])"
   ],
   "metadata": {
    "collapsed": false,
    "ExecuteTime": {
     "end_time": "2023-09-11T02:32:43.290955900Z",
     "start_time": "2023-09-11T02:32:43.090838700Z"
    }
   },
   "id": "bb329d3c5f65304c"
  },
  {
   "cell_type": "code",
   "execution_count": 18,
   "outputs": [
    {
     "data": {
      "text/plain": "                    US$ FOB  Net Weight\nCountry       Year                     \nParaguay      2023  3752857     2494499\nHaiti         2023   400780      263386\nUruguay       2023   394371      308490\nVenezuela     2023   163280      105750\nUnited States 2023   157439       85667\n...                     ...         ...\nLuxembourg    2007     2033         785\nThailand      2007     2020         839\nPanama        2007     1030         810\nAustralia     2007      281          60\nTogo          2007       11          11\n\n[807 rows x 2 columns]",
      "text/html": "<div>\n<style scoped>\n    .dataframe tbody tr th:only-of-type {\n        vertical-align: middle;\n    }\n\n    .dataframe tbody tr th {\n        vertical-align: top;\n    }\n\n    .dataframe thead th {\n        text-align: right;\n    }\n</style>\n<table border=\"1\" class=\"dataframe\">\n  <thead>\n    <tr style=\"text-align: right;\">\n      <th></th>\n      <th></th>\n      <th>US$ FOB</th>\n      <th>Net Weight</th>\n    </tr>\n    <tr>\n      <th>Country</th>\n      <th>Year</th>\n      <th></th>\n      <th></th>\n    </tr>\n  </thead>\n  <tbody>\n    <tr>\n      <th>Paraguay</th>\n      <th>2023</th>\n      <td>3752857</td>\n      <td>2494499</td>\n    </tr>\n    <tr>\n      <th>Haiti</th>\n      <th>2023</th>\n      <td>400780</td>\n      <td>263386</td>\n    </tr>\n    <tr>\n      <th>Uruguay</th>\n      <th>2023</th>\n      <td>394371</td>\n      <td>308490</td>\n    </tr>\n    <tr>\n      <th>Venezuela</th>\n      <th>2023</th>\n      <td>163280</td>\n      <td>105750</td>\n    </tr>\n    <tr>\n      <th>United States</th>\n      <th>2023</th>\n      <td>157439</td>\n      <td>85667</td>\n    </tr>\n    <tr>\n      <th>...</th>\n      <th>...</th>\n      <td>...</td>\n      <td>...</td>\n    </tr>\n    <tr>\n      <th>Luxembourg</th>\n      <th>2007</th>\n      <td>2033</td>\n      <td>785</td>\n    </tr>\n    <tr>\n      <th>Thailand</th>\n      <th>2007</th>\n      <td>2020</td>\n      <td>839</td>\n    </tr>\n    <tr>\n      <th>Panama</th>\n      <th>2007</th>\n      <td>1030</td>\n      <td>810</td>\n    </tr>\n    <tr>\n      <th>Australia</th>\n      <th>2007</th>\n      <td>281</td>\n      <td>60</td>\n    </tr>\n    <tr>\n      <th>Togo</th>\n      <th>2007</th>\n      <td>11</td>\n      <td>11</td>\n    </tr>\n  </tbody>\n</table>\n<p>807 rows × 2 columns</p>\n</div>"
     },
     "execution_count": 18,
     "metadata": {},
     "output_type": "execute_result"
    }
   ],
   "source": [
    "wine_exp_by_year"
   ],
   "metadata": {
    "collapsed": false,
    "ExecuteTime": {
     "end_time": "2023-09-11T02:32:43.291978Z",
     "start_time": "2023-09-11T02:32:43.099231900Z"
    }
   },
   "id": "8ec95d7a6be0ec5b"
  },
  {
   "cell_type": "code",
   "execution_count": 19,
   "outputs": [
    {
     "data": {
      "text/plain": "                    US$ FOB  Net Weight\nCountry       Year                     \nParaguay      2023  3752857     2494499\nHaiti         2023   400780      263386\nUruguay       2023   394371      308490\nVenezuela     2023   163280      105750\nUnited States 2023   157439       85667\n...                     ...         ...\nLuxembourg    2007     2033         785\nThailand      2007     2020         839\nPanama        2007     1030         810\nAustralia     2007      281          60\nTogo          2007       11          11\n\n[807 rows x 2 columns]",
      "text/html": "<div>\n<style scoped>\n    .dataframe tbody tr th:only-of-type {\n        vertical-align: middle;\n    }\n\n    .dataframe tbody tr th {\n        vertical-align: top;\n    }\n\n    .dataframe thead th {\n        text-align: right;\n    }\n</style>\n<table border=\"1\" class=\"dataframe\">\n  <thead>\n    <tr style=\"text-align: right;\">\n      <th></th>\n      <th></th>\n      <th>US$ FOB</th>\n      <th>Net Weight</th>\n    </tr>\n    <tr>\n      <th>Country</th>\n      <th>Year</th>\n      <th></th>\n      <th></th>\n    </tr>\n  </thead>\n  <tbody>\n    <tr>\n      <th>Paraguay</th>\n      <th>2023</th>\n      <td>3752857</td>\n      <td>2494499</td>\n    </tr>\n    <tr>\n      <th>Haiti</th>\n      <th>2023</th>\n      <td>400780</td>\n      <td>263386</td>\n    </tr>\n    <tr>\n      <th>Uruguay</th>\n      <th>2023</th>\n      <td>394371</td>\n      <td>308490</td>\n    </tr>\n    <tr>\n      <th>Venezuela</th>\n      <th>2023</th>\n      <td>163280</td>\n      <td>105750</td>\n    </tr>\n    <tr>\n      <th>United States</th>\n      <th>2023</th>\n      <td>157439</td>\n      <td>85667</td>\n    </tr>\n    <tr>\n      <th>...</th>\n      <th>...</th>\n      <td>...</td>\n      <td>...</td>\n    </tr>\n    <tr>\n      <th>Luxembourg</th>\n      <th>2007</th>\n      <td>2033</td>\n      <td>785</td>\n    </tr>\n    <tr>\n      <th>Thailand</th>\n      <th>2007</th>\n      <td>2020</td>\n      <td>839</td>\n    </tr>\n    <tr>\n      <th>Panama</th>\n      <th>2007</th>\n      <td>1030</td>\n      <td>810</td>\n    </tr>\n    <tr>\n      <th>Australia</th>\n      <th>2007</th>\n      <td>281</td>\n      <td>60</td>\n    </tr>\n    <tr>\n      <th>Togo</th>\n      <th>2007</th>\n      <td>11</td>\n      <td>11</td>\n    </tr>\n  </tbody>\n</table>\n<p>807 rows × 2 columns</p>\n</div>"
     },
     "execution_count": 19,
     "metadata": {},
     "output_type": "execute_result"
    }
   ],
   "source": [
    "wine_exp_by_year2"
   ],
   "metadata": {
    "collapsed": false,
    "ExecuteTime": {
     "end_time": "2023-09-11T02:32:43.312889100Z",
     "start_time": "2023-09-11T02:32:43.110693100Z"
    }
   },
   "id": "ce0056ebcf430406"
  },
  {
   "cell_type": "code",
   "execution_count": 20,
   "outputs": [
    {
     "data": {
      "text/plain": "False"
     },
     "execution_count": 20,
     "metadata": {},
     "output_type": "execute_result"
    }
   ],
   "source": [
    "wine_exp_by_year.equals(wine_exp_by_year2)"
   ],
   "metadata": {
    "collapsed": false,
    "ExecuteTime": {
     "end_time": "2023-09-11T02:32:43.313929500Z",
     "start_time": "2023-09-11T02:32:43.123387500Z"
    }
   },
   "id": "b72b84a70f9d98a6"
  },
  {
   "cell_type": "code",
   "execution_count": 20,
   "outputs": [],
   "source": [],
   "metadata": {
    "collapsed": false,
    "ExecuteTime": {
     "end_time": "2023-09-11T02:32:43.313929500Z",
     "start_time": "2023-09-11T02:32:43.130946100Z"
    }
   },
   "id": "a8dfc38fc3253c90"
  }
 ],
 "metadata": {
  "kernelspec": {
   "display_name": "Python 3",
   "language": "python",
   "name": "python3"
  },
  "language_info": {
   "codemirror_mode": {
    "name": "ipython",
    "version": 2
   },
   "file_extension": ".py",
   "mimetype": "text/x-python",
   "name": "python",
   "nbconvert_exporter": "python",
   "pygments_lexer": "ipython2",
   "version": "2.7.6"
  }
 },
 "nbformat": 4,
 "nbformat_minor": 5
}
