{
 "cells": [
  {
   "cell_type": "code",
   "execution_count": 4,
   "id": "initial_id",
   "metadata": {
    "collapsed": true,
    "ExecuteTime": {
     "end_time": "2023-10-15T23:52:17.758281100Z",
     "start_time": "2023-10-15T23:52:17.722762900Z"
    }
   },
   "outputs": [],
   "source": [
    "import pygwalker as pyg\n",
    "import pandas as pd"
   ]
  },
  {
   "cell_type": "code",
   "execution_count": 5,
   "outputs": [
    {
     "data": {
      "text/plain": "            date  month  season  hour  year holiday  temperature  \\\n0     2011-01-01      1  winter     0  2011      no         3.28   \n1     2011-01-01      1  winter     1  2011      no         2.34   \n2     2011-01-01      1  winter     2  2011      no         2.34   \n3     2011-01-01      1  winter     3  2011      no         3.28   \n4     2011-01-01      1  winter     4  2011      no         3.28   \n...          ...    ...     ...   ...   ...     ...          ...   \n17374 2012-12-31     12  winter    19  2012      no         4.22   \n17375 2012-12-31     12  winter    20  2012      no         4.22   \n17376 2012-12-31     12  winter    21  2012      no         4.22   \n17377 2012-12-31     12  winter    22  2012      no         4.22   \n17378 2012-12-31     12  winter    23  2012      no         4.22   \n\n       feeling_temp  humidity  winspeed  casual  registered  count  \\\n0            3.0014      81.0    0.0000       3          13     16   \n1            1.9982      80.0    0.0000       8          32     40   \n2            1.9982      80.0    0.0000       5          27     32   \n3            3.0014      75.0    0.0000       3          10     13   \n4            3.0014      75.0    0.0000       0           1      1   \n...             ...       ...       ...     ...         ...    ...   \n17374        1.0016      60.0   11.0014      11         108    119   \n17375        1.0016      60.0   11.0014       8          81     89   \n17376        1.0016      60.0   11.0014       7          83     90   \n17377        1.9982      56.0    8.9981      13          48     61   \n17378        1.9982      65.0    8.9981      12          37     49   \n\n       work yes or not am or pm  Day of the week  \n0                    0       am                6  \n1                    0       am                6  \n2                    0       am                6  \n3                    0       am                6  \n4                    0       am                6  \n...                ...      ...              ...  \n17374                1       pm                1  \n17375                1       pm                1  \n17376                1       pm                1  \n17377                1       pm                1  \n17378                1       pm                1  \n\n[17379 rows x 16 columns]",
      "text/html": "<div>\n<style scoped>\n    .dataframe tbody tr th:only-of-type {\n        vertical-align: middle;\n    }\n\n    .dataframe tbody tr th {\n        vertical-align: top;\n    }\n\n    .dataframe thead th {\n        text-align: right;\n    }\n</style>\n<table border=\"1\" class=\"dataframe\">\n  <thead>\n    <tr style=\"text-align: right;\">\n      <th></th>\n      <th>date</th>\n      <th>month</th>\n      <th>season</th>\n      <th>hour</th>\n      <th>year</th>\n      <th>holiday</th>\n      <th>temperature</th>\n      <th>feeling_temp</th>\n      <th>humidity</th>\n      <th>winspeed</th>\n      <th>casual</th>\n      <th>registered</th>\n      <th>count</th>\n      <th>work yes or not</th>\n      <th>am or pm</th>\n      <th>Day of the week</th>\n    </tr>\n  </thead>\n  <tbody>\n    <tr>\n      <th>0</th>\n      <td>2011-01-01</td>\n      <td>1</td>\n      <td>winter</td>\n      <td>0</td>\n      <td>2011</td>\n      <td>no</td>\n      <td>3.28</td>\n      <td>3.0014</td>\n      <td>81.0</td>\n      <td>0.0000</td>\n      <td>3</td>\n      <td>13</td>\n      <td>16</td>\n      <td>0</td>\n      <td>am</td>\n      <td>6</td>\n    </tr>\n    <tr>\n      <th>1</th>\n      <td>2011-01-01</td>\n      <td>1</td>\n      <td>winter</td>\n      <td>1</td>\n      <td>2011</td>\n      <td>no</td>\n      <td>2.34</td>\n      <td>1.9982</td>\n      <td>80.0</td>\n      <td>0.0000</td>\n      <td>8</td>\n      <td>32</td>\n      <td>40</td>\n      <td>0</td>\n      <td>am</td>\n      <td>6</td>\n    </tr>\n    <tr>\n      <th>2</th>\n      <td>2011-01-01</td>\n      <td>1</td>\n      <td>winter</td>\n      <td>2</td>\n      <td>2011</td>\n      <td>no</td>\n      <td>2.34</td>\n      <td>1.9982</td>\n      <td>80.0</td>\n      <td>0.0000</td>\n      <td>5</td>\n      <td>27</td>\n      <td>32</td>\n      <td>0</td>\n      <td>am</td>\n      <td>6</td>\n    </tr>\n    <tr>\n      <th>3</th>\n      <td>2011-01-01</td>\n      <td>1</td>\n      <td>winter</td>\n      <td>3</td>\n      <td>2011</td>\n      <td>no</td>\n      <td>3.28</td>\n      <td>3.0014</td>\n      <td>75.0</td>\n      <td>0.0000</td>\n      <td>3</td>\n      <td>10</td>\n      <td>13</td>\n      <td>0</td>\n      <td>am</td>\n      <td>6</td>\n    </tr>\n    <tr>\n      <th>4</th>\n      <td>2011-01-01</td>\n      <td>1</td>\n      <td>winter</td>\n      <td>4</td>\n      <td>2011</td>\n      <td>no</td>\n      <td>3.28</td>\n      <td>3.0014</td>\n      <td>75.0</td>\n      <td>0.0000</td>\n      <td>0</td>\n      <td>1</td>\n      <td>1</td>\n      <td>0</td>\n      <td>am</td>\n      <td>6</td>\n    </tr>\n    <tr>\n      <th>...</th>\n      <td>...</td>\n      <td>...</td>\n      <td>...</td>\n      <td>...</td>\n      <td>...</td>\n      <td>...</td>\n      <td>...</td>\n      <td>...</td>\n      <td>...</td>\n      <td>...</td>\n      <td>...</td>\n      <td>...</td>\n      <td>...</td>\n      <td>...</td>\n      <td>...</td>\n      <td>...</td>\n    </tr>\n    <tr>\n      <th>17374</th>\n      <td>2012-12-31</td>\n      <td>12</td>\n      <td>winter</td>\n      <td>19</td>\n      <td>2012</td>\n      <td>no</td>\n      <td>4.22</td>\n      <td>1.0016</td>\n      <td>60.0</td>\n      <td>11.0014</td>\n      <td>11</td>\n      <td>108</td>\n      <td>119</td>\n      <td>1</td>\n      <td>pm</td>\n      <td>1</td>\n    </tr>\n    <tr>\n      <th>17375</th>\n      <td>2012-12-31</td>\n      <td>12</td>\n      <td>winter</td>\n      <td>20</td>\n      <td>2012</td>\n      <td>no</td>\n      <td>4.22</td>\n      <td>1.0016</td>\n      <td>60.0</td>\n      <td>11.0014</td>\n      <td>8</td>\n      <td>81</td>\n      <td>89</td>\n      <td>1</td>\n      <td>pm</td>\n      <td>1</td>\n    </tr>\n    <tr>\n      <th>17376</th>\n      <td>2012-12-31</td>\n      <td>12</td>\n      <td>winter</td>\n      <td>21</td>\n      <td>2012</td>\n      <td>no</td>\n      <td>4.22</td>\n      <td>1.0016</td>\n      <td>60.0</td>\n      <td>11.0014</td>\n      <td>7</td>\n      <td>83</td>\n      <td>90</td>\n      <td>1</td>\n      <td>pm</td>\n      <td>1</td>\n    </tr>\n    <tr>\n      <th>17377</th>\n      <td>2012-12-31</td>\n      <td>12</td>\n      <td>winter</td>\n      <td>22</td>\n      <td>2012</td>\n      <td>no</td>\n      <td>4.22</td>\n      <td>1.9982</td>\n      <td>56.0</td>\n      <td>8.9981</td>\n      <td>13</td>\n      <td>48</td>\n      <td>61</td>\n      <td>1</td>\n      <td>pm</td>\n      <td>1</td>\n    </tr>\n    <tr>\n      <th>17378</th>\n      <td>2012-12-31</td>\n      <td>12</td>\n      <td>winter</td>\n      <td>23</td>\n      <td>2012</td>\n      <td>no</td>\n      <td>4.22</td>\n      <td>1.9982</td>\n      <td>65.0</td>\n      <td>8.9981</td>\n      <td>12</td>\n      <td>37</td>\n      <td>49</td>\n      <td>1</td>\n      <td>pm</td>\n      <td>1</td>\n    </tr>\n  </tbody>\n</table>\n<p>17379 rows × 16 columns</p>\n</div>"
     },
     "execution_count": 5,
     "metadata": {},
     "output_type": "execute_result"
    }
   ],
   "source": [
    "df = pd.read_csv(\"https://kanaries-app.s3.ap-northeast-1.amazonaws.com/public-datasets/bike_sharing_dc.csv\", parse_dates=['date'])\n",
    "df"
   ],
   "metadata": {
    "collapsed": false,
    "ExecuteTime": {
     "end_time": "2023-10-15T23:52:22.318222400Z",
     "start_time": "2023-10-15T23:52:19.012868200Z"
    }
   },
   "id": "bffe30e2d079af93"
  },
  {
   "cell_type": "code",
   "execution_count": 7,
   "outputs": [
    {
     "data": {
      "text/plain": "Box(children=(HTML(value='<div id=\"ifr-pyg-2\" style=\"height: auto\">\\n    <head>\\n        <meta http-equiv=\"Con…",
      "application/vnd.jupyter.widget-view+json": {
       "version_major": 2,
       "version_minor": 0,
       "model_id": "2eb151fb47684fc087509bc17d9fff61"
      }
     },
     "metadata": {},
     "output_type": "display_data"
    },
    {
     "data": {
      "text/plain": "<IPython.core.display.HTML object>",
      "text/html": ""
     },
     "metadata": {},
     "output_type": "display_data"
    },
    {
     "data": {
      "text/plain": "<pygwalker.api.pygwalker.PygWalker at 0x25107942e90>"
     },
     "execution_count": 7,
     "metadata": {},
     "output_type": "execute_result"
    }
   ],
   "source": [
    "pyg.walk(df)"
   ],
   "metadata": {
    "collapsed": false,
    "ExecuteTime": {
     "end_time": "2023-10-15T23:55:34.734175200Z",
     "start_time": "2023-10-15T23:55:34.074467400Z"
    }
   },
   "id": "a1f6389dd7933019"
  },
  {
   "cell_type": "code",
   "execution_count": null,
   "outputs": [],
   "source": [],
   "metadata": {
    "collapsed": false
   },
   "id": "36838d62ef034c9e"
  }
 ],
 "metadata": {
  "kernelspec": {
   "display_name": "Python 3",
   "language": "python",
   "name": "python3"
  },
  "language_info": {
   "codemirror_mode": {
    "name": "ipython",
    "version": 2
   },
   "file_extension": ".py",
   "mimetype": "text/x-python",
   "name": "python",
   "nbconvert_exporter": "python",
   "pygments_lexer": "ipython2",
   "version": "2.7.6"
  }
 },
 "nbformat": 4,
 "nbformat_minor": 5
}
