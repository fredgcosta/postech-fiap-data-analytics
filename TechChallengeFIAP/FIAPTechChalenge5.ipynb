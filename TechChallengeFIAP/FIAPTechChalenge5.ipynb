{
 "cells": [
  {
   "cell_type": "code",
   "execution_count": 6,
   "id": "aa214d74f15aa949",
   "metadata": {
    "collapsed": true,
    "ExecuteTime": {
     "end_time": "2023-09-15T16:56:35.095850200Z",
     "start_time": "2023-09-15T16:56:35.090216600Z"
    }
   },
   "outputs": [],
   "source": [
    "import pandas as pd\n"
   ]
  },
  {
   "cell_type": "code",
   "execution_count": 7,
   "outputs": [],
   "source": [],
   "metadata": {
    "collapsed": false,
    "ExecuteTime": {
     "end_time": "2023-09-15T16:56:35.109024100Z",
     "start_time": "2023-09-15T16:56:35.095850200Z"
    }
   },
   "id": "9bf59a29ffdea20e"
  },
  {
   "cell_type": "code",
   "execution_count": 8,
   "outputs": [],
   "source": [],
   "metadata": {
    "collapsed": false,
    "ExecuteTime": {
     "end_time": "2023-09-15T16:56:35.185320100Z",
     "start_time": "2023-09-15T16:56:35.108026100Z"
    }
   },
   "id": "initial_id"
  },
  {
   "cell_type": "code",
   "execution_count": 9,
   "outputs": [
    {
     "data": {
      "text/plain": "   CO_ANO  CO_MES    CO_NCM  CO_UNID  CO_PAIS SG_UF_NCM  CO_VIA  CO_URF  \\\n0    2000      10  22041010       17      586        SP       9  910600   \n1    2000      10  22042100       17      586        SP       9  910600   \n2    2000      11  22042900       17      586        SP       9  910600   \n3    2000      11  22042900       17      586        SC       7  145300   \n4    2000      11  22042100       17      586        SC       9  145300   \n\n   QT_ESTAT  KG_LIQUIDO  VL_FOB  CO_SH  \n0       698         698     784   2204  \n1      1578        1632     995   2204  \n2     46317       46317   23743   2204  \n3     72680       72680   33699   2204  \n4     16262       16262   10406   2204  ",
      "text/html": "<div>\n<style scoped>\n    .dataframe tbody tr th:only-of-type {\n        vertical-align: middle;\n    }\n\n    .dataframe tbody tr th {\n        vertical-align: top;\n    }\n\n    .dataframe thead th {\n        text-align: right;\n    }\n</style>\n<table border=\"1\" class=\"dataframe\">\n  <thead>\n    <tr style=\"text-align: right;\">\n      <th></th>\n      <th>CO_ANO</th>\n      <th>CO_MES</th>\n      <th>CO_NCM</th>\n      <th>CO_UNID</th>\n      <th>CO_PAIS</th>\n      <th>SG_UF_NCM</th>\n      <th>CO_VIA</th>\n      <th>CO_URF</th>\n      <th>QT_ESTAT</th>\n      <th>KG_LIQUIDO</th>\n      <th>VL_FOB</th>\n      <th>CO_SH</th>\n    </tr>\n  </thead>\n  <tbody>\n    <tr>\n      <th>0</th>\n      <td>2000</td>\n      <td>10</td>\n      <td>22041010</td>\n      <td>17</td>\n      <td>586</td>\n      <td>SP</td>\n      <td>9</td>\n      <td>910600</td>\n      <td>698</td>\n      <td>698</td>\n      <td>784</td>\n      <td>2204</td>\n    </tr>\n    <tr>\n      <th>1</th>\n      <td>2000</td>\n      <td>10</td>\n      <td>22042100</td>\n      <td>17</td>\n      <td>586</td>\n      <td>SP</td>\n      <td>9</td>\n      <td>910600</td>\n      <td>1578</td>\n      <td>1632</td>\n      <td>995</td>\n      <td>2204</td>\n    </tr>\n    <tr>\n      <th>2</th>\n      <td>2000</td>\n      <td>11</td>\n      <td>22042900</td>\n      <td>17</td>\n      <td>586</td>\n      <td>SP</td>\n      <td>9</td>\n      <td>910600</td>\n      <td>46317</td>\n      <td>46317</td>\n      <td>23743</td>\n      <td>2204</td>\n    </tr>\n    <tr>\n      <th>3</th>\n      <td>2000</td>\n      <td>11</td>\n      <td>22042900</td>\n      <td>17</td>\n      <td>586</td>\n      <td>SC</td>\n      <td>7</td>\n      <td>145300</td>\n      <td>72680</td>\n      <td>72680</td>\n      <td>33699</td>\n      <td>2204</td>\n    </tr>\n    <tr>\n      <th>4</th>\n      <td>2000</td>\n      <td>11</td>\n      <td>22042100</td>\n      <td>17</td>\n      <td>586</td>\n      <td>SC</td>\n      <td>9</td>\n      <td>145300</td>\n      <td>16262</td>\n      <td>16262</td>\n      <td>10406</td>\n      <td>2204</td>\n    </tr>\n  </tbody>\n</table>\n</div>"
     },
     "execution_count": 9,
     "metadata": {},
     "output_type": "execute_result"
    }
   ],
   "source": [
    "df.head()"
   ],
   "metadata": {
    "collapsed": false,
    "ExecuteTime": {
     "end_time": "2023-09-15T16:56:35.205202500Z",
     "start_time": "2023-09-15T16:56:35.186314100Z"
    }
   },
   "id": "7609951e89399ca9"
  },
  {
   "cell_type": "code",
   "execution_count": 10,
   "outputs": [
    {
     "data": {
      "text/plain": "(14695, 12)"
     },
     "execution_count": 10,
     "metadata": {},
     "output_type": "execute_result"
    }
   ],
   "source": [
    "df.shape\n"
   ],
   "metadata": {
    "collapsed": false,
    "ExecuteTime": {
     "end_time": "2023-09-15T16:56:35.222595600Z",
     "start_time": "2023-09-15T16:56:35.206202300Z"
    }
   },
   "id": "95ee4fffc929a064"
  },
  {
   "cell_type": "code",
   "execution_count": 11,
   "outputs": [],
   "source": [
    "df.to_csv('dados/EXP2000_2023.csv', index=False, sep=';') "
   ],
   "metadata": {
    "collapsed": false,
    "ExecuteTime": {
     "end_time": "2023-09-15T16:56:35.339612900Z",
     "start_time": "2023-09-15T16:56:35.213422300Z"
    }
   },
   "id": "265376464c05488a"
  }
 ],
 "metadata": {
  "kernelspec": {
   "display_name": "Python 3",
   "language": "python",
   "name": "python3"
  },
  "language_info": {
   "codemirror_mode": {
    "name": "ipython",
    "version": 2
   },
   "file_extension": ".py",
   "mimetype": "text/x-python",
   "name": "python",
   "nbconvert_exporter": "python",
   "pygments_lexer": "ipython2",
   "version": "2.7.6"
  }
 },
 "nbformat": 4,
 "nbformat_minor": 5
}
