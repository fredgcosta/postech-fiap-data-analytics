{
 "cells": [
  {
   "cell_type": "code",
   "execution_count": 26,
   "id": "aa214d74f15aa949",
   "metadata": {
    "collapsed": true,
    "ExecuteTime": {
     "end_time": "2023-10-15T18:20:53.139780Z",
     "start_time": "2023-10-15T18:20:53.074013800Z"
    }
   },
   "outputs": [],
   "source": [
    "import pandas as pd\n",
    "\n",
    "df = pd.read_csv('dados/NCM.csv', sep=';', encoding=\"ISO-8859-1\")\n",
    "df['CO_SH4']=df.CO_NCM//10000"
   ]
  },
  {
   "cell_type": "code",
   "execution_count": 27,
   "outputs": [
    {
     "data": {
      "text/plain": "    CO_NCM  CO_UNID  CO_SH6  CO_PPE  CO_PPI  CO_FAT_AGREG CO_CUCI_ITEM  \\\n0  2042200       10   20422  1990.0  1101.0           1.0        01211   \n1  2042300       10   20423  1990.0  1101.0           1.0        01211   \n2  2043000       10   20430  1990.0  1101.0           1.0        01212   \n3  2044100       10   20441  1990.0  1101.0           1.0        01212   \n4  2044200       10   20442  1990.0  1101.0           1.0        01212   \n\n   CO_CGCE_N3  CO_SIIT  CO_ISIC_CLASSE  CO_EXP_SUBSET  \\\n0         324   4000.0            1010          599.0   \n1         324   4000.0            1010          599.0   \n2         324   4000.0            1010          599.0   \n3         324   4000.0            1010          599.0   \n4         324   4000.0            1010          599.0   \n\n                                          NO_NCM_POR  \\\n0  Outras peças não desossadas de ovino, frescas ...   \n1  Carnes desossadas de ovino, frescas ou refrige...   \n2  Carcaças e meias-carcaças de cordeiro, congeladas   \n3     Carcaças e meias-carcaças de ovino, congeladas   \n4   Outras peças não desossadas de ovino, congeladas   \n\n                                          NO_NCM_ESP  \\\n0  Los dem.cortes c/huesos de la esp.ovina, fresc...   \n1  Carnes deshues.de la esp.ovina, frescas o refr...   \n2    Canales o medias canales de cordero, congeladas   \n3  Canales o medias canales de la esp.ovina, cong...   \n4  Los demás cortes s/deshuesar de la esp.ovina, ...   \n\n                                         NO_NCM_ING  CO_SH4  \n0  Other sheep cuts, with bone in, fresh or chilled     204  \n1   Other meat of sheep, boneless, fresh or chilled     204  \n2        Carcases and half-carcases of lamb, frozen     204  \n3       Carcases and half-carcases of sheep, frozen     204  \n4              Other lamb cuts with bone in, frozen     204  ",
      "text/html": "<div>\n<style scoped>\n    .dataframe tbody tr th:only-of-type {\n        vertical-align: middle;\n    }\n\n    .dataframe tbody tr th {\n        vertical-align: top;\n    }\n\n    .dataframe thead th {\n        text-align: right;\n    }\n</style>\n<table border=\"1\" class=\"dataframe\">\n  <thead>\n    <tr style=\"text-align: right;\">\n      <th></th>\n      <th>CO_NCM</th>\n      <th>CO_UNID</th>\n      <th>CO_SH6</th>\n      <th>CO_PPE</th>\n      <th>CO_PPI</th>\n      <th>CO_FAT_AGREG</th>\n      <th>CO_CUCI_ITEM</th>\n      <th>CO_CGCE_N3</th>\n      <th>CO_SIIT</th>\n      <th>CO_ISIC_CLASSE</th>\n      <th>CO_EXP_SUBSET</th>\n      <th>NO_NCM_POR</th>\n      <th>NO_NCM_ESP</th>\n      <th>NO_NCM_ING</th>\n      <th>CO_SH4</th>\n    </tr>\n  </thead>\n  <tbody>\n    <tr>\n      <th>0</th>\n      <td>2042200</td>\n      <td>10</td>\n      <td>20422</td>\n      <td>1990.0</td>\n      <td>1101.0</td>\n      <td>1.0</td>\n      <td>01211</td>\n      <td>324</td>\n      <td>4000.0</td>\n      <td>1010</td>\n      <td>599.0</td>\n      <td>Outras peças não desossadas de ovino, frescas ...</td>\n      <td>Los dem.cortes c/huesos de la esp.ovina, fresc...</td>\n      <td>Other sheep cuts, with bone in, fresh or chilled</td>\n      <td>204</td>\n    </tr>\n    <tr>\n      <th>1</th>\n      <td>2042300</td>\n      <td>10</td>\n      <td>20423</td>\n      <td>1990.0</td>\n      <td>1101.0</td>\n      <td>1.0</td>\n      <td>01211</td>\n      <td>324</td>\n      <td>4000.0</td>\n      <td>1010</td>\n      <td>599.0</td>\n      <td>Carnes desossadas de ovino, frescas ou refrige...</td>\n      <td>Carnes deshues.de la esp.ovina, frescas o refr...</td>\n      <td>Other meat of sheep, boneless, fresh or chilled</td>\n      <td>204</td>\n    </tr>\n    <tr>\n      <th>2</th>\n      <td>2043000</td>\n      <td>10</td>\n      <td>20430</td>\n      <td>1990.0</td>\n      <td>1101.0</td>\n      <td>1.0</td>\n      <td>01212</td>\n      <td>324</td>\n      <td>4000.0</td>\n      <td>1010</td>\n      <td>599.0</td>\n      <td>Carcaças e meias-carcaças de cordeiro, congeladas</td>\n      <td>Canales o medias canales de cordero, congeladas</td>\n      <td>Carcases and half-carcases of lamb, frozen</td>\n      <td>204</td>\n    </tr>\n    <tr>\n      <th>3</th>\n      <td>2044100</td>\n      <td>10</td>\n      <td>20441</td>\n      <td>1990.0</td>\n      <td>1101.0</td>\n      <td>1.0</td>\n      <td>01212</td>\n      <td>324</td>\n      <td>4000.0</td>\n      <td>1010</td>\n      <td>599.0</td>\n      <td>Carcaças e meias-carcaças de ovino, congeladas</td>\n      <td>Canales o medias canales de la esp.ovina, cong...</td>\n      <td>Carcases and half-carcases of sheep, frozen</td>\n      <td>204</td>\n    </tr>\n    <tr>\n      <th>4</th>\n      <td>2044200</td>\n      <td>10</td>\n      <td>20442</td>\n      <td>1990.0</td>\n      <td>1101.0</td>\n      <td>1.0</td>\n      <td>01212</td>\n      <td>324</td>\n      <td>4000.0</td>\n      <td>1010</td>\n      <td>599.0</td>\n      <td>Outras peças não desossadas de ovino, congeladas</td>\n      <td>Los demás cortes s/deshuesar de la esp.ovina, ...</td>\n      <td>Other lamb cuts with bone in, frozen</td>\n      <td>204</td>\n    </tr>\n  </tbody>\n</table>\n</div>"
     },
     "execution_count": 27,
     "metadata": {},
     "output_type": "execute_result"
    }
   ],
   "source": [
    "df.head()"
   ],
   "metadata": {
    "collapsed": false,
    "ExecuteTime": {
     "end_time": "2023-10-15T18:20:53.166536600Z",
     "start_time": "2023-10-15T18:20:53.141755800Z"
    }
   },
   "id": "7609951e89399ca9"
  },
  {
   "cell_type": "code",
   "execution_count": 28,
   "outputs": [
    {
     "data": {
      "text/plain": "        CO_NCM  CO_UNID  CO_SH6  CO_PPE  CO_PPI  CO_FAT_AGREG CO_CUCI_ITEM  \\\n291   22042910       17  220429  3873.0  3873.0           3.0        11217   \n1295  22041010       17  220410  3873.0  3873.0           3.0        11215   \n1297  22042100       17  220421  3873.0  3873.0           3.0        11217   \n1298  22042900       17  220429  3873.0  3873.0           3.0        11217   \n1299  22042911       17  220429  3873.0  3873.0           3.0        11217   \n1300  22042919       17  220429  3873.0  3873.0           3.0        11217   \n\n      CO_CGCE_N3  CO_SIIT  CO_ISIC_CLASSE  CO_EXP_SUBSET  \\\n291          324   4000.0            1102         8099.0   \n1295         324   4000.0            1102         8099.0   \n1297         324   4000.0            1102         8099.0   \n1298         324   4000.0            1102         8099.0   \n1299         324   4000.0            1102         8099.0   \n1300         324   4000.0            1102         8099.0   \n\n                                             NO_NCM_POR  \\\n291   Vinhos em recipientes de capacidade superior a...   \n1295  Vinhos espumantes e vinhos espumosos, tipo cha...   \n1297  Outros vinhos, mostos de uvas, fermentados, im...   \n1298  Outros vinhos, mostos de uvas, fermentação imp...   \n1299  Vinhos em recipientes de capacidade não superi...   \n1300  Vinhos em recipientes de capacidade superior a...   \n\n                                             NO_NCM_ESP  \\\n291          El vino en recipientes de más de 10 litros   \n1295        Vinos de uvas frescas, tipo cava (champaña)   \n1297  Los dem.vin.most.uv.en q.fer.se ha imp.añ.al.r...   \n1298  Los dem.vinos, most.de uvas, en q.ferm.se ha i...   \n1299  Vinos en envases de capacidad no superior a 5 ...   \n1300      Vinos en envases de capacidad más de 5 litros   \n\n                                             NO_NCM_ING  CO_SH4  \n291            Wine in containers larger than 10 liters    2204  \n1295             Wine of fresh grapes, \"champagne\" type    2204  \n1297  Other wine, grape must, fermen.alcohol contain...    2204  \n1298  Other wine, grape must, fermented to added alc...    2204  \n1299  Wines in containers with capacity not over 5 l...    2204  \n1300     Wines in containers with capacity over 5 liter    2204  ",
      "text/html": "<div>\n<style scoped>\n    .dataframe tbody tr th:only-of-type {\n        vertical-align: middle;\n    }\n\n    .dataframe tbody tr th {\n        vertical-align: top;\n    }\n\n    .dataframe thead th {\n        text-align: right;\n    }\n</style>\n<table border=\"1\" class=\"dataframe\">\n  <thead>\n    <tr style=\"text-align: right;\">\n      <th></th>\n      <th>CO_NCM</th>\n      <th>CO_UNID</th>\n      <th>CO_SH6</th>\n      <th>CO_PPE</th>\n      <th>CO_PPI</th>\n      <th>CO_FAT_AGREG</th>\n      <th>CO_CUCI_ITEM</th>\n      <th>CO_CGCE_N3</th>\n      <th>CO_SIIT</th>\n      <th>CO_ISIC_CLASSE</th>\n      <th>CO_EXP_SUBSET</th>\n      <th>NO_NCM_POR</th>\n      <th>NO_NCM_ESP</th>\n      <th>NO_NCM_ING</th>\n      <th>CO_SH4</th>\n    </tr>\n  </thead>\n  <tbody>\n    <tr>\n      <th>291</th>\n      <td>22042910</td>\n      <td>17</td>\n      <td>220429</td>\n      <td>3873.0</td>\n      <td>3873.0</td>\n      <td>3.0</td>\n      <td>11217</td>\n      <td>324</td>\n      <td>4000.0</td>\n      <td>1102</td>\n      <td>8099.0</td>\n      <td>Vinhos em recipientes de capacidade superior a...</td>\n      <td>El vino en recipientes de más de 10 litros</td>\n      <td>Wine in containers larger than 10 liters</td>\n      <td>2204</td>\n    </tr>\n    <tr>\n      <th>1295</th>\n      <td>22041010</td>\n      <td>17</td>\n      <td>220410</td>\n      <td>3873.0</td>\n      <td>3873.0</td>\n      <td>3.0</td>\n      <td>11215</td>\n      <td>324</td>\n      <td>4000.0</td>\n      <td>1102</td>\n      <td>8099.0</td>\n      <td>Vinhos espumantes e vinhos espumosos, tipo cha...</td>\n      <td>Vinos de uvas frescas, tipo cava (champaña)</td>\n      <td>Wine of fresh grapes, \"champagne\" type</td>\n      <td>2204</td>\n    </tr>\n    <tr>\n      <th>1297</th>\n      <td>22042100</td>\n      <td>17</td>\n      <td>220421</td>\n      <td>3873.0</td>\n      <td>3873.0</td>\n      <td>3.0</td>\n      <td>11217</td>\n      <td>324</td>\n      <td>4000.0</td>\n      <td>1102</td>\n      <td>8099.0</td>\n      <td>Outros vinhos, mostos de uvas, fermentados, im...</td>\n      <td>Los dem.vin.most.uv.en q.fer.se ha imp.añ.al.r...</td>\n      <td>Other wine, grape must, fermen.alcohol contain...</td>\n      <td>2204</td>\n    </tr>\n    <tr>\n      <th>1298</th>\n      <td>22042900</td>\n      <td>17</td>\n      <td>220429</td>\n      <td>3873.0</td>\n      <td>3873.0</td>\n      <td>3.0</td>\n      <td>11217</td>\n      <td>324</td>\n      <td>4000.0</td>\n      <td>1102</td>\n      <td>8099.0</td>\n      <td>Outros vinhos, mostos de uvas, fermentação imp...</td>\n      <td>Los dem.vinos, most.de uvas, en q.ferm.se ha i...</td>\n      <td>Other wine, grape must, fermented to added alc...</td>\n      <td>2204</td>\n    </tr>\n    <tr>\n      <th>1299</th>\n      <td>22042911</td>\n      <td>17</td>\n      <td>220429</td>\n      <td>3873.0</td>\n      <td>3873.0</td>\n      <td>3.0</td>\n      <td>11217</td>\n      <td>324</td>\n      <td>4000.0</td>\n      <td>1102</td>\n      <td>8099.0</td>\n      <td>Vinhos em recipientes de capacidade não superi...</td>\n      <td>Vinos en envases de capacidad no superior a 5 ...</td>\n      <td>Wines in containers with capacity not over 5 l...</td>\n      <td>2204</td>\n    </tr>\n    <tr>\n      <th>1300</th>\n      <td>22042919</td>\n      <td>17</td>\n      <td>220429</td>\n      <td>3873.0</td>\n      <td>3873.0</td>\n      <td>3.0</td>\n      <td>11217</td>\n      <td>324</td>\n      <td>4000.0</td>\n      <td>1102</td>\n      <td>8099.0</td>\n      <td>Vinhos em recipientes de capacidade superior a...</td>\n      <td>Vinos en envases de capacidad más de 5 litros</td>\n      <td>Wines in containers with capacity over 5 liter</td>\n      <td>2204</td>\n    </tr>\n  </tbody>\n</table>\n</div>"
     },
     "execution_count": 28,
     "metadata": {},
     "output_type": "execute_result"
    }
   ],
   "source": [
    "vinhos_e_expumantes = df[df.CO_NCM.isin([22041010, 22042100, 22042900, 22042910, 22042911, 22042919])]\n",
    "vinhos_e_expumantes\n"
   ],
   "metadata": {
    "collapsed": false,
    "ExecuteTime": {
     "end_time": "2023-10-15T18:20:53.211729100Z",
     "start_time": "2023-10-15T18:20:53.160570800Z"
    }
   },
   "id": "95ee4fffc929a064"
  },
  {
   "cell_type": "code",
   "execution_count": 29,
   "outputs": [],
   "source": [
    "vinhos_e_expumantes.to_csv('dados/_NCM.csv', index=False, sep=';', encoding=\"ISO-8859-1\")"
   ],
   "metadata": {
    "collapsed": false,
    "ExecuteTime": {
     "end_time": "2023-10-15T18:20:53.249274800Z",
     "start_time": "2023-10-15T18:20:53.179028700Z"
    }
   },
   "id": "9f2a450f5d76bc0"
  }
 ],
 "metadata": {
  "kernelspec": {
   "display_name": "Python 3",
   "language": "python",
   "name": "python3"
  },
  "language_info": {
   "codemirror_mode": {
    "name": "ipython",
    "version": 2
   },
   "file_extension": ".py",
   "mimetype": "text/x-python",
   "name": "python",
   "nbconvert_exporter": "python",
   "pygments_lexer": "ipython2",
   "version": "2.7.6"
  }
 },
 "nbformat": 4,
 "nbformat_minor": 5
}
