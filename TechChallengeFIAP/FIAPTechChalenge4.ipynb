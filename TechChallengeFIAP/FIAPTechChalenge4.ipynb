{
 "cells": [
  {
   "cell_type": "code",
   "execution_count": 1,
   "id": "aa214d74f15aa949",
   "metadata": {
    "collapsed": true,
    "ExecuteTime": {
     "end_time": "2023-09-19T01:44:40.160577200Z",
     "start_time": "2023-09-19T01:44:39.257806400Z"
    }
   },
   "outputs": [],
   "source": [
    "import pandas as pd\n",
    "\n",
    "df = pd.read_csv('dados/NCM.csv', sep=';', encoding=\"ISO-8859-1\")\n",
    "df['CO_SH4']=df.CO_NCM//10000"
   ]
  },
  {
   "cell_type": "code",
   "execution_count": 2,
   "outputs": [
    {
     "data": {
      "text/plain": "    CO_NCM  CO_UNID  CO_SH6  CO_PPE  CO_PPI  CO_FAT_AGREG CO_CUCI_ITEM  \\\n0  2042200       10   20422  1990.0  1101.0           1.0        01211   \n1  2042300       10   20423  1990.0  1101.0           1.0        01211   \n2  2043000       10   20430  1990.0  1101.0           1.0        01212   \n3  2044100       10   20441  1990.0  1101.0           1.0        01212   \n4  2044200       10   20442  1990.0  1101.0           1.0        01212   \n\n   CO_CGCE_N3  CO_SIIT  CO_ISIC_CLASSE  CO_EXP_SUBSET  \\\n0         324   4000.0            1010          599.0   \n1         324   4000.0            1010          599.0   \n2         324   4000.0            1010          599.0   \n3         324   4000.0            1010          599.0   \n4         324   4000.0            1010          599.0   \n\n                                          NO_NCM_POR  \\\n0  Outras peças não desossadas de ovino, frescas ...   \n1  Carnes desossadas de ovino, frescas ou refrige...   \n2  Carcaças e meias-carcaças de cordeiro, congeladas   \n3     Carcaças e meias-carcaças de ovino, congeladas   \n4   Outras peças não desossadas de ovino, congeladas   \n\n                                          NO_NCM_ESP  \\\n0  Los dem.cortes c/huesos de la esp.ovina, fresc...   \n1  Carnes deshues.de la esp.ovina, frescas o refr...   \n2    Canales o medias canales de cordero, congeladas   \n3  Canales o medias canales de la esp.ovina, cong...   \n4  Los demás cortes s/deshuesar de la esp.ovina, ...   \n\n                                         NO_NCM_ING  CO_SH4  \n0  Other sheep cuts, with bone in, fresh or chilled     204  \n1   Other meat of sheep, boneless, fresh or chilled     204  \n2        Carcases and half-carcases of lamb, frozen     204  \n3       Carcases and half-carcases of sheep, frozen     204  \n4              Other lamb cuts with bone in, frozen     204  ",
      "text/html": "<div>\n<style scoped>\n    .dataframe tbody tr th:only-of-type {\n        vertical-align: middle;\n    }\n\n    .dataframe tbody tr th {\n        vertical-align: top;\n    }\n\n    .dataframe thead th {\n        text-align: right;\n    }\n</style>\n<table border=\"1\" class=\"dataframe\">\n  <thead>\n    <tr style=\"text-align: right;\">\n      <th></th>\n      <th>CO_NCM</th>\n      <th>CO_UNID</th>\n      <th>CO_SH6</th>\n      <th>CO_PPE</th>\n      <th>CO_PPI</th>\n      <th>CO_FAT_AGREG</th>\n      <th>CO_CUCI_ITEM</th>\n      <th>CO_CGCE_N3</th>\n      <th>CO_SIIT</th>\n      <th>CO_ISIC_CLASSE</th>\n      <th>CO_EXP_SUBSET</th>\n      <th>NO_NCM_POR</th>\n      <th>NO_NCM_ESP</th>\n      <th>NO_NCM_ING</th>\n      <th>CO_SH4</th>\n    </tr>\n  </thead>\n  <tbody>\n    <tr>\n      <th>0</th>\n      <td>2042200</td>\n      <td>10</td>\n      <td>20422</td>\n      <td>1990.0</td>\n      <td>1101.0</td>\n      <td>1.0</td>\n      <td>01211</td>\n      <td>324</td>\n      <td>4000.0</td>\n      <td>1010</td>\n      <td>599.0</td>\n      <td>Outras peças não desossadas de ovino, frescas ...</td>\n      <td>Los dem.cortes c/huesos de la esp.ovina, fresc...</td>\n      <td>Other sheep cuts, with bone in, fresh or chilled</td>\n      <td>204</td>\n    </tr>\n    <tr>\n      <th>1</th>\n      <td>2042300</td>\n      <td>10</td>\n      <td>20423</td>\n      <td>1990.0</td>\n      <td>1101.0</td>\n      <td>1.0</td>\n      <td>01211</td>\n      <td>324</td>\n      <td>4000.0</td>\n      <td>1010</td>\n      <td>599.0</td>\n      <td>Carnes desossadas de ovino, frescas ou refrige...</td>\n      <td>Carnes deshues.de la esp.ovina, frescas o refr...</td>\n      <td>Other meat of sheep, boneless, fresh or chilled</td>\n      <td>204</td>\n    </tr>\n    <tr>\n      <th>2</th>\n      <td>2043000</td>\n      <td>10</td>\n      <td>20430</td>\n      <td>1990.0</td>\n      <td>1101.0</td>\n      <td>1.0</td>\n      <td>01212</td>\n      <td>324</td>\n      <td>4000.0</td>\n      <td>1010</td>\n      <td>599.0</td>\n      <td>Carcaças e meias-carcaças de cordeiro, congeladas</td>\n      <td>Canales o medias canales de cordero, congeladas</td>\n      <td>Carcases and half-carcases of lamb, frozen</td>\n      <td>204</td>\n    </tr>\n    <tr>\n      <th>3</th>\n      <td>2044100</td>\n      <td>10</td>\n      <td>20441</td>\n      <td>1990.0</td>\n      <td>1101.0</td>\n      <td>1.0</td>\n      <td>01212</td>\n      <td>324</td>\n      <td>4000.0</td>\n      <td>1010</td>\n      <td>599.0</td>\n      <td>Carcaças e meias-carcaças de ovino, congeladas</td>\n      <td>Canales o medias canales de la esp.ovina, cong...</td>\n      <td>Carcases and half-carcases of sheep, frozen</td>\n      <td>204</td>\n    </tr>\n    <tr>\n      <th>4</th>\n      <td>2044200</td>\n      <td>10</td>\n      <td>20442</td>\n      <td>1990.0</td>\n      <td>1101.0</td>\n      <td>1.0</td>\n      <td>01212</td>\n      <td>324</td>\n      <td>4000.0</td>\n      <td>1010</td>\n      <td>599.0</td>\n      <td>Outras peças não desossadas de ovino, congeladas</td>\n      <td>Los demás cortes s/deshuesar de la esp.ovina, ...</td>\n      <td>Other lamb cuts with bone in, frozen</td>\n      <td>204</td>\n    </tr>\n  </tbody>\n</table>\n</div>"
     },
     "execution_count": 2,
     "metadata": {},
     "output_type": "execute_result"
    }
   ],
   "source": [
    "df.head()"
   ],
   "metadata": {
    "collapsed": false,
    "ExecuteTime": {
     "end_time": "2023-09-19T01:44:40.184350200Z",
     "start_time": "2023-09-19T01:44:40.161577700Z"
    }
   },
   "id": "7609951e89399ca9"
  },
  {
   "cell_type": "code",
   "execution_count": 3,
   "outputs": [
    {
     "data": {
      "text/plain": "(13645, 15)"
     },
     "execution_count": 3,
     "metadata": {},
     "output_type": "execute_result"
    }
   ],
   "source": [
    "df.shape\n"
   ],
   "metadata": {
    "collapsed": false,
    "ExecuteTime": {
     "end_time": "2023-09-19T01:44:40.206906600Z",
     "start_time": "2023-09-19T01:44:40.184350200Z"
    }
   },
   "id": "95ee4fffc929a064"
  },
  {
   "cell_type": "code",
   "execution_count": 4,
   "outputs": [],
   "source": [
    "df = df.drop(df[df.CO_SH4 != 2204].index)"
   ],
   "metadata": {
    "collapsed": false,
    "ExecuteTime": {
     "end_time": "2023-09-19T01:44:40.207906300Z",
     "start_time": "2023-09-19T01:44:40.191250600Z"
    }
   },
   "id": "9f2a450f5d76bc0"
  },
  {
   "cell_type": "code",
   "execution_count": 5,
   "outputs": [
    {
     "data": {
      "text/plain": "(12, 15)"
     },
     "execution_count": 5,
     "metadata": {},
     "output_type": "execute_result"
    }
   ],
   "source": [
    "df.shape"
   ],
   "metadata": {
    "collapsed": false,
    "ExecuteTime": {
     "end_time": "2023-09-19T01:44:40.283287300Z",
     "start_time": "2023-09-19T01:44:40.203779300Z"
    }
   },
   "id": "a02f600d75c3949b"
  },
  {
   "cell_type": "code",
   "execution_count": 6,
   "outputs": [],
   "source": [
    "df.to_csv('dados/_NCM.csv', index=False, sep=';', encoding=\"ISO-8859-1\") "
   ],
   "metadata": {
    "collapsed": false,
    "ExecuteTime": {
     "end_time": "2023-09-19T01:44:40.338333800Z",
     "start_time": "2023-09-19T01:44:40.209906400Z"
    }
   },
   "id": "265376464c05488a"
  },
  {
   "cell_type": "code",
   "execution_count": 6,
   "outputs": [],
   "source": [],
   "metadata": {
    "collapsed": false,
    "ExecuteTime": {
     "end_time": "2023-09-19T01:44:40.339337300Z",
     "start_time": "2023-09-19T01:44:40.221499600Z"
    }
   },
   "id": "f5ffae0644d19b86"
  }
 ],
 "metadata": {
  "kernelspec": {
   "display_name": "Python 3",
   "language": "python",
   "name": "python3"
  },
  "language_info": {
   "codemirror_mode": {
    "name": "ipython",
    "version": 2
   },
   "file_extension": ".py",
   "mimetype": "text/x-python",
   "name": "python",
   "nbconvert_exporter": "python",
   "pygments_lexer": "ipython2",
   "version": "2.7.6"
  }
 },
 "nbformat": 4,
 "nbformat_minor": 5
}
