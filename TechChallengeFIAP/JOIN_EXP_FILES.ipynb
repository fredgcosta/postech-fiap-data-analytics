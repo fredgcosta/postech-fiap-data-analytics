{
 "cells": [
  {
   "cell_type": "markdown",
   "source": [
    "Base de dados detalhada por NCM: Arquivos CSV com separador ponto e vírgula (;) detalhado por ano, mês, código NCM, código da unidade estatística, código de país de destino/origem do produto, código da UF de origem/destino do produto, código da via de transporte, código da URF de embarque/desembarque, quantidade estatística, quilograma líquido, valor dólar FOB (US$).\n",
    "\n",
    "Exportação - Layout: CO_ANO; CO_MES; CO_NCM; CO_UNID; CO_PAIS; SG_UF_NCM; CO_VIA; CO_URF; QT_ESTAT; KG_LIQUIDO; VL_FOB."
   ],
   "metadata": {
    "collapsed": false
   },
   "id": "f93bc03da6bb1027"
  },
  {
   "cell_type": "code",
   "execution_count": 1,
   "outputs": [
    {
     "data": {
      "text/plain": "'dados\\\\_EXP_*_MUN.csv'"
     },
     "execution_count": 1,
     "metadata": {},
     "output_type": "execute_result"
    }
   ],
   "source": [
    "# importing libraries\n",
    "import pandas as pd\n",
    "import glob\n",
    "import os\n",
    "\n",
    "# merging the files\n",
    "joined_files = os.path.join(\"dados\", \"_EXP_*_MUN.csv\")\n",
    "joined_files"
   ],
   "metadata": {
    "collapsed": false,
    "ExecuteTime": {
     "end_time": "2023-10-17T01:09:18.517109100Z",
     "start_time": "2023-10-17T01:09:17.819007100Z"
    }
   },
   "id": "aa214d74f15aa949"
  },
  {
   "cell_type": "code",
   "execution_count": 2,
   "outputs": [
    {
     "data": {
      "text/plain": "['dados\\\\_EXP_2000_MUN.csv',\n 'dados\\\\_EXP_2001_MUN.csv',\n 'dados\\\\_EXP_2002_MUN.csv',\n 'dados\\\\_EXP_2003_MUN.csv',\n 'dados\\\\_EXP_2004_MUN.csv',\n 'dados\\\\_EXP_2005_MUN.csv',\n 'dados\\\\_EXP_2006_MUN.csv',\n 'dados\\\\_EXP_2007_MUN.csv',\n 'dados\\\\_EXP_2008_MUN.csv',\n 'dados\\\\_EXP_2009_MUN.csv',\n 'dados\\\\_EXP_2010_MUN.csv',\n 'dados\\\\_EXP_2011_MUN.csv',\n 'dados\\\\_EXP_2012_MUN.csv',\n 'dados\\\\_EXP_2013_MUN.csv',\n 'dados\\\\_EXP_2014_MUN.csv',\n 'dados\\\\_EXP_2015_MUN.csv',\n 'dados\\\\_EXP_2016_MUN.csv',\n 'dados\\\\_EXP_2017_MUN.csv',\n 'dados\\\\_EXP_2018_MUN.csv',\n 'dados\\\\_EXP_2019_MUN.csv',\n 'dados\\\\_EXP_2020_MUN.csv',\n 'dados\\\\_EXP_2021_MUN.csv',\n 'dados\\\\_EXP_2022_MUN.csv',\n 'dados\\\\_EXP_2023_MUN.csv']"
     },
     "execution_count": 2,
     "metadata": {},
     "output_type": "execute_result"
    }
   ],
   "source": [
    "# A list of all joined files is returned\n",
    "joined_list = glob.glob(joined_files)\n",
    "joined_list"
   ],
   "metadata": {
    "collapsed": false,
    "ExecuteTime": {
     "end_time": "2023-10-17T01:09:21.522894100Z",
     "start_time": "2023-10-17T01:09:21.515048400Z"
    }
   },
   "id": "9bf59a29ffdea20e"
  },
  {
   "cell_type": "code",
   "execution_count": 3,
   "outputs": [],
   "source": [
    "# Finally, the files are joined\n",
    "df = pd.concat(map(pd.read_csv, joined_list), ignore_index=True)"
   ],
   "metadata": {
    "collapsed": false,
    "ExecuteTime": {
     "end_time": "2023-10-17T01:09:30.293388500Z",
     "start_time": "2023-10-17T01:09:30.223283200Z"
    }
   },
   "id": "initial_id"
  },
  {
   "cell_type": "code",
   "execution_count": 4,
   "outputs": [
    {
     "data": {
      "text/plain": "   CO_ANO  CO_MES   SH4  CO_PAIS SG_UF_MUN   CO_MUN  KG_LIQUIDO  VL_FOB\n0    2000       9  2204      586        MS  5206606       10654    5628\n1    2000      12  2204      158        RS  4314548         600    2700\n2    2000       3  2204      249        SP  3450308         410     720\n3    2000      10  2204       97        MS  5206606        1520     938\n4    2000       6  2204      586        PR  4123808        2994    2793",
      "text/html": "<div>\n<style scoped>\n    .dataframe tbody tr th:only-of-type {\n        vertical-align: middle;\n    }\n\n    .dataframe tbody tr th {\n        vertical-align: top;\n    }\n\n    .dataframe thead th {\n        text-align: right;\n    }\n</style>\n<table border=\"1\" class=\"dataframe\">\n  <thead>\n    <tr style=\"text-align: right;\">\n      <th></th>\n      <th>CO_ANO</th>\n      <th>CO_MES</th>\n      <th>SH4</th>\n      <th>CO_PAIS</th>\n      <th>SG_UF_MUN</th>\n      <th>CO_MUN</th>\n      <th>KG_LIQUIDO</th>\n      <th>VL_FOB</th>\n    </tr>\n  </thead>\n  <tbody>\n    <tr>\n      <th>0</th>\n      <td>2000</td>\n      <td>9</td>\n      <td>2204</td>\n      <td>586</td>\n      <td>MS</td>\n      <td>5206606</td>\n      <td>10654</td>\n      <td>5628</td>\n    </tr>\n    <tr>\n      <th>1</th>\n      <td>2000</td>\n      <td>12</td>\n      <td>2204</td>\n      <td>158</td>\n      <td>RS</td>\n      <td>4314548</td>\n      <td>600</td>\n      <td>2700</td>\n    </tr>\n    <tr>\n      <th>2</th>\n      <td>2000</td>\n      <td>3</td>\n      <td>2204</td>\n      <td>249</td>\n      <td>SP</td>\n      <td>3450308</td>\n      <td>410</td>\n      <td>720</td>\n    </tr>\n    <tr>\n      <th>3</th>\n      <td>2000</td>\n      <td>10</td>\n      <td>2204</td>\n      <td>97</td>\n      <td>MS</td>\n      <td>5206606</td>\n      <td>1520</td>\n      <td>938</td>\n    </tr>\n    <tr>\n      <th>4</th>\n      <td>2000</td>\n      <td>6</td>\n      <td>2204</td>\n      <td>586</td>\n      <td>PR</td>\n      <td>4123808</td>\n      <td>2994</td>\n      <td>2793</td>\n    </tr>\n  </tbody>\n</table>\n</div>"
     },
     "execution_count": 4,
     "metadata": {},
     "output_type": "execute_result"
    }
   ],
   "source": [
    "df.head()"
   ],
   "metadata": {
    "collapsed": false,
    "ExecuteTime": {
     "end_time": "2023-10-17T01:09:31.499315700Z",
     "start_time": "2023-10-17T01:09:31.480627700Z"
    }
   },
   "id": "7609951e89399ca9"
  },
  {
   "cell_type": "code",
   "execution_count": 5,
   "outputs": [
    {
     "data": {
      "text/plain": "(9636, 8)"
     },
     "execution_count": 5,
     "metadata": {},
     "output_type": "execute_result"
    }
   ],
   "source": [
    "df.shape\n"
   ],
   "metadata": {
    "collapsed": false,
    "ExecuteTime": {
     "end_time": "2023-10-17T01:09:34.634763Z",
     "start_time": "2023-10-17T01:09:34.608252500Z"
    }
   },
   "id": "95ee4fffc929a064"
  },
  {
   "cell_type": "code",
   "execution_count": 6,
   "outputs": [],
   "source": [
    "df.to_csv('dados/EXP2000_2023_MUN.csv', index=False, sep=';') "
   ],
   "metadata": {
    "collapsed": false,
    "ExecuteTime": {
     "end_time": "2023-10-17T01:09:38.403787500Z",
     "start_time": "2023-10-17T01:09:38.366735400Z"
    }
   },
   "id": "265376464c05488a"
  }
 ],
 "metadata": {
  "kernelspec": {
   "display_name": "Python 3",
   "language": "python",
   "name": "python3"
  },
  "language_info": {
   "codemirror_mode": {
    "name": "ipython",
    "version": 2
   },
   "file_extension": ".py",
   "mimetype": "text/x-python",
   "name": "python",
   "nbconvert_exporter": "python",
   "pygments_lexer": "ipython2",
   "version": "2.7.6"
  }
 },
 "nbformat": 4,
 "nbformat_minor": 5
}
