{
 "cells": [
  {
   "cell_type": "markdown",
   "source": [
    "Base de dados detalhada por NCM: Arquivos CSV com separador ponto e vírgula (;) detalhado por ano, mês, código NCM, código da unidade estatística, código de país de destino/origem do produto, código da UF de origem/destino do produto, código da via de transporte, código da URF de embarque/desembarque, quantidade estatística, quilograma líquido, valor dólar FOB (US$).\n",
    "\n",
    "Exportação - Layout: CO_ANO; CO_MES; CO_NCM; CO_UNID; CO_PAIS; SG_UF_NCM; CO_VIA; CO_URF; QT_ESTAT; KG_LIQUIDO; VL_FOB."
   ],
   "metadata": {
    "collapsed": false
   },
   "id": "f93bc03da6bb1027"
  },
  {
   "cell_type": "code",
   "execution_count": 1,
   "outputs": [
    {
     "data": {
      "text/plain": "'dados\\\\_EXP_*.csv'"
     },
     "execution_count": 1,
     "metadata": {},
     "output_type": "execute_result"
    }
   ],
   "source": [
    "# importing libraries\n",
    "import pandas as pd\n",
    "import glob\n",
    "import os\n",
    "\n",
    "# merging the files\n",
    "joined_files = os.path.join(\"dados\", \"_EXP_*.csv\")\n",
    "joined_files"
   ],
   "metadata": {
    "collapsed": false,
    "ExecuteTime": {
     "end_time": "2023-10-30T22:18:20.444513600Z",
     "start_time": "2023-10-30T22:18:19.146102300Z"
    }
   },
   "id": "aa214d74f15aa949"
  },
  {
   "cell_type": "code",
   "execution_count": 2,
   "outputs": [
    {
     "data": {
      "text/plain": "['dados\\\\_EXP_2007.csv',\n 'dados\\\\_EXP_2008.csv',\n 'dados\\\\_EXP_2009.csv',\n 'dados\\\\_EXP_2010.csv',\n 'dados\\\\_EXP_2011.csv',\n 'dados\\\\_EXP_2012.csv',\n 'dados\\\\_EXP_2013.csv',\n 'dados\\\\_EXP_2014.csv',\n 'dados\\\\_EXP_2015.csv',\n 'dados\\\\_EXP_2016.csv',\n 'dados\\\\_EXP_2017.csv',\n 'dados\\\\_EXP_2018.csv',\n 'dados\\\\_EXP_2019.csv',\n 'dados\\\\_EXP_2020.csv',\n 'dados\\\\_EXP_2021.csv',\n 'dados\\\\_EXP_2022.csv',\n 'dados\\\\_EXP_2023.csv']"
     },
     "execution_count": 2,
     "metadata": {},
     "output_type": "execute_result"
    }
   ],
   "source": [
    "# A list of all joined files is returned\n",
    "joined_list = glob.glob(joined_files)\n",
    "joined_list"
   ],
   "metadata": {
    "collapsed": false,
    "ExecuteTime": {
     "end_time": "2023-10-30T22:18:20.448520400Z",
     "start_time": "2023-10-30T22:18:20.441929700Z"
    }
   },
   "id": "9bf59a29ffdea20e"
  },
  {
   "cell_type": "code",
   "execution_count": 3,
   "outputs": [],
   "source": [
    "# Finally, the files are joined\n",
    "df = pd.concat(map(pd.read_csv, joined_list), ignore_index=True)"
   ],
   "metadata": {
    "collapsed": false,
    "ExecuteTime": {
     "end_time": "2023-10-30T22:18:20.571360900Z",
     "start_time": "2023-10-30T22:18:20.448520400Z"
    }
   },
   "id": "initial_id"
  },
  {
   "cell_type": "code",
   "execution_count": 4,
   "outputs": [
    {
     "data": {
      "text/plain": "   CO_ANO  CO_MES    CO_NCM  CO_UNID  CO_PAIS SG_UF_NCM  CO_VIA   CO_URF  \\\n0    2007       4  22042100       17      249        RS       1  1010500   \n1    2007       5  22042100       17      586        RS       7   910600   \n2    2007       3  22042900       17      249        RS       1  1010500   \n3    2007      10  22041010       17      791        RS       1  1017700   \n4    2007      12  22042900       17      399        SP       1  1017700   \n\n   QT_ESTAT  KG_LIQUIDO  VL_FOB  CO_SH  \n0      7556       58601   81209   2204  \n1    153338      153338   71665   2204  \n2         3          50      24   2204  \n3        90          90     534   2204  \n4     44336       44000   42612   2204  ",
      "text/html": "<div>\n<style scoped>\n    .dataframe tbody tr th:only-of-type {\n        vertical-align: middle;\n    }\n\n    .dataframe tbody tr th {\n        vertical-align: top;\n    }\n\n    .dataframe thead th {\n        text-align: right;\n    }\n</style>\n<table border=\"1\" class=\"dataframe\">\n  <thead>\n    <tr style=\"text-align: right;\">\n      <th></th>\n      <th>CO_ANO</th>\n      <th>CO_MES</th>\n      <th>CO_NCM</th>\n      <th>CO_UNID</th>\n      <th>CO_PAIS</th>\n      <th>SG_UF_NCM</th>\n      <th>CO_VIA</th>\n      <th>CO_URF</th>\n      <th>QT_ESTAT</th>\n      <th>KG_LIQUIDO</th>\n      <th>VL_FOB</th>\n      <th>CO_SH</th>\n    </tr>\n  </thead>\n  <tbody>\n    <tr>\n      <th>0</th>\n      <td>2007</td>\n      <td>4</td>\n      <td>22042100</td>\n      <td>17</td>\n      <td>249</td>\n      <td>RS</td>\n      <td>1</td>\n      <td>1010500</td>\n      <td>7556</td>\n      <td>58601</td>\n      <td>81209</td>\n      <td>2204</td>\n    </tr>\n    <tr>\n      <th>1</th>\n      <td>2007</td>\n      <td>5</td>\n      <td>22042100</td>\n      <td>17</td>\n      <td>586</td>\n      <td>RS</td>\n      <td>7</td>\n      <td>910600</td>\n      <td>153338</td>\n      <td>153338</td>\n      <td>71665</td>\n      <td>2204</td>\n    </tr>\n    <tr>\n      <th>2</th>\n      <td>2007</td>\n      <td>3</td>\n      <td>22042900</td>\n      <td>17</td>\n      <td>249</td>\n      <td>RS</td>\n      <td>1</td>\n      <td>1010500</td>\n      <td>3</td>\n      <td>50</td>\n      <td>24</td>\n      <td>2204</td>\n    </tr>\n    <tr>\n      <th>3</th>\n      <td>2007</td>\n      <td>10</td>\n      <td>22041010</td>\n      <td>17</td>\n      <td>791</td>\n      <td>RS</td>\n      <td>1</td>\n      <td>1017700</td>\n      <td>90</td>\n      <td>90</td>\n      <td>534</td>\n      <td>2204</td>\n    </tr>\n    <tr>\n      <th>4</th>\n      <td>2007</td>\n      <td>12</td>\n      <td>22042900</td>\n      <td>17</td>\n      <td>399</td>\n      <td>SP</td>\n      <td>1</td>\n      <td>1017700</td>\n      <td>44336</td>\n      <td>44000</td>\n      <td>42612</td>\n      <td>2204</td>\n    </tr>\n  </tbody>\n</table>\n</div>"
     },
     "execution_count": 4,
     "metadata": {},
     "output_type": "execute_result"
    }
   ],
   "source": [
    "df.head()"
   ],
   "metadata": {
    "collapsed": false,
    "ExecuteTime": {
     "end_time": "2023-10-30T22:18:20.635936600Z",
     "start_time": "2023-10-30T22:18:20.577957800Z"
    }
   },
   "id": "7609951e89399ca9"
  },
  {
   "cell_type": "code",
   "execution_count": 5,
   "outputs": [
    {
     "data": {
      "text/plain": "(13164, 12)"
     },
     "execution_count": 5,
     "metadata": {},
     "output_type": "execute_result"
    }
   ],
   "source": [
    "df.shape\n"
   ],
   "metadata": {
    "collapsed": false,
    "ExecuteTime": {
     "end_time": "2023-10-30T22:18:20.637931100Z",
     "start_time": "2023-10-30T22:18:20.612870600Z"
    }
   },
   "id": "95ee4fffc929a064"
  },
  {
   "cell_type": "code",
   "execution_count": 6,
   "outputs": [],
   "source": [
    "df.to_csv('dados/EXP2007_2023.csv', index=False, sep=';') "
   ],
   "metadata": {
    "collapsed": false,
    "ExecuteTime": {
     "end_time": "2023-10-30T22:18:20.875656600Z",
     "start_time": "2023-10-30T22:18:20.621842600Z"
    }
   },
   "id": "265376464c05488a"
  }
 ],
 "metadata": {
  "kernelspec": {
   "display_name": "Python 3",
   "language": "python",
   "name": "python3"
  },
  "language_info": {
   "codemirror_mode": {
    "name": "ipython",
    "version": 2
   },
   "file_extension": ".py",
   "mimetype": "text/x-python",
   "name": "python",
   "nbconvert_exporter": "python",
   "pygments_lexer": "ipython2",
   "version": "2.7.6"
  }
 },
 "nbformat": 4,
 "nbformat_minor": 5
}
