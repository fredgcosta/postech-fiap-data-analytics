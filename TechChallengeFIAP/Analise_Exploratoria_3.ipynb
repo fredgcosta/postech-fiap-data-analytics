{
 "cells": [
  {
   "cell_type": "markdown",
   "source": [
    "# 1. Importando as bibliotecas necessárias"
   ],
   "metadata": {
    "collapsed": false
   },
   "id": "cc0ac2eb71dedb0c"
  },
  {
   "cell_type": "code",
   "execution_count": 2,
   "outputs": [],
   "source": [
    "import pandas as pd\n",
    "import matplotlib.pyplot as plt\n",
    "import matplotlib as mpl\n",
    "import numpy as np\n",
    "import seaborn as sns\n",
    "\n",
    "%matplotlib inline"
   ],
   "metadata": {
    "collapsed": false,
    "ExecuteTime": {
     "end_time": "2023-10-18T02:40:11.186820500Z",
     "start_time": "2023-10-18T02:40:11.154308700Z"
    }
   },
   "id": "e6827e6c63d17367"
  },
  {
   "cell_type": "markdown",
   "source": [
    "# 2. Importando o DataSet"
   ],
   "metadata": {
    "collapsed": false
   },
   "id": "2d72abb2c261ed24"
  },
  {
   "cell_type": "code",
   "execution_count": 3,
   "outputs": [],
   "source": [
    "exportacoes = pd.read_csv('dados/EXP2000_2023.csv', sep=';')\n",
    "paises_continentes = pd.read_csv('dados/_PAISES_CONTINENTES.csv', sep=';', encoding='ISO-8859-1')\n",
    "via = pd.read_csv('dados/VIA.csv', sep=';')\n",
    "uf = pd.read_csv('dados/UF.csv', sep=';', encoding='ISO-8859-1')\n",
    "dolar = pd.read_csv('dados/_DOLAR_MENSAL.csv', sep=';')\n",
    "paises = pd.read_csv('dados/PAIS.csv', sep=';', encoding='ISO-8859-1')\n"
   ],
   "metadata": {
    "collapsed": false,
    "ExecuteTime": {
     "end_time": "2023-10-18T02:40:13.136142100Z",
     "start_time": "2023-10-18T02:40:13.098163300Z"
    }
   },
   "id": "eef64fafe160196d"
  },
  {
   "cell_type": "markdown",
   "source": [
    "# 3. Verificando a estrutura do DataSet"
   ],
   "metadata": {
    "collapsed": false,
    "ExecuteTime": {
     "end_time": "2023-09-07T04:44:42.099944500Z",
     "start_time": "2023-09-07T04:44:38.170223Z"
    }
   },
   "id": "f79eb7dd34d0b515"
  },
  {
   "cell_type": "code",
   "execution_count": 7,
   "outputs": [
    {
     "data": {
      "text/plain": "Empty DataFrame\nColumns: [CO_ANO, CO_MES, CO_NCM, CO_UNID, CO_PAIS, SG_UF_NCM, CO_VIA, CO_URF, QT_ESTAT, KG_LIQUIDO, VL_FOB, CO_SH]\nIndex: []",
      "text/html": "<div>\n<style scoped>\n    .dataframe tbody tr th:only-of-type {\n        vertical-align: middle;\n    }\n\n    .dataframe tbody tr th {\n        vertical-align: top;\n    }\n\n    .dataframe thead th {\n        text-align: right;\n    }\n</style>\n<table border=\"1\" class=\"dataframe\">\n  <thead>\n    <tr style=\"text-align: right;\">\n      <th></th>\n      <th>CO_ANO</th>\n      <th>CO_MES</th>\n      <th>CO_NCM</th>\n      <th>CO_UNID</th>\n      <th>CO_PAIS</th>\n      <th>SG_UF_NCM</th>\n      <th>CO_VIA</th>\n      <th>CO_URF</th>\n      <th>QT_ESTAT</th>\n      <th>KG_LIQUIDO</th>\n      <th>VL_FOB</th>\n      <th>CO_SH</th>\n    </tr>\n  </thead>\n  <tbody>\n  </tbody>\n</table>\n</div>"
     },
     "execution_count": 7,
     "metadata": {},
     "output_type": "execute_result"
    }
   ],
   "source": [
    "exportacoes[exportacoes.CO_PAIS.isin([42,102,292,343,755,785,786,990,994,995,997,998,999,106,286, 579,855])]"
   ],
   "metadata": {
    "collapsed": false,
    "ExecuteTime": {
     "end_time": "2023-10-18T03:04:39.474588400Z",
     "start_time": "2023-10-18T03:04:39.449110900Z"
    }
   },
   "id": "8fc4299ab87a961c"
  },
  {
   "cell_type": "code",
   "execution_count": 50,
   "outputs": [
    {
     "data": {
      "text/plain": "   CO_ANO  CO_MES    CO_NCM  CO_UNID  CO_PAIS SG_UF_NCM  CO_VIA  CO_URF  \\\n0    2000      10  22041010       17      586        SP       9  910600   \n1    2000      10  22042100       17      586        SP       9  910600   \n2    2000      11  22042900       17      586        SP       9  910600   \n3    2000      11  22042900       17      586        SC       7  145300   \n4    2000      11  22042100       17      586        SC       9  145300   \n\n   QT_ESTAT  KG_LIQUIDO  VL_FOB  CO_SH  \n0       698         698     784   2204  \n1      1578        1632     995   2204  \n2     46317       46317   23743   2204  \n3     72680       72680   33699   2204  \n4     16262       16262   10406   2204  ",
      "text/html": "<div>\n<style scoped>\n    .dataframe tbody tr th:only-of-type {\n        vertical-align: middle;\n    }\n\n    .dataframe tbody tr th {\n        vertical-align: top;\n    }\n\n    .dataframe thead th {\n        text-align: right;\n    }\n</style>\n<table border=\"1\" class=\"dataframe\">\n  <thead>\n    <tr style=\"text-align: right;\">\n      <th></th>\n      <th>CO_ANO</th>\n      <th>CO_MES</th>\n      <th>CO_NCM</th>\n      <th>CO_UNID</th>\n      <th>CO_PAIS</th>\n      <th>SG_UF_NCM</th>\n      <th>CO_VIA</th>\n      <th>CO_URF</th>\n      <th>QT_ESTAT</th>\n      <th>KG_LIQUIDO</th>\n      <th>VL_FOB</th>\n      <th>CO_SH</th>\n    </tr>\n  </thead>\n  <tbody>\n    <tr>\n      <th>0</th>\n      <td>2000</td>\n      <td>10</td>\n      <td>22041010</td>\n      <td>17</td>\n      <td>586</td>\n      <td>SP</td>\n      <td>9</td>\n      <td>910600</td>\n      <td>698</td>\n      <td>698</td>\n      <td>784</td>\n      <td>2204</td>\n    </tr>\n    <tr>\n      <th>1</th>\n      <td>2000</td>\n      <td>10</td>\n      <td>22042100</td>\n      <td>17</td>\n      <td>586</td>\n      <td>SP</td>\n      <td>9</td>\n      <td>910600</td>\n      <td>1578</td>\n      <td>1632</td>\n      <td>995</td>\n      <td>2204</td>\n    </tr>\n    <tr>\n      <th>2</th>\n      <td>2000</td>\n      <td>11</td>\n      <td>22042900</td>\n      <td>17</td>\n      <td>586</td>\n      <td>SP</td>\n      <td>9</td>\n      <td>910600</td>\n      <td>46317</td>\n      <td>46317</td>\n      <td>23743</td>\n      <td>2204</td>\n    </tr>\n    <tr>\n      <th>3</th>\n      <td>2000</td>\n      <td>11</td>\n      <td>22042900</td>\n      <td>17</td>\n      <td>586</td>\n      <td>SC</td>\n      <td>7</td>\n      <td>145300</td>\n      <td>72680</td>\n      <td>72680</td>\n      <td>33699</td>\n      <td>2204</td>\n    </tr>\n    <tr>\n      <th>4</th>\n      <td>2000</td>\n      <td>11</td>\n      <td>22042100</td>\n      <td>17</td>\n      <td>586</td>\n      <td>SC</td>\n      <td>9</td>\n      <td>145300</td>\n      <td>16262</td>\n      <td>16262</td>\n      <td>10406</td>\n      <td>2204</td>\n    </tr>\n  </tbody>\n</table>\n</div>"
     },
     "execution_count": 50,
     "metadata": {},
     "output_type": "execute_result"
    }
   ],
   "source": [
    "exportacoes.head()"
   ],
   "metadata": {
    "collapsed": false,
    "ExecuteTime": {
     "end_time": "2023-10-17T02:30:10.407914800Z",
     "start_time": "2023-10-17T02:30:10.366194800Z"
    }
   },
   "id": "6aa17ace982fea90"
  },
  {
   "cell_type": "code",
   "execution_count": 53,
   "outputs": [],
   "source": [
    "exportacoes['DATA'] = pd.to_datetime(dict(year=exportacoes.CO_ANO, month=exportacoes.CO_MES, day=1))"
   ],
   "metadata": {
    "collapsed": false,
    "ExecuteTime": {
     "end_time": "2023-10-17T02:33:13.316126700Z",
     "start_time": "2023-10-17T02:33:13.306723300Z"
    }
   },
   "id": "562051d2bb32cf84"
  },
  {
   "cell_type": "code",
   "execution_count": 70,
   "outputs": [],
   "source": [
    "unique_pais = exportacoes.CO_PAIS.unique()\n",
    "unique_pais"
   ],
   "metadata": {
    "collapsed": false,
    "ExecuteTime": {
     "end_time": "2023-10-17T03:34:02.541648600Z",
     "start_time": "2023-10-17T03:34:02.528456600Z"
    }
   },
   "id": "1b4c3e61f32ad67a"
  },
  {
   "cell_type": "code",
   "execution_count": 67,
   "outputs": [
    {
     "data": {
      "text/plain": "       CO_ANO  CO_MES    CO_NCM  CO_UNID  CO_PAIS SG_UF_NCM  CO_VIA  CO_URF  \\\n0        2000      10  22041010       17      586        SP       9  910600   \n1        2000      10  22042100       17      586        SP       9  910600   \n2        2000      11  22042900       17      586        SP       9  910600   \n3        2000      11  22042900       17      586        SC       7  145300   \n4        2000      11  22042100       17      586        SC       9  145300   \n...       ...     ...       ...      ...      ...       ...     ...     ...   \n14847    2023       3  22042910       17      580        MA       1  317903   \n14848    2023       7  22042211       17      351        SC       1  917800   \n14849    2023       8  22041090       17      351        BA       1  517800   \n14850    2023       2  22042100       17      741        SC       1  917800   \n14851    2023       1  22042100       17      161        AL       1  440151   \n\n       QT_ESTAT  KG_LIQUIDO  VL_FOB  CO_SH  \n0           698         698     784   2204  \n1          1578        1632     995   2204  \n2         46317       46317   23743   2204  \n3         72680       72680   33699   2204  \n4         16262       16262   10406   2204  \n...         ...         ...     ...    ...  \n14847        23          23      28   2204  \n14848        12          12      26   2204  \n14849         2           2      17   2204  \n14850        27          27     101   2204  \n14851         2           1      18   2204  \n\n[14852 rows x 12 columns]",
      "text/html": "<div>\n<style scoped>\n    .dataframe tbody tr th:only-of-type {\n        vertical-align: middle;\n    }\n\n    .dataframe tbody tr th {\n        vertical-align: top;\n    }\n\n    .dataframe thead th {\n        text-align: right;\n    }\n</style>\n<table border=\"1\" class=\"dataframe\">\n  <thead>\n    <tr style=\"text-align: right;\">\n      <th></th>\n      <th>CO_ANO</th>\n      <th>CO_MES</th>\n      <th>CO_NCM</th>\n      <th>CO_UNID</th>\n      <th>CO_PAIS</th>\n      <th>SG_UF_NCM</th>\n      <th>CO_VIA</th>\n      <th>CO_URF</th>\n      <th>QT_ESTAT</th>\n      <th>KG_LIQUIDO</th>\n      <th>VL_FOB</th>\n      <th>CO_SH</th>\n    </tr>\n  </thead>\n  <tbody>\n    <tr>\n      <th>0</th>\n      <td>2000</td>\n      <td>10</td>\n      <td>22041010</td>\n      <td>17</td>\n      <td>586</td>\n      <td>SP</td>\n      <td>9</td>\n      <td>910600</td>\n      <td>698</td>\n      <td>698</td>\n      <td>784</td>\n      <td>2204</td>\n    </tr>\n    <tr>\n      <th>1</th>\n      <td>2000</td>\n      <td>10</td>\n      <td>22042100</td>\n      <td>17</td>\n      <td>586</td>\n      <td>SP</td>\n      <td>9</td>\n      <td>910600</td>\n      <td>1578</td>\n      <td>1632</td>\n      <td>995</td>\n      <td>2204</td>\n    </tr>\n    <tr>\n      <th>2</th>\n      <td>2000</td>\n      <td>11</td>\n      <td>22042900</td>\n      <td>17</td>\n      <td>586</td>\n      <td>SP</td>\n      <td>9</td>\n      <td>910600</td>\n      <td>46317</td>\n      <td>46317</td>\n      <td>23743</td>\n      <td>2204</td>\n    </tr>\n    <tr>\n      <th>3</th>\n      <td>2000</td>\n      <td>11</td>\n      <td>22042900</td>\n      <td>17</td>\n      <td>586</td>\n      <td>SC</td>\n      <td>7</td>\n      <td>145300</td>\n      <td>72680</td>\n      <td>72680</td>\n      <td>33699</td>\n      <td>2204</td>\n    </tr>\n    <tr>\n      <th>4</th>\n      <td>2000</td>\n      <td>11</td>\n      <td>22042100</td>\n      <td>17</td>\n      <td>586</td>\n      <td>SC</td>\n      <td>9</td>\n      <td>145300</td>\n      <td>16262</td>\n      <td>16262</td>\n      <td>10406</td>\n      <td>2204</td>\n    </tr>\n    <tr>\n      <th>...</th>\n      <td>...</td>\n      <td>...</td>\n      <td>...</td>\n      <td>...</td>\n      <td>...</td>\n      <td>...</td>\n      <td>...</td>\n      <td>...</td>\n      <td>...</td>\n      <td>...</td>\n      <td>...</td>\n      <td>...</td>\n    </tr>\n    <tr>\n      <th>14847</th>\n      <td>2023</td>\n      <td>3</td>\n      <td>22042910</td>\n      <td>17</td>\n      <td>580</td>\n      <td>MA</td>\n      <td>1</td>\n      <td>317903</td>\n      <td>23</td>\n      <td>23</td>\n      <td>28</td>\n      <td>2204</td>\n    </tr>\n    <tr>\n      <th>14848</th>\n      <td>2023</td>\n      <td>7</td>\n      <td>22042211</td>\n      <td>17</td>\n      <td>351</td>\n      <td>SC</td>\n      <td>1</td>\n      <td>917800</td>\n      <td>12</td>\n      <td>12</td>\n      <td>26</td>\n      <td>2204</td>\n    </tr>\n    <tr>\n      <th>14849</th>\n      <td>2023</td>\n      <td>8</td>\n      <td>22041090</td>\n      <td>17</td>\n      <td>351</td>\n      <td>BA</td>\n      <td>1</td>\n      <td>517800</td>\n      <td>2</td>\n      <td>2</td>\n      <td>17</td>\n      <td>2204</td>\n    </tr>\n    <tr>\n      <th>14850</th>\n      <td>2023</td>\n      <td>2</td>\n      <td>22042100</td>\n      <td>17</td>\n      <td>741</td>\n      <td>SC</td>\n      <td>1</td>\n      <td>917800</td>\n      <td>27</td>\n      <td>27</td>\n      <td>101</td>\n      <td>2204</td>\n    </tr>\n    <tr>\n      <th>14851</th>\n      <td>2023</td>\n      <td>1</td>\n      <td>22042100</td>\n      <td>17</td>\n      <td>161</td>\n      <td>AL</td>\n      <td>1</td>\n      <td>440151</td>\n      <td>2</td>\n      <td>1</td>\n      <td>18</td>\n      <td>2204</td>\n    </tr>\n  </tbody>\n</table>\n<p>14852 rows × 12 columns</p>\n</div>"
     },
     "execution_count": 67,
     "metadata": {},
     "output_type": "execute_result"
    }
   ],
   "source": [
    "exportacoes"
   ],
   "metadata": {
    "collapsed": false,
    "ExecuteTime": {
     "end_time": "2023-10-17T03:33:43.066784Z",
     "start_time": "2023-10-17T03:33:43.027606900Z"
    }
   },
   "id": "3c495bec0a01ebbf"
  },
  {
   "cell_type": "code",
   "execution_count": null,
   "outputs": [],
   "source": [],
   "metadata": {
    "collapsed": false
   },
   "id": "195248ec2e01e5a4"
  }
 ],
 "metadata": {
  "kernelspec": {
   "display_name": "Python 3",
   "language": "python",
   "name": "python3"
  },
  "language_info": {
   "codemirror_mode": {
    "name": "ipython",
    "version": 2
   },
   "file_extension": ".py",
   "mimetype": "text/x-python",
   "name": "python",
   "nbconvert_exporter": "python",
   "pygments_lexer": "ipython2",
   "version": "2.7.6"
  }
 },
 "nbformat": 4,
 "nbformat_minor": 5
}
